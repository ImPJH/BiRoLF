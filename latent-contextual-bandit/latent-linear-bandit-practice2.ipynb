{
 "cells": [
  {
   "cell_type": "code",
   "execution_count": 1,
   "id": "e8edb6a4",
   "metadata": {},
   "outputs": [
    {
     "data": {
      "text/html": [
       "<style>.container { width:75% !important; }</style>"
      ],
      "text/plain": [
       "<IPython.core.display.HTML object>"
      ]
     },
     "metadata": {},
     "output_type": "display_data"
    }
   ],
   "source": [
    "## widen the cell width\n",
    "from IPython.display import display, HTML\n",
    "display(HTML(\"<style>.container { width:75% !important; }</style>\"))"
   ]
  },
  {
   "cell_type": "code",
   "execution_count": 2,
   "id": "e284dbbb",
   "metadata": {},
   "outputs": [],
   "source": [
    "import numpy as np\n",
    "import pandas as pd\n",
    "from typing import Union\n",
    "import matplotlib.pyplot as plt\n",
    "import seaborn as sns\n",
    "from abc import ABC, abstractmethod\n",
    "from collections import defaultdict\n",
    "from tqdm import tqdm\n",
    "from tqdm.auto import tqdm as tqdm_auto\n",
    "\n",
    "%matplotlib inline"
   ]
  },
  {
   "cell_type": "code",
   "execution_count": 3,
   "id": "d32e8a0f",
   "metadata": {},
   "outputs": [],
   "source": [
    "def shermanMorrison(V:np.ndarray, x:np.ndarray):\n",
    "    \"\"\"\n",
    "    ${V_t}^{-1} = V_{t-1}^{-1} - \\frac{V_{t-1}^{-1}xx^T V_{t-1}^{-1}}{1 + x^T V_{t-1}^{-1} x}$\n",
    "    V: inverse of old gram matrix, corresponding to $V_{t-1}$.\n",
    "    x: a new observed context\n",
    "    return: inverse of new gram matrix\n",
    "    \"\"\"\n",
    "    numerator = np.einsum(\"ij, j, k, kl -> il\", V, x, x, V)\n",
    "    denominator = (1 + np.einsum(\"i, ij, j ->\", x, V, x))\n",
    "    return V - (numerator / denominator)\n",
    "\n",
    "\n",
    "def l2norm(v:np.ndarray):\n",
    "    v = v.flatten()\n",
    "    return np.sqrt(np.sum(v ** 2))\n",
    "\n",
    "\n",
    "def covariance_generator(d:int, distribution:str=\"gaussian\", bound:float=None):\n",
    "    if distribution == \"gaussian\":\n",
    "        rnd = np.random.randn(d, d)\n",
    "    elif distribution == \"uniform\":\n",
    "        rnd = np.random.uniform(-1, 1, size=d*d).reshape(d, d)\n",
    "    \n",
    "    ## make a symmetric matrix\n",
    "    sym = (rnd + rnd.T) / 2\n",
    "    ## make positive semi-definite and bound its maximum singular value\n",
    "    mat = sym @ sym.T\n",
    "    \n",
    "    if bound is not None:\n",
    "        mat *= (bound / np.linalg.norm(mat, 2))\n",
    "    \n",
    "    return mat\n",
    "\n",
    "\n",
    "# Function for Gram-Schmidt process\n",
    "def gram_schmidt(A):\n",
    "    Q = np.zeros(A.shape)\n",
    "    for i in range(A.shape[1]):\n",
    "        # Orthogonalize the vector\n",
    "        Q[:,i] = A[:,i]\n",
    "        for j in range(i):\n",
    "            Q[:,i] -= np.dot(Q[:,j], A[:,i]) * Q[:,j]\n",
    "        \n",
    "        # Normalize the vector\n",
    "        Q[:,i] = Q[:,i] / np.linalg.norm(Q[:,i])\n",
    "    return Q\n",
    "\n",
    "\n",
    "def make_diagonal(v:np.ndarray, dim:Union[int, tuple]):\n",
    "    if type(dim) == int:\n",
    "        diag = np.zeros((dim, dim))\n",
    "        rng = dim\n",
    "    else:\n",
    "        diag = np.zeros(dim)\n",
    "        rng = min(dim)\n",
    "        \n",
    "    for i in range(rng):\n",
    "        diag[i, i] = v[i]\n",
    "    \n",
    "    return diag\n",
    "\n",
    "\n",
    "def positive_definite_generator(dimension:int, distribution:str=\"uniform\"):\n",
    "    d = dimension\n",
    "    ## create orthogonal eigenvectors\n",
    "    source = np.random.uniform(-1, 1, size=(d*d)).reshape(d, d)\n",
    "    eigvecs = gram_schmidt(source)\n",
    "    \n",
    "    ## create a matrix of eigenvalues\n",
    "    eigvals = np.random.uniform(0, 1, size=d)\n",
    "    eigmat = make_diagonal(np.absolute(eigvals))\n",
    "    \n",
    "    ## make the targeted positive definite matrix\n",
    "    Z = source @ eigmat @ source.T\n",
    "    return Z\n",
    "\n",
    "\n",
    "def minmax(v:np.ndarray, bound:float=1.):\n",
    "    min = np.min(v)\n",
    "    max = np.max(v)\n",
    "    return ((v - min) / (max - min)) * bound\n",
    "\n",
    "\n",
    "def left_pseudo_inverse(A:np.ndarray):\n",
    "    d, k = A.shape\n",
    "    u, A_sig, v_T = np.linalg.svd(A)\n",
    "    \n",
    "    B_sig = np.zeros((k, d))\n",
    "    for i in range(k):\n",
    "        B_sig[i, i] = 1 / A_sig[i]\n",
    "    \n",
    "    B = v_T.T @ B_sig @ u.T\n",
    "    \n",
    "    return B\n",
    "\n",
    "\n",
    "def rademacher(size:int):\n",
    "    \"\"\"\n",
    "    Generate Rademacher random variables.\n",
    "\n",
    "    Args:\n",
    "    size (int): Number of random variables to generate.\n",
    "\n",
    "    Returns:\n",
    "    numpy.ndarray: An array of Rademacher random variables.\n",
    "    \"\"\"\n",
    "    return 2 * np.random.randint(0, 2, size) - 1\n",
    "\n",
    "\n",
    "def subgaussian_noise(distribution:str, size:int, random_state:int=None, std:float=None):\n",
    "    \"\"\"\n",
    "    distribution (str): the distribution to sample a sub-Gaussian noise\n",
    "    size (int): The number of total rounds (T)\n",
    "    std (float): The variance proxy of the noise\n",
    "    \"\"\"\n",
    "    if random_state is not None:\n",
    "        np.random.seed(random_state)\n",
    "        \n",
    "    if distribution == \"gaussian\":\n",
    "        if std is None:\n",
    "            std = 1\n",
    "        noise = np.random.normal(loc=0, scale=std, size=size) \n",
    "    elif distribution == \"uniform\":\n",
    "        if std is None:\n",
    "            low = -1\n",
    "            high = 1\n",
    "            std = np.sqrt(((high - low) ** 2) / 12)\n",
    "        else:\n",
    "            low = -np.sqrt(3) * std\n",
    "            high = np.sqrt(3) * std\n",
    "        noise = np.random.uniform(low=low, high=high, size=size)\n",
    "    else:\n",
    "        std = 1\n",
    "        noise = rademacher(size=size)\n",
    "    return noise, std"
   ]
  },
  {
   "cell_type": "code",
   "execution_count": 4,
   "id": "735ee5e1",
   "metadata": {},
   "outputs": [],
   "source": [
    "## Agent\n",
    "class ContextualBandit(ABC):\n",
    "    @abstractmethod\n",
    "    def choose(self, x): pass\n",
    "    \n",
    "    @abstractmethod\n",
    "    def update(self, x, r): pass"
   ]
  },
  {
   "cell_type": "code",
   "execution_count": 5,
   "id": "45fce11f",
   "metadata": {},
   "outputs": [],
   "source": [
    "class LinUCB(ContextualBandit):\n",
    "    def __init__(self, d, alpha, lbda=1.):\n",
    "        self.alpha = alpha\n",
    "        self.t = 0\n",
    "        self.xty = np.zeros(d)\n",
    "        self.Vinv = (1 / lbda) * np.identity(d)\n",
    "        self.theta_hat = np.zeros(d)\n",
    "        \n",
    "    def choose(self, x):\n",
    "        # x: action set at each round (N, d)\n",
    "        self.t += 1\n",
    "        \n",
    "        ## compute the ridge estimator\n",
    "        self.theta_hat = self.Vinv @ self.xty\n",
    "        \n",
    "        ## compute the ucb scores for each arm\n",
    "        expected = x @ self.theta_hat # (N, ) theta_T @ x_t\n",
    "        width = np.sqrt(np.einsum(\"Ni, ij, Nj -> N\", x, self.Vinv, x) * np.log(self.t)) # (N, ) widths\n",
    "        ucb_scores = expected + (self.alpha * width) # (N, ) ucb score\n",
    "        \n",
    "        ## chose the argmax the ucb score\n",
    "        maximum = np.max(ucb_scores)\n",
    "        argmax, = np.where(ucb_scores == maximum)\n",
    "        \n",
    "        return np.random.choice(argmax)\n",
    "    \n",
    "    def update(self, x, r):\n",
    "        # x: context of the chosen action (d, )\n",
    "        self.Vinv = shermanMorrison(self.Vinv, x)\n",
    "        self.xty += (r * x)"
   ]
  },
  {
   "cell_type": "code",
   "execution_count": 6,
   "id": "713f7ec6",
   "metadata": {},
   "outputs": [],
   "source": [
    "## hyper-parameters\n",
    "M = 40000         # number of samples\n",
    "N = 20            # number of actions in the action set at each round\n",
    "d = 10            # observable dimension\n",
    "k = 10            # latent dimension\n",
    "T = 25000         # total time horizon\n",
    "SEED = 727        # random state\n",
    "\n",
    "feature_bound = 1.\n",
    "# matrix_lower_bound = 0.5  # lower bound of the decoder (inverse is the upper bound of the encoder)\n",
    "matrix_bound = 1.\n",
    "param_bound = 1.\n",
    "reward_bound = 1.\n",
    "\n",
    "ALPHAS = [0.0, 0.1, 0.3, 0.5, 1.0]\n",
    "runtime = 4"
   ]
  },
  {
   "cell_type": "code",
   "execution_count": 7,
   "id": "94cee949",
   "metadata": {},
   "outputs": [
    {
     "name": "stdout",
     "output_type": "stream",
     "text": [
      "Shape of the latent feature sets:\t(40000, 10)\n",
      "The first feature:\t[ 0.20152448  0.50097429 -1.03415718  0.15427823  1.04604376  0.52357897\n",
      "  0.72089248 -0.66465673 -0.19621332 -0.20988047]\n",
      "Maximum norm: 1.00000\n"
     ]
    }
   ],
   "source": [
    "## latent feature - gaussian, disjoint\n",
    "# np.random.seed(SEED)\n",
    "Z = np.random.multivariate_normal(mean=np.zeros(k), cov=np.identity(k), size=M)\n",
    "print(f\"Shape of the latent feature sets:\\t{Z.shape}\")\n",
    "print(f\"The first feature:\\t{Z[0]}\")\n",
    "\n",
    "## bound the latent features\n",
    "# # scaling\n",
    "# maxnorm = np.max([l2norm(Z[i, :]) for i in range(M)])\n",
    "# print(f\"Maximum norm: {maxnorm:.5f}\")\n",
    "# Z *= (feature_bound / maxnorm)\n",
    "# maxnorm = np.max([l2norm(Z[i, :]) for i in range(M)])\n",
    "# print(f\"Maximum norm: {maxnorm:.5f}\")\n",
    "\n",
    "# clipping\n",
    "for i in range(M):\n",
    "    latent = Z[i, :]\n",
    "    if l2norm(latent) > feature_bound:\n",
    "        Z[i, :] *= (feature_bound / l2norm(latent))\n",
    "maxnorm = np.max([l2norm(Z[i, :]) for i in range(M)])\n",
    "print(f\"Maximum norm: {maxnorm:.5f}\")"
   ]
  },
  {
   "cell_type": "code",
   "execution_count": 8,
   "id": "a09bdf32",
   "metadata": {},
   "outputs": [
    {
     "name": "stdout",
     "output_type": "stream",
     "text": [
      "Shape of the mapping: (10, 10)\n",
      "Mapping: [[ 3.15242746e-01  4.35059580e-01  1.62862403e-01 -1.71665905e-01\n",
      "  -3.06998859e-02  1.58038786e-01  3.82744022e-01  5.36822463e-02\n",
      "   2.20628984e-01 -2.48863701e-01]\n",
      " [-1.47007944e-01 -3.26730075e-01 -2.14433765e-01  3.98809405e-01\n",
      "  -1.11773090e-01  2.76942941e-01 -3.01103350e-01  3.39268945e-01\n",
      "   3.69213280e-01 -1.19590731e-01]\n",
      " [ 9.67165943e-02  1.17503654e-01  2.64501729e-01  2.78041378e-01\n",
      "   1.88021961e-01 -3.89469689e-01 -1.45877340e-01  4.28472985e-01\n",
      "   3.62226059e-01  3.54080221e-01]\n",
      " [-2.98088914e-01 -3.65306254e-01  3.10472177e-01  3.63488068e-01\n",
      "  -1.70592197e-01 -1.11409059e-01 -4.36194268e-01  4.09430758e-01\n",
      "   1.80088117e-02 -3.03047842e-01]\n",
      " [ 3.42059443e-01  1.58696514e-01  3.69390859e-01 -3.89779082e-01\n",
      "  -2.50438286e-01 -2.85194636e-01  5.19983773e-02 -4.50290690e-02\n",
      "  -2.10673964e-01 -3.59505610e-01]\n",
      " [ 3.40324853e-01  2.56470177e-01 -3.81566688e-01  4.38992083e-01\n",
      "  -1.86875098e-01 -1.17800464e-02 -7.43341655e-02  2.81464101e-01\n",
      "   4.12072664e-01 -1.13453722e-01]\n",
      " [ 3.08053210e-01 -2.01230650e-01 -1.20682131e-02  1.21830763e-01\n",
      "  -2.71209957e-01 -2.37825834e-01  2.35329242e-01  1.59301655e-01\n",
      "  -2.10401660e-02 -2.35568795e-01]\n",
      " [-3.71482372e-01 -3.13445934e-02  2.66825450e-01 -3.44496903e-01\n",
      "   8.01625923e-02 -4.39654176e-01  3.70077101e-01 -2.60345129e-01\n",
      "  -3.24931902e-01  3.56380590e-01]\n",
      " [ 2.55824564e-01  1.55849098e-01 -1.78077866e-04  3.41125270e-01\n",
      "  -3.29180776e-01 -3.25719716e-01 -1.34317636e-01 -2.92145839e-01\n",
      "  -3.00493092e-02 -2.15691946e-01]\n",
      " [ 3.77202772e-01  3.51589452e-02 -2.12000499e-01  2.76613668e-01\n",
      "   3.86316569e-01 -1.51051110e-01  2.54923705e-01 -1.67069422e-01\n",
      "   3.96398080e-02 -1.92875961e-01]]\n",
      "Maximum singular value: 1.57265\n",
      "Singular values of A: [1.         0.81479598 0.65956315 0.57856471 0.48499719 0.35560174\n",
      " 0.29233871 0.20649466 0.10539414 0.06844776]\n"
     ]
    }
   ],
   "source": [
    "## mapping - uniform distribution\n",
    "# np.random.seed(SEED)\n",
    "A = np.random.uniform(low=-np.sqrt(2/d), high=np.sqrt(2/d), size=d*k).reshape(d, k)\n",
    "print(f\"Shape of the mapping: {A.shape}\")\n",
    "print(f\"Mapping: {A}\")\n",
    "\n",
    "## bound the mapping\n",
    "spectral_norm = np.linalg.norm(A, 2)\n",
    "print(f\"Maximum singular value: {spectral_norm:.5f}\")\n",
    "A *= (matrix_bound / spectral_norm)\n",
    "print(f\"Singular values of A: {np.linalg.svd(A)[1]}\")"
   ]
  },
  {
   "cell_type": "code",
   "execution_count": 9,
   "id": "f84aec02",
   "metadata": {},
   "outputs": [
    {
     "name": "stdout",
     "output_type": "stream",
     "text": [
      "X_.shape: (40000, 10)\n",
      "First observable context: [ 0.12608225 -0.12133857 -0.22674217 -0.41486458 -0.1699419   0.05222384\n",
      " -0.09735143 -0.04477314 -0.06001561  0.32895105]\n",
      "Maximum norm: 0.94403\n"
     ]
    }
   ],
   "source": [
    "## observable feature X\n",
    "# making by row-by-row\n",
    "X_src = [A@Z[i] for i in range(M)]\n",
    "X_ = np.array(X_src)\n",
    "print(f\"X_.shape: {X_.shape}\")\n",
    "print(f\"First observable context: {X_[0, :]}\")\n",
    "maxnorm = np.max([l2norm(X_[i, :]) for i in range(M)])\n",
    "print(f\"Maximum norm: {maxnorm:.5f}\")"
   ]
  },
  {
   "cell_type": "code",
   "execution_count": 10,
   "id": "06fff1ef",
   "metadata": {},
   "outputs": [
    {
     "name": "stdout",
     "output_type": "stream",
     "text": [
      "X.shape: (40000, 10)\n",
      "First observable context: [ 0.12608225 -0.12133857 -0.22674217 -0.41486458 -0.1699419   0.05222384\n",
      " -0.09735143 -0.04477314 -0.06001561  0.32895105]\n",
      "Maximum norm: 0.94403\n"
     ]
    }
   ],
   "source": [
    "# making as a whole\n",
    "X = Z @ A.T\n",
    "print(f\"X.shape: {X.shape}\")\n",
    "print(f\"First observable context: {X[0, :]}\")\n",
    "maxnorm = np.max([l2norm(X[i, :]) for i in range(M)])\n",
    "print(f\"Maximum norm: {maxnorm:.5f}\")"
   ]
  },
  {
   "cell_type": "code",
   "execution_count": 11,
   "id": "ac53d80e",
   "metadata": {},
   "outputs": [
    {
     "name": "stdout",
     "output_type": "stream",
     "text": [
      "Shape: (40000, 10)\tStandard deviation: 0.0\n",
      "First context noise: [0. 0. 0. 0. 0. 0. 0. 0. 0. 0.]\n"
     ]
    }
   ],
   "source": [
    "## sample the context noise - i.i.d, each element is sub-gaussian\n",
    "noise_std = 0.\n",
    "context_noise, std = subgaussian_noise(distribution=\"gaussian\", size=(M*d), std=noise_std)\n",
    "context_noise = context_noise.reshape(M, d)\n",
    "print(f\"Shape: {context_noise.shape}\\tStandard deviation: {std}\")\n",
    "print(f\"First context noise: {context_noise[0]}\")"
   ]
  },
  {
   "cell_type": "code",
   "execution_count": 12,
   "id": "221c5abb",
   "metadata": {},
   "outputs": [
    {
     "name": "stdout",
     "output_type": "stream",
     "text": [
      "Before scaling\t- Maximum norm: 0.94403\n",
      "After scaling\t- Maximum norm: 1.00000\n"
     ]
    }
   ],
   "source": [
    "## Add the context noise to the observable one\n",
    "X = X + context_noise\n",
    "maxnorm = np.max([l2norm(X[i, :]) for i in range(M)])\n",
    "print(f\"Before scaling\\t- Maximum norm: {maxnorm:.5f}\")\n",
    "\n",
    "## scaling\n",
    "X *= (feature_bound / maxnorm)\n",
    "maxnorm = np.max([l2norm(X[i, :]) for i in range(M)])\n",
    "print(f\"After scaling\\t- Maximum norm: {maxnorm:.5f}\")"
   ]
  },
  {
   "cell_type": "code",
   "execution_count": 13,
   "id": "971a1e78",
   "metadata": {},
   "outputs": [
    {
     "name": "stdout",
     "output_type": "stream",
     "text": [
      "First latent feature: [ 0.10341776  0.25708856 -0.53070583  0.07917206  0.53680575  0.26868876\n",
      "  0.36994555 -0.34108664 -0.10069219 -0.10770586]\n",
      "First observable feature: [ 0.1335581  -0.12853315 -0.24018649 -0.43946332 -0.18001834  0.05532037\n",
      " -0.10312373 -0.04742789 -0.06357414  0.34845569]\n",
      "Distance between the latent and observable: 1.2577164423340352\n"
     ]
    }
   ],
   "source": [
    "print(f\"First latent feature: {Z[0]}\")\n",
    "print(f\"First observable feature: {X[0]}\")\n",
    "print(f\"Distance between the latent and observable: {l2norm(Z[0]-X[0])}\")"
   ]
  },
  {
   "cell_type": "code",
   "execution_count": 14,
   "id": "53da17cf",
   "metadata": {},
   "outputs": [
    {
     "data": {
      "image/png": "[encoded data removed]",
      "text/plain": [
       "<Figure size 600x400 with 1 Axes>"
      ]
     },
     "metadata": {},
     "output_type": "display_data"
    }
   ],
   "source": [
    "## histogram of the distance between the latent and observable\n",
    "distances = np.zeros(M)\n",
    "for i in range(M):\n",
    "    diff = Z[i, :] - X[i, :]\n",
    "    distances[i] = l2norm(diff)\n",
    "    \n",
    "plt.figure(figsize=(6, 4))\n",
    "plt.hist(distances)\n",
    "plt.grid(True)\n",
    "plt.xlabel(\"Distances\")\n",
    "plt.show()"
   ]
  },
  {
   "cell_type": "code",
   "execution_count": 15,
   "id": "63c75003",
   "metadata": {},
   "outputs": [
    {
     "name": "stdout",
     "output_type": "stream",
     "text": [
      "True reward parameter: [-0.12535776 -0.54301627 -0.1174344   0.10055415 -0.29765669 -0.38544998\n",
      "  0.00444438  0.36304371 -0.51378376  0.18041995]\n",
      "L2-norm of the true theta: 1.00000\n"
     ]
    }
   ],
   "source": [
    "## reward parameter\n",
    "true_theta = np.random.uniform(low=-1., high=1., size=k)\n",
    "if l2norm(true_theta) > 1:\n",
    "    true_theta *= (1 / l2norm(true_theta))\n",
    "print(f\"True reward parameter: {true_theta}\")\n",
    "print(f\"L2-norm of the true theta: {l2norm(true_theta):.5f}\")"
   ]
  },
  {
   "cell_type": "code",
   "execution_count": 16,
   "id": "7a3c4b76",
   "metadata": {},
   "outputs": [
    {
     "name": "stdout",
     "output_type": "stream",
     "text": [
      "alpha=0.0\n"
     ]
    },
    {
     "data": {
      "application/vnd.jupyter.widget-view+json": {
       "model_id": "c2526711cd3740e8b126abbdb7a73b91",
       "version_major": 2,
       "version_minor": 0
      },
      "text/plain": [
       "  0%|          | 0/25000 [00:00<?, ?it/s]"
      ]
     },
     "metadata": {},
     "output_type": "display_data"
    },
    {
     "name": "stdout",
     "output_type": "stream",
     "text": [
      "E[r_t] range: [-0.7967039183746153, 0.6434534607536723]\n",
      "alpha=0.1\n"
     ]
    },
    {
     "data": {
      "application/vnd.jupyter.widget-view+json": {
       "model_id": "640a402c37ba45e4b5affcc044dbe433",
       "version_major": 2,
       "version_minor": 0
      },
      "text/plain": [
       "  0%|          | 0/25000 [00:00<?, ?it/s]"
      ]
     },
     "metadata": {},
     "output_type": "display_data"
    },
    {
     "name": "stdout",
     "output_type": "stream",
     "text": [
      "E[r_t] range: [-0.4112754875782805, 0.38344104890857533]\n",
      "alpha=0.3\n"
     ]
    },
    {
     "data": {
      "application/vnd.jupyter.widget-view+json": {
       "model_id": "459c5b030a564ed2a503757e6a9c8268",
       "version_major": 2,
       "version_minor": 0
      },
      "text/plain": [
       "  0%|          | 0/25000 [00:00<?, ?it/s]"
      ]
     },
     "metadata": {},
     "output_type": "display_data"
    },
    {
     "name": "stdout",
     "output_type": "stream",
     "text": [
      "E[r_t] range: [-0.4862838944058688, 0.34143278695616164]\n",
      "alpha=0.5\n"
     ]
    },
    {
     "data": {
      "application/vnd.jupyter.widget-view+json": {
       "model_id": "f2053a56a42847bd8b0a2c267e65129e",
       "version_major": 2,
       "version_minor": 0
      },
      "text/plain": [
       "  0%|          | 0/25000 [00:00<?, ?it/s]"
      ]
     },
     "metadata": {},
     "output_type": "display_data"
    },
    {
     "name": "stdout",
     "output_type": "stream",
     "text": [
      "E[r_t] range: [-0.6533382508508878, 0.6094258084164693]\n",
      "alpha=1.0\n"
     ]
    },
    {
     "data": {
      "application/vnd.jupyter.widget-view+json": {
       "model_id": "e9898207a6dd4d7990450de9cf485cd9",
       "version_major": 2,
       "version_minor": 0
      },
      "text/plain": [
       "  0%|          | 0/25000 [00:00<?, ?it/s]"
      ]
     },
     "metadata": {},
     "output_type": "display_data"
    },
    {
     "name": "stdout",
     "output_type": "stream",
     "text": [
      "E[r_t] range: [-0.3810678120985648, 0.46941209619446467]\n"
     ]
    }
   ],
   "source": [
    "reward_noise_std = 0.1\n",
    "result = dict()\n",
    "for alpha in ALPHAS:\n",
    "    print(f\"alpha={alpha}\")\n",
    "    agent = LinUCB(d=d, alpha=alpha)\n",
    "    regrets = np.zeros(T)\n",
    "    theta_distances = np.zeros(T)\n",
    "    played_optimal = np.zeros(T)\n",
    "    for t in tqdm_auto(range(T)):\n",
    "#         np.random.seed(int(SEED+t+(100*alpha)))\n",
    "        ## sample the action space\n",
    "        idx = np.random.choice(np.arange(M), size=N, replace=False)\n",
    "#         action_set, latent_set = X[idx, :], Z[idx, :]\n",
    "        latent_set = Z[idx, :]\n",
    "        context_noise, std = subgaussian_noise(distribution=\"gaussian\", size=(N*d), std=noise_std)\n",
    "        context_noise = context_noise.reshape(N, d)\n",
    "        action_set = latent_set @ A.T + context_noise\n",
    "        \n",
    "        # scaling\n",
    "        for i in range(N):\n",
    "            action = action_set[i]\n",
    "            if l2norm(action) > feature_bound:\n",
    "                action_set[i] *= (feature_bound / l2norm(action))\n",
    "#         maxnorm = np.max([l2norm(action) for action in action_set])\n",
    "#         action_set *= (feature_bound / maxnorm)\n",
    "\n",
    "        ## sample the reward noise and compute the optimal arm\n",
    "        reward_noise, std = subgaussian_noise(distribution=\"gaussian\", std=reward_noise_std, size=N)\n",
    "        expected_reward = latent_set @ true_theta\n",
    "        if t == 0:\n",
    "            print(f\"E[r_t] range: [{np.min(expected_reward)}, {np.max(expected_reward)}]\")\n",
    "        true_reward = expected_reward + reward_noise\n",
    "        optimal_arm = np.argmax(expected_reward)\n",
    "        optimal_reward = expected_reward[optimal_arm]\n",
    "\n",
    "        ## choose the best action and compute the instance regret\n",
    "        chosen_arm = agent.choose(action_set)\n",
    "        chosen_context = action_set[chosen_arm]\n",
    "        chosen_reward = true_reward[chosen_arm]\n",
    "        regret_t = optimal_reward - expected_reward[chosen_arm]\n",
    "        regrets[t] = regret_t\n",
    "        theta_distances[t] = l2norm(true_theta - agent.theta_hat)\n",
    "        played_optimal[t] = (chosen_arm == optimal_arm)\n",
    "        \n",
    "#         print(f\"Round:{t} \\tOptimal arm:{optimal_arm}\\tChosen arm:{chosen_arm}\\tregret_t:{regret_t:.5f}\\tRegret_t:{np.cumsum(regrets)[t]:.5f}\\tTheta distance:{theta_distances[t]:.5f}\\tPlayed optimal:{played_optimal[t]}\")\n",
    "        \n",
    "        ## update the agent\n",
    "        agent.update(x=chosen_context, r=chosen_reward)\n",
    "        \n",
    "    result[alpha] = (np.cumsum(regrets), theta_distances, (np.cumsum(played_optimal)/(np.arange(T)+1)))"
   ]
  },
  {
   "cell_type": "code",
   "execution_count": 17,
   "id": "14bf6b29",
   "metadata": {},
   "outputs": [
    {
     "data": {
      "image/png": "[encoded data removed]",
      "text/plain": [
       "<Figure size 1800x500 with 3 Axes>"
      ]
     },
     "metadata": {},
     "output_type": "display_data"
    }
   ],
   "source": [
    "plt.figure(figsize=(18, 5))\n",
    "alpha_label = r\"$\\alpha$\"\n",
    "for key, value in result.items():\n",
    "    regret, distance, played_optimal = value\n",
    "    \n",
    "    plt.subplot(131)\n",
    "    plt.plot(regret, label=f\"{alpha_label}={key}\")\n",
    "    plt.grid(True)\n",
    "    plt.xlabel(\"Round\")\n",
    "    plt.ylabel(r\"$R_t$\")\n",
    "    plt.legend()\n",
    "    plt.title(\"Regret\")\n",
    "    \n",
    "    plt.subplot(132)\n",
    "    plt.plot(distance, label=f\"{alpha_label}={key}\")\n",
    "    plt.grid(True)\n",
    "    plt.xlabel(\"Round\")\n",
    "    plt.ylabel(r\"${\\Vert \\hat{\\theta}_t - \\theta_* \\Vert}_2$\")\n",
    "    plt.legend()\n",
    "    plt.title(\"Theta distances\")\n",
    "    \n",
    "    plt.subplot(133)\n",
    "    plt.plot(played_optimal, label=f\"{alpha_label}={key}\")\n",
    "    plt.grid(True)\n",
    "    plt.xlabel(\"Round\")\n",
    "    plt.ylabel(\"Proportion\")\n",
    "    plt.legend()\n",
    "    plt.title(\"Proportion of playing the optimal action\")\n",
    "\n",
    "plt.tight_layout(rect=[0, 0, 1, 0.95])\n",
    "title_label = r\"$\\sigma_\\eta=$\"\n",
    "plt.suptitle(f\"{title_label}{noise_std:.6f}\")\n",
    "plt.show()"
   ]
  },
  {
   "cell_type": "code",
   "execution_count": null,
   "id": "3b16a54c",
   "metadata": {},
   "outputs": [],
   "source": []
  }
 ],
 "metadata": {
  "kernelspec": {
   "display_name": "Python 3 (ipykernel)",
   "language": "python",
   "name": "python3"
  },
  "language_info": {
   "codemirror_mode": {
    "name": "ipython",
    "version": 3
   },
   "file_extension": ".py",
   "mimetype": "text/x-python",
   "name": "python",
   "nbconvert_exporter": "python",
   "pygments_lexer": "ipython3",
   "version": "3.10.12"
  }
 },
 "nbformat": 4,
 "nbformat_minor": 5
}
