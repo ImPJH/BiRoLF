{
 "cells": [
  {
   "cell_type": "code",
   "execution_count": 1,
   "id": "91ae4ddb",
   "metadata": {},
   "outputs": [
    {
     "data": {
      "text/html": [
       "<style>.container { width:75% !important; }</style>"
      ],
      "text/plain": [
       "<IPython.core.display.HTML object>"
      ]
     },
     "metadata": {},
     "output_type": "display_data"
    }
   ],
   "source": [
    "## widen the cell width\n",
    "from IPython.display import display, HTML\n",
    "display(HTML(\"<style>.container { width:75% !important; }</style>\"))"
   ]
  },
  {
   "cell_type": "code",
   "execution_count": 2,
   "id": "315edac8",
   "metadata": {},
   "outputs": [],
   "source": [
    "import numpy as np\n",
    "from typing import Union\n",
    "import matplotlib.pyplot as plt\n",
    "from abc import ABC, abstractmethod\n",
    "from collections import defaultdict\n",
    "from tqdm import tqdm\n",
    "from tqdm.auto import tqdm as tqdm_auto\n",
    "\n",
    "%matplotlib inline"
   ]
  },
  {
   "cell_type": "code",
   "execution_count": 3,
   "id": "e8b6a0a1",
   "metadata": {},
   "outputs": [],
   "source": [
    "def shermanMorrison(V:np.ndarray, x:np.ndarray):\n",
    "    \"\"\"\n",
    "    ${V_t}^{-1} = V_{t-1}^{-1} - \\frac{V_{t-1}^{-1}xx^T V_{t-1}^{-1}}{1 + x^T V_{t-1}^{-1} x}$\n",
    "    V: inverse of old gram matrix, corresponding to $V_{t-1}$.\n",
    "    x: a new observed context\n",
    "    return: inverse of new gram matrix\n",
    "    \"\"\"\n",
    "    numerator = np.einsum(\"ij, j, k, kl -> il\", V, x, x, V)\n",
    "    denominator = (1 + np.einsum(\"i, ij, j ->\", x, V, x))\n",
    "    return V - (numerator / denominator)\n",
    "\n",
    "\n",
    "def l2norm(v:np.ndarray):\n",
    "    v = v.flatten()\n",
    "    return np.sqrt(np.sum(v ** 2))\n",
    "\n",
    "\n",
    "def covariance_generator(d:int, distribution:str=\"gaussian\", bound:float=None):\n",
    "    if distribution == \"gaussian\":\n",
    "        rnd = np.random.randn(d, d)\n",
    "    elif distribution == \"uniform\":\n",
    "        rnd = np.random.uniform(-1, 1, size=d*d).reshape(d, d)\n",
    "    \n",
    "    ## make a symmetric matrix\n",
    "    sym = (rnd + rnd.T) / 2\n",
    "    ## make positive semi-definite and bound its maximum singular value\n",
    "    mat = sym @ sym.T\n",
    "    \n",
    "    if bound is not None:\n",
    "        mat *= (bound / np.linalg.norm(mat, 2))\n",
    "    \n",
    "    return mat\n",
    "\n",
    "\n",
    "# Function for Gram-Schmidt process\n",
    "def gram_schmidt(A):\n",
    "    Q = np.zeros(A.shape)\n",
    "    for i in range(A.shape[1]):\n",
    "        # Orthogonalize the vector\n",
    "        Q[:,i] = A[:,i]\n",
    "        for j in range(i):\n",
    "            Q[:,i] -= np.dot(Q[:,j], A[:,i]) * Q[:,j]\n",
    "        \n",
    "        # Normalize the vector\n",
    "        Q[:,i] = Q[:,i] / np.linalg.norm(Q[:,i])\n",
    "    return Q\n",
    "\n",
    "\n",
    "def make_diagonal(v:np.ndarray, dim:Union[int, tuple]):\n",
    "    if type(dim) == int:\n",
    "        diag = np.zeros((dim, dim))\n",
    "        rng = dim\n",
    "    else:\n",
    "        diag = np.zeros(dim)\n",
    "        rng = min(dim)\n",
    "        \n",
    "    for i in range(rng):\n",
    "        diag[i, i] = v[i]\n",
    "    \n",
    "    return diag\n",
    "\n",
    "\n",
    "def positive_definite_generator(dimension:int, distribution:str=\"uniform\"):\n",
    "    d = dimension\n",
    "    ## create orthogonal eigenvectors\n",
    "    source = np.random.uniform(-1, 1, size=(d*d)).reshape(d, d)\n",
    "    eigvecs = gram_schmidt(source)\n",
    "    \n",
    "    ## create a matrix of eigenvalues\n",
    "    eigvals = np.random.uniform(0, 1, size=d)\n",
    "    eigmat = make_diagonal(np.absolute(eigvals))\n",
    "    \n",
    "    ## make the targeted positive definite matrix\n",
    "    Z = source @ eigmat @ source.T\n",
    "    return Z\n",
    "\n",
    "\n",
    "def minmax(v:np.ndarray, bound:float=1.):\n",
    "    min = np.min(v)\n",
    "    max = np.max(v)\n",
    "    return ((v - min) / (max - min)) * bound\n",
    "\n",
    "\n",
    "def left_pseudo_inverse(A:np.ndarray):\n",
    "    d, k = A.shape\n",
    "    u, A_sig, v_T = np.linalg.svd(A)\n",
    "    \n",
    "    B_sig = np.zeros((k, d))\n",
    "    for i in range(k):\n",
    "        B_sig[i, i] = 1 / A_sig[i]\n",
    "    \n",
    "    B = v_T.T @ B_sig @ u.T\n",
    "    \n",
    "    return B\n",
    "\n",
    "\n",
    "def rademacher(size:int):\n",
    "    \"\"\"\n",
    "    Generate Rademacher random variables.\n",
    "\n",
    "    Args:\n",
    "    size (int): Number of random variables to generate.\n",
    "\n",
    "    Returns:\n",
    "    numpy.ndarray: An array of Rademacher random variables.\n",
    "    \"\"\"\n",
    "    return 2 * np.random.randint(0, 2, size) - 1\n",
    "\n",
    "\n",
    "def subgaussian_noise(distribution:str, size:int, random_state:int, std:float=None):\n",
    "    \"\"\"\n",
    "    distribution (str): the distribution to sample a sub-Gaussian noise\n",
    "    size (int): The number of total rounds (T)\n",
    "    std (float): The variance proxy of the noise\n",
    "    \"\"\"\n",
    "    np.random.seed(random_state)\n",
    "    if not std:\n",
    "        assert distribution in [\"gaussian\", \"uniform\"]\n",
    "    \n",
    "    if distribution == \"gaussian\":\n",
    "        if not std:\n",
    "            std = 1\n",
    "        noise = np.random.normal(loc=0, scale=std, size=size) \n",
    "    elif distribution == \"uniform\":\n",
    "        if not std:\n",
    "            low = -1\n",
    "            high = 1\n",
    "            std = np.sqrt(((high - low) ** 2) / 12)\n",
    "        else:\n",
    "            low = -np.sqrt(3) * std\n",
    "            high = np.sqrt(3) * std\n",
    "        noise = np.random.uniform(low=low, high=high, size=size)\n",
    "    else:\n",
    "        std = 1\n",
    "        noise = rademacher(size=size)\n",
    "    return noise, std"
   ]
  },
  {
   "cell_type": "code",
   "execution_count": 4,
   "id": "fc02a25f",
   "metadata": {},
   "outputs": [],
   "source": [
    "def feature_sampler(dimension:int, feat_dist:str, size:int, disjoint:bool, random_state:int, cov_dist:str=None, bound:float=None):\n",
    "    np.random.seed(random_state)\n",
    "    assert feat_dist.lower() in [\"gaussian\", \"uniform\"]\n",
    "    \n",
    "    if disjoint:\n",
    "        if feat_dist.lower() == \"gaussian\":\n",
    "            ## gaussian\n",
    "            feat = np.random.multivariate_normal(mean=np.zeros(dimension), cov=np.identity(dimension), size=size)\n",
    "        else:\n",
    "            ## uniform\n",
    "            feat = np.random.uniform(low=-1., high=1., size=size*dimension).reshape(size, dimension)\n",
    "    else:\n",
    "        assert cov_dist is not None\n",
    "        if feat_dist.lower() == \"gaussian\":\n",
    "            ## gaussian\n",
    "            cov = covariance_generator(dimension, distribution=cov_dist)\n",
    "            feat = np.random.multivariate_normal(mean=np.zeros(dimension), cov=cov, size=size)\n",
    "        else:\n",
    "            ## uniform\n",
    "            # Cholesky decomposition\n",
    "            pd = positive_definite_generator(dimension, distribution=cov_dist)\n",
    "            L = np.linalg.cholesky(pd)\n",
    "            feat = np.random.uniform(low=-1., high=1., size=size*dimension).reshape(size, dimension)\n",
    "            feat = L @ feat\n",
    "            \n",
    "    if bound is not None:\n",
    "        ## bound the L2 norm of each row vector\n",
    "        norms = [l2norm(feat[i, :]) for i in range(size)]\n",
    "        max_norm = np.max(norms)\n",
    "        for i in range(size):\n",
    "            feat[i, :] *= (bound / max_norm)\n",
    "            \n",
    "#         ## bound each row if its norm exceeds the predefined bound\n",
    "#         for i in range(size):\n",
    "#             norm = l2norm(feat[i, :])\n",
    "#             if norm > bound:\n",
    "#                 feat[i, :] *= (bound / norm)\n",
    "    \n",
    "    return feat\n",
    "\n",
    "\n",
    "def mapping_generator(latent_dim:int, obs_dim:int, distribution:str, random_state:int, bound:float=None):\n",
    "    np.random.seed(random_state)\n",
    "    assert distribution.lower() in [\"gaussian\", \"uniform\"]\n",
    "    \n",
    "    if distribution.lower() == \"gaussian\":\n",
    "        mat =  np.random.randn(latent_dim, obs_dim)\n",
    "    else:\n",
    "        mat = np.random.uniform(low=-np.sqrt(2/latent_dim), high=np.sqrt(2/latent_dim), size=latent_dim*obs_dim).reshape(latent_dim, obs_dim)\n",
    "        \n",
    "    if bound:\n",
    "        ## constrain the lower bound\n",
    "        u, sig, v_T = np.linalg.svd(mat)\n",
    "        sig = sig - np.min(sig) + bound\n",
    "        sig_mat = make_diagonal(sig, dim=mat.shape)\n",
    "        mat = u @ sig_mat @ v_T\n",
    "\n",
    "    return mat\n",
    "\n",
    "\n",
    "def param_generator(dimension:int, distribution:str, disjoint:bool, random_state:int, bound:float=None):\n",
    "    np.random.seed(random_state)\n",
    "    assert distribution.lower() in [\"gaussian\", \"uniform\"]\n",
    "    \n",
    "    if disjoint:\n",
    "        if distribution == \"gaussian\":\n",
    "            param = np.random.randn(dimension)\n",
    "        else:\n",
    "            param = np.random.uniform(low=-1., high=1., size=dimension)\n",
    "    else:\n",
    "        if distribution == \"gaussian\":\n",
    "            cov = covariance_generator(dimension, distribution=distribution)\n",
    "            param = np.random.multivariate_normal(mean=np.zeros(dimension), cov=cov)\n",
    "        else:\n",
    "            # uniform\n",
    "            pd = positive_definite_generator(dimension, distribution=distribution)\n",
    "            param = np.random.uniform(low=-1., high=1., size=dimension)\n",
    "            L = np.linalg.cholesky(pd)\n",
    "            param = L @ param\n",
    "        \n",
    "    if (bound is not None) and (l2norm(param) > bound): \n",
    "        param *= (bound / l2norm(param))\n",
    "    \n",
    "    return param"
   ]
  },
  {
   "cell_type": "code",
   "execution_count": 5,
   "id": "30a7be12",
   "metadata": {},
   "outputs": [],
   "source": [
    "## Agent\n",
    "class ContextualBandit(ABC):\n",
    "    @abstractmethod\n",
    "    def choose(self, x): pass\n",
    "    \n",
    "    @abstractmethod\n",
    "    def update(self, x, r): pass"
   ]
  },
  {
   "cell_type": "code",
   "execution_count": 6,
   "id": "45be01f2",
   "metadata": {},
   "outputs": [],
   "source": [
    "class LinUCB(ContextualBandit):\n",
    "    def __init__(self, d, alpha, lbda=1.):\n",
    "        self.d = d\n",
    "        self.alpha = alpha\n",
    "        self.t = 0\n",
    "        self.xty = np.zeros(d)\n",
    "        self.Vinv = (1 / lbda) * np.identity(d)\n",
    "        \n",
    "    def choose(self, x):\n",
    "        # x: action set at each round (N, d)\n",
    "        self.t += 1\n",
    "        \n",
    "        ## compute the ridge estimator\n",
    "        theta_hat = self.Vinv @ self.xty\n",
    "        \n",
    "        ## observe the context\n",
    "        N, d = x.shape\n",
    "        \n",
    "        ## compute the ucb scores for each arm\n",
    "        expected = x @ theta_hat # (N, ) theta_T @ x_t\n",
    "        width = np.sqrt(np.einsum(\"Ni, ij, Nj -> N\", x, self.Vinv, x) * np.log(self.t)) # (N, ) widths\n",
    "        ucb_scores = expected + (self.alpha * width) # (N, ) ucb score\n",
    "        \n",
    "        ## chose the argmax the ucb score\n",
    "        maximum = np.max(ucb_scores)\n",
    "        argmax, = np.where(ucb_scores == maximum)\n",
    "        \n",
    "        return np.random.choice(argmax)\n",
    "    \n",
    "    def update(self, x, r):\n",
    "        # x: context of the chosen action (d, )\n",
    "        self.Vinv = shermanMorrison(self.Vinv, x)\n",
    "        self.xty += (r * x)"
   ]
  },
  {
   "cell_type": "code",
   "execution_count": 7,
   "id": "e5ef7c0d",
   "metadata": {},
   "outputs": [],
   "source": [
    "## hyper-parameters\n",
    "M = 50000         # number of samples\n",
    "N = 20            # number of actions in the action set at each round\n",
    "d = 15            # observable dimension\n",
    "k = 8             # latent dimension\n",
    "T = 50000         # total time horizon\n",
    "SEED = 24790      # random state\n",
    "\n",
    "feature_bound = 1.\n",
    "# matrix_lower_bound = 0.5  # lower bound of the decoder (inverse is the upper bound of the encoder)\n",
    "matrix_bound = 1.\n",
    "param_bound = 1.\n",
    "reward_bound = 1.\n",
    "\n",
    "ALPHAS = [0.0, 0.1, 0.3, 0.5, 1.0]\n",
    "runtime = 5"
   ]
  },
  {
   "cell_type": "markdown",
   "id": "b91752f5",
   "metadata": {},
   "source": [
    "```python\n",
    "def feature_sampler(dimension:int, feat_dist:str, size:int, disjoint:bool, cov_dist:str=None, bound:float=None, random_state=1)\n",
    "def mapping_generator(d_in:int, d_out:int, distribution:str, random_state=1)\n",
    "def param_generator(dimension:int, distribution:str, disjoint:bool, bound:float=None, random_state=1)\n",
    "def subgaussian_noise(distribution:str, size:int, std:float=None)\n",
    "```"
   ]
  },
  {
   "cell_type": "markdown",
   "id": "071987ac",
   "metadata": {},
   "source": [
    "# Simple Check"
   ]
  },
  {
   "cell_type": "code",
   "execution_count": 8,
   "id": "722ffbb8",
   "metadata": {},
   "outputs": [
    {
     "name": "stdout",
     "output_type": "stream",
     "text": [
      "Total action space shape: (50000, 15)\n",
      "First context: [-0.04159822 -0.1262601   0.11904435 -0.11496973 -0.08700622  0.05691225\n",
      "  0.09678386 -0.26356197  0.05919445  0.06770022  0.14629099  0.15869952\n",
      " -0.15237166 -0.00572257  0.04032017]\n",
      "Maximum norm: 1.0000000000000002, Minimum norm: 0.19563662864221523\n"
     ]
    }
   ],
   "source": [
    "## simple check\n",
    "X = feature_sampler(dimension=d, feat_dist=\"gaussian\", size=M, disjoint=True, random_state=SEED, bound=feature_bound)\n",
    "X_norms = [l2norm(X[i, :]) for i in range(M)]\n",
    "print(f\"Total action space shape: {X.shape}\")\n",
    "print(f\"First context: {X[0, :]}\")\n",
    "print(f\"Maximum norm: {np.max(X_norms)}, Minimum norm: {np.min(X_norms)}\")"
   ]
  },
  {
   "cell_type": "code",
   "execution_count": 9,
   "id": "d6cc4ac8",
   "metadata": {},
   "outputs": [
    {
     "name": "stdout",
     "output_type": "stream",
     "text": [
      "True parameter: [-0.35039226  0.35238693 -0.3190403  -0.10511245 -0.20357776  0.21079273\n",
      "  0.2024892  -0.30956108 -0.13354934  0.0490413  -0.3881505  -0.26800738\n",
      "  0.28932321  0.25297302  0.16454009]\tshape: (15,)\tnorm: 0.9999999999999999\n"
     ]
    }
   ],
   "source": [
    "true_param = param_generator(dimension=d, distribution=\"uniform\", disjoint=True, random_state=SEED, bound=param_bound)\n",
    "print(f\"True parameter: {true_param}\\tshape: {true_param.shape}\\tnorm: {l2norm(true_param)}\")"
   ]
  },
  {
   "cell_type": "code",
   "execution_count": 10,
   "id": "fe9a77ae",
   "metadata": {},
   "outputs": [
    {
     "name": "stdout",
     "output_type": "stream",
     "text": [
      "sigma_epsilon: 0.1, reward noise: [-0.03118161 -0.09464332  0.08923446 ...  0.11626899  0.01891585\n",
      " -0.06949476], shape: (50000,)\n"
     ]
    }
   ],
   "source": [
    "reward_noise, std = subgaussian_noise(distribution=\"gaussian\", size=M, random_state=SEED, std=0.1)\n",
    "print(f\"sigma_epsilon: {std}, reward noise: {reward_noise}, shape: {reward_noise.shape}\")"
   ]
  },
  {
   "cell_type": "code",
   "execution_count": 11,
   "id": "e4312943",
   "metadata": {},
   "outputs": [
    {
     "name": "stdout",
     "output_type": "stream",
     "text": [
      "True reward shape: (50000,)\t First realized reward: -0.04045268227510594\n"
     ]
    },
    {
     "data": {
      "image/png": "[encoded data removed]",
      "text/plain": [
       "<Figure size 1000x400 with 2 Axes>"
      ]
     },
     "metadata": {},
     "output_type": "display_data"
    }
   ],
   "source": [
    "exp_reward = minmax(X @ true_param, bound=2*reward_bound) - reward_bound\n",
    "true_reward = exp_reward + reward_noise\n",
    "print(f\"True reward shape: {true_reward.shape}\\t First realized reward: {true_reward[0]}\")\n",
    "\n",
    "plt.figure(figsize=(10, 4))\n",
    "\n",
    "plt.subplot(121)\n",
    "plt.hist(exp_reward)\n",
    "plt.grid(True)\n",
    "plt.xlabel(\"Reward\")\n",
    "plt.title(\"Distribution of Expected Reward\")\n",
    "\n",
    "plt.subplot(122)\n",
    "plt.hist(true_reward)\n",
    "plt.grid(True)\n",
    "plt.xlabel(\"Reward\")\n",
    "plt.title(\"Distribution of Realized Reward\")\n",
    "\n",
    "plt.tight_layout()\n",
    "plt.show()"
   ]
  },
  {
   "cell_type": "code",
   "execution_count": 12,
   "id": "3fb2d36c",
   "metadata": {},
   "outputs": [
    {
     "name": "stdout",
     "output_type": "stream",
     "text": [
      "alpha=0.0\n"
     ]
    },
    {
     "data": {
      "application/vnd.jupyter.widget-view+json": {
       "model_id": "42ce6ee65926411691ea4da500d56ca5",
       "version_major": 2,
       "version_minor": 0
      },
      "text/plain": [
       "  0%|          | 0/50000 [00:00<?, ?it/s]"
      ]
     },
     "metadata": {},
     "output_type": "display_data"
    },
    {
     "data": {
      "application/vnd.jupyter.widget-view+json": {
       "model_id": "3318b614bb3a4c9b8013fc6aaaeb28b9",
       "version_major": 2,
       "version_minor": 0
      },
      "text/plain": [
       "  0%|          | 0/50000 [00:00<?, ?it/s]"
      ]
     },
     "metadata": {},
     "output_type": "display_data"
    },
    {
     "data": {
      "application/vnd.jupyter.widget-view+json": {
       "model_id": "bd67850d79d7444ab4a5644c2c59dbf7",
       "version_major": 2,
       "version_minor": 0
      },
      "text/plain": [
       "  0%|          | 0/50000 [00:00<?, ?it/s]"
      ]
     },
     "metadata": {},
     "output_type": "display_data"
    },
    {
     "data": {
      "application/vnd.jupyter.widget-view+json": {
       "model_id": "33c0cbe4d3114b07817696caba50f29f",
       "version_major": 2,
       "version_minor": 0
      },
      "text/plain": [
       "  0%|          | 0/50000 [00:00<?, ?it/s]"
      ]
     },
     "metadata": {},
     "output_type": "display_data"
    },
    {
     "data": {
      "application/vnd.jupyter.widget-view+json": {
       "model_id": "fec62a616e9947c398c113b7e186f7f9",
       "version_major": 2,
       "version_minor": 0
      },
      "text/plain": [
       "  0%|          | 0/50000 [00:00<?, ?it/s]"
      ]
     },
     "metadata": {},
     "output_type": "display_data"
    },
    {
     "name": "stdout",
     "output_type": "stream",
     "text": [
      "alpha=0.1\n"
     ]
    },
    {
     "data": {
      "application/vnd.jupyter.widget-view+json": {
       "model_id": "efcbb7a564794ce988b82a18546e838e",
       "version_major": 2,
       "version_minor": 0
      },
      "text/plain": [
       "  0%|          | 0/50000 [00:00<?, ?it/s]"
      ]
     },
     "metadata": {},
     "output_type": "display_data"
    },
    {
     "data": {
      "application/vnd.jupyter.widget-view+json": {
       "model_id": "ccece00fb31e4e64a75f909abeb3bb7a",
       "version_major": 2,
       "version_minor": 0
      },
      "text/plain": [
       "  0%|          | 0/50000 [00:00<?, ?it/s]"
      ]
     },
     "metadata": {},
     "output_type": "display_data"
    },
    {
     "data": {
      "application/vnd.jupyter.widget-view+json": {
       "model_id": "e1f93a74f1c54b0295a48a81f3940fd1",
       "version_major": 2,
       "version_minor": 0
      },
      "text/plain": [
       "  0%|          | 0/50000 [00:00<?, ?it/s]"
      ]
     },
     "metadata": {},
     "output_type": "display_data"
    },
    {
     "data": {
      "application/vnd.jupyter.widget-view+json": {
       "model_id": "7bab29d4b24b42388796b38163359b77",
       "version_major": 2,
       "version_minor": 0
      },
      "text/plain": [
       "  0%|          | 0/50000 [00:00<?, ?it/s]"
      ]
     },
     "metadata": {},
     "output_type": "display_data"
    },
    {
     "data": {
      "application/vnd.jupyter.widget-view+json": {
       "model_id": "2a7ef0c69b454ea489fbf3474dc21bfd",
       "version_major": 2,
       "version_minor": 0
      },
      "text/plain": [
       "  0%|          | 0/50000 [00:00<?, ?it/s]"
      ]
     },
     "metadata": {},
     "output_type": "display_data"
    },
    {
     "name": "stdout",
     "output_type": "stream",
     "text": [
      "alpha=0.3\n"
     ]
    },
    {
     "data": {
      "application/vnd.jupyter.widget-view+json": {
       "model_id": "c4b40cc7a19a4cd8b9f331e7d1c3cc1e",
       "version_major": 2,
       "version_minor": 0
      },
      "text/plain": [
       "  0%|          | 0/50000 [00:00<?, ?it/s]"
      ]
     },
     "metadata": {},
     "output_type": "display_data"
    },
    {
     "data": {
      "application/vnd.jupyter.widget-view+json": {
       "model_id": "060ecdf4d7244294b03f6e144cab56c2",
       "version_major": 2,
       "version_minor": 0
      },
      "text/plain": [
       "  0%|          | 0/50000 [00:00<?, ?it/s]"
      ]
     },
     "metadata": {},
     "output_type": "display_data"
    },
    {
     "data": {
      "application/vnd.jupyter.widget-view+json": {
       "model_id": "071e19a3534d46ddb3d6153f18cdc709",
       "version_major": 2,
       "version_minor": 0
      },
      "text/plain": [
       "  0%|          | 0/50000 [00:00<?, ?it/s]"
      ]
     },
     "metadata": {},
     "output_type": "display_data"
    },
    {
     "data": {
      "application/vnd.jupyter.widget-view+json": {
       "model_id": "5b7c2237095d4403845332c49de3095d",
       "version_major": 2,
       "version_minor": 0
      },
      "text/plain": [
       "  0%|          | 0/50000 [00:00<?, ?it/s]"
      ]
     },
     "metadata": {},
     "output_type": "display_data"
    },
    {
     "data": {
      "application/vnd.jupyter.widget-view+json": {
       "model_id": "bae09817753643cb96a0d80163f35976",
       "version_major": 2,
       "version_minor": 0
      },
      "text/plain": [
       "  0%|          | 0/50000 [00:00<?, ?it/s]"
      ]
     },
     "metadata": {},
     "output_type": "display_data"
    },
    {
     "name": "stdout",
     "output_type": "stream",
     "text": [
      "alpha=0.5\n"
     ]
    },
    {
     "data": {
      "application/vnd.jupyter.widget-view+json": {
       "model_id": "3813cff172b947628911201d7314fc7f",
       "version_major": 2,
       "version_minor": 0
      },
      "text/plain": [
       "  0%|          | 0/50000 [00:00<?, ?it/s]"
      ]
     },
     "metadata": {},
     "output_type": "display_data"
    },
    {
     "data": {
      "application/vnd.jupyter.widget-view+json": {
       "model_id": "1a0bb60ba0b3465d847a18f58f804fce",
       "version_major": 2,
       "version_minor": 0
      },
      "text/plain": [
       "  0%|          | 0/50000 [00:00<?, ?it/s]"
      ]
     },
     "metadata": {},
     "output_type": "display_data"
    },
    {
     "data": {
      "application/vnd.jupyter.widget-view+json": {
       "model_id": "09cdd33686654d9a9d0fd4e3ff72d2bb",
       "version_major": 2,
       "version_minor": 0
      },
      "text/plain": [
       "  0%|          | 0/50000 [00:00<?, ?it/s]"
      ]
     },
     "metadata": {},
     "output_type": "display_data"
    },
    {
     "data": {
      "application/vnd.jupyter.widget-view+json": {
       "model_id": "499b115720df4c61acc8a43ae41e5f99",
       "version_major": 2,
       "version_minor": 0
      },
      "text/plain": [
       "  0%|          | 0/50000 [00:00<?, ?it/s]"
      ]
     },
     "metadata": {},
     "output_type": "display_data"
    },
    {
     "data": {
      "application/vnd.jupyter.widget-view+json": {
       "model_id": "740984ef5ea84be9b2b47b80568cc9ff",
       "version_major": 2,
       "version_minor": 0
      },
      "text/plain": [
       "  0%|          | 0/50000 [00:00<?, ?it/s]"
      ]
     },
     "metadata": {},
     "output_type": "display_data"
    },
    {
     "name": "stdout",
     "output_type": "stream",
     "text": [
      "alpha=1.0\n"
     ]
    },
    {
     "data": {
      "application/vnd.jupyter.widget-view+json": {
       "model_id": "932531b55c384698a74e96ade37f588d",
       "version_major": 2,
       "version_minor": 0
      },
      "text/plain": [
       "  0%|          | 0/50000 [00:00<?, ?it/s]"
      ]
     },
     "metadata": {},
     "output_type": "display_data"
    },
    {
     "data": {
      "application/vnd.jupyter.widget-view+json": {
       "model_id": "e4d650f8860b49d4a4e026b77abcfd38",
       "version_major": 2,
       "version_minor": 0
      },
      "text/plain": [
       "  0%|          | 0/50000 [00:00<?, ?it/s]"
      ]
     },
     "metadata": {},
     "output_type": "display_data"
    },
    {
     "data": {
      "application/vnd.jupyter.widget-view+json": {
       "model_id": "57cae8dc9420401e90de8843b509d3b7",
       "version_major": 2,
       "version_minor": 0
      },
      "text/plain": [
       "  0%|          | 0/50000 [00:00<?, ?it/s]"
      ]
     },
     "metadata": {},
     "output_type": "display_data"
    },
    {
     "data": {
      "application/vnd.jupyter.widget-view+json": {
       "model_id": "271ef03d6ccc4af79b9f95a08ed1d332",
       "version_major": 2,
       "version_minor": 0
      },
      "text/plain": [
       "  0%|          | 0/50000 [00:00<?, ?it/s]"
      ]
     },
     "metadata": {},
     "output_type": "display_data"
    },
    {
     "data": {
      "application/vnd.jupyter.widget-view+json": {
       "model_id": "94abfb2696ae452f882b0d51fa500159",
       "version_major": 2,
       "version_minor": 0
      },
      "text/plain": [
       "  0%|          | 0/50000 [00:00<?, ?it/s]"
      ]
     },
     "metadata": {},
     "output_type": "display_data"
    }
   ],
   "source": [
    "regret_result = dict()\n",
    "for alpha in ALPHAS:\n",
    "    print(f\"alpha={alpha}\")\n",
    "    regret_container = []\n",
    "    for trial in range(runtime):\n",
    "        agent = LinUCB(d=d, alpha=alpha)\n",
    "        regrets = np.zeros(T)\n",
    "        for t in tqdm_auto(range(T)):\n",
    "            indices = np.random.randint(0, M, N)\n",
    "            action_set, reward_set = X[indices], true_reward[indices]\n",
    "\n",
    "            exp_rewards = action_set @ true_param\n",
    "            optimal_action = np.argmax(exp_rewards)\n",
    "            optimal_reward = exp_rewards[optimal_action]\n",
    "\n",
    "            chosen_action = agent.choose(action_set)\n",
    "            chosen_reward = reward_set[chosen_action]\n",
    "            chosen_context = action_set[chosen_action]\n",
    "\n",
    "            agent.update(chosen_context, chosen_reward)\n",
    "            instance_regret = optimal_reward - exp_rewards[chosen_action]\n",
    "            regrets[t] = instance_regret\n",
    "        regret_container.append(np.cumsum(regrets))\n",
    "        \n",
    "    regret_result[alpha] = np.array(regret_container)"
   ]
  },
  {
   "cell_type": "code",
   "execution_count": 13,
   "id": "25d19650",
   "metadata": {},
   "outputs": [
    {
     "data": {
      "image/png": "[encoded data removed]",
      "text/plain": [
       "<Figure size 1300x500 with 2 Axes>"
      ]
     },
     "metadata": {},
     "output_type": "display_data"
    }
   ],
   "source": [
    "plt.figure(figsize=(13, 5))\n",
    "\n",
    "plt.subplot(121)\n",
    "for key, value in regret_result.items():\n",
    "    mean = np.mean(value, axis=0)\n",
    "    std = np.std(value, axis=0, ddof=1)\n",
    "    plt.plot(mean, label=f\"alpha={key}\")\n",
    "plt.grid(True)\n",
    "plt.xlabel(\"Round\")\n",
    "plt.ylabel(\"$R_T$\")\n",
    "plt.legend()\n",
    "\n",
    "plt.subplot(122)\n",
    "for key, value in regret_result.items():\n",
    "    mean = np.mean(value, axis=0)\n",
    "    std = np.std(value, axis=0, ddof=1)\n",
    "    plt.plot(mean, label=f\"alpha={key}\")\n",
    "    plt.fill_between(np.arange(T), mean-std, mean+std, alpha=0.2)\n",
    "plt.grid(True)\n",
    "plt.xlabel(\"Round\")\n",
    "plt.ylabel(\"$R_T$\")\n",
    "plt.legend()\n",
    "\n",
    "plt.tight_layout()\n",
    "plt.show()"
   ]
  },
  {
   "cell_type": "markdown",
   "id": "5645f6e5",
   "metadata": {},
   "source": [
    "# $A : Z \\to X, Z\\in\\mathbb{R}^{k}, X\\in\\mathbb{R}^d$ is specified"
   ]
  },
  {
   "cell_type": "code",
   "execution_count": 14,
   "id": "19e5d4fb",
   "metadata": {},
   "outputs": [],
   "source": [
    "def run(agent:LinUCB, num_actions:int, horizon:int, obs:np.ndarray, r_exp:np.ndarray, r_true:np.ndarray, use_tqdm:bool=True, verbose:bool=False):\n",
    "    action_space_size, _ = obs.shape\n",
    "    assert action_space_size >= num_actions\n",
    "    \n",
    "    if use_tqdm:\n",
    "        bar = tqdm_auto(range(horizon))\n",
    "    else:\n",
    "        bar = range(horizon)\n",
    "    \n",
    "    regrets = np.zeros(horizon)\n",
    "    for t in bar:\n",
    "        if action_space_size == num_actions:\n",
    "            indices = np.arange(num_actions)\n",
    "        else:\n",
    "            indices = np.random.randint(0, action_space_size, num_actions)\n",
    "        \n",
    "        ## observe actions\n",
    "        action_set, exp_reward_set, true_reward_set = obs[indices], r_exp[indices], r_true[indices]\n",
    "        \n",
    "        ## get the optimal reward and optimal action\n",
    "        optimal_action = np.argmax(exp_reward_set) # index of the optimal action\n",
    "        optimal_reward = exp_reward_set[optimal_action]\n",
    "        \n",
    "        ## choose action\n",
    "        chosen_action = agent.choose(action_set)\n",
    "        chosen_reward = true_reward_set[chosen_action]\n",
    "        chosen_context = action_set[chosen_action]\n",
    "        \n",
    "        ## compute the regret\n",
    "        instance_regret = optimal_reward - exp_reward_set[chosen_action]\n",
    "        regrets[t] = instance_regret\n",
    "        \n",
    "        ## update the agent\n",
    "        agent.update(chosen_context, chosen_reward)\n",
    "        \n",
    "        if verbose: \n",
    "            print(f\"round {t+1}\\toptimal action : {optimal_action}\\toptimal reward : {optimal_reward:.3f}\")\n",
    "            print(f\"\\tchosen action : {chosen_arm}\\trealized reward : {chosen_reward:.3f}, expected reward: {exp_reward_set[chosen_arm]:.3f}\")\n",
    "            print(f\"\\tinstance regret : {instance_regret:.3f}, cumulative regret : {np.sum(regrets):.3f}\")\n",
    "            \n",
    "    return regrets"
   ]
  },
  {
   "cell_type": "markdown",
   "id": "502cd148",
   "metadata": {},
   "source": [
    "```python\n",
    "def feature_sampler(dimension:int, feat_dist:str, size:int, disjoint:bool, cov_dist:str=None, bound:float=None)\n",
    "def mapping_generator(latent_dim:int, obs_dim:int, distribution:str, bound:float=None)\n",
    "def param_generator(dimension:int, distribution:str, disjoint:bool, bound:float=None)\n",
    "def subgaussian_noise(distribution:str, size:int, std:float=None)\n",
    "```"
   ]
  },
  {
   "cell_type": "markdown",
   "id": "20a83f9f",
   "metadata": {},
   "source": [
    "## $Z \\sim N(0, I_k), A={(a_{ij})}_{i\\in [k], j\\in[d]} \\sim U\\left(-\\sqrt{\\frac{2}{k}}, \\sqrt{\\frac{2}{k}}\\right), \\mu_i\\in \\boldsymbol{\\mu_*}\\sim U(-1, 1)$"
   ]
  },
  {
   "cell_type": "code",
   "execution_count": 15,
   "id": "d5386dc0",
   "metadata": {},
   "outputs": [
    {
     "name": "stdout",
     "output_type": "stream",
     "text": [
      "Total action space shape: (50000, 8)\n",
      "First context: [-0.31181615 -0.94643321  0.89234464 -0.86180167 -0.65218998  0.42660861\n",
      "  0.72548223 -1.97563441]\n",
      "Maximum norm: 6.152929674942239, Minimum norm: 0.46644760534517826\n"
     ]
    }
   ],
   "source": [
    "## latent feature\n",
    "Z = feature_sampler(dimension=k, feat_dist=\"gaussian\", size=M, disjoint=True, random_state=SEED)\n",
    "Z_norms = [l2norm(Z[i, :]) for i in range(M)]\n",
    "\n",
    "print(f\"Total action space shape: {Z.shape}\")\n",
    "print(f\"First context: {Z[0, :]}\")\n",
    "print(f\"Maximum norm: {np.max(Z_norms)}, Minimum norm: {np.min(Z_norms)}\")"
   ]
  },
  {
   "cell_type": "code",
   "execution_count": 16,
   "id": "7468a417",
   "metadata": {},
   "outputs": [
    {
     "name": "stdout",
     "output_type": "stream",
     "text": [
      "Mapping shape: (8, 15)\n",
      "[[-0.54744566  0.60579048 -0.48765531 -0.05989783 -0.30488276  0.40542064\n",
      "   0.26714367 -0.58690181 -0.3741793  -0.00824498 -0.61575001 -0.425222\n",
      "   0.4967195   0.35356444  0.28418321]\n",
      " [ 0.31429844 -0.06424805 -0.53052631 -0.22380041  0.62639106  0.60398213\n",
      "   0.41057204 -0.28174879  0.46920863 -0.11850496 -0.66446723 -0.26916273\n",
      "  -0.38952435 -0.45347465 -0.48156332]\n",
      " [ 0.31383015 -0.53482922 -0.74560554  0.43779626 -0.01873151  0.39603212\n",
      "  -0.64093897  0.03712724  0.07406058 -0.48188168  0.65069388  0.0945639\n",
      "  -0.33027761  0.45535866  0.64735224]\n",
      " [-0.35396457 -0.5376358   0.2470881  -0.37070546 -0.13123015 -0.10848646\n",
      "  -0.42681635 -0.72833779  0.30363397  0.41484203  0.11707116 -0.20996897\n",
      "   0.24530572 -0.35858028  0.5432989 ]\n",
      " [ 0.27621865  0.22413726  0.31946326 -0.23699431 -0.76995939 -0.60485219\n",
      "  -0.48741224  0.27513635 -0.12465796 -0.58862678  0.13479131 -0.47621277\n",
      "   0.45580875 -0.32947855  0.15929961]\n",
      " [ 0.26609849  0.52217521 -0.32979547  0.1847694   0.01775955  0.5310478\n",
      "  -0.30751559  0.49496162  0.2664713   0.09842314 -0.63272305  0.40642437\n",
      "  -0.68998712  0.11676592  0.65067843]\n",
      " [-0.55969193  0.11669215 -0.7052906  -0.60803992 -0.27768977 -0.0414509\n",
      "   0.47355673 -0.00771082  0.45128441  0.52925197 -0.44118047 -0.39694112\n",
      "   0.3201302   0.72566301  0.32519992]\n",
      " [-0.49903481  0.32511173  0.22083168  0.14099315 -0.64828677  0.38060984\n",
      "   0.35615316 -0.43302892  0.57892495 -0.18836642  0.25443431  0.22658432\n",
      "  -0.34566761  0.33658779 -0.67495867]]\n",
      "Lower bound: 1.0000000000000002\n"
     ]
    }
   ],
   "source": [
    "## decoder mapping\n",
    "A = mapping_generator(latent_dim=k, obs_dim=d, distribution=\"uniform\", random_state=SEED, bound=matrix_bound)\n",
    "_, sing, _ = np.linalg.svd(A)\n",
    "\n",
    "print(f\"Mapping shape: {A.shape}\")\n",
    "print(f\"{A}\")\n",
    "print(f\"Lower bound: {np.min(sing)}\")"
   ]
  },
  {
   "cell_type": "markdown",
   "id": "13de20f3",
   "metadata": {},
   "source": [
    "### $\\sigma_{\\eta} = \\frac{1}{\\sqrt{T}}, \\eta_a^i\\in\\boldsymbol{\\eta_a} \\sim N\\left(0, \\sigma_\\eta^2\\right)$"
   ]
  },
  {
   "cell_type": "code",
   "execution_count": 17,
   "id": "a3e9be70",
   "metadata": {},
   "outputs": [
    {
     "name": "stdout",
     "output_type": "stream",
     "text": [
      "Shape of context noise: (50000, 15)\n",
      "First context noise: [-0.00139448 -0.00423258  0.00399069 -0.00385409 -0.00291668  0.00190785\n",
      "  0.00324446 -0.00883531  0.00198436  0.00226949  0.00490407  0.00532003\n",
      " -0.00510791 -0.00019184  0.00135164]\n"
     ]
    }
   ],
   "source": [
    "context_noise, std = subgaussian_noise(distribution=\"gaussian\", size=M*d, random_state=SEED, std=1/np.sqrt(T))\n",
    "context_noise = context_noise.reshape(M, d)\n",
    "print(f\"Shape of context noise: {context_noise.shape}\")\n",
    "print(f\"First context noise: {context_noise[0, :]}\")"
   ]
  },
  {
   "cell_type": "code",
   "execution_count": 18,
   "id": "7058059d",
   "metadata": {},
   "outputs": [
    {
     "name": "stdout",
     "output_type": "stream",
     "text": [
      "Shape of observable features: (50000, 15)\n",
      "Observable features of the first arm: [ 0.08626909 -0.05578007 -0.13490455  0.04005826  0.10534925 -0.03647873\n",
      " -0.07523775  0.17635452 -0.10158058  0.04548074  0.01111137  0.03613179\n",
      "  0.00231841  0.10317388  0.1974978 ]\n",
      "Maximum L2 norm: 1.0\tMinimum L2 norm: 0.05514791026370963\n"
     ]
    }
   ],
   "source": [
    "## Generate X\n",
    "X = Z @ A + context_noise\n",
    "\n",
    "maxnorm = np.max([l2norm(X[i, :]) for i in range(M)])\n",
    "for i in range(X.shape[0]):\n",
    "    X[i, :] *= (feature_bound / maxnorm)\n",
    "\n",
    "# for i in range(M):\n",
    "#     norm = l2norm(X[i, :])\n",
    "#     if norm > feature_bound:\n",
    "#         X[i, :] *= (feature_bound / norm)\n",
    "\n",
    "Xnorms = [l2norm(X[i, :]) for i in range(M)]\n",
    "\n",
    "print(f\"Shape of observable features: {X.shape}\")\n",
    "print(f\"Observable features of the first arm: {X[0, :]}\")\n",
    "print(f\"Maximum L2 norm: {np.max(Xnorms)}\\tMinimum L2 norm: {np.min(Xnorms)}\")"
   ]
  },
  {
   "cell_type": "markdown",
   "id": "e441bf0c",
   "metadata": {},
   "source": [
    "### $\\epsilon\\sim N\\left(0, \\sigma_\\epsilon^2\\right), \\sigma_\\epsilon=0.1$"
   ]
  },
  {
   "cell_type": "code",
   "execution_count": 19,
   "id": "11ec38f5",
   "metadata": {},
   "outputs": [
    {
     "name": "stdout",
     "output_type": "stream",
     "text": [
      "True reward parameter: [-0.45910155  0.46171506 -0.41802264 -0.13772362 -0.26673782  0.27619123\n",
      "  0.26531152 -0.40560249]\tshape: (8,)\tnorm: 1.0\n",
      "Reward noise shape: (50000,), std: 0.1, first noise: -0.031181614649534662\n"
     ]
    }
   ],
   "source": [
    "## reward parameter\n",
    "true_param = param_generator(dimension=k, distribution=\"uniform\", disjoint=True, random_state=SEED, bound=param_bound)\n",
    "print(f\"True reward parameter: {true_param}\\tshape: {true_param.shape}\\tnorm: {l2norm(true_param)}\")\n",
    "\n",
    "## reward noise\n",
    "reward_noise, std = subgaussian_noise(distribution=\"gaussian\", size=M, random_state=SEED, std=0.1)\n",
    "print(f\"Reward noise shape: {reward_noise.shape}, std: {std}, first noise: {reward_noise[0]}\")"
   ]
  },
  {
   "cell_type": "code",
   "execution_count": 20,
   "id": "950426ed",
   "metadata": {},
   "outputs": [
    {
     "name": "stdout",
     "output_type": "stream",
     "text": [
      "When expected reward is bounded in [-1.0, 1.0]\t First realized reward: 0.1132575187025729\n",
      "When expected reward is bounded in [0, 1.0]\t First realized reward: 0.5410379520265192\n"
     ]
    },
    {
     "data": {
      "image/png": "[encoded data removed]",
      "text/plain": [
       "<Figure size 1300x400 with 3 Axes>"
      ]
     },
     "metadata": {},
     "output_type": "display_data"
    },
    {
     "data": {
      "image/png": "[encoded data removed]",
      "text/plain": [
       "<Figure size 1300x400 with 3 Axes>"
      ]
     },
     "metadata": {},
     "output_type": "display_data"
    }
   ],
   "source": [
    "## reward\n",
    "exp_rewards_unbounded = Z @ true_param\n",
    "\n",
    "exp_rewards1 = minmax(Z @ true_param, bound=2*reward_bound) - reward_bound # constrain in [-C, C]\n",
    "exp_rewards2 = minmax(Z @ true_param, bound=reward_bound) # constrain in [0, C]\n",
    "\n",
    "true_rewards1 = exp_rewards1 + reward_noise\n",
    "true_rewards2 = exp_rewards2 + reward_noise\n",
    "print(f\"When expected reward is bounded in [-{reward_bound}, {reward_bound}]\\t First realized reward: {true_rewards1[0]}\")\n",
    "print(f\"When expected reward is bounded in [0, {reward_bound}]\\t First realized reward: {true_rewards2[0]}\")\n",
    "\n",
    "plt.figure(figsize=(13, 4))\n",
    "\n",
    "plt.subplot(131)\n",
    "plt.hist(exp_rewards_unbounded)\n",
    "plt.grid(True)\n",
    "plt.xlabel(\"Reward\")\n",
    "plt.title(\"Distribution of Unbounded Expected Rewards\")\n",
    "\n",
    "plt.subplot(132)\n",
    "plt.hist(exp_rewards1)\n",
    "plt.grid(True)\n",
    "plt.xlabel(\"Reward\")\n",
    "plt.title(\"Distribution of Bounded Expected Rewards\")\n",
    "\n",
    "plt.subplot(133)\n",
    "plt.hist(true_rewards1)\n",
    "plt.grid(True)\n",
    "plt.xlabel(\"Reward\")\n",
    "plt.title(\"Distribution of Realized Rewards\")\n",
    "\n",
    "plt.suptitle(\"When Expected Reward is bounded in $[-C, C]$\")\n",
    "plt.tight_layout()\n",
    "plt.show()\n",
    "\n",
    "plt.figure(figsize=(13, 4))\n",
    "\n",
    "plt.subplot(131)\n",
    "plt.hist(exp_rewards_unbounded)\n",
    "plt.grid(True)\n",
    "plt.xlabel(\"Reward\")\n",
    "plt.title(\"Distribution of Unbounded Expected Rewards\")\n",
    "\n",
    "plt.subplot(132)\n",
    "plt.hist(exp_rewards2)\n",
    "plt.grid(True)\n",
    "plt.xlabel(\"Reward\")\n",
    "plt.title(\"Distribution of Bounded Expected Rewards\")\n",
    "\n",
    "plt.subplot(133)\n",
    "plt.hist(true_rewards2)\n",
    "plt.grid(True)\n",
    "plt.xlabel(\"Reward\")\n",
    "plt.title(\"Distribution of Realized Rewards\")\n",
    "\n",
    "plt.suptitle(\"When Expected Reward is bounded in $[0, C]$\")\n",
    "plt.tight_layout()\n",
    "plt.show()"
   ]
  },
  {
   "cell_type": "code",
   "execution_count": null,
   "id": "e8bc1f77",
   "metadata": {},
   "outputs": [
    {
     "name": "stdout",
     "output_type": "stream",
     "text": [
      "When expected reward is bounded in [-1.0, 1.0]\n",
      "alpha=0.0\n"
     ]
    },
    {
     "data": {
      "application/vnd.jupyter.widget-view+json": {
       "model_id": "a4ce346d46ce440495f159be94985694",
       "version_major": 2,
       "version_minor": 0
      },
      "text/plain": [
       "  0%|          | 0/50000 [00:00<?, ?it/s]"
      ]
     },
     "metadata": {},
     "output_type": "display_data"
    },
    {
     "data": {
      "application/vnd.jupyter.widget-view+json": {
       "model_id": "5f365a4d8de64a32805c0f31e606d7bb",
       "version_major": 2,
       "version_minor": 0
      },
      "text/plain": [
       "  0%|          | 0/50000 [00:00<?, ?it/s]"
      ]
     },
     "metadata": {},
     "output_type": "display_data"
    },
    {
     "data": {
      "application/vnd.jupyter.widget-view+json": {
       "model_id": "2bd3d78e414449f393fce624213a5ce8",
       "version_major": 2,
       "version_minor": 0
      },
      "text/plain": [
       "  0%|          | 0/50000 [00:00<?, ?it/s]"
      ]
     },
     "metadata": {},
     "output_type": "display_data"
    },
    {
     "data": {
      "application/vnd.jupyter.widget-view+json": {
       "model_id": "c2b47f01b4d1449da04aabbd328ac0b4",
       "version_major": 2,
       "version_minor": 0
      },
      "text/plain": [
       "  0%|          | 0/50000 [00:00<?, ?it/s]"
      ]
     },
     "metadata": {},
     "output_type": "display_data"
    },
    {
     "data": {
      "application/vnd.jupyter.widget-view+json": {
       "model_id": "c31a72b21e894efbbcd001a28414a208",
       "version_major": 2,
       "version_minor": 0
      },
      "text/plain": [
       "  0%|          | 0/50000 [00:00<?, ?it/s]"
      ]
     },
     "metadata": {},
     "output_type": "display_data"
    },
    {
     "name": "stdout",
     "output_type": "stream",
     "text": [
      "alpha=0.1\n"
     ]
    },
    {
     "data": {
      "application/vnd.jupyter.widget-view+json": {
       "model_id": "2696fd38176e45eea8b7cf600978f03c",
       "version_major": 2,
       "version_minor": 0
      },
      "text/plain": [
       "  0%|          | 0/50000 [00:00<?, ?it/s]"
      ]
     },
     "metadata": {},
     "output_type": "display_data"
    },
    {
     "data": {
      "application/vnd.jupyter.widget-view+json": {
       "model_id": "4975bbb9c0f145a5938a8569d53acb00",
       "version_major": 2,
       "version_minor": 0
      },
      "text/plain": [
       "  0%|          | 0/50000 [00:00<?, ?it/s]"
      ]
     },
     "metadata": {},
     "output_type": "display_data"
    },
    {
     "data": {
      "application/vnd.jupyter.widget-view+json": {
       "model_id": "dab311e80a584f6eadaa2b25f2d1fdf1",
       "version_major": 2,
       "version_minor": 0
      },
      "text/plain": [
       "  0%|          | 0/50000 [00:00<?, ?it/s]"
      ]
     },
     "metadata": {},
     "output_type": "display_data"
    },
    {
     "data": {
      "application/vnd.jupyter.widget-view+json": {
       "model_id": "9698187629214bb4bdf0818c70c4237e",
       "version_major": 2,
       "version_minor": 0
      },
      "text/plain": [
       "  0%|          | 0/50000 [00:00<?, ?it/s]"
      ]
     },
     "metadata": {},
     "output_type": "display_data"
    },
    {
     "data": {
      "application/vnd.jupyter.widget-view+json": {
       "model_id": "2d6934f64bba4feeb9b566f5eab5e418",
       "version_major": 2,
       "version_minor": 0
      },
      "text/plain": [
       "  0%|          | 0/50000 [00:00<?, ?it/s]"
      ]
     },
     "metadata": {},
     "output_type": "display_data"
    },
    {
     "name": "stdout",
     "output_type": "stream",
     "text": [
      "alpha=0.3\n"
     ]
    },
    {
     "data": {
      "application/vnd.jupyter.widget-view+json": {
       "model_id": "1642cdaff5fd4da08e324390d6e5225d",
       "version_major": 2,
       "version_minor": 0
      },
      "text/plain": [
       "  0%|          | 0/50000 [00:00<?, ?it/s]"
      ]
     },
     "metadata": {},
     "output_type": "display_data"
    },
    {
     "data": {
      "application/vnd.jupyter.widget-view+json": {
       "model_id": "92a80516bbf54186a808ee3d3b2c953e",
       "version_major": 2,
       "version_minor": 0
      },
      "text/plain": [
       "  0%|          | 0/50000 [00:00<?, ?it/s]"
      ]
     },
     "metadata": {},
     "output_type": "display_data"
    }
   ],
   "source": [
    "print(f\"When expected reward is bounded in [-{reward_bound}, {reward_bound}]\")\n",
    "result1 = dict()\n",
    "for alpha in ALPHAS:\n",
    "    print(f\"alpha={alpha}\")\n",
    "    result_container = []\n",
    "    for trial in range(runtime):\n",
    "        agent = LinUCB(d=d, alpha=alpha)\n",
    "        regret = run(agent=agent, num_actions=N, horizon=T, obs=X, r_exp=exp_rewards1, r_true=true_rewards1, use_tqdm=True)\n",
    "        result_container.append(np.cumsum(regret))\n",
    "    result1[alpha] = np.array(result_container)"
   ]
  },
  {
   "cell_type": "code",
   "execution_count": null,
   "id": "b16b2413",
   "metadata": {},
   "outputs": [],
   "source": [
    "print(f\"When expected reward is bounded in [0, {reward_bound}]\")\n",
    "result2 = dict()\n",
    "for alpha in ALPHAS:\n",
    "    print(f\"alpha={alpha}\")\n",
    "    result_container = []\n",
    "    for trial in range(runtime):\n",
    "        agent = LinUCB(d=d, alpha=alpha)\n",
    "        regret = run(agent=agent, num_actions=N, horizon=T, obs=X, r_exp=exp_rewards2, r_true=true_rewards2, use_tqdm=True)\n",
    "        result_container.append(np.cumsum(regret))\n",
    "    result2[alpha] = np.array(result_container)"
   ]
  },
  {
   "cell_type": "code",
   "execution_count": null,
   "id": "33498653",
   "metadata": {
    "scrolled": false
   },
   "outputs": [],
   "source": [
    "plt.figure(figsize=(13, 5))\n",
    "\n",
    "plt.subplot(121)\n",
    "for key, value in result1.items():\n",
    "    mean = np.mean(value, axis=0)\n",
    "    std = np.std(value, axis=0, ddof=1)\n",
    "    plt.plot(mean, label=f\"alpha={key}\")\n",
    "plt.grid(True)\n",
    "plt.xlabel(\"Round\")\n",
    "plt.ylabel(\"$R_T$\")\n",
    "plt.legend()\n",
    "\n",
    "plt.subplot(122)\n",
    "for key, value in result1.items():\n",
    "    mean = np.mean(value, axis=0)\n",
    "    std = np.std(value, axis=0, ddof=1)\n",
    "    plt.plot(mean, label=f\"alpha={key}\")\n",
    "    plt.fill_between(np.arange(T), mean-std, mean+std, alpha=0.2)\n",
    "plt.grid(True)\n",
    "plt.xlabel(\"Round\")\n",
    "plt.ylabel(\"$R_T$\")\n",
    "plt.legend()\n",
    "\n",
    "plt.suptitle(\"$\\mathbb{E}[r_t]\\in [-C, C]$\")\n",
    "plt.tight_layout()\n",
    "plt.show()\n",
    "\n",
    "plt.figure(figsize=(13, 5))\n",
    "\n",
    "plt.subplot(121)\n",
    "for key, value in result2.items():\n",
    "    mean = np.mean(value, axis=0)\n",
    "    std = np.std(value, axis=0, ddof=1)\n",
    "    plt.plot(mean, label=f\"alpha={key}\")\n",
    "plt.grid(True)\n",
    "plt.xlabel(\"Round\")\n",
    "plt.ylabel(\"$R_T$\")\n",
    "plt.legend()\n",
    "\n",
    "plt.subplot(122)\n",
    "for key, value in result2.items():\n",
    "    mean = np.mean(value, axis=0)\n",
    "    std = np.std(value, axis=0, ddof=1)\n",
    "    plt.plot(mean, label=f\"alpha={key}\")\n",
    "    plt.fill_between(np.arange(T), mean-std, mean+std, alpha=0.2)\n",
    "plt.grid(True)\n",
    "plt.xlabel(\"Round\")\n",
    "plt.ylabel(\"$R_T$\")\n",
    "plt.legend()\n",
    "\n",
    "plt.suptitle(\"$\\mathbb{E}[r_t]\\in [0, C]$\")\n",
    "plt.tight_layout()\n",
    "plt.show()"
   ]
  },
  {
   "cell_type": "markdown",
   "id": "6273520c",
   "metadata": {},
   "source": [
    "### $\\epsilon\\sim N\\left(0, \\sigma_\\epsilon^2\\right), \\sigma_\\epsilon=0.5$"
   ]
  },
  {
   "cell_type": "code",
   "execution_count": null,
   "id": "681bd49d",
   "metadata": {},
   "outputs": [],
   "source": [
    "## reward parameter\n",
    "true_param = param_generator(dimension=k, distribution=\"uniform\", disjoint=True, random_state=SEED, bound=param_bound)\n",
    "print(f\"True reward parameter: {true_param}\\tshape: {true_param.shape}\\tnorm: {l2norm(true_param)}\")\n",
    "\n",
    "## reward noise\n",
    "reward_noise, std = subgaussian_noise(distribution=\"gaussian\", size=M, random_state=SEED, std=0.5)\n",
    "print(f\"Reward noise shape: {reward_noise.shape}, std: {std}, first noise: {reward_noise[0]}\")"
   ]
  },
  {
   "cell_type": "code",
   "execution_count": null,
   "id": "6a4a326c",
   "metadata": {},
   "outputs": [],
   "source": [
    "## reward\n",
    "exp_rewards_unbounded = Z @ true_param\n",
    "\n",
    "exp_rewards1 = minmax(Z @ true_param, bound=2*reward_bound) - reward_bound # constrain in [-C, C]\n",
    "exp_rewards2 = minmax(Z @ true_param, bound=reward_bound) # constrain in [0, C]\n",
    "\n",
    "true_rewards1 = exp_rewards1 + reward_noise\n",
    "true_rewards2 = exp_rewards2 + reward_noise\n",
    "print(f\"When expected reward is bounded in [-{reward_bound}, {reward_bound}]\\t First realized reward: {true_rewards1[0]}\")\n",
    "print(f\"When expected reward is bounded in [0, {reward_bound}]\\t First realized reward: {true_rewards2[0]}\")\n",
    "\n",
    "plt.figure(figsize=(13, 4))\n",
    "\n",
    "plt.subplot(131)\n",
    "plt.hist(exp_rewards_unbounded)\n",
    "plt.grid(True)\n",
    "plt.xlabel(\"Reward\")\n",
    "plt.title(\"Distribution of Unbounded Expected Rewards\")\n",
    "\n",
    "plt.subplot(132)\n",
    "plt.hist(exp_rewards1)\n",
    "plt.grid(True)\n",
    "plt.xlabel(\"Reward\")\n",
    "plt.title(\"Distribution of Bounded Expected Rewards\")\n",
    "\n",
    "plt.subplot(133)\n",
    "plt.hist(true_rewards1)\n",
    "plt.grid(True)\n",
    "plt.xlabel(\"Reward\")\n",
    "plt.title(\"Distribution of Realized Rewards\")\n",
    "\n",
    "plt.suptitle(\"When Expected Reward is bounded in $[-C, C]$\")\n",
    "plt.tight_layout()\n",
    "plt.show()\n",
    "\n",
    "plt.figure(figsize=(13, 4))\n",
    "\n",
    "plt.subplot(131)\n",
    "plt.hist(exp_rewards_unbounded)\n",
    "plt.grid(True)\n",
    "plt.xlabel(\"Reward\")\n",
    "plt.title(\"Distribution of Unbounded Expected Rewards\")\n",
    "\n",
    "plt.subplot(132)\n",
    "plt.hist(exp_rewards2)\n",
    "plt.grid(True)\n",
    "plt.xlabel(\"Reward\")\n",
    "plt.title(\"Distribution of Bounded Expected Rewards\")\n",
    "\n",
    "plt.subplot(133)\n",
    "plt.hist(true_rewards2)\n",
    "plt.grid(True)\n",
    "plt.xlabel(\"Reward\")\n",
    "plt.title(\"Distribution of Realized Rewards\")\n",
    "\n",
    "plt.suptitle(\"When Expected Reward is bounded in $[0, C]$\")\n",
    "plt.tight_layout()\n",
    "plt.show()"
   ]
  },
  {
   "cell_type": "code",
   "execution_count": null,
   "id": "442671e4",
   "metadata": {},
   "outputs": [],
   "source": [
    "print(f\"When expected reward is bounded in [-{reward_bound}, {reward_bound}]\")\n",
    "result1 = dict()\n",
    "for alpha in ALPHAS:\n",
    "    print(f\"alpha={alpha}\")\n",
    "    result_container = []\n",
    "    for trial in range(runtime):\n",
    "        agent = LinUCB(d=d, alpha=alpha)\n",
    "        regret = run(agent=agent, num_actions=N, horizon=T, obs=X, r_exp=exp_rewards1, r_true=true_rewards1, use_tqdm=True)\n",
    "        result_container.append(np.cumsum(regret))\n",
    "    result1[alpha] = np.array(result_container)"
   ]
  },
  {
   "cell_type": "code",
   "execution_count": null,
   "id": "e4b0be7c",
   "metadata": {},
   "outputs": [],
   "source": [
    "print(f\"When expected reward is bounded in [0, {reward_bound}]\")\n",
    "result2 = dict()\n",
    "for alpha in ALPHAS:\n",
    "    print(f\"alpha={alpha}\")\n",
    "    result_container = []\n",
    "    for trial in range(runtime):\n",
    "        agent = LinUCB(d=d, alpha=alpha)\n",
    "        regret = run(agent=agent, num_actions=N, horizon=T, obs=X, r_exp=exp_rewards2, r_true=true_rewards2, use_tqdm=True)\n",
    "        result_container.append(np.cumsum(regret))\n",
    "    result2[alpha] = np.array(result_container)"
   ]
  },
  {
   "cell_type": "code",
   "execution_count": null,
   "id": "5726ab74",
   "metadata": {
    "scrolled": false
   },
   "outputs": [],
   "source": [
    "plt.figure(figsize=(13, 5))\n",
    "\n",
    "plt.subplot(121)\n",
    "for key, value in result1.items():\n",
    "    mean = np.mean(value, axis=0)\n",
    "    std = np.std(value, axis=0, ddof=1)\n",
    "    plt.plot(mean, label=f\"alpha={key}\")\n",
    "plt.grid(True)\n",
    "plt.xlabel(\"Round\")\n",
    "plt.ylabel(\"$R_T$\")\n",
    "plt.legend()\n",
    "\n",
    "plt.subplot(122)\n",
    "for key, value in result1.items():\n",
    "    mean = np.mean(value, axis=0)\n",
    "    std = np.std(value, axis=0, ddof=1)\n",
    "    plt.plot(mean, label=f\"alpha={key}\")\n",
    "    plt.fill_between(np.arange(T), mean-std, mean+std, alpha=0.2)\n",
    "plt.grid(True)\n",
    "plt.xlabel(\"Round\")\n",
    "plt.ylabel(\"$R_T$\")\n",
    "plt.legend()\n",
    "\n",
    "plt.suptitle(\"$\\mathbb{E}[r_t]\\in [-C, C]$\")\n",
    "plt.tight_layout()\n",
    "plt.show()\n",
    "\n",
    "plt.figure(figsize=(13, 5))\n",
    "\n",
    "plt.subplot(121)\n",
    "for key, value in result2.items():\n",
    "    mean = np.mean(value, axis=0)\n",
    "    std = np.std(value, axis=0, ddof=1)\n",
    "    plt.plot(mean, label=f\"alpha={key}\")\n",
    "plt.grid(True)\n",
    "plt.xlabel(\"Round\")\n",
    "plt.ylabel(\"$R_T$\")\n",
    "plt.legend()\n",
    "\n",
    "plt.subplot(122)\n",
    "for key, value in result2.items():\n",
    "    mean = np.mean(value, axis=0)\n",
    "    std = np.std(value, axis=0, ddof=1)\n",
    "    plt.plot(mean, label=f\"alpha={key}\")\n",
    "    plt.fill_between(np.arange(T), mean-std, mean+std, alpha=0.2)\n",
    "plt.grid(True)\n",
    "plt.xlabel(\"Round\")\n",
    "plt.ylabel(\"$R_T$\")\n",
    "plt.legend()\n",
    "\n",
    "plt.suptitle(\"$\\mathbb{E}[r_t]\\in [0, C]$\")\n",
    "plt.tight_layout()\n",
    "plt.show()"
   ]
  },
  {
   "cell_type": "code",
   "execution_count": null,
   "id": "eb06599f",
   "metadata": {},
   "outputs": [],
   "source": []
  }
 ],
 "metadata": {
  "kernelspec": {
   "display_name": "Python 3 (ipykernel)",
   "language": "python",
   "name": "python3"
  },
  "language_info": {
   "codemirror_mode": {
    "name": "ipython",
    "version": 3
   },
   "file_extension": ".py",
   "mimetype": "text/x-python",
   "name": "python",
   "nbconvert_exporter": "python",
   "pygments_lexer": "ipython3",
   "version": "3.10.11"
  }
 },
 "nbformat": 4,
 "nbformat_minor": 5
}
