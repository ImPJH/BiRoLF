{
 "cells": [
  {
   "cell_type": "markdown",
   "id": "315e63a2",
   "metadata": {},
   "source": [
    "# Online Regression with Synthetic dataset"
   ]
  },
  {
   "cell_type": "markdown",
   "id": "20b0dd97",
   "metadata": {},
   "source": [
    "* In machine learning theory, thera are two well known learning approaches: **online learning** and **offline learning**.\n",
    "\n",
    "\n",
    "* Here the meanings of two terms, \"online\" and \"offline\", are slightly different to what we use in our daily lives. Usually we use both terms to refer to the status of network: if a device is connected to the Internet, it's called \"online\", while \"offline\" if it's not.\n",
    "\n",
    "\n",
    "* However, in machine learning, a model tries to learn some \"relationship\" between the source and the target from given data.\n",
    "    - For example, in linear regression, the model tries to learn(or estimate) the parameter $\\beta$ such that satisfies $Y = X\\beta + \\epsilon$.\n",
    "    - Likewise, a neural network model tries to learn a set of weights and biases such that maps $X$ to $Y$.\n",
    "\n",
    "\n",
    "* The meaning of \"online\" and \"offline\" are also defined in this sense.\n",
    "    - Specifically, if a model updates its parameters(or learns) **sequentially** as each data point comes in, this method is called as **online learning**.\n",
    "    - On the other hand, if a model updates the parameters only after **observing every given data point**, then that method is called as **offline learning**.\n",
    "    \n",
    "    \n",
    "* To get it simple, it is also might be okay to think like:\n",
    "    - learning with batch size **1** is equivalent to online learning\n",
    "    - learning with batch size **$N$** is equivalent to offline learning, where $N$ denotes the total number of observations in the given dataset.\n",
    "    \n",
    "    \n",
    "* In this notebook, I'm going to conduct a multiple linear regression experiment with a synthetic dataset, and compare the results."
   ]
  },
  {
   "cell_type": "code",
   "execution_count": 1,
   "id": "b142ed79",
   "metadata": {},
   "outputs": [
    {
     "data": {
      "text/html": [
       "<style>.container { width:75% !important; }</style>"
      ],
      "text/plain": [
       "<IPython.core.display.HTML object>"
      ]
     },
     "metadata": {},
     "output_type": "display_data"
    }
   ],
   "source": [
    "import numpy as np\n",
    "import matplotlib.pyplot as plt\n",
    "from typing import Union\n",
    "from tqdm.auto import tqdm\n",
    "from IPython.display import display, HTML\n",
    "\n",
    "display(HTML(\"<style>.container { width:75% !important; }</style>\"))\n",
    "%matplotlib inline"
   ]
  },
  {
   "cell_type": "code",
   "execution_count": 2,
   "id": "64364a96",
   "metadata": {},
   "outputs": [],
   "source": [
    "## Define some utility functions\n",
    "\n",
    "def l1norm(v:np.ndarray):\n",
    "    v = v.flatten()\n",
    "    return np.sum(abs(v))\n",
    "\n",
    "\n",
    "def l2norm(v:np.ndarray):\n",
    "    v = v.flatten()\n",
    "    return np.sqrt(np.sum(v ** 2))\n",
    "\n",
    "\n",
    "def covariance_generator(d:int, distribution:str=\"gaussian\", bound:float=None):\n",
    "    if distribution == \"gaussian\":\n",
    "        rnd = np.random.randn(d, d)\n",
    "    elif distribution == \"uniform\":\n",
    "        rnd = np.random.uniform(-1, 1, size=d*d).reshape(d, d)\n",
    "    else:\n",
    "        rnd = np.random.gamma(2, size=d*d).reshape(d,d)\n",
    "    \n",
    "    ## make a symmetric matrix\n",
    "    sym = (rnd + rnd.T) / 2\n",
    "    ## make positive semi-definite and bound its maximum singular value\n",
    "    mat = sym @ sym.T\n",
    "    \n",
    "    if bound is not None:\n",
    "        mat *= (bound / np.linalg.norm(mat, 2))\n",
    "    \n",
    "    return mat\n",
    "\n",
    "\n",
    "# Function for Gram-Schmidt process\n",
    "def gram_schmidt(A):\n",
    "    Q = np.zeros(A.shape)\n",
    "    for i in range(A.shape[1]):\n",
    "        # Orthogonalize the vector\n",
    "        Q[:,i] = A[:,i]\n",
    "        for j in range(i):\n",
    "            Q[:,i] -= np.dot(Q[:,j], A[:,i]) * Q[:,j]\n",
    "        \n",
    "        # Normalize the vector\n",
    "        Q[:,i] = Q[:,i] / np.linalg.norm(Q[:,i])\n",
    "    return Q\n",
    "\n",
    "\n",
    "def make_diagonal(v:np.ndarray, dim:Union[int, tuple]):\n",
    "    if type(dim) == int:\n",
    "        diag = np.zeros((dim, dim))\n",
    "        rng = dim\n",
    "    else:\n",
    "        diag = np.zeros(dim)\n",
    "        rng = min(dim)\n",
    "        \n",
    "    for i in range(rng):\n",
    "        diag[i, i] = v[i]\n",
    "    \n",
    "    return diag\n",
    "\n",
    "\n",
    "def positive_definite_generator(dimension:int, distribution:str):\n",
    "    d = dimension\n",
    "    ## create orthogonal eigenvectors\n",
    "    if distribution == \"gaussian\":\n",
    "        source = np.random.randn(d,d)\n",
    "    elif distribution == \"uniform\":\n",
    "        source = np.random.uniform(-1, 1, size=d*d).reshape(d, d)\n",
    "    else:\n",
    "        source = np.random.gamma(shape=1.5, size=d*d).reshape(d, d)\n",
    "    eigvecs = gram_schmidt(source)\n",
    "    \n",
    "    ## create a matrix of eigenvalues\n",
    "    eigvals = np.random.uniform(0., 2., size=d)\n",
    "    eigmat = make_diagonal(np.absolute(eigvals), len(eigvals))\n",
    "    \n",
    "    ## make the targeted positive definite matrix\n",
    "    Z = source @ eigmat @ source.T\n",
    "    return Z\n",
    "\n",
    "\n",
    "def rademacher(size:int):\n",
    "    return 2 * np.random.randint(0, 2, size) - 1\n",
    "\n",
    "\n",
    "def subgaussian_noise(distribution:str, size:int, random_state:int, std:float=None):\n",
    "    np.random.seed(random_state)\n",
    "    if not std:\n",
    "        assert distribution in [\"gaussian\", \"uniform\", \"rademacher\"], \"Distribution must be one of: 'gaussian', 'uniform', or 'rademacher'.\"\n",
    "    \n",
    "    if distribution == \"gaussian\":\n",
    "        if not std:\n",
    "            std = 1.\n",
    "        noise = np.random.normal(loc=0, scale=std, size=size) \n",
    "    elif distribution == \"uniform\":\n",
    "        if not std:\n",
    "            low = -1\n",
    "            high = 1\n",
    "            std = np.sqrt(((high - low) ** 2) / 12)\n",
    "        else:\n",
    "            low = -np.sqrt(3) * std\n",
    "            high = np.sqrt(3) * std\n",
    "        noise = np.random.uniform(low=low, high=high, size=size)\n",
    "    else:\n",
    "        std = 1\n",
    "        noise = rademacher(size=size)\n",
    "    return noise, std"
   ]
  },
  {
   "cell_type": "markdown",
   "id": "4ad87c3c",
   "metadata": {},
   "source": [
    "* The codes below will be used to generate synthetic datasets.\n",
    "    - The `feature_sampler` function generates a set of features of shape $(N, d)$, where $N$ denotes the number of observations, and $d$ denotes the dimension of each feature. For convenience, I'm going to use either Gaussian or Uniform distribution.\n",
    "    - The `param_generator` function generates a regression parameter vector from a specific distribution."
   ]
  },
  {
   "cell_type": "code",
   "execution_count": 3,
   "id": "c5911ad2",
   "metadata": {},
   "outputs": [],
   "source": [
    "def feature_sampler(dimension:int, feat_dist:str, size:int, disjoint:bool, random_state:int, cov_dist:str=None, uniform_rng:list=None):\n",
    "    np.random.seed(random_state)\n",
    "    assert feat_dist.lower() in [\"gaussian\", \"uniform\"], \"Distribution must be either 'gaussian' or 'uniform'.\"\n",
    "    \n",
    "    if disjoint:\n",
    "        if feat_dist.lower() == \"gaussian\":\n",
    "            ## gaussian\n",
    "            feat = np.random.multivariate_normal(mean=np.ones(dimension), cov=np.identity(dimension), size=size)\n",
    "        else:\n",
    "            ## uniform\n",
    "            if not uniform_rng:\n",
    "                low, high = -1., 1.\n",
    "            else:\n",
    "                low, high = uniform_rng\n",
    "            feat = np.random.uniform(low=low, high=high, size=size*dimension).reshape(size, dimension)\n",
    "    else:\n",
    "        assert cov_dist is not None, \"Please pass the distribution to sample the covariance matrix: 'gaussian' or 'uniform'.\"\n",
    "        if feat_dist.lower() == \"gaussian\":\n",
    "            ## gaussian\n",
    "            cov = covariance_generator(dimension, distribution=cov_dist)\n",
    "            feat = np.random.multivariate_normal(mean=np.ones(dimension), cov=cov, size=size)\n",
    "        else:\n",
    "            ## uniform\n",
    "            if not uniform_rng:\n",
    "                low, high = -1., 1.\n",
    "            else:\n",
    "                low, high = uniform_rng\n",
    "            feat = np.random.uniform(low=low, high=high, size=size*dimension).reshape(size, dimension)\n",
    "\n",
    "            # Cholesky decomposition\n",
    "            pd = positive_definite_generator(dimension, distribution=cov_dist)\n",
    "            L = np.linalg.cholesky(pd)\n",
    "            for i in range(size):\n",
    "                feat[i, :] = L @ feat[i, :]\n",
    "    \n",
    "    return feat\n",
    "\n",
    "\n",
    "def param_generator(dimension:int, distribution:str, disjoint:bool, random_state:int, bound:float=None):\n",
    "    np.random.seed(random_state)\n",
    "    assert distribution.lower() in [\"gaussian\", \"uniform\", \"gamma\"]\n",
    "    \n",
    "    if disjoint:\n",
    "        if distribution == \"gaussian\":\n",
    "            param = np.random.randn(dimension)\n",
    "        elif distribution == \"uniform\":\n",
    "            param = np.random.uniform(low=-1., high=1., size=dimension)\n",
    "        else:\n",
    "            param = np.random.gamma(shape=2., size=dimension)\n",
    "    else:\n",
    "        if distribution == \"gaussian\":\n",
    "            cov = covariance_generator(dimension, distribution=distribution)\n",
    "            param = np.random.multivariate_normal(mean=np.zeros(dimension), cov=cov)\n",
    "        elif distribution == \"uniform\":\n",
    "            pd = positive_definite_generator(dimension, distribution=distribution)\n",
    "            param = np.random.uniform(low=-1., high=1., size=dimension)\n",
    "            L = np.linalg.cholesky(pd)\n",
    "            param = L @ param\n",
    "        else:\n",
    "            pd = positive_definite_generator(dimension, distribution=distribution)\n",
    "            param = np.random.gamma(shape=1., size=dimension)\n",
    "            L = np.linalg.cholesky(pd)\n",
    "            param = L @ param\n",
    "                    \n",
    "    if (bound is not None) and (l2norm(param) > bound): \n",
    "        param *= (bound / l2norm(param))\n",
    "    \n",
    "    return param"
   ]
  },
  {
   "cell_type": "code",
   "execution_count": 4,
   "id": "d8cc69ee",
   "metadata": {},
   "outputs": [],
   "source": [
    "def mean_squared_error(y_true:np.ndarray, y_pred:np.ndarray):\n",
    "    squared_error = (y_true - y_pred) ** 2\n",
    "    return np.mean(squared_error)"
   ]
  },
  {
   "cell_type": "code",
   "execution_count": 5,
   "id": "ecf32345",
   "metadata": {},
   "outputs": [],
   "source": [
    "## hyperparameters\n",
    "d = 10\n",
    "training_samples, test_samples = 100000, 20000\n",
    "seed = 237"
   ]
  },
  {
   "cell_type": "markdown",
   "id": "37457fd7",
   "metadata": {},
   "source": [
    "## $X={(x_{ij})}_{i=1,j=1}^{N,d}\\sim U(-1, 1), \\epsilon_i\\sim N(0,1), \\boldsymbol{\\beta}={(\\beta_i)}_{i=1}^{d}\\sim U(-1,1)$"
   ]
  },
  {
   "cell_type": "code",
   "execution_count": 6,
   "id": "b822e71b",
   "metadata": {},
   "outputs": [
    {
     "name": "stdout",
     "output_type": "stream",
     "text": [
      "Shape of X: (120000, 11)\n",
      "First observation: [ 1.          0.97561731 -0.52256163 -0.97208453  0.63756872 -0.67875967\n",
      "  0.95924509  0.16444417  0.0542513  -0.15121154  0.23673119]\n"
     ]
    },
    {
     "data": {
      "image/png": "[encoded data removed]",
      "text/plain": [
       "<Figure size 600x400 with 1 Axes>"
      ]
     },
     "metadata": {},
     "output_type": "display_data"
    }
   ],
   "source": [
    "## Generate X\n",
    "X = feature_sampler(dimension=d, feat_dist=\"uniform\", disjoint=True, size=training_samples+test_samples, random_state=seed)\n",
    "C = np.ones(training_samples+test_samples) ## add constant term\n",
    "X = np.c_[C, X]\n",
    "\n",
    "print(f\"Shape of X: {X.shape}\")\n",
    "print(f\"First observation: {X[0, :]}\")\n",
    "norms = [l2norm(X[i, :]) for i in range(training_samples+test_samples)]\n",
    "\n",
    "## distribution of the norm of each row\n",
    "plt.figure(figsize=(6, 4))\n",
    "plt.hist(norms)\n",
    "plt.grid(True)\n",
    "plt.title(\"Distribution of $L_2$ norm of row vectors\")\n",
    "plt.show()"
   ]
  },
  {
   "cell_type": "code",
   "execution_count": 7,
   "id": "8bac694c",
   "metadata": {},
   "outputs": [
    {
     "name": "stdout",
     "output_type": "stream",
     "text": [
      "beta: [ 0.97561731 -0.52256163 -0.97208453  0.63756872 -0.67875967  0.95924509\n",
      "  0.16444417  0.0542513  -0.15121154  0.23673119 -0.63144079]\n"
     ]
    }
   ],
   "source": [
    "## Generate the true parameter\n",
    "beta = param_generator(dimension=d+1, distribution=\"uniform\", disjoint=True, random_state=seed)\n",
    "print(f\"beta: {beta}\")"
   ]
  },
  {
   "cell_type": "code",
   "execution_count": 8,
   "id": "84caf22f",
   "metadata": {},
   "outputs": [
    {
     "name": "stdout",
     "output_type": "stream",
     "text": [
      "The number of epsilons: (120000,), standard deviation: 1.0\n",
      "First five epsilons: [ 0.8297433   2.51508173  1.89927194 -1.2131559  -0.58484597]\n"
     ]
    }
   ],
   "source": [
    "## Generate the regression noise\n",
    "epsilon, std = subgaussian_noise(distribution=\"gaussian\", size=training_samples+test_samples, random_state=seed, std=1.)\n",
    "print(f\"The number of epsilons: {epsilon.shape}, standard deviation: {std}\")\n",
    "print(f\"First five epsilons: {epsilon[:5]}\")"
   ]
  },
  {
   "cell_type": "markdown",
   "id": "932f0046",
   "metadata": {},
   "source": [
    "## $Y = X\\boldsymbol{\\beta}+\\boldsymbol{\\epsilon}$"
   ]
  },
  {
   "cell_type": "code",
   "execution_count": 9,
   "id": "b056b8b0",
   "metadata": {},
   "outputs": [
    {
     "name": "stdout",
     "output_type": "stream",
     "text": [
      "Shape of regression labels: (120000,)\n",
      "First 10 labels: [ 0.07307295  4.0607576   3.33904838  0.15313721  0.02419427 -0.86872878\n",
      "  1.38570731  1.15359559 -0.33436376  0.19062877]\n"
     ]
    },
    {
     "data": {
      "image/png": "[encoded data removed]",
      "text/plain": [
       "<Figure size 1100x400 with 2 Axes>"
      ]
     },
     "metadata": {},
     "output_type": "display_data"
    }
   ],
   "source": [
    "## Construct the regression labels \n",
    "expY = X @ beta\n",
    "Y = expY + epsilon\n",
    "\n",
    "print(f\"Shape of regression labels: {Y.shape}\")\n",
    "print(f\"First 10 labels: {Y[:10]}\")\n",
    "\n",
    "## distribution of labels\n",
    "plt.figure(figsize=(11, 4))\n",
    "\n",
    "plt.subplot(121)\n",
    "plt.hist(expY)\n",
    "plt.grid(True)\n",
    "plt.xlabel(\"$\\mathbb{E}[Y]$\")\n",
    "plt.title(\"Distribution of $\\mathbb{E}[Y]$\")\n",
    "\n",
    "plt.subplot(122)\n",
    "plt.hist(Y)\n",
    "plt.grid(True)\n",
    "plt.xlabel(\"$Y$\")\n",
    "plt.title(\"Distribution of true $Y$\")\n",
    "\n",
    "plt.tight_layout()\n",
    "plt.show()"
   ]
  },
  {
   "cell_type": "code",
   "execution_count": 10,
   "id": "7b2d493d",
   "metadata": {},
   "outputs": [
    {
     "name": "stdout",
     "output_type": "stream",
     "text": [
      "Training sets: (100000, 11), (100000,)\n",
      "Test sets: (20000, 11), (20000,)\n"
     ]
    }
   ],
   "source": [
    "## dataset split\n",
    "X_train, X_test, y_train, y_test = X[:training_samples], X[training_samples:], Y[:training_samples], Y[training_samples:]\n",
    "\n",
    "print(f\"Training sets: {X_train.shape}, {y_train.shape}\")\n",
    "print(f\"Test sets: {X_test.shape}, {y_test.shape}\")"
   ]
  },
  {
   "cell_type": "markdown",
   "id": "7c24d951",
   "metadata": {},
   "source": [
    "## Offline approach"
   ]
  },
  {
   "cell_type": "markdown",
   "id": "cd1e1601",
   "metadata": {},
   "source": [
    "* First, we take one of the most well-known offline learning approach on linear regression, which is:\n",
    "    - For a given features $X$ and the corresponding labels $y$,\n",
    "    $$ \\hat{\\beta} = {\\left(X^\\top X\\right)}^{-1}{X^\\top y}$$"
   ]
  },
  {
   "cell_type": "code",
   "execution_count": 11,
   "id": "85a8f37e",
   "metadata": {
    "scrolled": true
   },
   "outputs": [
    {
     "name": "stdout",
     "output_type": "stream",
     "text": [
      "Est.\t[ 0.97383886 -0.51844871 -0.96656454  0.64424557 -0.67741577  0.95511744\n",
      "  0.16034955  0.05549382 -0.14549371  0.23632028 -0.63557575]\n",
      "True\t[ 0.97561731 -0.52256163 -0.97208453  0.63756872 -0.67875967  0.95924509\n",
      "  0.16444417  0.0542513  -0.15121154  0.23673119 -0.63144079]\n"
     ]
    }
   ],
   "source": [
    "# Get closed form solution\n",
    "denominator = np.linalg.inv(X_train.T @ X_train)\n",
    "nominator = X_train.T @ y_train\n",
    "offline_beta_hat = denominator @ nominator\n",
    "print(f\"Est.\\t{offline_beta_hat}\")\n",
    "print(f\"True\\t{beta}\")"
   ]
  },
  {
   "cell_type": "code",
   "execution_count": 12,
   "id": "0fcace1d",
   "metadata": {},
   "outputs": [
    {
     "name": "stdout",
     "output_type": "stream",
     "text": [
      "Test error: 1.005588\n"
     ]
    }
   ],
   "source": [
    "# Compute MSE\n",
    "y_pred = X_test @ offline_beta_hat\n",
    "print(f\"Test error: {mean_squared_error(y_true=y_test, y_pred=y_pred):.6f}\")"
   ]
  },
  {
   "cell_type": "markdown",
   "id": "8baf9a1e",
   "metadata": {},
   "source": [
    "## Online approach"
   ]
  },
  {
   "cell_type": "markdown",
   "id": "d0f270b5",
   "metadata": {},
   "source": [
    "### Gradient Descent"
   ]
  },
  {
   "cell_type": "markdown",
   "id": "c46b47bd",
   "metadata": {},
   "source": [
    "* Here, I'm going to implement the Gradient Descent algorithm, setting the objective function(or loss function) as the mean squared error, where\n",
    "$$ L_{\\boldsymbol\\beta} = \\frac{1}{N}\\sum_{i=1}^N {\\left(y_i - \\beta_0 - \\sum_{j=1}^d \\beta_i x_{ij}\\right)}^2 $$\n",
    "\n",
    "\n",
    "* Now, the gradient for each parameter for each point is:\n",
    "    - For $\\beta_0$: \n",
    "    $$\\frac{\\partial L_{\\boldsymbol \\beta}^i}{\\partial \\beta_0} = -2\\left(y_i - \\beta_0 - \\sum_{j=1}^d \\beta_i x_{ij}\\right)$$\n",
    "        - for any $i\\in\\{1,\\dots, N\\}$.\n",
    "    - For $\\beta_j$:\n",
    "    $$\\frac{\\partial L_{\\boldsymbol \\beta}^i}{\\partial \\beta_j} = -2x_{ij}\\cdot\\left(y_i - \\beta_0 - \\sum_{j=1}^d \\beta_i x_{ij}\\right)$$\n",
    "    \n",
    "\n",
    "* So for each $i \\in \\{1, \\dots, N\\}$, the gradient descent function will implement:\n",
    "$$\n",
    "\\begin{align*}\n",
    "\\beta_0^{\\text{new}} &= \\beta_0^{\\text{old}} - \\frac{\\partial L_{\\boldsymbol\\beta}^i}{\\beta_0}\\\\\n",
    "\\beta_j^{\\text{new}} &= \\beta_j^{\\text{old}} - \\frac{\\partial L_{\\boldsymbol\\beta}^i}{\\beta_j}.\n",
    "\\end{align*}\n",
    "$$"
   ]
  },
  {
   "cell_type": "code",
   "execution_count": 13,
   "id": "8dabff4d",
   "metadata": {},
   "outputs": [],
   "source": [
    "def gradient_descent(lr:float, params:np.ndarray, data:np.ndarray, y_true:np.ndarray):\n",
    "    ## Graident descent for squared error\n",
    "    N, dim = data.shape\n",
    "    loss = 0\n",
    "    \n",
    "    for i in tqdm(range(N)):\n",
    "        row = data[i, :]\n",
    "        y_label = y_true[i]\n",
    "        \n",
    "        y_pred = row @ params\n",
    "        loss += mean_squared_error(y_true=y_label, y_pred=y_pred)\n",
    "        \n",
    "        ## gradient update for the bias\n",
    "        params[0] -= (2 * lr * (y_pred - y_label))\n",
    "        \n",
    "        ## gradient update for each weight\n",
    "        for j in range(1, dim):\n",
    "            params[j] -= (2 * lr * (y_pred - y_label) * row[j])\n",
    "    \n",
    "    return params, (loss / N)"
   ]
  },
  {
   "cell_type": "code",
   "execution_count": 14,
   "id": "e22cd46a",
   "metadata": {
    "scrolled": false
   },
   "outputs": [
    {
     "data": {
      "application/vnd.jupyter.widget-view+json": {
       "model_id": "5de432c3a00f4d3fb3e6e73fad2286ad",
       "version_major": 2,
       "version_minor": 0
      },
      "text/plain": [
       "  0%|          | 0/100000 [00:00<?, ?it/s]"
      ]
     },
     "metadata": {},
     "output_type": "display_data"
    },
    {
     "name": "stdout",
     "output_type": "stream",
     "text": [
      "Epoch [1]\tLearning Rate: 5e-05\tTrain loss: 1.22208\tTest loss: 1.00827\tParameter distance: 0.07247\n"
     ]
    },
    {
     "data": {
      "application/vnd.jupyter.widget-view+json": {
       "model_id": "8d68bec0046e485694ce42606cf701e4",
       "version_major": 2,
       "version_minor": 0
      },
      "text/plain": [
       "  0%|          | 0/100000 [00:00<?, ?it/s]"
      ]
     },
     "metadata": {},
     "output_type": "display_data"
    },
    {
     "name": "stdout",
     "output_type": "stream",
     "text": [
      "Epoch [2]\tLearning Rate: 5e-05\tTrain loss: 1.00109\tTest loss: 1.00586\tParameter distance: 0.02204\n"
     ]
    },
    {
     "data": {
      "application/vnd.jupyter.widget-view+json": {
       "model_id": "75e942eba5114a9283aa04c7e8210758",
       "version_major": 2,
       "version_minor": 0
      },
      "text/plain": [
       "  0%|          | 0/100000 [00:00<?, ?it/s]"
      ]
     },
     "metadata": {},
     "output_type": "display_data"
    },
    {
     "name": "stdout",
     "output_type": "stream",
     "text": [
      "Epoch [3]\tLearning Rate: 5e-05\tTrain loss: 1.00088\tTest loss: 1.00583\tParameter distance: 0.02166\n"
     ]
    },
    {
     "data": {
      "application/vnd.jupyter.widget-view+json": {
       "model_id": "25acac32ebf34fe184bd65f2bc0c8e82",
       "version_major": 2,
       "version_minor": 0
      },
      "text/plain": [
       "  0%|          | 0/100000 [00:00<?, ?it/s]"
      ]
     },
     "metadata": {},
     "output_type": "display_data"
    },
    {
     "name": "stdout",
     "output_type": "stream",
     "text": [
      "Epoch [4]\tLearning Rate: 5e-05\tTrain loss: 1.00088\tTest loss: 1.00583\tParameter distance: 0.02165\n"
     ]
    },
    {
     "data": {
      "application/vnd.jupyter.widget-view+json": {
       "model_id": "11e0dceec3ce45a19669c6b5f5859628",
       "version_major": 2,
       "version_minor": 0
      },
      "text/plain": [
       "  0%|          | 0/100000 [00:00<?, ?it/s]"
      ]
     },
     "metadata": {},
     "output_type": "display_data"
    },
    {
     "name": "stdout",
     "output_type": "stream",
     "text": [
      "Epoch [5]\tLearning Rate: 5e-05\tTrain loss: 1.00088\tTest loss: 1.00583\tParameter distance: 0.02165\n"
     ]
    },
    {
     "data": {
      "application/vnd.jupyter.widget-view+json": {
       "model_id": "83d5c17cf9bb4fc2ad8b8114ede360f3",
       "version_major": 2,
       "version_minor": 0
      },
      "text/plain": [
       "  0%|          | 0/100000 [00:00<?, ?it/s]"
      ]
     },
     "metadata": {},
     "output_type": "display_data"
    },
    {
     "name": "stdout",
     "output_type": "stream",
     "text": [
      "Epoch [6]\tLearning Rate: 5e-05\tTrain loss: 1.00088\tTest loss: 1.00583\tParameter distance: 0.02165\n"
     ]
    },
    {
     "data": {
      "application/vnd.jupyter.widget-view+json": {
       "model_id": "ac9bf78038c949fa90bca2f94c0d5aa8",
       "version_major": 2,
       "version_minor": 0
      },
      "text/plain": [
       "  0%|          | 0/100000 [00:00<?, ?it/s]"
      ]
     },
     "metadata": {},
     "output_type": "display_data"
    },
    {
     "name": "stdout",
     "output_type": "stream",
     "text": [
      "Epoch [7]\tLearning Rate: 5e-05\tTrain loss: 1.00088\tTest loss: 1.00583\tParameter distance: 0.02165\n"
     ]
    },
    {
     "data": {
      "application/vnd.jupyter.widget-view+json": {
       "model_id": "5fea5c5f43ea4138bb49d77808d54330",
       "version_major": 2,
       "version_minor": 0
      },
      "text/plain": [
       "  0%|          | 0/100000 [00:00<?, ?it/s]"
      ]
     },
     "metadata": {},
     "output_type": "display_data"
    },
    {
     "name": "stdout",
     "output_type": "stream",
     "text": [
      "Epoch [8]\tLearning Rate: 5e-05\tTrain loss: 1.00088\tTest loss: 1.00583\tParameter distance: 0.02165\n"
     ]
    },
    {
     "data": {
      "application/vnd.jupyter.widget-view+json": {
       "model_id": "69a0f800e081457481edb59d972edae6",
       "version_major": 2,
       "version_minor": 0
      },
      "text/plain": [
       "  0%|          | 0/100000 [00:00<?, ?it/s]"
      ]
     },
     "metadata": {},
     "output_type": "display_data"
    },
    {
     "name": "stdout",
     "output_type": "stream",
     "text": [
      "Epoch [9]\tLearning Rate: 5e-05\tTrain loss: 1.00088\tTest loss: 1.00583\tParameter distance: 0.02165\n"
     ]
    },
    {
     "data": {
      "application/vnd.jupyter.widget-view+json": {
       "model_id": "71d25221409c4485a3b9707f9e7961c4",
       "version_major": 2,
       "version_minor": 0
      },
      "text/plain": [
       "  0%|          | 0/100000 [00:00<?, ?it/s]"
      ]
     },
     "metadata": {},
     "output_type": "display_data"
    },
    {
     "name": "stdout",
     "output_type": "stream",
     "text": [
      "Epoch [10]\tLearning Rate: 5e-05\tTrain loss: 1.00088\tTest loss: 1.00583\tParameter distance: 0.02165\n"
     ]
    }
   ],
   "source": [
    "EPOCHS = 10\n",
    "online_beta_hat = np.zeros(d+1)\n",
    "lr = 5e-5\n",
    "\n",
    "param_distance = np.zeros(EPOCHS)\n",
    "train_losses = np.zeros(EPOCHS)\n",
    "test_losses = np.zeros(EPOCHS)\n",
    "for epoch in range(EPOCHS):\n",
    "    online_beta_hat, train_loss = gradient_descent(lr=lr, params=online_beta_hat, data=X_train, y_true=y_train)\n",
    "    ## inference\n",
    "    test_pred = X_test @ online_beta_hat\n",
    "    test_loss = mean_squared_error(y_true=y_test, y_pred=test_pred)\n",
    "    distance = l2norm(beta-online_beta_hat)\n",
    "    \n",
    "    print(f\"Epoch [{epoch+1}]\\tLearning Rate: {lr}\\tTrain loss: {train_loss:.5f}\\tTest loss: {test_loss:.5f}\\tParameter distance: {distance:.5f}\")\n",
    "    train_losses[epoch] = train_loss\n",
    "    test_losses[epoch] = test_loss\n",
    "    param_distance[epoch] = distance"
   ]
  },
  {
   "cell_type": "code",
   "execution_count": 15,
   "id": "b73823e9",
   "metadata": {},
   "outputs": [
    {
     "name": "stdout",
     "output_type": "stream",
     "text": [
      "True parameter:\n",
      "[[ 0.97561731]\n",
      " [-0.52256163]\n",
      " [-0.97208453]\n",
      " [ 0.63756872]\n",
      " [-0.67875967]\n",
      " [ 0.95924509]\n",
      " [ 0.16444417]\n",
      " [ 0.0542513 ]\n",
      " [-0.15121154]\n",
      " [ 0.23673119]\n",
      " [-0.63144079]]\n",
      "Offline est.:\n",
      "[[ 0.97383886]\n",
      " [-0.51844871]\n",
      " [-0.96656454]\n",
      " [ 0.64424557]\n",
      " [-0.67741577]\n",
      " [ 0.95511744]\n",
      " [ 0.16034955]\n",
      " [ 0.05549382]\n",
      " [-0.14549371]\n",
      " [ 0.23632028]\n",
      " [-0.63557575]]\n",
      "Online esti.:\n",
      "[[ 0.97090655]\n",
      " [-0.50661227]\n",
      " [-0.97125045]\n",
      " [ 0.64766818]\n",
      " [-0.67504771]\n",
      " [ 0.95632664]\n",
      " [ 0.16580566]\n",
      " [ 0.05711791]\n",
      " [-0.1464155 ]\n",
      " [ 0.2414098 ]\n",
      " [-0.63494863]]\n"
     ]
    }
   ],
   "source": [
    "print(f\"True parameter:\\n{beta.reshape(-1, 1)}\")\n",
    "print(f\"Offline est.:\\n{offline_beta_hat.reshape(-1, 1)}\")\n",
    "print(f\"Online esti.:\\n{online_beta_hat.reshape(-1, 1)}\")"
   ]
  },
  {
   "cell_type": "code",
   "execution_count": 16,
   "id": "eac0d498",
   "metadata": {},
   "outputs": [
    {
     "data": {
      "image/png": "[encoded data removed]",
      "text/plain": [
       "<Figure size 1400x400 with 3 Axes>"
      ]
     },
     "metadata": {},
     "output_type": "display_data"
    }
   ],
   "source": [
    "plt.figure(figsize=(14, 4))\n",
    "\n",
    "plt.subplot(131)\n",
    "plt.plot(train_losses)\n",
    "plt.grid(True)\n",
    "plt.title(\"Training error\")\n",
    "plt.xlabel(\"Epochs\")\n",
    "plt.ylabel(\"Loss\")\n",
    "\n",
    "plt.subplot(132)\n",
    "plt.plot(test_losses)\n",
    "plt.grid(True)\n",
    "plt.title(\"Test error\")\n",
    "plt.xlabel(\"Epochs\")\n",
    "plt.ylabel(\"Loss\")\n",
    "\n",
    "plt.subplot(133)\n",
    "plt.plot(param_distance)\n",
    "plt.grid(True)\n",
    "plt.title(\"Parameter distances\")\n",
    "plt.xlabel(\"Epochs\")\n",
    "plt.ylabel(\"Difference\")\n",
    "\n",
    "plt.suptitle(\"Loss function for online regression\")\n",
    "plt.tight_layout()\n",
    "plt.show()"
   ]
  },
  {
   "cell_type": "markdown",
   "id": "8f303c09",
   "metadata": {},
   "source": [
    "### Batch learning - Stochastic Gradient Descent"
   ]
  },
  {
   "cell_type": "markdown",
   "id": "69e38a90",
   "metadata": {},
   "source": [
    "* The below code implements the stochastic gradient descent, introducing the mini-batch approach."
   ]
  },
  {
   "cell_type": "code",
   "execution_count": 17,
   "id": "c2673895",
   "metadata": {},
   "outputs": [],
   "source": [
    "def sgd(batch_size:int, lr:float, params:np.ndarray, data:np.ndarray, y_true:np.ndarray):\n",
    "    ## Stochastic Graident descent for squared error\n",
    "    N, dim = data.shape\n",
    "    num_batches = int(np.ceil(N / batch_size))\n",
    "    candidates = np.arange(N)\n",
    "    loss = 0\n",
    "    \n",
    "    for _ in tqdm(range(num_batches)):\n",
    "        try:\n",
    "            indices = np.random.choice(candidates, size=batch_size, replace=False)\n",
    "        except:\n",
    "            ## remaining data\n",
    "            indices = candidates\n",
    "        X_batch, y_batch = data[indices], y_true[indices]\n",
    "        batch_loss = 0\n",
    "        bias_grads = 0\n",
    "        weight_grads = np.zeros(params.shape)\n",
    "        for i in range(len(indices)):\n",
    "            row = X_batch[i, :]\n",
    "            y_label = y_batch[i]\n",
    "            y_pred = row @ params\n",
    "            batch_loss += mean_squared_error(y_true=y_label, y_pred=y_pred)\n",
    "\n",
    "            ## gradient update for the bias\n",
    "            bias_grads += (2 * lr * (y_pred - y_label))\n",
    "\n",
    "            ## gradient update for each weight\n",
    "            for j in range(1, dim):\n",
    "                weight_grads[j] += (2 * lr * (y_pred - y_label) * row[j])\n",
    "        \n",
    "        loss += batch_loss\n",
    "        params[0] -= (bias_grads / batch_size)\n",
    "        params[1:] -= (weight_grads[1:] / batch_size)\n",
    "        \n",
    "        ## remove the indices already used\n",
    "        candidates = np.setdiff1d(candidates, indices)\n",
    "    \n",
    "    return params, (loss / (num_batches*batch_size))"
   ]
  },
  {
   "cell_type": "markdown",
   "id": "e5dec005",
   "metadata": {},
   "source": [
    "### Batch size = 1\n",
    "\n",
    "* In case of `batch_size=1`, the result must be equivalent(or at least similar) to that from the gradient descent."
   ]
  },
  {
   "cell_type": "code",
   "execution_count": 18,
   "id": "2c47e183",
   "metadata": {},
   "outputs": [
    {
     "name": "stdout",
     "output_type": "stream",
     "text": [
      "Batch size: 1\n"
     ]
    },
    {
     "data": {
      "application/vnd.jupyter.widget-view+json": {
       "model_id": "0a19f1d44b104109af39be26264b11bb",
       "version_major": 2,
       "version_minor": 0
      },
      "text/plain": [
       "  0%|          | 0/100000 [00:00<?, ?it/s]"
      ]
     },
     "metadata": {},
     "output_type": "display_data"
    },
    {
     "name": "stdout",
     "output_type": "stream",
     "text": [
      "Epoch [1]\tLearning Rate: 5e-05\tTrain loss: 1.22189\tTest loss: 1.00807\tParameter distance: 0.07232\n"
     ]
    },
    {
     "data": {
      "application/vnd.jupyter.widget-view+json": {
       "model_id": "f01e229cc0bc4469a5c5b4d2ad13a83e",
       "version_major": 2,
       "version_minor": 0
      },
      "text/plain": [
       "  0%|          | 0/100000 [00:00<?, ?it/s]"
      ]
     },
     "metadata": {},
     "output_type": "display_data"
    },
    {
     "name": "stdout",
     "output_type": "stream",
     "text": [
      "Epoch [2]\tLearning Rate: 5e-05\tTrain loss: 1.00101\tTest loss: 1.00577\tParameter distance: 0.01725\n"
     ]
    },
    {
     "data": {
      "application/vnd.jupyter.widget-view+json": {
       "model_id": "000cbf90cece44bbb9f43874a490ecf1",
       "version_major": 2,
       "version_minor": 0
      },
      "text/plain": [
       "  0%|          | 0/100000 [00:00<?, ?it/s]"
      ]
     },
     "metadata": {},
     "output_type": "display_data"
    },
    {
     "name": "stdout",
     "output_type": "stream",
     "text": [
      "Epoch [3]\tLearning Rate: 5e-05\tTrain loss: 1.00083\tTest loss: 1.00556\tParameter distance: 0.01819\n"
     ]
    },
    {
     "data": {
      "application/vnd.jupyter.widget-view+json": {
       "model_id": "029490e1342c462182ec4b2ad49d3a0d",
       "version_major": 2,
       "version_minor": 0
      },
      "text/plain": [
       "  0%|          | 0/100000 [00:00<?, ?it/s]"
      ]
     },
     "metadata": {},
     "output_type": "display_data"
    },
    {
     "name": "stdout",
     "output_type": "stream",
     "text": [
      "Epoch [4]\tLearning Rate: 5e-05\tTrain loss: 1.00086\tTest loss: 1.00570\tParameter distance: 0.01199\n"
     ]
    },
    {
     "data": {
      "application/vnd.jupyter.widget-view+json": {
       "model_id": "bb658e608372417081bb040cef53bab1",
       "version_major": 2,
       "version_minor": 0
      },
      "text/plain": [
       "  0%|          | 0/100000 [00:00<?, ?it/s]"
      ]
     },
     "metadata": {},
     "output_type": "display_data"
    },
    {
     "name": "stdout",
     "output_type": "stream",
     "text": [
      "Epoch [5]\tLearning Rate: 5e-05\tTrain loss: 1.00088\tTest loss: 1.00556\tParameter distance: 0.01771\n"
     ]
    },
    {
     "data": {
      "application/vnd.jupyter.widget-view+json": {
       "model_id": "fa910ba989f348a9be56086b8b5af80c",
       "version_major": 2,
       "version_minor": 0
      },
      "text/plain": [
       "  0%|          | 0/100000 [00:00<?, ?it/s]"
      ]
     },
     "metadata": {},
     "output_type": "display_data"
    },
    {
     "name": "stdout",
     "output_type": "stream",
     "text": [
      "Epoch [6]\tLearning Rate: 5e-05\tTrain loss: 1.00082\tTest loss: 1.00573\tParameter distance: 0.02453\n"
     ]
    },
    {
     "data": {
      "application/vnd.jupyter.widget-view+json": {
       "model_id": "3607ca68309943fa9a1bd471ede4bd62",
       "version_major": 2,
       "version_minor": 0
      },
      "text/plain": [
       "  0%|          | 0/100000 [00:00<?, ?it/s]"
      ]
     },
     "metadata": {},
     "output_type": "display_data"
    },
    {
     "name": "stdout",
     "output_type": "stream",
     "text": [
      "Epoch [7]\tLearning Rate: 5e-05\tTrain loss: 1.00077\tTest loss: 1.00577\tParameter distance: 0.01771\n"
     ]
    },
    {
     "data": {
      "application/vnd.jupyter.widget-view+json": {
       "model_id": "ad2c886d9cdc4084b4f84e0333c9022b",
       "version_major": 2,
       "version_minor": 0
      },
      "text/plain": [
       "  0%|          | 0/100000 [00:00<?, ?it/s]"
      ]
     },
     "metadata": {},
     "output_type": "display_data"
    },
    {
     "name": "stdout",
     "output_type": "stream",
     "text": [
      "Epoch [8]\tLearning Rate: 5e-05\tTrain loss: 1.00089\tTest loss: 1.00559\tParameter distance: 0.01854\n"
     ]
    },
    {
     "data": {
      "application/vnd.jupyter.widget-view+json": {
       "model_id": "63eaa3025fd04b36b55049170bccc44f",
       "version_major": 2,
       "version_minor": 0
      },
      "text/plain": [
       "  0%|          | 0/100000 [00:00<?, ?it/s]"
      ]
     },
     "metadata": {},
     "output_type": "display_data"
    },
    {
     "name": "stdout",
     "output_type": "stream",
     "text": [
      "Epoch [9]\tLearning Rate: 5e-05\tTrain loss: 1.00085\tTest loss: 1.00570\tParameter distance: 0.02154\n"
     ]
    },
    {
     "data": {
      "application/vnd.jupyter.widget-view+json": {
       "model_id": "24e48a59dd85419393704b5f8e145e52",
       "version_major": 2,
       "version_minor": 0
      },
      "text/plain": [
       "  0%|          | 0/100000 [00:00<?, ?it/s]"
      ]
     },
     "metadata": {},
     "output_type": "display_data"
    },
    {
     "name": "stdout",
     "output_type": "stream",
     "text": [
      "Epoch [10]\tLearning Rate: 5e-05\tTrain loss: 1.00085\tTest loss: 1.00579\tParameter distance: 0.02472\n"
     ]
    }
   ],
   "source": [
    "EPOCHS = 10\n",
    "online_beta_hat = np.zeros(d+1)\n",
    "lr = 5e-5\n",
    "batch_size = 1\n",
    "print(f\"Batch size: {batch_size}\")\n",
    "\n",
    "param_distance = np.zeros(EPOCHS)\n",
    "train_losses = np.zeros(EPOCHS)\n",
    "test_losses = np.zeros(EPOCHS)\n",
    "for epoch in range(EPOCHS):\n",
    "    online_beta_hat, train_loss = sgd(batch_size=batch_size, lr=lr, params=online_beta_hat, data=X_train, y_true=y_train)\n",
    "    ## inference\n",
    "    test_pred = X_test @ online_beta_hat\n",
    "    test_loss = mean_squared_error(y_true=y_test, y_pred=test_pred)\n",
    "    distance = l2norm(beta-online_beta_hat)\n",
    "    \n",
    "    print(f\"Epoch [{epoch+1}]\\tLearning Rate: {lr}\\tTrain loss: {train_loss:.5f}\\tTest loss: {test_loss:.5f}\\tParameter distance: {distance:.5f}\")\n",
    "    train_losses[epoch] = train_loss\n",
    "    test_losses[epoch] = test_loss\n",
    "    param_distance[epoch] = distance"
   ]
  },
  {
   "cell_type": "code",
   "execution_count": 19,
   "id": "c64e9f54",
   "metadata": {},
   "outputs": [
    {
     "data": {
      "image/png": "[encoded data removed]",
      "text/plain": [
       "<Figure size 1400x400 with 3 Axes>"
      ]
     },
     "metadata": {},
     "output_type": "display_data"
    }
   ],
   "source": [
    "plt.figure(figsize=(14, 4))\n",
    "\n",
    "plt.subplot(131)\n",
    "plt.plot(train_losses)\n",
    "plt.grid(True)\n",
    "plt.title(\"Training error\")\n",
    "plt.xlabel(\"Epochs\")\n",
    "plt.ylabel(\"Loss\")\n",
    "\n",
    "plt.subplot(132)\n",
    "plt.plot(test_losses)\n",
    "plt.grid(True)\n",
    "plt.title(\"Test error\")\n",
    "plt.xlabel(\"Epochs\")\n",
    "plt.ylabel(\"Loss\")\n",
    "\n",
    "plt.subplot(133)\n",
    "plt.plot(param_distance)\n",
    "plt.grid(True)\n",
    "plt.title(\"Parameter distances\")\n",
    "plt.xlabel(\"Epochs\")\n",
    "plt.ylabel(\"Difference\")\n",
    "\n",
    "plt.suptitle(f\"Loss function when batch size = {batch_size}\")\n",
    "plt.tight_layout()\n",
    "plt.show()"
   ]
  },
  {
   "cell_type": "markdown",
   "id": "eeed4164",
   "metadata": {},
   "source": [
    "### Batch size = 256"
   ]
  },
  {
   "cell_type": "code",
   "execution_count": 20,
   "id": "b09156d8",
   "metadata": {},
   "outputs": [
    {
     "name": "stdout",
     "output_type": "stream",
     "text": [
      "Batch size: 256\n"
     ]
    },
    {
     "data": {
      "application/vnd.jupyter.widget-view+json": {
       "model_id": "ccb908820c914c358814a9afacd50769",
       "version_major": 2,
       "version_minor": 0
      },
      "text/plain": [
       "  0%|          | 0/391 [00:00<?, ?it/s]"
      ]
     },
     "metadata": {},
     "output_type": "display_data"
    },
    {
     "name": "stdout",
     "output_type": "stream",
     "text": [
      "Epoch [1]\tLearning Rate: 1e-05\tTrain loss: 3.10614\tTest loss: 3.12470\tParameter distance: 2.10519\n"
     ]
    },
    {
     "data": {
      "application/vnd.jupyter.widget-view+json": {
       "model_id": "658faa27b7df4a80a0bcb19298bf6d8d",
       "version_major": 2,
       "version_minor": 0
      },
      "text/plain": [
       "  0%|          | 0/391 [00:00<?, ?it/s]"
      ]
     },
     "metadata": {},
     "output_type": "display_data"
    },
    {
     "name": "stdout",
     "output_type": "stream",
     "text": [
      "Epoch [2]\tLearning Rate: 1e-05\tTrain loss: 3.08542\tTest loss: 3.10410\tParameter distance: 2.09741\n"
     ]
    },
    {
     "data": {
      "application/vnd.jupyter.widget-view+json": {
       "model_id": "4da7b74f320144c88c00bc749355d19e",
       "version_major": 2,
       "version_minor": 0
      },
      "text/plain": [
       "  0%|          | 0/391 [00:00<?, ?it/s]"
      ]
     },
     "metadata": {},
     "output_type": "display_data"
    },
    {
     "name": "stdout",
     "output_type": "stream",
     "text": [
      "Epoch [3]\tLearning Rate: 1e-05\tTrain loss: 3.06496\tTest loss: 3.08376\tParameter distance: 2.08968\n"
     ]
    },
    {
     "data": {
      "application/vnd.jupyter.widget-view+json": {
       "model_id": "2e298dfdfbae48579a4186893b2ac49c",
       "version_major": 2,
       "version_minor": 0
      },
      "text/plain": [
       "  0%|          | 0/391 [00:00<?, ?it/s]"
      ]
     },
     "metadata": {},
     "output_type": "display_data"
    },
    {
     "name": "stdout",
     "output_type": "stream",
     "text": [
      "Epoch [4]\tLearning Rate: 1e-05\tTrain loss: 3.04475\tTest loss: 3.06368\tParameter distance: 2.08200\n"
     ]
    },
    {
     "data": {
      "application/vnd.jupyter.widget-view+json": {
       "model_id": "2f15caf549a94979bd246066986e1073",
       "version_major": 2,
       "version_minor": 0
      },
      "text/plain": [
       "  0%|          | 0/391 [00:00<?, ?it/s]"
      ]
     },
     "metadata": {},
     "output_type": "display_data"
    },
    {
     "name": "stdout",
     "output_type": "stream",
     "text": [
      "Epoch [5]\tLearning Rate: 1e-05\tTrain loss: 3.02480\tTest loss: 3.04384\tParameter distance: 2.07436\n"
     ]
    },
    {
     "data": {
      "application/vnd.jupyter.widget-view+json": {
       "model_id": "6f2a1138ee624e97833a76c02b3952c8",
       "version_major": 2,
       "version_minor": 0
      },
      "text/plain": [
       "  0%|          | 0/391 [00:00<?, ?it/s]"
      ]
     },
     "metadata": {},
     "output_type": "display_data"
    },
    {
     "name": "stdout",
     "output_type": "stream",
     "text": [
      "Epoch [6]\tLearning Rate: 1e-05\tTrain loss: 3.00509\tTest loss: 3.02425\tParameter distance: 2.06677\n"
     ]
    },
    {
     "data": {
      "application/vnd.jupyter.widget-view+json": {
       "model_id": "01fee5994dd04f0e8badbb9e77e24249",
       "version_major": 2,
       "version_minor": 0
      },
      "text/plain": [
       "  0%|          | 0/391 [00:00<?, ?it/s]"
      ]
     },
     "metadata": {},
     "output_type": "display_data"
    },
    {
     "name": "stdout",
     "output_type": "stream",
     "text": [
      "Epoch [7]\tLearning Rate: 1e-05\tTrain loss: 2.98563\tTest loss: 3.00490\tParameter distance: 2.05923\n"
     ]
    },
    {
     "data": {
      "application/vnd.jupyter.widget-view+json": {
       "model_id": "899897c9bcef4d4aa4690edd7478994d",
       "version_major": 2,
       "version_minor": 0
      },
      "text/plain": [
       "  0%|          | 0/391 [00:00<?, ?it/s]"
      ]
     },
     "metadata": {},
     "output_type": "display_data"
    },
    {
     "name": "stdout",
     "output_type": "stream",
     "text": [
      "Epoch [8]\tLearning Rate: 1e-05\tTrain loss: 2.96641\tTest loss: 2.98580\tParameter distance: 2.05173\n"
     ]
    },
    {
     "data": {
      "application/vnd.jupyter.widget-view+json": {
       "model_id": "6b11641fd5e84ebaa49b58931a2a0d7d",
       "version_major": 2,
       "version_minor": 0
      },
      "text/plain": [
       "  0%|          | 0/391 [00:00<?, ?it/s]"
      ]
     },
     "metadata": {},
     "output_type": "display_data"
    },
    {
     "name": "stdout",
     "output_type": "stream",
     "text": [
      "Epoch [9]\tLearning Rate: 1e-05\tTrain loss: 2.94742\tTest loss: 2.96692\tParameter distance: 2.04428\n"
     ]
    },
    {
     "data": {
      "application/vnd.jupyter.widget-view+json": {
       "model_id": "407555d1d34f432a9328c9a3e254aab3",
       "version_major": 2,
       "version_minor": 0
      },
      "text/plain": [
       "  0%|          | 0/391 [00:00<?, ?it/s]"
      ]
     },
     "metadata": {},
     "output_type": "display_data"
    },
    {
     "name": "stdout",
     "output_type": "stream",
     "text": [
      "Epoch [10]\tLearning Rate: 1e-05\tTrain loss: 2.92868\tTest loss: 2.94828\tParameter distance: 2.03687\n"
     ]
    },
    {
     "data": {
      "application/vnd.jupyter.widget-view+json": {
       "model_id": "0ad91ff688bf4a0e8f489e69b224033d",
       "version_major": 2,
       "version_minor": 0
      },
      "text/plain": [
       "  0%|          | 0/391 [00:00<?, ?it/s]"
      ]
     },
     "metadata": {},
     "output_type": "display_data"
    },
    {
     "name": "stdout",
     "output_type": "stream",
     "text": [
      "Epoch [11]\tLearning Rate: 1e-05\tTrain loss: 2.91016\tTest loss: 2.92987\tParameter distance: 2.02951\n"
     ]
    },
    {
     "data": {
      "application/vnd.jupyter.widget-view+json": {
       "model_id": "b40515d09515434480d4d0b67c1cc084",
       "version_major": 2,
       "version_minor": 0
      },
      "text/plain": [
       "  0%|          | 0/391 [00:00<?, ?it/s]"
      ]
     },
     "metadata": {},
     "output_type": "display_data"
    },
    {
     "name": "stdout",
     "output_type": "stream",
     "text": [
      "Epoch [12]\tLearning Rate: 1e-05\tTrain loss: 2.89187\tTest loss: 2.91169\tParameter distance: 2.02219\n"
     ]
    },
    {
     "data": {
      "application/vnd.jupyter.widget-view+json": {
       "model_id": "95a3c1bf13ff42d48d0313b150e772cf",
       "version_major": 2,
       "version_minor": 0
      },
      "text/plain": [
       "  0%|          | 0/391 [00:00<?, ?it/s]"
      ]
     },
     "metadata": {},
     "output_type": "display_data"
    },
    {
     "name": "stdout",
     "output_type": "stream",
     "text": [
      "Epoch [13]\tLearning Rate: 1e-05\tTrain loss: 2.87381\tTest loss: 2.89372\tParameter distance: 2.01491\n"
     ]
    },
    {
     "data": {
      "application/vnd.jupyter.widget-view+json": {
       "model_id": "222ea7b526bb4befb5e49afdb56e59e7",
       "version_major": 2,
       "version_minor": 0
      },
      "text/plain": [
       "  0%|          | 0/391 [00:00<?, ?it/s]"
      ]
     },
     "metadata": {},
     "output_type": "display_data"
    },
    {
     "name": "stdout",
     "output_type": "stream",
     "text": [
      "Epoch [14]\tLearning Rate: 1e-05\tTrain loss: 2.85596\tTest loss: 2.87598\tParameter distance: 2.00768\n"
     ]
    },
    {
     "data": {
      "application/vnd.jupyter.widget-view+json": {
       "model_id": "3044690745f64954b046347d4e3cf4e8",
       "version_major": 2,
       "version_minor": 0
      },
      "text/plain": [
       "  0%|          | 0/391 [00:00<?, ?it/s]"
      ]
     },
     "metadata": {},
     "output_type": "display_data"
    },
    {
     "name": "stdout",
     "output_type": "stream",
     "text": [
      "Epoch [15]\tLearning Rate: 1e-05\tTrain loss: 2.83834\tTest loss: 2.85845\tParameter distance: 2.00049\n"
     ]
    },
    {
     "data": {
      "application/vnd.jupyter.widget-view+json": {
       "model_id": "1296db73a96b4d4782d00eae4a230753",
       "version_major": 2,
       "version_minor": 0
      },
      "text/plain": [
       "  0%|          | 0/391 [00:00<?, ?it/s]"
      ]
     },
     "metadata": {},
     "output_type": "display_data"
    },
    {
     "name": "stdout",
     "output_type": "stream",
     "text": [
      "Epoch [16]\tLearning Rate: 1e-05\tTrain loss: 2.82093\tTest loss: 2.84114\tParameter distance: 1.99334\n"
     ]
    },
    {
     "data": {
      "application/vnd.jupyter.widget-view+json": {
       "model_id": "33361a12391246b3b2fc8d107661165e",
       "version_major": 2,
       "version_minor": 0
      },
      "text/plain": [
       "  0%|          | 0/391 [00:00<?, ?it/s]"
      ]
     },
     "metadata": {},
     "output_type": "display_data"
    },
    {
     "name": "stdout",
     "output_type": "stream",
     "text": [
      "Epoch [17]\tLearning Rate: 1e-05\tTrain loss: 2.80374\tTest loss: 2.82404\tParameter distance: 1.98624\n"
     ]
    },
    {
     "data": {
      "application/vnd.jupyter.widget-view+json": {
       "model_id": "0603cc41d50b4e35a538835f04abdf95",
       "version_major": 2,
       "version_minor": 0
      },
      "text/plain": [
       "  0%|          | 0/391 [00:00<?, ?it/s]"
      ]
     },
     "metadata": {},
     "output_type": "display_data"
    },
    {
     "name": "stdout",
     "output_type": "stream",
     "text": [
      "Epoch [18]\tLearning Rate: 1e-05\tTrain loss: 2.78675\tTest loss: 2.80714\tParameter distance: 1.97918\n"
     ]
    },
    {
     "data": {
      "application/vnd.jupyter.widget-view+json": {
       "model_id": "5b59f983773d46429cdda28c4cb34f84",
       "version_major": 2,
       "version_minor": 0
      },
      "text/plain": [
       "  0%|          | 0/391 [00:00<?, ?it/s]"
      ]
     },
     "metadata": {},
     "output_type": "display_data"
    },
    {
     "name": "stdout",
     "output_type": "stream",
     "text": [
      "Epoch [19]\tLearning Rate: 1e-05\tTrain loss: 2.76997\tTest loss: 2.79045\tParameter distance: 1.97215\n"
     ]
    },
    {
     "data": {
      "application/vnd.jupyter.widget-view+json": {
       "model_id": "b8158524d1214563b57556d44159790b",
       "version_major": 2,
       "version_minor": 0
      },
      "text/plain": [
       "  0%|          | 0/391 [00:00<?, ?it/s]"
      ]
     },
     "metadata": {},
     "output_type": "display_data"
    },
    {
     "name": "stdout",
     "output_type": "stream",
     "text": [
      "Epoch [20]\tLearning Rate: 1e-05\tTrain loss: 2.75339\tTest loss: 2.77396\tParameter distance: 1.96517\n"
     ]
    }
   ],
   "source": [
    "EPOCHS = 25\n",
    "online_beta_hat = np.zeros(d+1)\n",
    "lr = 1e-5\n",
    "batch_size = 256\n",
    "print(f\"Batch size: {batch_size}\")\n",
    "\n",
    "param_distance = np.zeros(EPOCHS)\n",
    "train_losses = np.zeros(EPOCHS)\n",
    "test_losses = np.zeros(EPOCHS)\n",
    "for epoch in range(EPOCHS):\n",
    "    online_beta_hat, train_loss = sgd(batch_size=batch_size, lr=lr, params=online_beta_hat, data=X_train, y_true=y_train)\n",
    "    ## inference\n",
    "    test_pred = X_test @ online_beta_hat\n",
    "    test_loss = mean_squared_error(y_true=y_test, y_pred=test_pred)\n",
    "    distance = l2norm(beta-online_beta_hat)\n",
    "    \n",
    "    print(f\"Epoch [{epoch+1}]\\tLearning Rate: {lr}\\tTrain loss: {train_loss:.5f}\\tTest loss: {test_loss:.5f}\\tParameter distance: {distance:.5f}\")\n",
    "    train_losses[epoch] = train_loss\n",
    "    test_losses[epoch] = test_loss\n",
    "    param_distance[epoch] = distance"
   ]
  },
  {
   "cell_type": "code",
   "execution_count": 21,
   "id": "5353cf6b",
   "metadata": {},
   "outputs": [
    {
     "data": {
      "image/png": "[encoded data removed]",
      "text/plain": [
       "<Figure size 1400x400 with 3 Axes>"
      ]
     },
     "metadata": {},
     "output_type": "display_data"
    }
   ],
   "source": [
    "plt.figure(figsize=(14, 4))\n",
    "\n",
    "plt.subplot(131)\n",
    "plt.plot(train_losses)\n",
    "plt.grid(True)\n",
    "plt.title(\"Training error\")\n",
    "plt.xlabel(\"Epochs\")\n",
    "plt.ylabel(\"Loss\")\n",
    "\n",
    "plt.subplot(132)\n",
    "plt.plot(test_losses)\n",
    "plt.grid(True)\n",
    "plt.title(\"Test error\")\n",
    "plt.xlabel(\"Epochs\")\n",
    "plt.ylabel(\"Loss\")\n",
    "\n",
    "plt.subplot(133)\n",
    "plt.plot(param_distance)\n",
    "plt.grid(True)\n",
    "plt.title(\"Parameter distances\")\n",
    "plt.xlabel(\"Epochs\")\n",
    "plt.ylabel(\"Difference\")\n",
    "\n",
    "plt.suptitle(f\"Loss function when batch size = {batch_size}, learning rate = {lr}\")\n",
    "plt.tight_layout()\n",
    "plt.show()"
   ]
  },
  {
   "cell_type": "markdown",
   "id": "540cc730",
   "metadata": {},
   "source": [
    "* As `batch_size` becomes larger, we need to increase the learning rate as well."
   ]
  },
  {
   "cell_type": "code",
   "execution_count": 22,
   "id": "be75d2a2",
   "metadata": {},
   "outputs": [
    {
     "name": "stdout",
     "output_type": "stream",
     "text": [
      "Batch size: 256\n"
     ]
    },
    {
     "data": {
      "application/vnd.jupyter.widget-view+json": {
       "model_id": "59f0c144d4834e2193c35043f536a815",
       "version_major": 2,
       "version_minor": 0
      },
      "text/plain": [
       "  0%|          | 0/391 [00:00<?, ?it/s]"
      ]
     },
     "metadata": {},
     "output_type": "display_data"
    },
    {
     "name": "stdout",
     "output_type": "stream",
     "text": [
      "Epoch [1]\tLearning Rate: 5e-05\tTrain loss: 3.06532\tTest loss: 3.04384\tParameter distance: 2.07436\n"
     ]
    },
    {
     "data": {
      "application/vnd.jupyter.widget-view+json": {
       "model_id": "ee401f1cb28447f3be5ad7239d4fad57",
       "version_major": 2,
       "version_minor": 0
      },
      "text/plain": [
       "  0%|          | 0/391 [00:00<?, ?it/s]"
      ]
     },
     "metadata": {},
     "output_type": "display_data"
    },
    {
     "name": "stdout",
     "output_type": "stream",
     "text": [
      "Epoch [2]\tLearning Rate: 5e-05\tTrain loss: 2.96674\tTest loss: 2.94828\tParameter distance: 2.03687\n"
     ]
    },
    {
     "data": {
      "application/vnd.jupyter.widget-view+json": {
       "model_id": "77b3ad9d14a94356b178d6f9e33961d5",
       "version_major": 2,
       "version_minor": 0
      },
      "text/plain": [
       "  0%|          | 0/391 [00:00<?, ?it/s]"
      ]
     },
     "metadata": {},
     "output_type": "display_data"
    },
    {
     "name": "stdout",
     "output_type": "stream",
     "text": [
      "Epoch [3]\tLearning Rate: 5e-05\tTrain loss: 2.87412\tTest loss: 2.85845\tParameter distance: 2.00049\n"
     ]
    },
    {
     "data": {
      "application/vnd.jupyter.widget-view+json": {
       "model_id": "4f179ec52d8943c3a2bd6322e1b9f2a9",
       "version_major": 2,
       "version_minor": 0
      },
      "text/plain": [
       "  0%|          | 0/391 [00:00<?, ?it/s]"
      ]
     },
     "metadata": {},
     "output_type": "display_data"
    },
    {
     "name": "stdout",
     "output_type": "stream",
     "text": [
      "Epoch [4]\tLearning Rate: 5e-05\tTrain loss: 2.78704\tTest loss: 2.77395\tParameter distance: 1.96517\n"
     ]
    },
    {
     "data": {
      "application/vnd.jupyter.widget-view+json": {
       "model_id": "2861c91400ce4d4ca647269ec4a8c312",
       "version_major": 2,
       "version_minor": 0
      },
      "text/plain": [
       "  0%|          | 0/391 [00:00<?, ?it/s]"
      ]
     },
     "metadata": {},
     "output_type": "display_data"
    },
    {
     "name": "stdout",
     "output_type": "stream",
     "text": [
      "Epoch [5]\tLearning Rate: 5e-05\tTrain loss: 2.70512\tTest loss: 2.69443\tParameter distance: 1.93086\n"
     ]
    },
    {
     "data": {
      "application/vnd.jupyter.widget-view+json": {
       "model_id": "9a2fc7a53a1c4acd9057158472f3e31f",
       "version_major": 2,
       "version_minor": 0
      },
      "text/plain": [
       "  0%|          | 0/391 [00:00<?, ?it/s]"
      ]
     },
     "metadata": {},
     "output_type": "display_data"
    },
    {
     "name": "stdout",
     "output_type": "stream",
     "text": [
      "Epoch [6]\tLearning Rate: 5e-05\tTrain loss: 2.62802\tTest loss: 2.61954\tParameter distance: 1.89753\n"
     ]
    },
    {
     "data": {
      "application/vnd.jupyter.widget-view+json": {
       "model_id": "b87b059647df41bdb21bf5801126cb63",
       "version_major": 2,
       "version_minor": 0
      },
      "text/plain": [
       "  0%|          | 0/391 [00:00<?, ?it/s]"
      ]
     },
     "metadata": {},
     "output_type": "display_data"
    },
    {
     "name": "stdout",
     "output_type": "stream",
     "text": [
      "Epoch [7]\tLearning Rate: 5e-05\tTrain loss: 2.55540\tTest loss: 2.54897\tParameter distance: 1.86512\n"
     ]
    },
    {
     "data": {
      "application/vnd.jupyter.widget-view+json": {
       "model_id": "7d6770cb2fb646d69819adb68fd2992f",
       "version_major": 2,
       "version_minor": 0
      },
      "text/plain": [
       "  0%|          | 0/391 [00:00<?, ?it/s]"
      ]
     },
     "metadata": {},
     "output_type": "display_data"
    },
    {
     "name": "stdout",
     "output_type": "stream",
     "text": [
      "Epoch [8]\tLearning Rate: 5e-05\tTrain loss: 2.48696\tTest loss: 2.48243\tParameter distance: 1.83360\n"
     ]
    },
    {
     "data": {
      "application/vnd.jupyter.widget-view+json": {
       "model_id": "071d1432c35542aa99167dbc5d3fe566",
       "version_major": 2,
       "version_minor": 0
      },
      "text/plain": [
       "  0%|          | 0/391 [00:00<?, ?it/s]"
      ]
     },
     "metadata": {},
     "output_type": "display_data"
    },
    {
     "name": "stdout",
     "output_type": "stream",
     "text": [
      "Epoch [9]\tLearning Rate: 5e-05\tTrain loss: 2.42242\tTest loss: 2.41964\tParameter distance: 1.80294\n"
     ]
    },
    {
     "data": {
      "application/vnd.jupyter.widget-view+json": {
       "model_id": "720be054f1f549df82a3c583e257cb05",
       "version_major": 2,
       "version_minor": 0
      },
      "text/plain": [
       "  0%|          | 0/391 [00:00<?, ?it/s]"
      ]
     },
     "metadata": {},
     "output_type": "display_data"
    },
    {
     "name": "stdout",
     "output_type": "stream",
     "text": [
      "Epoch [10]\tLearning Rate: 5e-05\tTrain loss: 2.36152\tTest loss: 2.36036\tParameter distance: 1.77308\n"
     ]
    },
    {
     "data": {
      "application/vnd.jupyter.widget-view+json": {
       "model_id": "574cfecd0c7145d4a8ca5c1c41d0d13d",
       "version_major": 2,
       "version_minor": 0
      },
      "text/plain": [
       "  0%|          | 0/391 [00:00<?, ?it/s]"
      ]
     },
     "metadata": {},
     "output_type": "display_data"
    },
    {
     "name": "stdout",
     "output_type": "stream",
     "text": [
      "Epoch [11]\tLearning Rate: 5e-05\tTrain loss: 2.30401\tTest loss: 2.30435\tParameter distance: 1.74401\n"
     ]
    },
    {
     "data": {
      "application/vnd.jupyter.widget-view+json": {
       "model_id": "c9f71599d61343f2915f44e8e20a5edf",
       "version_major": 2,
       "version_minor": 0
      },
      "text/plain": [
       "  0%|          | 0/391 [00:00<?, ?it/s]"
      ]
     },
     "metadata": {},
     "output_type": "display_data"
    },
    {
     "name": "stdout",
     "output_type": "stream",
     "text": [
      "Epoch [12]\tLearning Rate: 5e-05\tTrain loss: 2.24967\tTest loss: 2.25140\tParameter distance: 1.71569\n"
     ]
    },
    {
     "data": {
      "application/vnd.jupyter.widget-view+json": {
       "model_id": "5942360a7c004bde87f0e029a9d1d79a",
       "version_major": 2,
       "version_minor": 0
      },
      "text/plain": [
       "  0%|          | 0/391 [00:00<?, ?it/s]"
      ]
     },
     "metadata": {},
     "output_type": "display_data"
    },
    {
     "name": "stdout",
     "output_type": "stream",
     "text": [
      "Epoch [13]\tLearning Rate: 5e-05\tTrain loss: 2.19830\tTest loss: 2.20131\tParameter distance: 1.68808\n"
     ]
    },
    {
     "data": {
      "application/vnd.jupyter.widget-view+json": {
       "model_id": "356c607687df44f9b38616c168023729",
       "version_major": 2,
       "version_minor": 0
      },
      "text/plain": [
       "  0%|          | 0/391 [00:00<?, ?it/s]"
      ]
     },
     "metadata": {},
     "output_type": "display_data"
    },
    {
     "name": "stdout",
     "output_type": "stream",
     "text": [
      "Epoch [14]\tLearning Rate: 5e-05\tTrain loss: 2.14970\tTest loss: 2.15388\tParameter distance: 1.66116\n"
     ]
    },
    {
     "data": {
      "application/vnd.jupyter.widget-view+json": {
       "model_id": "6c47949ee18045cc9acc68a3b42521c0",
       "version_major": 2,
       "version_minor": 0
      },
      "text/plain": [
       "  0%|          | 0/391 [00:00<?, ?it/s]"
      ]
     },
     "metadata": {},
     "output_type": "display_data"
    },
    {
     "name": "stdout",
     "output_type": "stream",
     "text": [
      "Epoch [15]\tLearning Rate: 5e-05\tTrain loss: 2.10368\tTest loss: 2.10896\tParameter distance: 1.63489\n"
     ]
    },
    {
     "data": {
      "application/vnd.jupyter.widget-view+json": {
       "model_id": "0cbfb8f04ea343389d69b5b600ff4f19",
       "version_major": 2,
       "version_minor": 0
      },
      "text/plain": [
       "  0%|          | 0/391 [00:00<?, ?it/s]"
      ]
     },
     "metadata": {},
     "output_type": "display_data"
    },
    {
     "name": "stdout",
     "output_type": "stream",
     "text": [
      "Epoch [16]\tLearning Rate: 5e-05\tTrain loss: 2.06009\tTest loss: 2.06636\tParameter distance: 1.60926\n"
     ]
    },
    {
     "data": {
      "application/vnd.jupyter.widget-view+json": {
       "model_id": "04879a580b764cb9b3c739e7a4874154",
       "version_major": 2,
       "version_minor": 0
      },
      "text/plain": [
       "  0%|          | 0/391 [00:00<?, ?it/s]"
      ]
     },
     "metadata": {},
     "output_type": "display_data"
    },
    {
     "name": "stdout",
     "output_type": "stream",
     "text": [
      "Epoch [17]\tLearning Rate: 5e-05\tTrain loss: 2.01876\tTest loss: 2.02596\tParameter distance: 1.58424\n"
     ]
    },
    {
     "data": {
      "application/vnd.jupyter.widget-view+json": {
       "model_id": "c0ffb79f19da4729ac644f275891abc8",
       "version_major": 2,
       "version_minor": 0
      },
      "text/plain": [
       "  0%|          | 0/391 [00:00<?, ?it/s]"
      ]
     },
     "metadata": {},
     "output_type": "display_data"
    },
    {
     "name": "stdout",
     "output_type": "stream",
     "text": [
      "Epoch [18]\tLearning Rate: 5e-05\tTrain loss: 1.97955\tTest loss: 1.98761\tParameter distance: 1.55980\n"
     ]
    },
    {
     "data": {
      "application/vnd.jupyter.widget-view+json": {
       "model_id": "293248d047934cfba27c6d15f1e79fbe",
       "version_major": 2,
       "version_minor": 0
      },
      "text/plain": [
       "  0%|          | 0/391 [00:00<?, ?it/s]"
      ]
     },
     "metadata": {},
     "output_type": "display_data"
    },
    {
     "name": "stdout",
     "output_type": "stream",
     "text": [
      "Epoch [19]\tLearning Rate: 5e-05\tTrain loss: 1.94233\tTest loss: 1.95117\tParameter distance: 1.53592\n"
     ]
    },
    {
     "data": {
      "application/vnd.jupyter.widget-view+json": {
       "model_id": "a7d3f40918b34b4eba1e089af4544882",
       "version_major": 2,
       "version_minor": 0
      },
      "text/plain": [
       "  0%|          | 0/391 [00:00<?, ?it/s]"
      ]
     },
     "metadata": {},
     "output_type": "display_data"
    },
    {
     "name": "stdout",
     "output_type": "stream",
     "text": [
      "Epoch [20]\tLearning Rate: 5e-05\tTrain loss: 1.90697\tTest loss: 1.91654\tParameter distance: 1.51257\n"
     ]
    }
   ],
   "source": [
    "EPOCHS = 25\n",
    "online_beta_hat = np.zeros(d+1)\n",
    "lr = 3e-4\n",
    "batch_size = 256\n",
    "print(f\"Batch size: {batch_size}\")\n",
    "\n",
    "param_distance = np.zeros(EPOCHS)\n",
    "train_losses = np.zeros(EPOCHS)\n",
    "test_losses = np.zeros(EPOCHS)\n",
    "for epoch in range(EPOCHS):\n",
    "    online_beta_hat, train_loss = sgd(batch_size=batch_size, lr=lr, params=online_beta_hat, data=X_train, y_true=y_train)\n",
    "    ## inference\n",
    "    test_pred = X_test @ online_beta_hat\n",
    "    test_loss = mean_squared_error(y_true=y_test, y_pred=test_pred)\n",
    "    distance = l2norm(beta-online_beta_hat)\n",
    "    \n",
    "    print(f\"Epoch [{epoch+1}]\\tLearning Rate: {lr}\\tTrain loss: {train_loss:.5f}\\tTest loss: {test_loss:.5f}\\tParameter distance: {distance:.5f}\")\n",
    "    train_losses[epoch] = train_loss\n",
    "    test_losses[epoch] = test_loss\n",
    "    param_distance[epoch] = distance"
   ]
  },
  {
   "cell_type": "code",
   "execution_count": 23,
   "id": "67f07b6d",
   "metadata": {},
   "outputs": [
    {
     "data": {
      "image/png": "[encoded data removed]",
      "text/plain": [
       "<Figure size 1400x400 with 3 Axes>"
      ]
     },
     "metadata": {},
     "output_type": "display_data"
    }
   ],
   "source": [
    "plt.figure(figsize=(14, 4))\n",
    "\n",
    "plt.subplot(131)\n",
    "plt.plot(train_losses)\n",
    "plt.grid(True)\n",
    "plt.title(\"Training error\")\n",
    "plt.xlabel(\"Epochs\")\n",
    "plt.ylabel(\"Loss\")\n",
    "\n",
    "plt.subplot(132)\n",
    "plt.plot(test_losses)\n",
    "plt.grid(True)\n",
    "plt.title(\"Test error\")\n",
    "plt.xlabel(\"Epochs\")\n",
    "plt.ylabel(\"Loss\")\n",
    "\n",
    "plt.subplot(133)\n",
    "plt.plot(param_distance)\n",
    "plt.grid(True)\n",
    "plt.title(\"Parameter distances\")\n",
    "plt.xlabel(\"Epochs\")\n",
    "plt.ylabel(\"Difference\")\n",
    "\n",
    "plt.suptitle(f\"Loss function when batch size = {batch_size}, learning rate = {lr}\")\n",
    "plt.tight_layout()\n",
    "plt.show()"
   ]
  },
  {
   "cell_type": "code",
   "execution_count": 24,
   "id": "3efc6f5c",
   "metadata": {},
   "outputs": [
    {
     "name": "stdout",
     "output_type": "stream",
     "text": [
      "True parameter:\n",
      "[[ 0.97561731]\n",
      " [-0.52256163]\n",
      " [-0.97208453]\n",
      " [ 0.63756872]\n",
      " [-0.67875967]\n",
      " [ 0.95924509]\n",
      " [ 0.16444417]\n",
      " [ 0.0542513 ]\n",
      " [-0.15121154]\n",
      " [ 0.23673119]\n",
      " [-0.63144079]]\n",
      "Offline est.:\n",
      "[[ 0.97383886]\n",
      " [-0.51844871]\n",
      " [-0.96656454]\n",
      " [ 0.64424557]\n",
      " [-0.67741577]\n",
      " [ 0.95511744]\n",
      " [ 0.16034955]\n",
      " [ 0.05549382]\n",
      " [-0.14549371]\n",
      " [ 0.23632028]\n",
      " [-0.63557575]]\n",
      "Online esti.:\n",
      "[[ 0.52952253]\n",
      " [-0.12054554]\n",
      " [-0.22172553]\n",
      " [ 0.14674101]\n",
      " [-0.15492729]\n",
      " [ 0.2184132 ]\n",
      " [ 0.037328  ]\n",
      " [ 0.01196944]\n",
      " [-0.03309669]\n",
      " [ 0.05721157]\n",
      " [-0.14568913]]\n"
     ]
    }
   ],
   "source": [
    "print(f\"True parameter:\\n{beta.reshape(-1, 1)}\")\n",
    "print(f\"Offline est.:\\n{offline_beta_hat.reshape(-1, 1)}\")\n",
    "print(f\"Online esti.:\\n{online_beta_hat.reshape(-1, 1)}\")"
   ]
  },
  {
   "cell_type": "markdown",
   "id": "4564529c",
   "metadata": {},
   "source": [
    "## $X=\\frac{1}{2}(A+B), A=(a_{ij})\\sim U(-2, 2), B\\sim N(\\boldsymbol{1}_d, \\Sigma_d), \\epsilon_i\\sim N(0,2), \\boldsymbol{\\beta}={(\\beta_i)}_{i=1}^{d}\\sim N(0,1)$"
   ]
  },
  {
   "cell_type": "code",
   "execution_count": 25,
   "id": "dfeadcba",
   "metadata": {},
   "outputs": [
    {
     "name": "stdout",
     "output_type": "stream",
     "text": [
      "Shape of X: (120000, 11)\n",
      "First observation: [ 1.          2.27495181 -0.2522507  -0.06329362  2.67276683 -0.78030946\n",
      " -0.21492262 -0.45454299 -0.61053662 -0.70718013  0.57108308]\n"
     ]
    },
    {
     "data": {
      "image/png": "[encoded data removed]",
      "text/plain": [
       "<Figure size 600x400 with 1 Axes>"
      ]
     },
     "metadata": {},
     "output_type": "display_data"
    }
   ],
   "source": [
    "## Generate X\n",
    "A = feature_sampler(dimension=d, feat_dist=\"uniform\", disjoint=True, size=training_samples+test_samples, random_state=seed, uniform_rng=[-2., 2.])\n",
    "B = feature_sampler(dimension=d, feat_dist=\"gaussian\", disjoint=False, size=training_samples+test_samples, random_state=seed, cov_dist=\"uniform\")\n",
    "X = (A + B) * 0.5\n",
    "C = np.ones(training_samples+test_samples) ## add constant term\n",
    "X = np.c_[C, X]\n",
    "\n",
    "print(f\"Shape of X: {X.shape}\")\n",
    "print(f\"First observation: {X[0, :]}\")\n",
    "norms = [l2norm(X[i, :]) for i in range(training_samples+test_samples)]\n",
    "\n",
    "## distribution of the norm of each row\n",
    "plt.figure(figsize=(6, 4))\n",
    "plt.hist(norms)\n",
    "plt.grid(True)\n",
    "plt.title(\"Distribution of $L_2$ norm of row vectors\")\n",
    "plt.show()"
   ]
  },
  {
   "cell_type": "code",
   "execution_count": 26,
   "id": "b54ff01a",
   "metadata": {},
   "outputs": [
    {
     "name": "stdout",
     "output_type": "stream",
     "text": [
      "beta: [2.98374062 7.47859227 1.0199097  0.79572764 1.14110845 1.04862198\n",
      " 1.55698955 3.18385651 0.56406601 0.79253703 2.96907266]\n"
     ]
    }
   ],
   "source": [
    "## Generate the true parameter\n",
    "beta = param_generator(dimension=d+1, distribution=\"gamma\", disjoint=True, random_state=seed)\n",
    "print(f\"beta: {beta}\")"
   ]
  },
  {
   "cell_type": "code",
   "execution_count": 27,
   "id": "4d2c0204",
   "metadata": {},
   "outputs": [
    {
     "name": "stdout",
     "output_type": "stream",
     "text": [
      "The number of epsilons: (120000,), standard deviation: 1.4142135623730951\n",
      "First five epsilons: [ 1.17343422  3.55686269  2.68597613 -1.71566152 -0.8270971 ]\n"
     ]
    }
   ],
   "source": [
    "## Generate the regression noise\n",
    "epsilon, std = subgaussian_noise(distribution=\"gaussian\", size=training_samples+test_samples, random_state=seed, std=np.sqrt(2))\n",
    "print(f\"The number of epsilons: {epsilon.shape}, standard deviation: {std}\")\n",
    "print(f\"First five epsilons: {epsilon[:5]}\")"
   ]
  },
  {
   "cell_type": "markdown",
   "id": "2009251e",
   "metadata": {},
   "source": [
    "## $Y = X\\boldsymbol{\\beta}+\\boldsymbol{\\epsilon}$"
   ]
  },
  {
   "cell_type": "code",
   "execution_count": 28,
   "id": "80df7839",
   "metadata": {},
   "outputs": [
    {
     "name": "stdout",
     "output_type": "stream",
     "text": [
      "Shape of regression labels: (120000,)\n",
      "First 10 labels: [22.10354748 25.4384207  -2.38437521 14.0617763   3.73293284 16.11617116\n",
      " 12.31043285 14.54753015  0.40924005 12.4576338 ]\n"
     ]
    },
    {
     "data": {
      "image/png": "[encoded data removed]",
      "text/plain": [
       "<Figure size 1100x400 with 2 Axes>"
      ]
     },
     "metadata": {},
     "output_type": "display_data"
    }
   ],
   "source": [
    "## Construct the regression labels \n",
    "expY = X @ beta\n",
    "Y = expY + epsilon\n",
    "\n",
    "print(f\"Shape of regression labels: {Y.shape}\")\n",
    "print(f\"First 10 labels: {Y[:10]}\")\n",
    "\n",
    "## distribution of labels\n",
    "plt.figure(figsize=(11, 4))\n",
    "\n",
    "plt.subplot(121)\n",
    "plt.hist(expY)\n",
    "plt.grid(True)\n",
    "plt.xlabel(\"$\\mathbb{E}[Y]$\")\n",
    "plt.title(\"Distribution of $\\mathbb{E}[Y]$\")\n",
    "\n",
    "plt.subplot(122)\n",
    "plt.hist(Y)\n",
    "plt.grid(True)\n",
    "plt.xlabel(\"$Y$\")\n",
    "plt.title(\"Distribution of true $Y$\")\n",
    "\n",
    "plt.tight_layout()\n",
    "plt.show()"
   ]
  },
  {
   "cell_type": "code",
   "execution_count": 29,
   "id": "f51b2129",
   "metadata": {},
   "outputs": [
    {
     "name": "stdout",
     "output_type": "stream",
     "text": [
      "Training sets: (100000, 11), (100000,)\n",
      "Test sets: (20000, 11), (20000,)\n"
     ]
    }
   ],
   "source": [
    "## dataset split\n",
    "X_train, X_test, y_train, y_test = X[:training_samples], X[training_samples:], Y[:training_samples], Y[training_samples:]\n",
    "\n",
    "print(f\"Training sets: {X_train.shape}, {y_train.shape}\")\n",
    "print(f\"Test sets: {X_test.shape}, {y_test.shape}\")"
   ]
  },
  {
   "cell_type": "markdown",
   "id": "e9fc1b21",
   "metadata": {},
   "source": [
    "## Offline approach"
   ]
  },
  {
   "cell_type": "markdown",
   "id": "88947b1d",
   "metadata": {},
   "source": [
    "* First, we take one of the most well-known offline learning approach on linear regression, which is:\n",
    "    - For a given features $X$ and the corresponding labels $y$,\n",
    "    $$ \\hat{\\beta} = {\\left(X^\\top X\\right)}^{-1}{X^\\top y}$$"
   ]
  },
  {
   "cell_type": "code",
   "execution_count": 30,
   "id": "baa846ed",
   "metadata": {
    "scrolled": true
   },
   "outputs": [
    {
     "name": "stdout",
     "output_type": "stream",
     "text": [
      "Est.\t[2.96850113 7.48418266 1.02322214 0.79892071 1.14439073 1.04320259\n",
      " 1.55186668 3.19251997 0.57233126 0.79942788 2.96576899]\n",
      "True\t[2.98374062 7.47859227 1.0199097  0.79572764 1.14110845 1.04862198\n",
      " 1.55698955 3.18385651 0.56406601 0.79253703 2.96907266]\n"
     ]
    }
   ],
   "source": [
    "# Get closed form solution\n",
    "denominator = np.linalg.inv(X_train.T @ X_train)\n",
    "nominator = X_train.T @ y_train\n",
    "offline_beta_hat = denominator @ nominator\n",
    "print(f\"Est.\\t{offline_beta_hat}\")\n",
    "print(f\"True\\t{beta}\")"
   ]
  },
  {
   "cell_type": "code",
   "execution_count": 31,
   "id": "5e12593e",
   "metadata": {},
   "outputs": [
    {
     "name": "stdout",
     "output_type": "stream",
     "text": [
      "Test error: 2.011398\n"
     ]
    }
   ],
   "source": [
    "# Compute MSE\n",
    "y_pred = X_test @ offline_beta_hat\n",
    "print(f\"Test error: {mean_squared_error(y_true=y_test, y_pred=y_pred):.6f}\")"
   ]
  },
  {
   "cell_type": "markdown",
   "id": "754bd4b5",
   "metadata": {},
   "source": [
    "## Online approach"
   ]
  },
  {
   "cell_type": "markdown",
   "id": "cf3e69c4",
   "metadata": {},
   "source": [
    "### Gradient Descent"
   ]
  },
  {
   "cell_type": "markdown",
   "id": "0fd5e4b5",
   "metadata": {},
   "source": [
    "* Here, I'm going to implement the Gradient Descent algorithm, setting the objective function(or loss function) as the mean squared error, where\n",
    "$$ L_{\\boldsymbol\\beta} = \\frac{1}{N}\\sum_{i=1}^N {\\left(y_i - \\beta_0 - \\sum_{j=1}^d \\beta_i x_{ij}\\right)}^2 $$\n",
    "\n",
    "\n",
    "* Now, the gradient for each parameter for each point is:\n",
    "    - For $\\beta_0$: \n",
    "    $$\\frac{\\partial L_{\\boldsymbol \\beta}^i}{\\partial \\beta_0} = -2\\left(y_i - \\beta_0 - \\sum_{j=1}^d \\beta_i x_{ij}\\right)$$\n",
    "        - for any $i\\in\\{1,\\dots, N\\}$.\n",
    "    - For $\\beta_j$:\n",
    "    $$\\frac{\\partial L_{\\boldsymbol \\beta}^i}{\\partial \\beta_j} = -2x_{ij}\\cdot\\left(y_i - \\beta_0 - \\sum_{j=1}^d \\beta_i x_{ij}\\right)$$\n",
    "    \n",
    "\n",
    "* So for each $i \\in \\{1, \\dots, N\\}$, the gradient descent function will implement:\n",
    "$$\n",
    "\\begin{align*}\n",
    "\\beta_0^{\\text{new}} &= \\beta_0^{\\text{old}} - \\frac{\\partial L_{\\boldsymbol\\beta}^i}{\\beta_0}\\\\\n",
    "\\beta_j^{\\text{new}} &= \\beta_j^{\\text{old}} - \\frac{\\partial L_{\\boldsymbol\\beta}^i}{\\beta_j}.\n",
    "\\end{align*}\n",
    "$$"
   ]
  },
  {
   "cell_type": "code",
   "execution_count": 32,
   "id": "e7f48220",
   "metadata": {},
   "outputs": [],
   "source": [
    "def gradient_descent(lr:float, params:np.ndarray, data:np.ndarray, y_true:np.ndarray):\n",
    "    ## Graident descent for squared error\n",
    "    N, dim = data.shape\n",
    "    loss = 0\n",
    "    \n",
    "    for i in tqdm(range(N)):\n",
    "        row = data[i, :]\n",
    "        y_label = y_true[i]\n",
    "        \n",
    "        y_pred = row @ params\n",
    "        loss += mean_squared_error(y_true=y_label, y_pred=y_pred)\n",
    "        \n",
    "        ## gradient update for the bias\n",
    "        params[0] -= (2 * lr * (y_pred - y_label))\n",
    "        \n",
    "        ## gradient update for each weight\n",
    "        for j in range(1, dim):\n",
    "            params[j] -= (2 * lr * (y_pred - y_label) * row[j])\n",
    "    \n",
    "    return params, (loss / N)"
   ]
  },
  {
   "cell_type": "code",
   "execution_count": 33,
   "id": "fbe12909",
   "metadata": {},
   "outputs": [
    {
     "data": {
      "application/vnd.jupyter.widget-view+json": {
       "model_id": "8afdb40c8d8846fdab6cd8d8ee568208",
       "version_major": 2,
       "version_minor": 0
      },
      "text/plain": [
       "  0%|          | 0/100000 [00:00<?, ?it/s]"
      ]
     },
     "metadata": {},
     "output_type": "display_data"
    },
    {
     "name": "stdout",
     "output_type": "stream",
     "text": [
      "Epoch [1]\tLearning Rate: 1e-05\tTrain loss: 24.22096\tTest loss: 2.96332\tParameter distance: 1.49644\n"
     ]
    },
    {
     "data": {
      "application/vnd.jupyter.widget-view+json": {
       "model_id": "8e192e3c73b949f2b215d453f8ef6a8d",
       "version_major": 2,
       "version_minor": 0
      },
      "text/plain": [
       "  0%|          | 0/100000 [00:00<?, ?it/s]"
      ]
     },
     "metadata": {},
     "output_type": "display_data"
    },
    {
     "name": "stdout",
     "output_type": "stream",
     "text": [
      "Epoch [2]\tLearning Rate: 1e-05\tTrain loss: 2.43991\tTest loss: 2.18178\tParameter distance: 0.70038\n"
     ]
    },
    {
     "data": {
      "application/vnd.jupyter.widget-view+json": {
       "model_id": "ecf9987871254e8aa9fcc01a2ea879ca",
       "version_major": 2,
       "version_minor": 0
      },
      "text/plain": [
       "  0%|          | 0/100000 [00:00<?, ?it/s]"
      ]
     },
     "metadata": {},
     "output_type": "display_data"
    },
    {
     "name": "stdout",
     "output_type": "stream",
     "text": [
      "Epoch [3]\tLearning Rate: 1e-05\tTrain loss: 2.09221\tTest loss: 2.05098\tParameter distance: 0.36268\n"
     ]
    },
    {
     "data": {
      "application/vnd.jupyter.widget-view+json": {
       "model_id": "93e82ee3fa484820b2ca2ece74d8e1d7",
       "version_major": 2,
       "version_minor": 0
      },
      "text/plain": [
       "  0%|          | 0/100000 [00:00<?, ?it/s]"
      ]
     },
     "metadata": {},
     "output_type": "display_data"
    },
    {
     "name": "stdout",
     "output_type": "stream",
     "text": [
      "Epoch [4]\tLearning Rate: 1e-05\tTrain loss: 2.02455\tTest loss: 2.02134\tParameter distance: 0.20400\n"
     ]
    },
    {
     "data": {
      "application/vnd.jupyter.widget-view+json": {
       "model_id": "62ea6ab3e61f4d1eb1f42267863ccadf",
       "version_major": 2,
       "version_minor": 0
      },
      "text/plain": [
       "  0%|          | 0/100000 [00:00<?, ?it/s]"
      ]
     },
     "metadata": {},
     "output_type": "display_data"
    },
    {
     "name": "stdout",
     "output_type": "stream",
     "text": [
      "Epoch [5]\tLearning Rate: 1e-05\tTrain loss: 2.00836\tTest loss: 2.01389\tParameter distance: 0.12474\n"
     ]
    },
    {
     "data": {
      "application/vnd.jupyter.widget-view+json": {
       "model_id": "ed09f02e719747ba824f45e126a22810",
       "version_major": 2,
       "version_minor": 0
      },
      "text/plain": [
       "  0%|          | 0/100000 [00:00<?, ?it/s]"
      ]
     },
     "metadata": {},
     "output_type": "display_data"
    },
    {
     "name": "stdout",
     "output_type": "stream",
     "text": [
      "Epoch [6]\tLearning Rate: 1e-05\tTrain loss: 2.00394\tTest loss: 2.01185\tParameter distance: 0.08149\n"
     ]
    },
    {
     "data": {
      "application/vnd.jupyter.widget-view+json": {
       "model_id": "40cebac1fb544e92a56f729110e6acda",
       "version_major": 2,
       "version_minor": 0
      },
      "text/plain": [
       "  0%|          | 0/100000 [00:00<?, ?it/s]"
      ]
     },
     "metadata": {},
     "output_type": "display_data"
    },
    {
     "name": "stdout",
     "output_type": "stream",
     "text": [
      "Epoch [7]\tLearning Rate: 1e-05\tTrain loss: 2.00252\tTest loss: 2.01126\tParameter distance: 0.05527\n"
     ]
    },
    {
     "data": {
      "application/vnd.jupyter.widget-view+json": {
       "model_id": "1073707134bf4a539bfd2a1e297fbe7b",
       "version_major": 2,
       "version_minor": 0
      },
      "text/plain": [
       "  0%|          | 0/100000 [00:00<?, ?it/s]"
      ]
     },
     "metadata": {},
     "output_type": "display_data"
    },
    {
     "name": "stdout",
     "output_type": "stream",
     "text": [
      "Epoch [8]\tLearning Rate: 1e-05\tTrain loss: 2.00197\tTest loss: 2.01110\tParameter distance: 0.03806\n"
     ]
    },
    {
     "data": {
      "application/vnd.jupyter.widget-view+json": {
       "model_id": "99378198221643e3b1b32f5aac4d6059",
       "version_major": 2,
       "version_minor": 0
      },
      "text/plain": [
       "  0%|          | 0/100000 [00:00<?, ?it/s]"
      ]
     },
     "metadata": {},
     "output_type": "display_data"
    },
    {
     "name": "stdout",
     "output_type": "stream",
     "text": [
      "Epoch [9]\tLearning Rate: 1e-05\tTrain loss: 2.00171\tTest loss: 2.01108\tParameter distance: 0.02654\n"
     ]
    },
    {
     "data": {
      "application/vnd.jupyter.widget-view+json": {
       "model_id": "cb41ba090cc045d7ac6f1d9ab0ddf4b1",
       "version_major": 2,
       "version_minor": 0
      },
      "text/plain": [
       "  0%|          | 0/100000 [00:00<?, ?it/s]"
      ]
     },
     "metadata": {},
     "output_type": "display_data"
    },
    {
     "name": "stdout",
     "output_type": "stream",
     "text": [
      "Epoch [10]\tLearning Rate: 1e-05\tTrain loss: 2.00158\tTest loss: 2.01111\tParameter distance: 0.01938\n"
     ]
    },
    {
     "data": {
      "application/vnd.jupyter.widget-view+json": {
       "model_id": "e243356a61154254822b56150f1b4672",
       "version_major": 2,
       "version_minor": 0
      },
      "text/plain": [
       "  0%|          | 0/100000 [00:00<?, ?it/s]"
      ]
     },
     "metadata": {},
     "output_type": "display_data"
    },
    {
     "name": "stdout",
     "output_type": "stream",
     "text": [
      "Epoch [11]\tLearning Rate: 1e-05\tTrain loss: 2.00151\tTest loss: 2.01116\tParameter distance: 0.01596\n"
     ]
    },
    {
     "data": {
      "application/vnd.jupyter.widget-view+json": {
       "model_id": "9bb00aa83e204676a968b66783995c0c",
       "version_major": 2,
       "version_minor": 0
      },
      "text/plain": [
       "  0%|          | 0/100000 [00:00<?, ?it/s]"
      ]
     },
     "metadata": {},
     "output_type": "display_data"
    },
    {
     "name": "stdout",
     "output_type": "stream",
     "text": [
      "Epoch [12]\tLearning Rate: 1e-05\tTrain loss: 2.00147\tTest loss: 2.01121\tParameter distance: 0.01538\n"
     ]
    },
    {
     "data": {
      "application/vnd.jupyter.widget-view+json": {
       "model_id": "5860e13512264d3bbbac53c14daf17f3",
       "version_major": 2,
       "version_minor": 0
      },
      "text/plain": [
       "  0%|          | 0/100000 [00:00<?, ?it/s]"
      ]
     },
     "metadata": {},
     "output_type": "display_data"
    },
    {
     "name": "stdout",
     "output_type": "stream",
     "text": [
      "Epoch [13]\tLearning Rate: 1e-05\tTrain loss: 2.00144\tTest loss: 2.01126\tParameter distance: 0.01631\n"
     ]
    },
    {
     "data": {
      "application/vnd.jupyter.widget-view+json": {
       "model_id": "a71e8572aa2c43149c5177b7184e98d3",
       "version_major": 2,
       "version_minor": 0
      },
      "text/plain": [
       "  0%|          | 0/100000 [00:00<?, ?it/s]"
      ]
     },
     "metadata": {},
     "output_type": "display_data"
    },
    {
     "name": "stdout",
     "output_type": "stream",
     "text": [
      "Epoch [14]\tLearning Rate: 1e-05\tTrain loss: 2.00143\tTest loss: 2.01129\tParameter distance: 0.01771\n"
     ]
    },
    {
     "data": {
      "application/vnd.jupyter.widget-view+json": {
       "model_id": "59ad4cfbc3084ebf89e85cf45017672e",
       "version_major": 2,
       "version_minor": 0
      },
      "text/plain": [
       "  0%|          | 0/100000 [00:00<?, ?it/s]"
      ]
     },
     "metadata": {},
     "output_type": "display_data"
    },
    {
     "name": "stdout",
     "output_type": "stream",
     "text": [
      "Epoch [15]\tLearning Rate: 1e-05\tTrain loss: 2.00142\tTest loss: 2.01133\tParameter distance: 0.01911\n"
     ]
    },
    {
     "data": {
      "application/vnd.jupyter.widget-view+json": {
       "model_id": "adda3e79ef2e4717a209b5cd8e8f38ae",
       "version_major": 2,
       "version_minor": 0
      },
      "text/plain": [
       "  0%|          | 0/100000 [00:00<?, ?it/s]"
      ]
     },
     "metadata": {},
     "output_type": "display_data"
    },
    {
     "name": "stdout",
     "output_type": "stream",
     "text": [
      "Epoch [16]\tLearning Rate: 1e-05\tTrain loss: 2.00142\tTest loss: 2.01135\tParameter distance: 0.02033\n"
     ]
    },
    {
     "data": {
      "application/vnd.jupyter.widget-view+json": {
       "model_id": "760911b8568446d2b9285f7cc067f3b7",
       "version_major": 2,
       "version_minor": 0
      },
      "text/plain": [
       "  0%|          | 0/100000 [00:00<?, ?it/s]"
      ]
     },
     "metadata": {},
     "output_type": "display_data"
    },
    {
     "name": "stdout",
     "output_type": "stream",
     "text": [
      "Epoch [17]\tLearning Rate: 1e-05\tTrain loss: 2.00142\tTest loss: 2.01137\tParameter distance: 0.02133\n"
     ]
    },
    {
     "data": {
      "application/vnd.jupyter.widget-view+json": {
       "model_id": "db06ff0e081b4c6bb1851ba04cb3a0e9",
       "version_major": 2,
       "version_minor": 0
      },
      "text/plain": [
       "  0%|          | 0/100000 [00:00<?, ?it/s]"
      ]
     },
     "metadata": {},
     "output_type": "display_data"
    },
    {
     "name": "stdout",
     "output_type": "stream",
     "text": [
      "Epoch [18]\tLearning Rate: 1e-05\tTrain loss: 2.00141\tTest loss: 2.01139\tParameter distance: 0.02214\n"
     ]
    },
    {
     "data": {
      "application/vnd.jupyter.widget-view+json": {
       "model_id": "42dd1b5843b3458f82e22cfb580d5e4b",
       "version_major": 2,
       "version_minor": 0
      },
      "text/plain": [
       "  0%|          | 0/100000 [00:00<?, ?it/s]"
      ]
     },
     "metadata": {},
     "output_type": "display_data"
    },
    {
     "name": "stdout",
     "output_type": "stream",
     "text": [
      "Epoch [19]\tLearning Rate: 1e-05\tTrain loss: 2.00141\tTest loss: 2.01140\tParameter distance: 0.02278\n"
     ]
    },
    {
     "data": {
      "application/vnd.jupyter.widget-view+json": {
       "model_id": "1719f6a4c9a44116bd63b66ccff9c667",
       "version_major": 2,
       "version_minor": 0
      },
      "text/plain": [
       "  0%|          | 0/100000 [00:00<?, ?it/s]"
      ]
     },
     "metadata": {},
     "output_type": "display_data"
    },
    {
     "name": "stdout",
     "output_type": "stream",
     "text": [
      "Epoch [20]\tLearning Rate: 1e-05\tTrain loss: 2.00141\tTest loss: 2.01141\tParameter distance: 0.02328\n"
     ]
    }
   ],
   "source": [
    "EPOCHS = 25\n",
    "online_beta_hat = np.zeros(d+1)\n",
    "lr = 1e-5\n",
    "\n",
    "param_distance = np.zeros(EPOCHS)\n",
    "train_losses = np.zeros(EPOCHS)\n",
    "test_losses = np.zeros(EPOCHS)\n",
    "for epoch in range(EPOCHS):\n",
    "    online_beta_hat, train_loss = gradient_descent(lr=lr, params=online_beta_hat, data=X_train, y_true=y_train)\n",
    "    ## inference\n",
    "    test_pred = X_test @ online_beta_hat\n",
    "    test_loss = mean_squared_error(y_true=y_test, y_pred=test_pred)\n",
    "    distance = l2norm(beta-online_beta_hat)\n",
    "    \n",
    "    print(f\"Epoch [{epoch+1}]\\tLearning Rate: {lr}\\tTrain loss: {train_loss:.5f}\\tTest loss: {test_loss:.5f}\\tParameter distance: {distance:.5f}\")\n",
    "    train_losses[epoch] = train_loss\n",
    "    test_losses[epoch] = test_loss\n",
    "    param_distance[epoch] = distance"
   ]
  },
  {
   "cell_type": "code",
   "execution_count": 34,
   "id": "82bd3f7a",
   "metadata": {},
   "outputs": [
    {
     "name": "stdout",
     "output_type": "stream",
     "text": [
      "True parameter:\n",
      "[[2.98374062]\n",
      " [7.47859227]\n",
      " [1.0199097 ]\n",
      " [0.79572764]\n",
      " [1.14110845]\n",
      " [1.04862198]\n",
      " [1.55698955]\n",
      " [3.18385651]\n",
      " [0.56406601]\n",
      " [0.79253703]\n",
      " [2.96907266]]\n",
      "Offline est.:\n",
      "[[2.96850113]\n",
      " [7.48418266]\n",
      " [1.02322214]\n",
      " [0.79892071]\n",
      " [1.14439073]\n",
      " [1.04320259]\n",
      " [1.55186668]\n",
      " [3.19251997]\n",
      " [0.57233126]\n",
      " [0.79942788]\n",
      " [2.96576899]]\n",
      "Online esti.:\n",
      "[[2.96869572]\n",
      " [7.48530197]\n",
      " [1.01993663]\n",
      " [0.79924349]\n",
      " [1.14220042]\n",
      " [1.0431282 ]\n",
      " [1.550762  ]\n",
      " [3.19244689]\n",
      " [0.57210612]\n",
      " [0.79923098]\n",
      " [2.96689686]]\n"
     ]
    }
   ],
   "source": [
    "print(f\"True parameter:\\n{beta.reshape(-1, 1)}\")\n",
    "print(f\"Offline est.:\\n{offline_beta_hat.reshape(-1, 1)}\")\n",
    "print(f\"Online esti.:\\n{online_beta_hat.reshape(-1, 1)}\")"
   ]
  },
  {
   "cell_type": "code",
   "execution_count": 35,
   "id": "046cf783",
   "metadata": {},
   "outputs": [
    {
     "data": {
      "image/png": "[encoded data removed]",
      "text/plain": [
       "<Figure size 1400x400 with 3 Axes>"
      ]
     },
     "metadata": {},
     "output_type": "display_data"
    }
   ],
   "source": [
    "plt.figure(figsize=(14, 4))\n",
    "\n",
    "plt.subplot(131)\n",
    "plt.plot(train_losses)\n",
    "plt.grid(True)\n",
    "plt.title(\"Training error\")\n",
    "plt.xlabel(\"Epochs\")\n",
    "plt.ylabel(\"Loss\")\n",
    "\n",
    "plt.subplot(132)\n",
    "plt.plot(test_losses)\n",
    "plt.grid(True)\n",
    "plt.title(\"Test error\")\n",
    "plt.xlabel(\"Epochs\")\n",
    "plt.ylabel(\"Loss\")\n",
    "\n",
    "plt.subplot(133)\n",
    "plt.plot(param_distance)\n",
    "plt.grid(True)\n",
    "plt.title(\"Parameter distances\")\n",
    "plt.xlabel(\"Epochs\")\n",
    "plt.ylabel(\"Difference\")\n",
    "\n",
    "plt.suptitle(\"Loss function for online regression\")\n",
    "plt.tight_layout()\n",
    "plt.show()"
   ]
  },
  {
   "cell_type": "markdown",
   "id": "fc40596c",
   "metadata": {},
   "source": [
    "### Batch learning - Stochastic Gradient Descent"
   ]
  },
  {
   "cell_type": "markdown",
   "id": "cd88577e",
   "metadata": {},
   "source": [
    "* The below code implements the stochastic gradient descent, introducing the mini-batch approach."
   ]
  },
  {
   "cell_type": "code",
   "execution_count": 36,
   "id": "128d0a30",
   "metadata": {},
   "outputs": [],
   "source": [
    "def sgd(batch_size:int, lr:float, params:np.ndarray, data:np.ndarray, y_true:np.ndarray):\n",
    "    ## Stochastic Graident descent for squared error\n",
    "    N, dim = data.shape\n",
    "    num_batches = int(np.ceil(N / batch_size))\n",
    "    candidates = np.arange(N)\n",
    "    loss = 0\n",
    "    \n",
    "    for _ in tqdm(range(num_batches)):\n",
    "        try:\n",
    "            indices = np.random.choice(candidates, size=batch_size, replace=False)\n",
    "        except:\n",
    "            ## remaining data\n",
    "            indices = candidates\n",
    "        X_batch, y_batch = data[indices], y_true[indices]\n",
    "        batch_loss = 0\n",
    "        bias_grads = 0\n",
    "        weight_grads = np.zeros(params.shape)\n",
    "        for i in range(len(indices)):\n",
    "            row = X_batch[i, :]\n",
    "            y_label = y_batch[i]\n",
    "            y_pred = row @ params\n",
    "            batch_loss += mean_squared_error(y_true=y_label, y_pred=y_pred)\n",
    "\n",
    "            ## gradient update for the bias\n",
    "            bias_grads += (2 * lr * (y_pred - y_label))\n",
    "\n",
    "            ## gradient update for each weight\n",
    "            for j in range(1, dim):\n",
    "                weight_grads[j] += (2 * lr * (y_pred - y_label) * row[j])\n",
    "        \n",
    "        loss += batch_loss\n",
    "        params[0] -= (bias_grads / batch_size)\n",
    "        params[1:] -= (weight_grads[1:] / batch_size)\n",
    "        \n",
    "        ## remove the indices already used\n",
    "        candidates = np.setdiff1d(candidates, indices)\n",
    "    \n",
    "    return params, (loss / (num_batches*batch_size))"
   ]
  },
  {
   "cell_type": "markdown",
   "id": "0f8f35fa",
   "metadata": {},
   "source": [
    "### Batch size = 256"
   ]
  },
  {
   "cell_type": "code",
   "execution_count": 37,
   "id": "df7531cc",
   "metadata": {},
   "outputs": [
    {
     "name": "stdout",
     "output_type": "stream",
     "text": [
      "Batch size: 256\n"
     ]
    },
    {
     "data": {
      "application/vnd.jupyter.widget-view+json": {
       "model_id": "dd7562cd9aed44c39e69686a258c1c95",
       "version_major": 2,
       "version_minor": 0
      },
      "text/plain": [
       "  0%|          | 0/391 [00:00<?, ?it/s]"
      ]
     },
     "metadata": {},
     "output_type": "display_data"
    },
    {
     "name": "stdout",
     "output_type": "stream",
     "text": [
      "Epoch [1]\tLearning Rate: 1e-05\tTrain loss: 248.92210\tTest loss: 243.81682\tParameter distance: 9.34710\n"
     ]
    },
    {
     "data": {
      "application/vnd.jupyter.widget-view+json": {
       "model_id": "55aa0451789d4d5b8636015d19513f7e",
       "version_major": 2,
       "version_minor": 0
      },
      "text/plain": [
       "  0%|          | 0/391 [00:00<?, ?it/s]"
      ]
     },
     "metadata": {},
     "output_type": "display_data"
    },
    {
     "name": "stdout",
     "output_type": "stream",
     "text": [
      "Epoch [2]\tLearning Rate: 1e-05\tTrain loss: 235.42384\tTest loss: 230.63904\tParameter distance: 9.14974\n"
     ]
    },
    {
     "data": {
      "application/vnd.jupyter.widget-view+json": {
       "model_id": "9243986d704746ba802e90e3083fc64e",
       "version_major": 2,
       "version_minor": 0
      },
      "text/plain": [
       "  0%|          | 0/391 [00:00<?, ?it/s]"
      ]
     },
     "metadata": {},
     "output_type": "display_data"
    },
    {
     "name": "stdout",
     "output_type": "stream",
     "text": [
      "Epoch [3]\tLearning Rate: 1e-05\tTrain loss: 222.73628\tTest loss: 218.25024\tParameter distance: 8.95910\n"
     ]
    },
    {
     "data": {
      "application/vnd.jupyter.widget-view+json": {
       "model_id": "a3b723f6d1f14df1ac4a91bb336b0ae6",
       "version_major": 2,
       "version_minor": 0
      },
      "text/plain": [
       "  0%|          | 0/391 [00:00<?, ?it/s]"
      ]
     },
     "metadata": {},
     "output_type": "display_data"
    },
    {
     "name": "stdout",
     "output_type": "stream",
     "text": [
      "Epoch [4]\tLearning Rate: 1e-05\tTrain loss: 210.80889\tTest loss: 206.60153\tParameter distance: 8.77496\n"
     ]
    },
    {
     "data": {
      "application/vnd.jupyter.widget-view+json": {
       "model_id": "f0b77654834e4b31a2f9dac9777cb7a6",
       "version_major": 2,
       "version_minor": 0
      },
      "text/plain": [
       "  0%|          | 0/391 [00:00<?, ?it/s]"
      ]
     },
     "metadata": {},
     "output_type": "display_data"
    },
    {
     "name": "stdout",
     "output_type": "stream",
     "text": [
      "Epoch [5]\tLearning Rate: 1e-05\tTrain loss: 199.59449\tTest loss: 195.64700\tParameter distance: 8.59707\n"
     ]
    },
    {
     "data": {
      "application/vnd.jupyter.widget-view+json": {
       "model_id": "11a089731723491bae568b9e39fcefd5",
       "version_major": 2,
       "version_minor": 0
      },
      "text/plain": [
       "  0%|          | 0/391 [00:00<?, ?it/s]"
      ]
     },
     "metadata": {},
     "output_type": "display_data"
    },
    {
     "name": "stdout",
     "output_type": "stream",
     "text": [
      "Epoch [6]\tLearning Rate: 1e-05\tTrain loss: 189.04879\tTest loss: 185.34366\tParameter distance: 8.42522\n"
     ]
    },
    {
     "data": {
      "application/vnd.jupyter.widget-view+json": {
       "model_id": "9d5ec71952e343c39410f657e312fff8",
       "version_major": 2,
       "version_minor": 0
      },
      "text/plain": [
       "  0%|          | 0/391 [00:00<?, ?it/s]"
      ]
     },
     "metadata": {},
     "output_type": "display_data"
    },
    {
     "name": "stdout",
     "output_type": "stream",
     "text": [
      "Epoch [7]\tLearning Rate: 1e-05\tTrain loss: 179.13035\tTest loss: 175.65137\tParameter distance: 8.25918\n"
     ]
    },
    {
     "data": {
      "application/vnd.jupyter.widget-view+json": {
       "model_id": "1d50fdca1506453e9806763e0fcf17c9",
       "version_major": 2,
       "version_minor": 0
      },
      "text/plain": [
       "  0%|          | 0/391 [00:00<?, ?it/s]"
      ]
     },
     "metadata": {},
     "output_type": "display_data"
    },
    {
     "name": "stdout",
     "output_type": "stream",
     "text": [
      "Epoch [8]\tLearning Rate: 1e-05\tTrain loss: 169.80035\tTest loss: 166.53216\tParameter distance: 8.09875\n"
     ]
    },
    {
     "data": {
      "application/vnd.jupyter.widget-view+json": {
       "model_id": "8089aff0379043afaa8a22efad5b58e4",
       "version_major": 2,
       "version_minor": 0
      },
      "text/plain": [
       "  0%|          | 0/391 [00:00<?, ?it/s]"
      ]
     },
     "metadata": {},
     "output_type": "display_data"
    },
    {
     "name": "stdout",
     "output_type": "stream",
     "text": [
      "Epoch [9]\tLearning Rate: 1e-05\tTrain loss: 161.02233\tTest loss: 157.95082\tParameter distance: 7.94372\n"
     ]
    },
    {
     "data": {
      "application/vnd.jupyter.widget-view+json": {
       "model_id": "7b3cfa6e8727432fbce5e4a425519d4b",
       "version_major": 2,
       "version_minor": 0
      },
      "text/plain": [
       "  0%|          | 0/391 [00:00<?, ?it/s]"
      ]
     },
     "metadata": {},
     "output_type": "display_data"
    },
    {
     "name": "stdout",
     "output_type": "stream",
     "text": [
      "Epoch [10]\tLearning Rate: 1e-05\tTrain loss: 152.76231\tTest loss: 149.87432\tParameter distance: 7.79390\n"
     ]
    },
    {
     "data": {
      "application/vnd.jupyter.widget-view+json": {
       "model_id": "bf5baad6637b4ec6bd65ba5241b455ac",
       "version_major": 2,
       "version_minor": 0
      },
      "text/plain": [
       "  0%|          | 0/391 [00:00<?, ?it/s]"
      ]
     },
     "metadata": {},
     "output_type": "display_data"
    },
    {
     "name": "stdout",
     "output_type": "stream",
     "text": [
      "Epoch [11]\tLearning Rate: 1e-05\tTrain loss: 144.98825\tTest loss: 142.27119\tParameter distance: 7.64910\n"
     ]
    },
    {
     "data": {
      "application/vnd.jupyter.widget-view+json": {
       "model_id": "142c23a8aba847518a2e1269e3fca10f",
       "version_major": 2,
       "version_minor": 0
      },
      "text/plain": [
       "  0%|          | 0/391 [00:00<?, ?it/s]"
      ]
     },
     "metadata": {},
     "output_type": "display_data"
    },
    {
     "name": "stdout",
     "output_type": "stream",
     "text": [
      "Epoch [12]\tLearning Rate: 1e-05\tTrain loss: 137.66998\tTest loss: 135.11243\tParameter distance: 7.50912\n"
     ]
    },
    {
     "data": {
      "application/vnd.jupyter.widget-view+json": {
       "model_id": "ff385db9d77849c088f321340730e1ca",
       "version_major": 2,
       "version_minor": 0
      },
      "text/plain": [
       "  0%|          | 0/391 [00:00<?, ?it/s]"
      ]
     },
     "metadata": {},
     "output_type": "display_data"
    },
    {
     "name": "stdout",
     "output_type": "stream",
     "text": [
      "Epoch [13]\tLearning Rate: 1e-05\tTrain loss: 130.77949\tTest loss: 128.37071\tParameter distance: 7.37380\n"
     ]
    },
    {
     "data": {
      "application/vnd.jupyter.widget-view+json": {
       "model_id": "13fc58880a614b36b30344cd3d69fd44",
       "version_major": 2,
       "version_minor": 0
      },
      "text/plain": [
       "  0%|          | 0/391 [00:00<?, ?it/s]"
      ]
     },
     "metadata": {},
     "output_type": "display_data"
    },
    {
     "name": "stdout",
     "output_type": "stream",
     "text": [
      "Epoch [14]\tLearning Rate: 1e-05\tTrain loss: 124.29051\tTest loss: 122.02055\tParameter distance: 7.24295\n"
     ]
    },
    {
     "data": {
      "application/vnd.jupyter.widget-view+json": {
       "model_id": "9ae0e125a6e94aaf866a8b98adfd331b",
       "version_major": 2,
       "version_minor": 0
      },
      "text/plain": [
       "  0%|          | 0/391 [00:00<?, ?it/s]"
      ]
     },
     "metadata": {},
     "output_type": "display_data"
    },
    {
     "name": "stdout",
     "output_type": "stream",
     "text": [
      "Epoch [15]\tLearning Rate: 1e-05\tTrain loss: 118.17842\tTest loss: 116.03791\tParameter distance: 7.11642\n"
     ]
    },
    {
     "data": {
      "application/vnd.jupyter.widget-view+json": {
       "model_id": "b033df052258466d874b62bde9182b68",
       "version_major": 2,
       "version_minor": 0
      },
      "text/plain": [
       "  0%|          | 0/391 [00:00<?, ?it/s]"
      ]
     },
     "metadata": {},
     "output_type": "display_data"
    },
    {
     "name": "stdout",
     "output_type": "stream",
     "text": [
      "Epoch [16]\tLearning Rate: 1e-05\tTrain loss: 112.42001\tTest loss: 110.40025\tParameter distance: 6.99403\n"
     ]
    },
    {
     "data": {
      "application/vnd.jupyter.widget-view+json": {
       "model_id": "4a29226595bf46ba9d20a4d6f03f32a0",
       "version_major": 2,
       "version_minor": 0
      },
      "text/plain": [
       "  0%|          | 0/391 [00:00<?, ?it/s]"
      ]
     },
     "metadata": {},
     "output_type": "display_data"
    },
    {
     "name": "stdout",
     "output_type": "stream",
     "text": [
      "Epoch [17]\tLearning Rate: 1e-05\tTrain loss: 106.99362\tTest loss: 105.08651\tParameter distance: 6.87565\n"
     ]
    },
    {
     "data": {
      "application/vnd.jupyter.widget-view+json": {
       "model_id": "d8abdf3ffba846b38163363f3130e846",
       "version_major": 2,
       "version_minor": 0
      },
      "text/plain": [
       "  0%|          | 0/391 [00:00<?, ?it/s]"
      ]
     },
     "metadata": {},
     "output_type": "display_data"
    },
    {
     "name": "stdout",
     "output_type": "stream",
     "text": [
      "Epoch [18]\tLearning Rate: 1e-05\tTrain loss: 101.87891\tTest loss: 100.07691\tParameter distance: 6.76110\n"
     ]
    },
    {
     "data": {
      "application/vnd.jupyter.widget-view+json": {
       "model_id": "000495fbf06044a3b964bd6742f19333",
       "version_major": 2,
       "version_minor": 0
      },
      "text/plain": [
       "  0%|          | 0/391 [00:00<?, ?it/s]"
      ]
     },
     "metadata": {},
     "output_type": "display_data"
    },
    {
     "name": "stdout",
     "output_type": "stream",
     "text": [
      "Epoch [19]\tLearning Rate: 1e-05\tTrain loss: 97.05682\tTest loss: 95.35285\tParameter distance: 6.65025\n"
     ]
    },
    {
     "data": {
      "application/vnd.jupyter.widget-view+json": {
       "model_id": "6679869d1af540a898d16df1451f9a24",
       "version_major": 2,
       "version_minor": 0
      },
      "text/plain": [
       "  0%|          | 0/391 [00:00<?, ?it/s]"
      ]
     },
     "metadata": {},
     "output_type": "display_data"
    },
    {
     "name": "stdout",
     "output_type": "stream",
     "text": [
      "Epoch [20]\tLearning Rate: 1e-05\tTrain loss: 92.50948\tTest loss: 90.89702\tParameter distance: 6.54296\n"
     ]
    }
   ],
   "source": [
    "EPOCHS = 25\n",
    "online_beta_hat = np.zeros(d+1)\n",
    "lr = 1e-5\n",
    "batch_size = 256\n",
    "print(f\"Batch size: {batch_size}\")\n",
    "\n",
    "param_distance = np.zeros(EPOCHS)\n",
    "train_losses = np.zeros(EPOCHS)\n",
    "test_losses = np.zeros(EPOCHS)\n",
    "for epoch in range(EPOCHS):\n",
    "    online_beta_hat, train_loss = sgd(batch_size=batch_size, lr=lr, params=online_beta_hat, data=X_train, y_true=y_train)\n",
    "    ## inference\n",
    "    test_pred = X_test @ online_beta_hat\n",
    "    test_loss = mean_squared_error(y_true=y_test, y_pred=test_pred)\n",
    "    distance = l2norm(beta-online_beta_hat)\n",
    "    \n",
    "    print(f\"Epoch [{epoch+1}]\\tLearning Rate: {lr}\\tTrain loss: {train_loss:.5f}\\tTest loss: {test_loss:.5f}\\tParameter distance: {distance:.5f}\")\n",
    "    train_losses[epoch] = train_loss\n",
    "    test_losses[epoch] = test_loss\n",
    "    param_distance[epoch] = distance"
   ]
  },
  {
   "cell_type": "code",
   "execution_count": 38,
   "id": "66977c2e",
   "metadata": {},
   "outputs": [
    {
     "data": {
      "image/png": "[encoded data removed]",
      "text/plain": [
       "<Figure size 1400x400 with 3 Axes>"
      ]
     },
     "metadata": {},
     "output_type": "display_data"
    }
   ],
   "source": [
    "plt.figure(figsize=(14, 4))\n",
    "\n",
    "plt.subplot(131)\n",
    "plt.plot(train_losses)\n",
    "plt.grid(True)\n",
    "plt.title(\"Training error\")\n",
    "plt.xlabel(\"Epochs\")\n",
    "plt.ylabel(\"Loss\")\n",
    "\n",
    "plt.subplot(132)\n",
    "plt.plot(test_losses)\n",
    "plt.grid(True)\n",
    "plt.title(\"Test error\")\n",
    "plt.xlabel(\"Epochs\")\n",
    "plt.ylabel(\"Loss\")\n",
    "\n",
    "plt.subplot(133)\n",
    "plt.plot(param_distance)\n",
    "plt.grid(True)\n",
    "plt.title(\"Parameter distances\")\n",
    "plt.xlabel(\"Epochs\")\n",
    "plt.ylabel(\"Difference\")\n",
    "\n",
    "plt.suptitle(f\"Loss function when batch size = {batch_size}, learning rate = {lr}\")\n",
    "plt.tight_layout()\n",
    "plt.show()"
   ]
  },
  {
   "cell_type": "code",
   "execution_count": 43,
   "id": "109e07d4",
   "metadata": {},
   "outputs": [
    {
     "name": "stdout",
     "output_type": "stream",
     "text": [
      "Batch size: 256\n"
     ]
    },
    {
     "data": {
      "application/vnd.jupyter.widget-view+json": {
       "model_id": "bed0c2487d25484aa97f6c15d0f939a6",
       "version_major": 2,
       "version_minor": 0
      },
      "text/plain": [
       "  0%|          | 0/391 [00:00<?, ?it/s]"
      ]
     },
     "metadata": {},
     "output_type": "display_data"
    },
    {
     "name": "stdout",
     "output_type": "stream",
     "text": [
      "Epoch [1]\tLearning Rate: 0.0003\tTrain loss: 128.88293\tTest loss: 57.91347\tParameter distance: 5.63575\n"
     ]
    },
    {
     "data": {
      "application/vnd.jupyter.widget-view+json": {
       "model_id": "82abbc0239d94ec18e1b3fafc7c6c21b",
       "version_major": 2,
       "version_minor": 0
      },
      "text/plain": [
       "  0%|          | 0/391 [00:00<?, ?it/s]"
      ]
     },
     "metadata": {},
     "output_type": "display_data"
    },
    {
     "name": "stdout",
     "output_type": "stream",
     "text": [
      "Epoch [2]\tLearning Rate: 0.0003\tTrain loss: 34.81025\tTest loss: 20.69160\tParameter distance: 4.04699\n"
     ]
    },
    {
     "data": {
      "application/vnd.jupyter.widget-view+json": {
       "model_id": "cf4ca12294bf49b6ba74467549303ea3",
       "version_major": 2,
       "version_minor": 0
      },
      "text/plain": [
       "  0%|          | 0/391 [00:00<?, ?it/s]"
      ]
     },
     "metadata": {},
     "output_type": "display_data"
    },
    {
     "name": "stdout",
     "output_type": "stream",
     "text": [
      "Epoch [3]\tLearning Rate: 0.0003\tTrain loss: 15.00103\tTest loss: 10.81746\tParameter distance: 3.20690\n"
     ]
    },
    {
     "data": {
      "application/vnd.jupyter.widget-view+json": {
       "model_id": "9d5c9fc6c0514c3ab1f6ee10cfd8b2c8",
       "version_major": 2,
       "version_minor": 0
      },
      "text/plain": [
       "  0%|          | 0/391 [00:00<?, ?it/s]"
      ]
     },
     "metadata": {},
     "output_type": "display_data"
    },
    {
     "name": "stdout",
     "output_type": "stream",
     "text": [
      "Epoch [4]\tLearning Rate: 0.0003\tTrain loss: 8.76790\tTest loss: 6.98678\tParameter distance: 2.66671\n"
     ]
    },
    {
     "data": {
      "application/vnd.jupyter.widget-view+json": {
       "model_id": "02269982f5334d24a9a8aee89d476959",
       "version_major": 2,
       "version_minor": 0
      },
      "text/plain": [
       "  0%|          | 0/391 [00:00<?, ?it/s]"
      ]
     },
     "metadata": {},
     "output_type": "display_data"
    },
    {
     "name": "stdout",
     "output_type": "stream",
     "text": [
      "Epoch [5]\tLearning Rate: 0.0003\tTrain loss: 6.03693\tTest loss: 5.12131\tParameter distance: 2.28463\n"
     ]
    },
    {
     "data": {
      "application/vnd.jupyter.widget-view+json": {
       "model_id": "4a267588cf2f4e79909aab5aa38e0168",
       "version_major": 2,
       "version_minor": 0
      },
      "text/plain": [
       "  0%|          | 0/391 [00:00<?, ?it/s]"
      ]
     },
     "metadata": {},
     "output_type": "display_data"
    },
    {
     "name": "stdout",
     "output_type": "stream",
     "text": [
      "Epoch [6]\tLearning Rate: 0.0003\tTrain loss: 4.61709\tTest loss: 4.10205\tParameter distance: 1.99842\n"
     ]
    },
    {
     "data": {
      "application/vnd.jupyter.widget-view+json": {
       "model_id": "92ed35e3545d4d0f820877e01592fc67",
       "version_major": 2,
       "version_minor": 0
      },
      "text/plain": [
       "  0%|          | 0/391 [00:00<?, ?it/s]"
      ]
     },
     "metadata": {},
     "output_type": "display_data"
    },
    {
     "name": "stdout",
     "output_type": "stream",
     "text": [
      "Epoch [7]\tLearning Rate: 0.0003\tTrain loss: 3.80850\tTest loss: 3.50082\tParameter distance: 1.77386\n"
     ]
    },
    {
     "data": {
      "application/vnd.jupyter.widget-view+json": {
       "model_id": "ca0bbc0d2ca541158674f55bca80b16e",
       "version_major": 2,
       "version_minor": 0
      },
      "text/plain": [
       "  0%|          | 0/391 [00:00<?, ?it/s]"
      ]
     },
     "metadata": {},
     "output_type": "display_data"
    },
    {
     "name": "stdout",
     "output_type": "stream",
     "text": [
      "Epoch [8]\tLearning Rate: 0.0003\tTrain loss: 3.31554\tTest loss: 3.12269\tParameter distance: 1.59085\n"
     ]
    },
    {
     "data": {
      "application/vnd.jupyter.widget-view+json": {
       "model_id": "7e6f2f0ab433438089fdffa43b756a62",
       "version_major": 2,
       "version_minor": 0
      },
      "text/plain": [
       "  0%|          | 0/391 [00:00<?, ?it/s]"
      ]
     },
     "metadata": {},
     "output_type": "display_data"
    },
    {
     "name": "stdout",
     "output_type": "stream",
     "text": [
      "Epoch [9]\tLearning Rate: 0.0003\tTrain loss: 2.99599\tTest loss: 2.86941\tParameter distance: 1.43689\n"
     ]
    },
    {
     "data": {
      "application/vnd.jupyter.widget-view+json": {
       "model_id": "53b18029af4145a794102e6e6d966486",
       "version_major": 2,
       "version_minor": 0
      },
      "text/plain": [
       "  0%|          | 0/391 [00:00<?, ?it/s]"
      ]
     },
     "metadata": {},
     "output_type": "display_data"
    },
    {
     "name": "stdout",
     "output_type": "stream",
     "text": [
      "Epoch [10]\tLearning Rate: 0.0003\tTrain loss: 2.77660\tTest loss: 2.69033\tParameter distance: 1.30436\n"
     ]
    },
    {
     "data": {
      "application/vnd.jupyter.widget-view+json": {
       "model_id": "787b3d89d2be46a7b664d4089bc25199",
       "version_major": 2,
       "version_minor": 0
      },
      "text/plain": [
       "  0%|          | 0/391 [00:00<?, ?it/s]"
      ]
     },
     "metadata": {},
     "output_type": "display_data"
    },
    {
     "name": "stdout",
     "output_type": "stream",
     "text": [
      "Epoch [11]\tLearning Rate: 0.0003\tTrain loss: 2.61850\tTest loss: 2.55802\tParameter distance: 1.18840\n"
     ]
    },
    {
     "data": {
      "application/vnd.jupyter.widget-view+json": {
       "model_id": "e855a03d98964ffa8359f3c76d62afa3",
       "version_major": 2,
       "version_minor": 0
      },
      "text/plain": [
       "  0%|          | 0/391 [00:00<?, ?it/s]"
      ]
     },
     "metadata": {},
     "output_type": "display_data"
    },
    {
     "name": "stdout",
     "output_type": "stream",
     "text": [
      "Epoch [12]\tLearning Rate: 0.0003\tTrain loss: 2.49994\tTest loss: 2.45667\tParameter distance: 1.08561\n"
     ]
    },
    {
     "data": {
      "application/vnd.jupyter.widget-view+json": {
       "model_id": "f4a7239c691f4d169ac98c30bcf3eb45",
       "version_major": 2,
       "version_minor": 0
      },
      "text/plain": [
       "  0%|          | 0/391 [00:00<?, ?it/s]"
      ]
     },
     "metadata": {},
     "output_type": "display_data"
    },
    {
     "name": "stdout",
     "output_type": "stream",
     "text": [
      "Epoch [13]\tLearning Rate: 0.0003\tTrain loss: 2.40840\tTest loss: 2.37722\tParameter distance: 0.99388\n"
     ]
    },
    {
     "data": {
      "application/vnd.jupyter.widget-view+json": {
       "model_id": "82806676dd2949bda70e33e94498c6e4",
       "version_major": 2,
       "version_minor": 0
      },
      "text/plain": [
       "  0%|          | 0/391 [00:00<?, ?it/s]"
      ]
     },
     "metadata": {},
     "output_type": "display_data"
    },
    {
     "name": "stdout",
     "output_type": "stream",
     "text": [
      "Epoch [14]\tLearning Rate: 0.0003\tTrain loss: 2.33618\tTest loss: 2.31373\tParameter distance: 0.91147\n"
     ]
    },
    {
     "data": {
      "application/vnd.jupyter.widget-view+json": {
       "model_id": "2d23107dc6734bde9eab8dcf930097b8",
       "version_major": 2,
       "version_minor": 0
      },
      "text/plain": [
       "  0%|          | 0/391 [00:00<?, ?it/s]"
      ]
     },
     "metadata": {},
     "output_type": "display_data"
    },
    {
     "name": "stdout",
     "output_type": "stream",
     "text": [
      "Epoch [15]\tLearning Rate: 0.0003\tTrain loss: 2.27831\tTest loss: 2.26243\tParameter distance: 0.83717\n"
     ]
    },
    {
     "data": {
      "application/vnd.jupyter.widget-view+json": {
       "model_id": "84613b5c17e54660aa835efbd7761dba",
       "version_major": 2,
       "version_minor": 0
      },
      "text/plain": [
       "  0%|          | 0/391 [00:00<?, ?it/s]"
      ]
     },
     "metadata": {},
     "output_type": "display_data"
    },
    {
     "name": "stdout",
     "output_type": "stream",
     "text": [
      "Epoch [16]\tLearning Rate: 0.0003\tTrain loss: 2.23144\tTest loss: 2.22057\tParameter distance: 0.76997\n"
     ]
    },
    {
     "data": {
      "application/vnd.jupyter.widget-view+json": {
       "model_id": "c9656284307642b187f0fc45bfc06d00",
       "version_major": 2,
       "version_minor": 0
      },
      "text/plain": [
       "  0%|          | 0/391 [00:00<?, ?it/s]"
      ]
     },
     "metadata": {},
     "output_type": "display_data"
    },
    {
     "name": "stdout",
     "output_type": "stream",
     "text": [
      "Epoch [17]\tLearning Rate: 0.0003\tTrain loss: 2.19314\tTest loss: 2.18618\tParameter distance: 0.70903\n"
     ]
    },
    {
     "data": {
      "application/vnd.jupyter.widget-view+json": {
       "model_id": "48d62f8a86c54bd9a734cb6e741e625f",
       "version_major": 2,
       "version_minor": 0
      },
      "text/plain": [
       "  0%|          | 0/391 [00:00<?, ?it/s]"
      ]
     },
     "metadata": {},
     "output_type": "display_data"
    },
    {
     "name": "stdout",
     "output_type": "stream",
     "text": [
      "Epoch [18]\tLearning Rate: 0.0003\tTrain loss: 2.16165\tTest loss: 2.15779\tParameter distance: 0.65367\n"
     ]
    },
    {
     "data": {
      "application/vnd.jupyter.widget-view+json": {
       "model_id": "b2e908c2577b4cd6b74056c8984133c1",
       "version_major": 2,
       "version_minor": 0
      },
      "text/plain": [
       "  0%|          | 0/391 [00:00<?, ?it/s]"
      ]
     },
     "metadata": {},
     "output_type": "display_data"
    },
    {
     "name": "stdout",
     "output_type": "stream",
     "text": [
      "Epoch [19]\tLearning Rate: 0.0003\tTrain loss: 2.13565\tTest loss: 2.13428\tParameter distance: 0.60333\n"
     ]
    },
    {
     "data": {
      "application/vnd.jupyter.widget-view+json": {
       "model_id": "56d8ed59238749a7976a4de675fabb29",
       "version_major": 2,
       "version_minor": 0
      },
      "text/plain": [
       "  0%|          | 0/391 [00:00<?, ?it/s]"
      ]
     },
     "metadata": {},
     "output_type": "display_data"
    },
    {
     "name": "stdout",
     "output_type": "stream",
     "text": [
      "Epoch [20]\tLearning Rate: 0.0003\tTrain loss: 2.11410\tTest loss: 2.11473\tParameter distance: 0.55747\n"
     ]
    }
   ],
   "source": [
    "EPOCHS = 25\n",
    "online_beta_hat = np.zeros(d+1)\n",
    "lr = 3e-4\n",
    "batch_size = 256\n",
    "print(f\"Batch size: {batch_size}\")\n",
    "\n",
    "param_distance = np.zeros(EPOCHS)\n",
    "train_losses = np.zeros(EPOCHS)\n",
    "test_losses = np.zeros(EPOCHS)\n",
    "for epoch in range(EPOCHS):\n",
    "    online_beta_hat, train_loss = sgd(batch_size=batch_size, lr=lr, params=online_beta_hat, data=X_train, y_true=y_train)\n",
    "    ## inference\n",
    "    test_pred = X_test @ online_beta_hat\n",
    "    test_loss = mean_squared_error(y_true=y_test, y_pred=test_pred)\n",
    "    distance = l2norm(beta-online_beta_hat)\n",
    "    \n",
    "    print(f\"Epoch [{epoch+1}]\\tLearning Rate: {lr}\\tTrain loss: {train_loss:.5f}\\tTest loss: {test_loss:.5f}\\tParameter distance: {distance:.5f}\")\n",
    "    train_losses[epoch] = train_loss\n",
    "    test_losses[epoch] = test_loss\n",
    "    param_distance[epoch] = distance"
   ]
  },
  {
   "cell_type": "code",
   "execution_count": 42,
   "id": "c6d4614c",
   "metadata": {},
   "outputs": [
    {
     "data": {
      "image/png": "[encoded data removed]",
      "text/plain": [
       "<Figure size 1400x400 with 3 Axes>"
      ]
     },
     "metadata": {},
     "output_type": "display_data"
    }
   ],
   "source": [
    "plt.figure(figsize=(14, 4))\n",
    "\n",
    "plt.subplot(131)\n",
    "plt.plot(train_losses)\n",
    "plt.grid(True)\n",
    "plt.title(\"Training error\")\n",
    "plt.xlabel(\"Epochs\")\n",
    "plt.ylabel(\"Loss\")\n",
    "\n",
    "plt.subplot(132)\n",
    "plt.plot(test_losses)\n",
    "plt.grid(True)\n",
    "plt.title(\"Test error\")\n",
    "plt.xlabel(\"Epochs\")\n",
    "plt.ylabel(\"Loss\")\n",
    "\n",
    "plt.subplot(133)\n",
    "plt.plot(param_distance)\n",
    "plt.grid(True)\n",
    "plt.title(\"Parameter distances\")\n",
    "plt.xlabel(\"Epochs\")\n",
    "plt.ylabel(\"Difference\")\n",
    "\n",
    "plt.suptitle(f\"Loss function when batch size = {batch_size}, learning rate = {lr}\")\n",
    "plt.tight_layout()\n",
    "plt.show()"
   ]
  },
  {
   "cell_type": "code",
   "execution_count": null,
   "id": "84c0bc0f",
   "metadata": {},
   "outputs": [],
   "source": []
  }
 ],
 "metadata": {
  "kernelspec": {
   "display_name": "Python 3 (ipykernel)",
   "language": "python",
   "name": "python3"
  },
  "language_info": {
   "codemirror_mode": {
    "name": "ipython",
    "version": 3
   },
   "file_extension": ".py",
   "mimetype": "text/x-python",
   "name": "python",
   "nbconvert_exporter": "python",
   "pygments_lexer": "ipython3",
   "version": "3.10.11"
  }
 },
 "nbformat": 4,
 "nbformat_minor": 5
}
