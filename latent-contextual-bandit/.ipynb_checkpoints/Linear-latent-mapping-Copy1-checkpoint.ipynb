{
 "cells": [
  {
   "cell_type": "code",
   "execution_count": 1,
   "id": "315edac8",
   "metadata": {},
   "outputs": [],
   "source": [
    "import numpy as np\n",
    "import matplotlib.pyplot as plt\n",
    "from abc import ABC, abstractmethod\n",
    "from collections import defaultdict\n",
    "from tqdm import tqdm\n",
    "\n",
    "%matplotlib inline"
   ]
  },
  {
   "cell_type": "code",
   "execution_count": 2,
   "id": "e8b6a0a1",
   "metadata": {},
   "outputs": [],
   "source": [
    "def shermanMorrison(V:np.ndarray, x:np.ndarray):\n",
    "    \"\"\"\n",
    "    ${V_t}^{-1} = V_{t-1}^{-1} - \\frac{V_{t-1}^{-1}xx^T V_{t-1}^{-1}}{1 + x^T V_{t-1}^{-1} x}$\n",
    "    V: inverse of old gram matrix, corresponding to $V_{t-1}$.\n",
    "    x: a new observed context\n",
    "    return: inverse of new gram matrix\n",
    "    \"\"\"\n",
    "    numerator = np.einsum(\"ij, j, k, kl -> il\", V, x, x, V)\n",
    "    denominator = (1 + np.einsum(\"i, ij, j ->\", x, V, x))\n",
    "    return V - (numerator / denominator)\n",
    "\n",
    "\n",
    "def l2norm(v:np.ndarray):\n",
    "    v = v.flatten()\n",
    "    return np.sqrt(np.sum(v ** 2))\n",
    "\n",
    "\n",
    "def matrix_norm(m:np.ndarray, frobenius:bool):\n",
    "    assert len(m.shape) == 2\n",
    "    if frobenius:\n",
    "        ## frobenius norm\n",
    "        return np.linalg.norm(m)\n",
    "    ## spectral norm\n",
    "    return np.linalg.norm(m, 2)\n",
    "\n",
    "\n",
    "def covariance_generator(d:int):\n",
    "    rnd = np.random.uniform(low=-0.5, high=0.5, size=d*d).reshape(d, d)\n",
    "    ## make a symmetric matrix\n",
    "    sym = (rnd + rnd.T) / 2\n",
    "    ## make positive semi-definite and bound its maximum singular value\n",
    "    mat = sym @ sym.T\n",
    "    return mat\n",
    "\n",
    "\n",
    "def minmax(v:np.ndarray, bound:float=1.):\n",
    "    min = np.min(v)\n",
    "    max = np.max(v)\n",
    "    return ((v - min) / (max - min)) * bound\n",
    "\n",
    "\n",
    "def left_pseudo_inverse(A:np.ndarray):\n",
    "    d, k = A.shape\n",
    "    u, A_sig, v_T = np.linalg.svd(A)\n",
    "    \n",
    "    B_sig = np.zeros((k, d))\n",
    "    for i in range(k):\n",
    "        B_sig[i, i] = 1 / A_sig[i]\n",
    "    \n",
    "    B = v_T.T @ B_sig @ u.T\n",
    "    \n",
    "    return B\n",
    "\n",
    "\n",
    "def rademacher(size:int):\n",
    "    \"\"\"\n",
    "    Generate Rademacher random variables.\n",
    "\n",
    "    Args:\n",
    "    size (int): Number of random variables to generate.\n",
    "\n",
    "    Returns:\n",
    "    numpy.ndarray: An array of Rademacher random variables.\n",
    "    \"\"\"\n",
    "    return 2 * np.random.randint(0, 2, size) - 1\n",
    "\n",
    "\n",
    "def subgaussian_noise(distribution:str, size:int, var:float=None):\n",
    "    \"\"\"\n",
    "    distribution (str): the distribution to sample a sub-Gaussian noise\n",
    "    size (int): The number of total rounds (T)\n",
    "    var (float): The variance proxy of the noise\n",
    "    \"\"\"\n",
    "    if not var:\n",
    "        assert distribution in [\"gaussian\", \"uniform\"]\n",
    "    \n",
    "    if distribution == \"gaussian\":\n",
    "        if not var:\n",
    "            var = 1\n",
    "        noise = np.random.normal(loc=0, scale=var, size=size) \n",
    "    elif distribution == \"uniform\":\n",
    "        if not var:\n",
    "            low = -1\n",
    "            high = 1\n",
    "            var = ((high - low) ** 2) / 12\n",
    "        else:\n",
    "            low = -np.sqrt(3 * var)\n",
    "            high = np.sqrt(3 * var)\n",
    "        noise = np.random.uniform(low=low, high=high, size=size)\n",
    "    else:\n",
    "        var = 1\n",
    "        noise = rademacher(size=size)\n",
    "    return noise, var"
   ]
  },
  {
   "cell_type": "code",
   "execution_count": 3,
   "id": "e638d78b",
   "metadata": {},
   "outputs": [],
   "source": [
    "def sampleGenerator(num_samples:int, obs_dim:int, latent_dim:int, noise_var:float=None, noise_dist:str=\"gaussian\",\n",
    "                    feature_bound:float=None, matrix_lower_bound:float=None, matrix_upper_bound:float=None, disjoint:bool=True, seed:int=7777):\n",
    "    \"\"\"\n",
    "    num_samples: the number of samples\n",
    "    obs_dim: the dimension of an observable context\n",
    "    latent_dim: the dimension of a latent context\n",
    "    noise_var: variance of the noise added to the observable contexts\n",
    "    feature_bound: the upper bound of the norm of the observable contexts\n",
    "    matrix_bound: the upper bound of the spectral norm of the encoder matrix\n",
    "    disjoint: represents if the latent features are disjoint are not\n",
    "    \"\"\"\n",
    "    np.random.seed(seed)\n",
    "    \n",
    "    ## latent features\n",
    "    Z_cov = covariance_generator(latent_dim)\n",
    "    Z = np.random.multivariate_normal(mean=np.ones(latent_dim), cov=Z_cov, size=num_samples)\n",
    "    \n",
    "    ## mapping noise\n",
    "    context_noise, var = subgaussian_noise(distribution=noise_dist, size=num_samples*obs_dim, var=noise_var)\n",
    "    context_noise = context_noise.reshape(-1, d)\n",
    "    \n",
    "    ## latent mapping decoder and observable features\n",
    "    if disjoint:\n",
    "        A = np.random.multivariate_normal(mean=np.zeros(latent_dim), cov=np.identity(latent_dim), size=obs_dim)\n",
    "    else:\n",
    "        A_cov = covariance_generator(latent_dim)\n",
    "        A = np.random.multivariate_normal(mean=np.zeros(latent_dim), cov=A_cov, size=obs_dim)\n",
    "\n",
    "    if feature_bound:\n",
    "        for i in range(Z.shape[0]):\n",
    "            row = Z[i, :]\n",
    "            norm = l2norm(row)\n",
    "            row *= (feature_bound / norm)\n",
    "            Z[i, :] = row\n",
    "    \n",
    "    if matrix_lower_bound:\n",
    "        u, sigma, v = np.linalg.svd(A)\n",
    "        sigma = sigma - min(sigma) + matrix_lower_bound\n",
    "        new_sigma = np.zeros(A.shape)\n",
    "        for i in range(sigma.shape[0]):\n",
    "            new_sigma[i, i] = sigma[i]\n",
    "        A = u @ new_sigma @ v\n",
    "    \n",
    "    if matrix_upper_bound:\n",
    "        max_singular = np.linalg.norm(A, 2)\n",
    "        A *= (matrix_upper_bound / max_singular)\n",
    "    \n",
    "    X = Z @ A.T + context_noise\n",
    "\n",
    "    if feature_bound:\n",
    "        for i in range(X.shape[0]):\n",
    "            row = X[i, :]\n",
    "            norm = l2norm(row)\n",
    "            row *= (feature_bound / norm)\n",
    "            X[i, :] = row\n",
    "    \n",
    "    ## encoder bounded by C_B\n",
    "    B = left_pseudo_inverse(A)\n",
    "    \n",
    "    return B, Z, X, context_noise"
   ]
  },
  {
   "cell_type": "code",
   "execution_count": 4,
   "id": "cfc8a6f2",
   "metadata": {},
   "outputs": [],
   "source": [
    "def param_generator(dimension:int, distribution:str=\"gaussian\", bound:float=1.):\n",
    "    if distribution == \"gaussian\":\n",
    "        cov = covariance_generator(dimension)\n",
    "        mean = np.random.randint(-1, 2, size=dimension)\n",
    "        param = np.random.multivariate_normal(mean=mean, cov=cov)\n",
    "    else:\n",
    "        # uniform\n",
    "        param = np.random.random(dimension)\n",
    "        \n",
    "    if bound:\n",
    "        norm = l2norm(param)\n",
    "        param *= (bound / norm)\n",
    "    \n",
    "    return param"
   ]
  },
  {
   "cell_type": "code",
   "execution_count": 5,
   "id": "30a7be12",
   "metadata": {},
   "outputs": [],
   "source": [
    "## Agent\n",
    "class ContextualBandit(ABC):\n",
    "    @abstractmethod\n",
    "    def choose(self, x): pass\n",
    "    \n",
    "    @abstractmethod\n",
    "    def update(self, x, r): pass"
   ]
  },
  {
   "cell_type": "code",
   "execution_count": 6,
   "id": "45be01f2",
   "metadata": {},
   "outputs": [],
   "source": [
    "# class LinUCB(ContextualBandit):\n",
    "#     def __init__(self, d, alpha, lbda=1):\n",
    "#         self.d = d\n",
    "#         self.alpha = alpha\n",
    "#         self.t = 0\n",
    "#         self.V = lbda * np.identity(d)\n",
    "#         self.xty = np.zeros(d)\n",
    "#         self.Vinv = None\n",
    "        \n",
    "#     def choose(self, x):\n",
    "#         # x: action set at each round (N, d)\n",
    "#         self.t += 1\n",
    "#         if self.t == 1:\n",
    "#             self.Vinv = np.linalg.inv(self.V)\n",
    "            \n",
    "#         ## compute the ridge estimator\n",
    "#         theta_hat = self.Vinv @ self.xty\n",
    "        \n",
    "#         ## observe the context\n",
    "#         N, d = x.shape\n",
    "        \n",
    "#         ## compute the ucb scores for each arm\n",
    "#         expected = x @ theta_hat # (N, ) theta_T @ x_t\n",
    "#         width = np.sqrt(np.einsum(\"Ni, ij, Nj -> N\", x, self.Vinv, x) * np.log(self.t)) # (N, ) widths\n",
    "#         ucb_scores = expected + (self.alpha * width) # (N, ) ucb score\n",
    "        \n",
    "#         ## chose the argmax the ucb score\n",
    "#         maximum = np.max(ucb_scores)\n",
    "#         argmax, = np.where(ucb_scores == maximum)\n",
    "        \n",
    "#         return np.random.choice(argmax)\n",
    "    \n",
    "#     def update(self, x, r):\n",
    "#         # x: context of the chosen action (d, )\n",
    "#         self.Vinv = shermanMorrison(self.Vinv, x)\n",
    "#         self.xty += (r * x)"
   ]
  },
  {
   "cell_type": "code",
   "execution_count": 7,
   "id": "dae6e0e6",
   "metadata": {},
   "outputs": [],
   "source": [
    "class LinUCB:\n",
    "    def __init__(self, d, alpha):\n",
    "        ## Initialization\n",
    "        self.t=0\n",
    "        self.d=d\n",
    "        self.alpha = alpha\n",
    "        self.beta_hat=np.zeros(d)\n",
    "        self.Ainv = np.eye(d)\n",
    "        self.b = np.zeros(d)\n",
    "        \n",
    "        '''\n",
    "        N : # of arms\n",
    "        d : dimension of contexts\n",
    "        t : steps taken\n",
    "        \n",
    "        '''\n",
    "    def choose(self, contexts):\n",
    "        # contexts: list [X(1),...X(N)]\n",
    "        N = len(contexts)\n",
    "        self.t = self.t + 1\n",
    "        contexts = np.array(contexts) # N times d matrix\n",
    "        means = np.array(contexts) @ self.beta_hat\n",
    "        norms = np.sqrt(np.einsum('Ni,ij,Nj -> N', contexts, self.Ainv, contexts))\n",
    "        est = means + self.alpha * np.sqrt(np.log(self.t)) * norms\n",
    "#         est = means + self.alpha * norms\n",
    "        a_t = np.random.choice(np.where(est == est.max())[0])\n",
    "        self.action = a_t\n",
    "        self.Ainv = shermanMorrison(self.Ainv, contexts[a_t])\n",
    "        return(self.action)\n",
    "\n",
    "    def update(self, context, reward):\n",
    "        self.b += reward * context\n",
    "        try:\n",
    "            self.beta_hat = self.Ainv @ self.b\n",
    "        except:\n",
    "            print('Failed to update beta_hat')"
   ]
  },
  {
   "cell_type": "code",
   "execution_count": 8,
   "id": "3deb0ea5",
   "metadata": {},
   "outputs": [],
   "source": [
    "def run(agent:LinUCB, horizon:int, action_space:int, num_actions:int, observables:np.ndarray, \n",
    "        latents:np.ndarray, reward_param:np.ndarray, reward:np.ndarray, use_tqdm:bool=True, verbose:bool=False):\n",
    "    if use_tqdm:\n",
    "        bar = tqdm(range(horizon))\n",
    "    else:\n",
    "        bar = range(horizon)\n",
    "        \n",
    "    regrets = np.zeros(horizon)\n",
    "        \n",
    "    for t in bar:\n",
    "        indices = np.random.randint(0, action_space, num_actions) # sample action set for each round\n",
    "        action_set, reward_set, latent_set = observables[indices], reward[indices], latents[indices]\n",
    "        \n",
    "        ## compute optimal reward and optimal action\n",
    "        exp_rewards = latent_set @ reward_param     # (N, ) expected rewards\n",
    "        optimal_action = np.argmax(exp_rewards)\n",
    "        optimal_reward = exp_rewards[optimal_action]\n",
    "        \n",
    "        ## choose the best action\n",
    "        chosen_arm = agent.choose(action_set)    # index in the action set\n",
    "        chosen_context = action_set[chosen_arm]\n",
    "        \n",
    "        ## observe the reward\n",
    "        chosen_reward = reward_set[chosen_arm]\n",
    "        \n",
    "        ## compute the regret\n",
    "        instance_regret = optimal_reward - exp_rewards[chosen_arm]\n",
    "#         print(instance_regret)\n",
    "        regrets[t] = instance_regret\n",
    "        \n",
    "        ## update the agent\n",
    "        agent.update(chosen_context, chosen_reward)\n",
    "        \n",
    "        if verbose: \n",
    "            print(f\"round {t+1}, optimal action : {optimal_action}, optimal reward : {optimal_reward:.3f}, chosen action : {chosen_arm}\")\n",
    "            print(f\"\\trealized reward : {chosen_reward:.3f}, expected reward: {exp_rewards[chosen_arm]:.3f}, regret : {instance_regret:.3f}, cum.regret : {np.sum(regrets):.3f}\")\n",
    "            \n",
    "    return regrets"
   ]
  },
  {
   "cell_type": "code",
   "execution_count": 9,
   "id": "88c8db77",
   "metadata": {},
   "outputs": [],
   "source": [
    "# end-to-end runner\n",
    "def end2end(num_samples:int, num_actions:int, d:int, k:int, ctx_noise:float, reward_noise:float, disjoint:bool, \n",
    "            bounds:list, reward_dist:str, alphas:list, seed:int, use_tqdm:bool=True, verbose:bool=False):\n",
    "    feature_bound, matrix_lower_bound, matrix_upper_bound, param_bound, reward_bound = bounds\n",
    "    decoder, Z, X, context_noise = sampleGenerator(num_samples=num_samples, obs_dim=d, latent_dim=k, \n",
    "                                                   noise_var=ctx_noise, feature_bound=feature_bound, \n",
    "                                                   matrix_lower_bound=matrix_lower_bound,\n",
    "                                                   matrix_upper_bound=matrix_upper_bound,\n",
    "                                                   disjoint=disjoint, seed=seed)\n",
    "    \n",
    "    reward_param = param_generator(dimension=k, distribution=reward_dist, bound=param_bound)\n",
    "    reward_error, var = subgaussian_noise(distribution=\"gaussian\", size=M, var=reward_noise)\n",
    "    Y = Z @ reward_param + reward_error\n",
    "    if reward_bound:\n",
    "        Y = minmax(Y, bound=reward_bound)\n",
    "    \n",
    "    regret_result = {}\n",
    "    for alpha in alphas:\n",
    "        print(f\"=====================alpha={alpha}=====================\")\n",
    "        agent = LinUCB(d=d, alpha=alpha)\n",
    "        result = run(agent=agent, horizon=T, action_space=num_samples, num_actions=num_actions, \n",
    "                     observables=X, latents=Z, reward_param=reward_param, reward=Y, \n",
    "                     use_tqdm=use_tqdm, verbose=verbose)\n",
    "        regret_result[alpha] = result\n",
    "    \n",
    "    return regret_result"
   ]
  },
  {
   "cell_type": "code",
   "execution_count": 10,
   "id": "aa3b3959",
   "metadata": {},
   "outputs": [],
   "source": [
    "## hyper-parameters\n",
    "M = 50000         # number of samples\n",
    "N = 20            # number of actions in the action set at each round\n",
    "d = 9             # observable dimension\n",
    "k = 7             # latent dimension\n",
    "T = 20000         # total time horizon\n",
    "\n",
    "feature_bound = 1.\n",
    "matrix_lower_bound = 1.  # bound of the encoder\n",
    "matrix_upper_bound = 2.\n",
    "param_bound = 1.\n",
    "reward_bound = 1.\n",
    "\n",
    "ALPHAS = [0.0, 0.1, 0.3, 0.5, 0.7, 1.0]\n",
    "run_time = 10"
   ]
  },
  {
   "cell_type": "markdown",
   "id": "520683c3",
   "metadata": {},
   "source": [
    "# $\\sigma_{\\eta} = \\frac{1}{\\sqrt{T}}$"
   ]
  },
  {
   "cell_type": "markdown",
   "id": "d6955e8a",
   "metadata": {},
   "source": [
    "## Decoder mapping $\\sim N(0, I_k)$"
   ]
  },
  {
   "cell_type": "markdown",
   "id": "5c688ab2",
   "metadata": {},
   "source": [
    "### $\\sigma_\\epsilon = 0.1$ (Low noise variance)"
   ]
  },
  {
   "cell_type": "code",
   "execution_count": 11,
   "id": "dcdb9866",
   "metadata": {},
   "outputs": [],
   "source": [
    "reward_noise = 0.1"
   ]
  },
  {
   "cell_type": "code",
   "execution_count": 12,
   "id": "46887a8b",
   "metadata": {
    "scrolled": true
   },
   "outputs": [
    {
     "name": "stdout",
     "output_type": "stream",
     "text": [
      "Trial 0\n",
      "=====================alpha=0.0=====================\n"
     ]
    },
    {
     "name": "stderr",
     "output_type": "stream",
     "text": [
      "100%|████████████████████████| 20000/20000 [00:04<00:00, 4491.07it/s]\n"
     ]
    },
    {
     "name": "stdout",
     "output_type": "stream",
     "text": [
      "=====================alpha=0.1=====================\n"
     ]
    },
    {
     "name": "stderr",
     "output_type": "stream",
     "text": [
      "100%|████████████████████████| 20000/20000 [00:04<00:00, 4589.97it/s]\n"
     ]
    },
    {
     "name": "stdout",
     "output_type": "stream",
     "text": [
      "=====================alpha=0.3=====================\n"
     ]
    },
    {
     "name": "stderr",
     "output_type": "stream",
     "text": [
      "100%|████████████████████████| 20000/20000 [00:04<00:00, 4361.40it/s]\n"
     ]
    },
    {
     "name": "stdout",
     "output_type": "stream",
     "text": [
      "=====================alpha=0.5=====================\n"
     ]
    },
    {
     "name": "stderr",
     "output_type": "stream",
     "text": [
      "100%|████████████████████████| 20000/20000 [00:04<00:00, 4300.86it/s]\n"
     ]
    },
    {
     "name": "stdout",
     "output_type": "stream",
     "text": [
      "=====================alpha=0.7=====================\n"
     ]
    },
    {
     "name": "stderr",
     "output_type": "stream",
     "text": [
      "100%|████████████████████████| 20000/20000 [00:04<00:00, 4299.00it/s]\n"
     ]
    },
    {
     "name": "stdout",
     "output_type": "stream",
     "text": [
      "=====================alpha=1.0=====================\n"
     ]
    },
    {
     "name": "stderr",
     "output_type": "stream",
     "text": [
      "100%|████████████████████████| 20000/20000 [00:04<00:00, 4299.18it/s]\n"
     ]
    },
    {
     "name": "stdout",
     "output_type": "stream",
     "text": [
      "Trial 1\n",
      "=====================alpha=0.0=====================\n"
     ]
    },
    {
     "name": "stderr",
     "output_type": "stream",
     "text": [
      "100%|████████████████████████| 20000/20000 [00:04<00:00, 4331.81it/s]\n"
     ]
    },
    {
     "name": "stdout",
     "output_type": "stream",
     "text": [
      "=====================alpha=0.1=====================\n"
     ]
    },
    {
     "name": "stderr",
     "output_type": "stream",
     "text": [
      "100%|████████████████████████| 20000/20000 [00:04<00:00, 4335.90it/s]\n"
     ]
    },
    {
     "name": "stdout",
     "output_type": "stream",
     "text": [
      "=====================alpha=0.3=====================\n"
     ]
    },
    {
     "name": "stderr",
     "output_type": "stream",
     "text": [
      "100%|████████████████████████| 20000/20000 [00:04<00:00, 4345.73it/s]\n"
     ]
    },
    {
     "name": "stdout",
     "output_type": "stream",
     "text": [
      "=====================alpha=0.5=====================\n"
     ]
    },
    {
     "name": "stderr",
     "output_type": "stream",
     "text": [
      "100%|████████████████████████| 20000/20000 [00:04<00:00, 4540.03it/s]\n"
     ]
    },
    {
     "name": "stdout",
     "output_type": "stream",
     "text": [
      "=====================alpha=0.7=====================\n"
     ]
    },
    {
     "name": "stderr",
     "output_type": "stream",
     "text": [
      "100%|████████████████████████| 20000/20000 [00:04<00:00, 4595.37it/s]\n"
     ]
    },
    {
     "name": "stdout",
     "output_type": "stream",
     "text": [
      "=====================alpha=1.0=====================\n"
     ]
    },
    {
     "name": "stderr",
     "output_type": "stream",
     "text": [
      "100%|████████████████████████| 20000/20000 [00:04<00:00, 4574.30it/s]\n"
     ]
    },
    {
     "name": "stdout",
     "output_type": "stream",
     "text": [
      "Trial 2\n",
      "=====================alpha=0.0=====================\n"
     ]
    },
    {
     "name": "stderr",
     "output_type": "stream",
     "text": [
      "100%|████████████████████████| 20000/20000 [00:04<00:00, 4483.23it/s]\n"
     ]
    },
    {
     "name": "stdout",
     "output_type": "stream",
     "text": [
      "=====================alpha=0.1=====================\n"
     ]
    },
    {
     "name": "stderr",
     "output_type": "stream",
     "text": [
      "100%|████████████████████████| 20000/20000 [00:04<00:00, 4560.41it/s]\n"
     ]
    },
    {
     "name": "stdout",
     "output_type": "stream",
     "text": [
      "=====================alpha=0.3=====================\n"
     ]
    },
    {
     "name": "stderr",
     "output_type": "stream",
     "text": [
      "100%|████████████████████████| 20000/20000 [00:04<00:00, 4534.85it/s]\n"
     ]
    },
    {
     "name": "stdout",
     "output_type": "stream",
     "text": [
      "=====================alpha=0.5=====================\n"
     ]
    },
    {
     "name": "stderr",
     "output_type": "stream",
     "text": [
      "100%|████████████████████████| 20000/20000 [00:04<00:00, 4609.25it/s]\n"
     ]
    },
    {
     "name": "stdout",
     "output_type": "stream",
     "text": [
      "=====================alpha=0.7=====================\n"
     ]
    },
    {
     "name": "stderr",
     "output_type": "stream",
     "text": [
      "100%|████████████████████████| 20000/20000 [00:04<00:00, 4624.02it/s]\n"
     ]
    },
    {
     "name": "stdout",
     "output_type": "stream",
     "text": [
      "=====================alpha=1.0=====================\n"
     ]
    },
    {
     "name": "stderr",
     "output_type": "stream",
     "text": [
      "100%|████████████████████████| 20000/20000 [00:04<00:00, 4592.38it/s]\n"
     ]
    },
    {
     "name": "stdout",
     "output_type": "stream",
     "text": [
      "Trial 3\n",
      "=====================alpha=0.0=====================\n"
     ]
    },
    {
     "name": "stderr",
     "output_type": "stream",
     "text": [
      "100%|████████████████████████| 20000/20000 [00:04<00:00, 4573.99it/s]\n"
     ]
    },
    {
     "name": "stdout",
     "output_type": "stream",
     "text": [
      "=====================alpha=0.1=====================\n"
     ]
    },
    {
     "name": "stderr",
     "output_type": "stream",
     "text": [
      "100%|████████████████████████| 20000/20000 [00:04<00:00, 4463.19it/s]\n"
     ]
    },
    {
     "name": "stdout",
     "output_type": "stream",
     "text": [
      "=====================alpha=0.3=====================\n"
     ]
    },
    {
     "name": "stderr",
     "output_type": "stream",
     "text": [
      "100%|████████████████████████| 20000/20000 [00:04<00:00, 4641.88it/s]\n"
     ]
    },
    {
     "name": "stdout",
     "output_type": "stream",
     "text": [
      "=====================alpha=0.5=====================\n"
     ]
    },
    {
     "name": "stderr",
     "output_type": "stream",
     "text": [
      "100%|████████████████████████| 20000/20000 [00:04<00:00, 4571.76it/s]\n"
     ]
    },
    {
     "name": "stdout",
     "output_type": "stream",
     "text": [
      "=====================alpha=0.7=====================\n"
     ]
    },
    {
     "name": "stderr",
     "output_type": "stream",
     "text": [
      "100%|████████████████████████| 20000/20000 [00:04<00:00, 4567.31it/s]\n"
     ]
    },
    {
     "name": "stdout",
     "output_type": "stream",
     "text": [
      "=====================alpha=1.0=====================\n"
     ]
    },
    {
     "name": "stderr",
     "output_type": "stream",
     "text": [
      "100%|████████████████████████| 20000/20000 [00:04<00:00, 4550.68it/s]\n"
     ]
    },
    {
     "name": "stdout",
     "output_type": "stream",
     "text": [
      "Trial 4\n",
      "=====================alpha=0.0=====================\n"
     ]
    },
    {
     "name": "stderr",
     "output_type": "stream",
     "text": [
      "100%|████████████████████████| 20000/20000 [00:04<00:00, 4442.03it/s]\n"
     ]
    },
    {
     "name": "stdout",
     "output_type": "stream",
     "text": [
      "=====================alpha=0.1=====================\n"
     ]
    },
    {
     "name": "stderr",
     "output_type": "stream",
     "text": [
      "100%|████████████████████████| 20000/20000 [00:04<00:00, 4545.00it/s]\n"
     ]
    },
    {
     "name": "stdout",
     "output_type": "stream",
     "text": [
      "=====================alpha=0.3=====================\n"
     ]
    },
    {
     "name": "stderr",
     "output_type": "stream",
     "text": [
      "100%|████████████████████████| 20000/20000 [00:04<00:00, 4538.26it/s]\n"
     ]
    },
    {
     "name": "stdout",
     "output_type": "stream",
     "text": [
      "=====================alpha=0.5=====================\n"
     ]
    },
    {
     "name": "stderr",
     "output_type": "stream",
     "text": [
      "100%|████████████████████████| 20000/20000 [00:04<00:00, 4530.08it/s]\n"
     ]
    },
    {
     "name": "stdout",
     "output_type": "stream",
     "text": [
      "=====================alpha=0.7=====================\n"
     ]
    },
    {
     "name": "stderr",
     "output_type": "stream",
     "text": [
      "100%|████████████████████████| 20000/20000 [00:04<00:00, 4521.91it/s]\n"
     ]
    },
    {
     "name": "stdout",
     "output_type": "stream",
     "text": [
      "=====================alpha=1.0=====================\n"
     ]
    },
    {
     "name": "stderr",
     "output_type": "stream",
     "text": [
      "100%|████████████████████████| 20000/20000 [00:04<00:00, 4550.29it/s]\n"
     ]
    },
    {
     "name": "stdout",
     "output_type": "stream",
     "text": [
      "Trial 5\n",
      "=====================alpha=0.0=====================\n"
     ]
    },
    {
     "name": "stderr",
     "output_type": "stream",
     "text": [
      "100%|████████████████████████| 20000/20000 [00:04<00:00, 4497.22it/s]\n"
     ]
    },
    {
     "name": "stdout",
     "output_type": "stream",
     "text": [
      "=====================alpha=0.1=====================\n"
     ]
    },
    {
     "name": "stderr",
     "output_type": "stream",
     "text": [
      "100%|████████████████████████| 20000/20000 [00:04<00:00, 4429.59it/s]\n"
     ]
    },
    {
     "name": "stdout",
     "output_type": "stream",
     "text": [
      "=====================alpha=0.3=====================\n"
     ]
    },
    {
     "name": "stderr",
     "output_type": "stream",
     "text": [
      "100%|████████████████████████| 20000/20000 [00:04<00:00, 4500.90it/s]\n"
     ]
    },
    {
     "name": "stdout",
     "output_type": "stream",
     "text": [
      "=====================alpha=0.5=====================\n"
     ]
    },
    {
     "name": "stderr",
     "output_type": "stream",
     "text": [
      "100%|████████████████████████| 20000/20000 [00:04<00:00, 4527.96it/s]\n"
     ]
    },
    {
     "name": "stdout",
     "output_type": "stream",
     "text": [
      "=====================alpha=0.7=====================\n"
     ]
    },
    {
     "name": "stderr",
     "output_type": "stream",
     "text": [
      "100%|████████████████████████| 20000/20000 [00:04<00:00, 4485.55it/s]\n"
     ]
    },
    {
     "name": "stdout",
     "output_type": "stream",
     "text": [
      "=====================alpha=1.0=====================\n"
     ]
    },
    {
     "name": "stderr",
     "output_type": "stream",
     "text": [
      "100%|████████████████████████| 20000/20000 [00:04<00:00, 4511.21it/s]\n"
     ]
    },
    {
     "name": "stdout",
     "output_type": "stream",
     "text": [
      "Trial 6\n",
      "=====================alpha=0.0=====================\n"
     ]
    },
    {
     "name": "stderr",
     "output_type": "stream",
     "text": [
      "100%|████████████████████████| 20000/20000 [00:04<00:00, 4396.09it/s]\n"
     ]
    },
    {
     "name": "stdout",
     "output_type": "stream",
     "text": [
      "=====================alpha=0.1=====================\n"
     ]
    },
    {
     "name": "stderr",
     "output_type": "stream",
     "text": [
      "100%|████████████████████████| 20000/20000 [00:04<00:00, 4307.72it/s]\n"
     ]
    },
    {
     "name": "stdout",
     "output_type": "stream",
     "text": [
      "=====================alpha=0.3=====================\n"
     ]
    },
    {
     "name": "stderr",
     "output_type": "stream",
     "text": [
      "100%|████████████████████████| 20000/20000 [00:04<00:00, 4431.56it/s]\n"
     ]
    },
    {
     "name": "stdout",
     "output_type": "stream",
     "text": [
      "=====================alpha=0.5=====================\n"
     ]
    },
    {
     "name": "stderr",
     "output_type": "stream",
     "text": [
      "100%|████████████████████████| 20000/20000 [00:04<00:00, 4504.63it/s]\n"
     ]
    },
    {
     "name": "stdout",
     "output_type": "stream",
     "text": [
      "=====================alpha=0.7=====================\n"
     ]
    },
    {
     "name": "stderr",
     "output_type": "stream",
     "text": [
      "100%|████████████████████████| 20000/20000 [00:04<00:00, 4556.79it/s]\n"
     ]
    },
    {
     "name": "stdout",
     "output_type": "stream",
     "text": [
      "=====================alpha=1.0=====================\n"
     ]
    },
    {
     "name": "stderr",
     "output_type": "stream",
     "text": [
      "100%|████████████████████████| 20000/20000 [00:04<00:00, 4552.64it/s]\n"
     ]
    },
    {
     "name": "stdout",
     "output_type": "stream",
     "text": [
      "Trial 7\n",
      "=====================alpha=0.0=====================\n"
     ]
    },
    {
     "name": "stderr",
     "output_type": "stream",
     "text": [
      "100%|████████████████████████| 20000/20000 [00:04<00:00, 4463.41it/s]\n"
     ]
    },
    {
     "name": "stdout",
     "output_type": "stream",
     "text": [
      "=====================alpha=0.1=====================\n"
     ]
    },
    {
     "name": "stderr",
     "output_type": "stream",
     "text": [
      "100%|████████████████████████| 20000/20000 [00:04<00:00, 4443.90it/s]\n"
     ]
    },
    {
     "name": "stdout",
     "output_type": "stream",
     "text": [
      "=====================alpha=0.3=====================\n"
     ]
    },
    {
     "name": "stderr",
     "output_type": "stream",
     "text": [
      "100%|████████████████████████| 20000/20000 [00:04<00:00, 4500.21it/s]\n"
     ]
    },
    {
     "name": "stdout",
     "output_type": "stream",
     "text": [
      "=====================alpha=0.5=====================\n"
     ]
    },
    {
     "name": "stderr",
     "output_type": "stream",
     "text": [
      "100%|████████████████████████| 20000/20000 [00:04<00:00, 4556.83it/s]\n"
     ]
    },
    {
     "name": "stdout",
     "output_type": "stream",
     "text": [
      "=====================alpha=0.7=====================\n"
     ]
    },
    {
     "name": "stderr",
     "output_type": "stream",
     "text": [
      "100%|████████████████████████| 20000/20000 [00:04<00:00, 4540.84it/s]\n"
     ]
    },
    {
     "name": "stdout",
     "output_type": "stream",
     "text": [
      "=====================alpha=1.0=====================\n"
     ]
    },
    {
     "name": "stderr",
     "output_type": "stream",
     "text": [
      "100%|████████████████████████| 20000/20000 [00:04<00:00, 4576.23it/s]\n"
     ]
    },
    {
     "name": "stdout",
     "output_type": "stream",
     "text": [
      "Trial 8\n",
      "=====================alpha=0.0=====================\n"
     ]
    },
    {
     "name": "stderr",
     "output_type": "stream",
     "text": [
      "100%|████████████████████████| 20000/20000 [00:04<00:00, 4486.37it/s]\n"
     ]
    },
    {
     "name": "stdout",
     "output_type": "stream",
     "text": [
      "=====================alpha=0.1=====================\n"
     ]
    },
    {
     "name": "stderr",
     "output_type": "stream",
     "text": [
      "100%|████████████████████████| 20000/20000 [00:04<00:00, 4458.01it/s]\n"
     ]
    },
    {
     "name": "stdout",
     "output_type": "stream",
     "text": [
      "=====================alpha=0.3=====================\n"
     ]
    },
    {
     "name": "stderr",
     "output_type": "stream",
     "text": [
      "100%|████████████████████████| 20000/20000 [00:04<00:00, 4449.97it/s]\n"
     ]
    },
    {
     "name": "stdout",
     "output_type": "stream",
     "text": [
      "=====================alpha=0.5=====================\n"
     ]
    },
    {
     "name": "stderr",
     "output_type": "stream",
     "text": [
      "100%|████████████████████████| 20000/20000 [00:04<00:00, 4487.86it/s]\n"
     ]
    },
    {
     "name": "stdout",
     "output_type": "stream",
     "text": [
      "=====================alpha=0.7=====================\n"
     ]
    },
    {
     "name": "stderr",
     "output_type": "stream",
     "text": [
      "100%|████████████████████████| 20000/20000 [00:04<00:00, 4449.69it/s]\n"
     ]
    },
    {
     "name": "stdout",
     "output_type": "stream",
     "text": [
      "=====================alpha=1.0=====================\n"
     ]
    },
    {
     "name": "stderr",
     "output_type": "stream",
     "text": [
      "100%|████████████████████████| 20000/20000 [00:04<00:00, 4437.12it/s]\n"
     ]
    },
    {
     "name": "stdout",
     "output_type": "stream",
     "text": [
      "Trial 9\n",
      "=====================alpha=0.0=====================\n"
     ]
    },
    {
     "name": "stderr",
     "output_type": "stream",
     "text": [
      "100%|████████████████████████| 20000/20000 [00:04<00:00, 4473.75it/s]\n"
     ]
    },
    {
     "name": "stdout",
     "output_type": "stream",
     "text": [
      "=====================alpha=0.1=====================\n"
     ]
    },
    {
     "name": "stderr",
     "output_type": "stream",
     "text": [
      "100%|████████████████████████| 20000/20000 [00:04<00:00, 4513.77it/s]\n"
     ]
    },
    {
     "name": "stdout",
     "output_type": "stream",
     "text": [
      "=====================alpha=0.3=====================\n"
     ]
    },
    {
     "name": "stderr",
     "output_type": "stream",
     "text": [
      "100%|████████████████████████| 20000/20000 [00:04<00:00, 4544.00it/s]\n"
     ]
    },
    {
     "name": "stdout",
     "output_type": "stream",
     "text": [
      "=====================alpha=0.5=====================\n"
     ]
    },
    {
     "name": "stderr",
     "output_type": "stream",
     "text": [
      "100%|████████████████████████| 20000/20000 [00:04<00:00, 4503.04it/s]\n"
     ]
    },
    {
     "name": "stdout",
     "output_type": "stream",
     "text": [
      "=====================alpha=0.7=====================\n"
     ]
    },
    {
     "name": "stderr",
     "output_type": "stream",
     "text": [
      "100%|████████████████████████| 20000/20000 [00:04<00:00, 4495.60it/s]\n"
     ]
    },
    {
     "name": "stdout",
     "output_type": "stream",
     "text": [
      "=====================alpha=1.0=====================\n"
     ]
    },
    {
     "name": "stderr",
     "output_type": "stream",
     "text": [
      "100%|████████████████████████| 20000/20000 [00:04<00:00, 4490.07it/s]\n"
     ]
    }
   ],
   "source": [
    "results = []\n",
    "for trial in range(run_time):\n",
    "    print(f\"Trial {trial}\")\n",
    "    regret_result = end2end(num_samples=M, num_actions=N, d=d, k=k, ctx_noise=(1 / np.sqrt(T)), \n",
    "                            reward_noise=reward_noise, disjoint=True, \n",
    "                            bounds=[feature_bound, matrix_lower_bound, matrix_upper_bound, param_bound, reward_bound], \n",
    "                            reward_dist=\"gaussian\", alphas=ALPHAS, seed=trial)\n",
    "    results.append(regret_result)"
   ]
  },
  {
   "cell_type": "code",
   "execution_count": 13,
   "id": "c5e09170",
   "metadata": {
    "scrolled": true
   },
   "outputs": [
    {
     "name": "stdout",
     "output_type": "stream",
     "text": [
      "defaultdict(<class 'list'>, {0.0: [array([  0.45299891,   0.85816595,   1.27770375, ..., 167.43895072,\n",
      "       167.43895072, 167.43895072]), array([1.29688361e-01, 3.18859598e-01, 8.03657689e-01, ...,\n",
      "       3.16560426e+02, 3.16560426e+02, 3.16612516e+02]), array([  0.30214732,   0.58658033,   0.87533595, ..., 198.1878761 ,\n",
      "       198.1878761 , 198.1878761 ]), array([  0.31906674,   0.59890779,   0.94878683, ..., 140.71710453,\n",
      "       140.71710453, 140.76223715]), array([ 0.24530495,  0.7257078 ,  1.17348497, ..., 76.20336853,\n",
      "       76.23050522, 76.23050522]), array([0.00000000e+00, 5.96723935e-02, 5.96723935e-02, ...,\n",
      "       2.63167028e+02, 2.63167028e+02, 2.63167028e+02]), array([8.51057772e-02, 2.91974486e-01, 6.39756525e-01, ...,\n",
      "       2.04953741e+02, 2.04953741e+02, 2.04953741e+02]), array([1.53398821e-01, 4.54366356e-01, 1.03151214e+00, ...,\n",
      "       5.58898930e+02, 5.58898930e+02, 5.58898930e+02]), array([1.94006313e-01, 4.50806708e-01, 7.06632433e-01, ...,\n",
      "       2.26223654e+02, 2.26223654e+02, 2.26223654e+02]), array([3.76787203e-01, 7.25999864e-01, 1.30306685e+00, ...,\n",
      "       4.54848539e+02, 4.54848539e+02, 4.54848539e+02])], 0.1: [array([1.32114605e-02, 2.50886028e-01, 3.69853312e-01, ...,\n",
      "       1.38904626e+02, 1.38904626e+02, 1.38904626e+02]), array([  0.4346343 ,   0.62217183,   0.81655499, ..., 296.8379853 ,\n",
      "       296.8379853 , 296.8379853 ]), array([  0.27699853,   0.3931304 ,   0.51431771, ..., 174.91518249,\n",
      "       174.91518249, 174.91518249]), array([  0.3886721 ,   0.8475655 ,   1.29719331, ..., 131.85587263,\n",
      "       131.85587263, 131.85587263]), array([ 0.52628683,  0.70646861,  0.77771594, ..., 66.50665527,\n",
      "       66.50665527, 66.50665527]), array([6.58559643e-02, 2.57974576e-01, 4.13419738e-01, ...,\n",
      "       2.28795265e+02, 2.28795265e+02, 2.28809087e+02]), array([1.46934647e-01, 3.95670335e-01, 7.58251989e-01, ...,\n",
      "       1.94769680e+02, 1.94791493e+02, 1.94791493e+02]), array([  0.68978415,   1.47919613,   1.97825228, ..., 551.65904602,\n",
      "       551.65904602, 551.65904602]), array([  0.33811578,   0.72288514,   0.91241449, ..., 213.89389096,\n",
      "       213.95774673, 213.95774673]), array([1.71427321e-01, 5.25710248e-01, 8.59052975e-01, ...,\n",
      "       3.85098841e+02, 3.85098841e+02, 3.85098841e+02])], 0.3: [array([  0.        ,   0.        ,   0.29907034, ..., 137.08451596,\n",
      "       137.08451596, 137.08451596]), array([  0.41524216,   0.41524216,   0.68990156, ..., 279.97555655,\n",
      "       279.97555655, 279.97555655]), array([1.32186370e-01, 4.11925610e-01, 4.90566394e-01, ...,\n",
      "       1.51219486e+02, 1.51219486e+02, 1.51219486e+02]), array([  0.44600495,   0.92729659,   1.02484699, ..., 120.64807103,\n",
      "       120.67368726, 120.67368726]), array([ 0.193084  ,  0.36895958,  0.50365264, ..., 82.09461138,\n",
      "       82.14500758, 82.14500758]), array([7.90370130e-02, 2.11945177e-01, 5.10303352e-01, ...,\n",
      "       2.47118738e+02, 2.47118738e+02, 2.47141472e+02]), array([  0.39122189,   0.68123847,   1.16753374, ..., 182.83453191,\n",
      "       182.83453191, 182.83453191]), array([1.00661761e-01, 1.94633479e-01, 2.91413572e-01, ...,\n",
      "       4.82766206e+02, 4.82766206e+02, 4.82878568e+02]), array([  0.32179626,   0.80848086,   1.10153238, ..., 191.91752088,\n",
      "       191.91752088, 192.04862125]), array([  0.48639554,   0.91020482,   1.18773382, ..., 337.86281796,\n",
      "       337.91020062, 337.91020062])], 0.5: [array([  0.54528063,   0.82801652,   0.92184438, ..., 129.54685386,\n",
      "       129.54685386, 129.60468286]), array([2.56770804e-01, 4.51204867e-01, 7.55370257e-01, ...,\n",
      "       2.72655960e+02, 2.72655960e+02, 2.72693296e+02]), array([  0.32144193,   0.84181999,   1.09503416, ..., 139.85091308,\n",
      "       139.95283919, 139.95283919]), array([  0.3311762 ,   0.6414375 ,   0.99685106, ..., 128.31328585,\n",
      "       128.31328585, 128.31328585]), array([  0.24294587,   0.4763284 ,   0.78006191, ..., 126.36518246,\n",
      "       126.36518246, 126.37332611]), array([1.95761707e-01, 3.47321487e-01, 7.28248490e-01, ...,\n",
      "       2.30217970e+02, 2.30233495e+02, 2.30233495e+02]), array([  0.62805316,   0.66706457,   0.68326691, ..., 191.54445418,\n",
      "       191.54445418, 191.55120942]), array([  0.54461875,   0.80024947,   1.10971975, ..., 479.42213821,\n",
      "       479.42213821, 479.42213821]), array([5.98094834e-02, 3.81861328e-01, 3.81861328e-01, ...,\n",
      "       2.19044867e+02, 2.19044867e+02, 2.19044867e+02]), array([3.15433724e-01, 7.53451754e-01, 1.05990658e+00, ...,\n",
      "       3.15497619e+02, 3.15632212e+02, 3.15661484e+02])], 0.7: [array([  0.1881422 ,   0.60959925,   1.32415391, ..., 156.76113   ,\n",
      "       156.76113   , 156.76113   ]), array([  0.52375626,   1.25351864,   1.9776272 , ..., 289.21390605,\n",
      "       289.21850624, 289.21850624]), array([1.21458168e-01, 3.31889057e-01, 3.96323737e-01, ...,\n",
      "       1.33047816e+02, 1.33047816e+02, 1.33047816e+02]), array([  0.53345354,   0.69966421,   0.69966421, ..., 147.66829014,\n",
      "       147.66829014, 147.66829014]), array([4.94869870e-02, 3.20894356e-01, 6.09473429e-01, ...,\n",
      "       1.95248149e+02, 1.95248149e+02, 1.95248149e+02]), array([  0.32808499,   0.32808499,   0.33241088, ..., 231.52554229,\n",
      "       231.52554229, 231.52554229]), array([  0.31498809,   0.32109052,   0.95414789, ..., 214.63160807,\n",
      "       214.63160807, 214.63160807]), array([2.43535584e-01, 2.66059413e-01, 3.87966284e-01, ...,\n",
      "       4.65924529e+02, 4.65939024e+02, 4.65939024e+02]), array([  0.25705101,   0.33107561,   0.33107561, ..., 208.74723989,\n",
      "       208.74723989, 208.74723989]), array([  0.58769313,   1.2606538 ,   1.30842604, ..., 323.06711426,\n",
      "       323.06711426, 323.06711426])], 1.0: [array([  0.36283157,   0.74322859,   1.46595261, ..., 231.71806125,\n",
      "       231.71806125, 231.71806125]), array([  0.61147386,   1.51073406,   1.59950969, ..., 308.01603351,\n",
      "       308.02083866, 308.02083866]), array([  0.51688933,   0.70315761,   0.85332801, ..., 133.35561068,\n",
      "       133.35561068, 133.37297673]), array([  0.        ,   0.66685005,   0.99920238, ..., 197.37710458,\n",
      "       197.37710458, 197.45847   ]), array([1.26294678e-01, 5.11252954e-01, 1.00699369e+00, ...,\n",
      "       3.08239443e+02, 3.08240061e+02, 3.08241915e+02]), array([  0.45929612,   0.45929612,   0.51021284, ..., 276.76842281,\n",
      "       276.83428101, 276.83728052]), array([  0.48787972,   0.54473897,   0.91122454, ..., 264.96325535,\n",
      "       264.96325535, 264.96325535]), array([1.09833785e-01, 3.19283305e-01, 7.68517201e-01, ...,\n",
      "       4.77165131e+02, 4.77165131e+02, 4.77165131e+02]), array([  0.39466332,   0.70687964,   1.06174352, ..., 266.33410538,\n",
      "       266.33410538, 266.33410538]), array([9.07705955e-02, 4.43275250e-01, 5.25606208e-01, ...,\n",
      "       3.19117024e+02, 3.19117024e+02, 3.19117024e+02])]})\n"
     ]
    }
   ],
   "source": [
    "alpha_dict = defaultdict(list)\n",
    "for item in results:\n",
    "    for key, val in item.items():\n",
    "        alpha_dict[key].append(np.cumsum(val))\n",
    "        \n",
    "print(alpha_dict)"
   ]
  },
  {
   "cell_type": "code",
   "execution_count": 14,
   "id": "28faa8fe",
   "metadata": {},
   "outputs": [
    {
     "data": {
      "image/png": "[encoded data removed]",
      "text/plain": [
       "<Figure size 1800x1800 with 6 Axes>"
      ]
     },
     "metadata": {},
     "output_type": "display_data"
    }
   ],
   "source": [
    "plt.figure(figsize=(18, 18))\n",
    "for i, alpha in enumerate(alpha_dict.keys()):\n",
    "    mean = np.array(alpha_dict[alpha]).mean(axis=0)\n",
    "    std = np.array(alpha_dict[alpha]).std(axis=0, ddof=1)\n",
    "    \n",
    "    plt.subplot(int(f\"32{i+1}\"))\n",
    "    plt.plot(mean, label=f\"alpha={alpha}\")\n",
    "    plt.fill_between(np.arange(T), mean-std, mean+std, alpha=0.5)\n",
    "    plt.grid(True)\n",
    "    plt.legend()\n",
    "    plt.xlabel(\"Rounds\")\n",
    "    plt.ylabel(\"Cumulative Regrets\")\n",
    "    \n",
    "plt.tight_layout()\n",
    "plt.show()"
   ]
  },
  {
   "cell_type": "code",
   "execution_count": 15,
   "id": "7fe71569",
   "metadata": {
    "scrolled": true
   },
   "outputs": [
    {
     "data": {
      "image/png": "[encoded data removed]",
      "text/plain": [
       "<Figure size 1400x500 with 2 Axes>"
      ]
     },
     "metadata": {},
     "output_type": "display_data"
    }
   ],
   "source": [
    "plt.figure(figsize=(14, 5))\n",
    "plt.subplot(121)\n",
    "for alpha in alpha_dict.keys():\n",
    "    mean = np.array(alpha_dict[alpha]).mean(axis=0)\n",
    "    plt.plot(mean, label=f\"alpha={alpha}\")\n",
    "plt.grid(True)\n",
    "plt.legend()\n",
    "plt.xlabel(\"Rounds\")\n",
    "plt.ylabel(\"Cumulative Regrets\")\n",
    "\n",
    "plt.subplot(122)\n",
    "for alpha in alpha_dict.keys():\n",
    "    mean = np.array(alpha_dict[alpha]).mean(axis=0)\n",
    "    std = np.array(alpha_dict[alpha]).std(axis=0, ddof=1)\n",
    "    plt.plot(mean, label=f\"alpha={alpha}\")\n",
    "    plt.fill_between(np.arange(T), mean-std, mean+std, alpha=0.2)\n",
    "plt.grid(True)\n",
    "plt.legend()\n",
    "plt.xlabel(\"Rounds\")\n",
    "plt.ylabel(\"Cumulative Regrets\")\n",
    "    \n",
    "plt.tight_layout()\n",
    "plt.show()"
   ]
  },
  {
   "cell_type": "markdown",
   "id": "035dba06",
   "metadata": {},
   "source": [
    "### $\\sigma_\\epsilon = 0.5$ (High noise variance)"
   ]
  },
  {
   "cell_type": "code",
   "execution_count": 16,
   "id": "90400fe6",
   "metadata": {},
   "outputs": [],
   "source": [
    "reward_noise = 0.5"
   ]
  },
  {
   "cell_type": "code",
   "execution_count": null,
   "id": "e18d9002",
   "metadata": {
    "scrolled": true
   },
   "outputs": [
    {
     "name": "stdout",
     "output_type": "stream",
     "text": [
      "Trial 0\n",
      "=====================alpha=0.0=====================\n"
     ]
    },
    {
     "name": "stderr",
     "output_type": "stream",
     "text": [
      "100%|████████████████████████| 20000/20000 [00:04<00:00, 4424.04it/s]\n"
     ]
    },
    {
     "name": "stdout",
     "output_type": "stream",
     "text": [
      "=====================alpha=0.1=====================\n"
     ]
    },
    {
     "name": "stderr",
     "output_type": "stream",
     "text": [
      "100%|████████████████████████| 20000/20000 [00:04<00:00, 4275.06it/s]\n"
     ]
    },
    {
     "name": "stdout",
     "output_type": "stream",
     "text": [
      "=====================alpha=0.3=====================\n"
     ]
    },
    {
     "name": "stderr",
     "output_type": "stream",
     "text": [
      "100%|████████████████████████| 20000/20000 [00:04<00:00, 4424.12it/s]\n"
     ]
    },
    {
     "name": "stdout",
     "output_type": "stream",
     "text": [
      "=====================alpha=0.5=====================\n"
     ]
    },
    {
     "name": "stderr",
     "output_type": "stream",
     "text": [
      "100%|████████████████████████| 20000/20000 [00:04<00:00, 4433.10it/s]\n"
     ]
    },
    {
     "name": "stdout",
     "output_type": "stream",
     "text": [
      "=====================alpha=0.7=====================\n"
     ]
    },
    {
     "name": "stderr",
     "output_type": "stream",
     "text": [
      "100%|████████████████████████| 20000/20000 [00:04<00:00, 4404.67it/s]\n"
     ]
    },
    {
     "name": "stdout",
     "output_type": "stream",
     "text": [
      "=====================alpha=1.0=====================\n"
     ]
    },
    {
     "name": "stderr",
     "output_type": "stream",
     "text": [
      "100%|████████████████████████| 20000/20000 [00:04<00:00, 4392.79it/s]\n"
     ]
    },
    {
     "name": "stdout",
     "output_type": "stream",
     "text": [
      "Trial 1\n",
      "=====================alpha=0.0=====================\n"
     ]
    },
    {
     "name": "stderr",
     "output_type": "stream",
     "text": [
      "100%|████████████████████████| 20000/20000 [00:04<00:00, 4417.55it/s]\n"
     ]
    },
    {
     "name": "stdout",
     "output_type": "stream",
     "text": [
      "=====================alpha=0.1=====================\n"
     ]
    },
    {
     "name": "stderr",
     "output_type": "stream",
     "text": [
      "100%|████████████████████████| 20000/20000 [00:04<00:00, 4458.86it/s]\n"
     ]
    },
    {
     "name": "stdout",
     "output_type": "stream",
     "text": [
      "=====================alpha=0.3=====================\n"
     ]
    },
    {
     "name": "stderr",
     "output_type": "stream",
     "text": [
      "100%|████████████████████████| 20000/20000 [00:04<00:00, 4432.20it/s]\n"
     ]
    },
    {
     "name": "stdout",
     "output_type": "stream",
     "text": [
      "=====================alpha=0.5=====================\n"
     ]
    },
    {
     "name": "stderr",
     "output_type": "stream",
     "text": [
      "100%|████████████████████████| 20000/20000 [00:04<00:00, 4424.87it/s]\n"
     ]
    },
    {
     "name": "stdout",
     "output_type": "stream",
     "text": [
      "=====================alpha=0.7=====================\n"
     ]
    },
    {
     "name": "stderr",
     "output_type": "stream",
     "text": [
      "100%|████████████████████████| 20000/20000 [00:04<00:00, 4404.70it/s]\n"
     ]
    },
    {
     "name": "stdout",
     "output_type": "stream",
     "text": [
      "=====================alpha=1.0=====================\n"
     ]
    },
    {
     "name": "stderr",
     "output_type": "stream",
     "text": [
      "100%|████████████████████████| 20000/20000 [00:04<00:00, 4380.33it/s]\n"
     ]
    },
    {
     "name": "stdout",
     "output_type": "stream",
     "text": [
      "Trial 2\n",
      "=====================alpha=0.0=====================\n"
     ]
    },
    {
     "name": "stderr",
     "output_type": "stream",
     "text": [
      "100%|████████████████████████| 20000/20000 [00:04<00:00, 4419.55it/s]\n"
     ]
    },
    {
     "name": "stdout",
     "output_type": "stream",
     "text": [
      "=====================alpha=0.1=====================\n"
     ]
    },
    {
     "name": "stderr",
     "output_type": "stream",
     "text": [
      "100%|████████████████████████| 20000/20000 [00:04<00:00, 4405.83it/s]\n"
     ]
    },
    {
     "name": "stdout",
     "output_type": "stream",
     "text": [
      "=====================alpha=0.3=====================\n"
     ]
    },
    {
     "name": "stderr",
     "output_type": "stream",
     "text": [
      "100%|████████████████████████| 20000/20000 [00:04<00:00, 4415.12it/s]\n"
     ]
    },
    {
     "name": "stdout",
     "output_type": "stream",
     "text": [
      "=====================alpha=0.5=====================\n"
     ]
    },
    {
     "name": "stderr",
     "output_type": "stream",
     "text": [
      "100%|████████████████████████| 20000/20000 [00:04<00:00, 4439.23it/s]\n"
     ]
    },
    {
     "name": "stdout",
     "output_type": "stream",
     "text": [
      "=====================alpha=0.7=====================\n"
     ]
    },
    {
     "name": "stderr",
     "output_type": "stream",
     "text": [
      "100%|████████████████████████| 20000/20000 [00:04<00:00, 4427.53it/s]\n"
     ]
    },
    {
     "name": "stdout",
     "output_type": "stream",
     "text": [
      "=====================alpha=1.0=====================\n"
     ]
    },
    {
     "name": "stderr",
     "output_type": "stream",
     "text": [
      "100%|████████████████████████| 20000/20000 [00:04<00:00, 4407.08it/s]\n"
     ]
    },
    {
     "name": "stdout",
     "output_type": "stream",
     "text": [
      "Trial 3\n",
      "=====================alpha=0.0=====================\n"
     ]
    },
    {
     "name": "stderr",
     "output_type": "stream",
     "text": [
      "100%|████████████████████████| 20000/20000 [00:04<00:00, 4482.42it/s]\n"
     ]
    },
    {
     "name": "stdout",
     "output_type": "stream",
     "text": [
      "=====================alpha=0.1=====================\n"
     ]
    },
    {
     "name": "stderr",
     "output_type": "stream",
     "text": [
      "100%|████████████████████████| 20000/20000 [00:04<00:00, 4415.13it/s]\n"
     ]
    },
    {
     "name": "stdout",
     "output_type": "stream",
     "text": [
      "=====================alpha=0.3=====================\n"
     ]
    },
    {
     "name": "stderr",
     "output_type": "stream",
     "text": [
      "100%|████████████████████████| 20000/20000 [00:04<00:00, 4398.79it/s]\n"
     ]
    },
    {
     "name": "stdout",
     "output_type": "stream",
     "text": [
      "=====================alpha=0.5=====================\n"
     ]
    },
    {
     "name": "stderr",
     "output_type": "stream",
     "text": [
      "100%|████████████████████████| 20000/20000 [00:04<00:00, 4410.69it/s]\n"
     ]
    },
    {
     "name": "stdout",
     "output_type": "stream",
     "text": [
      "=====================alpha=0.7=====================\n"
     ]
    },
    {
     "name": "stderr",
     "output_type": "stream",
     "text": [
      "100%|████████████████████████| 20000/20000 [00:04<00:00, 4369.34it/s]\n"
     ]
    },
    {
     "name": "stdout",
     "output_type": "stream",
     "text": [
      "=====================alpha=1.0=====================\n"
     ]
    },
    {
     "name": "stderr",
     "output_type": "stream",
     "text": [
      "100%|████████████████████████| 20000/20000 [00:04<00:00, 4418.53it/s]\n"
     ]
    },
    {
     "name": "stdout",
     "output_type": "stream",
     "text": [
      "Trial 4\n",
      "=====================alpha=0.0=====================\n"
     ]
    },
    {
     "name": "stderr",
     "output_type": "stream",
     "text": [
      " 88%|█████████████████████▏  | 17652/20000 [00:04<00:00, 4422.97it/s]"
     ]
    }
   ],
   "source": [
    "results = []\n",
    "for trial in range(run_time):\n",
    "    print(f\"Trial {trial}\")\n",
    "    regret_result = end2end(num_samples=M, num_actions=N, d=d, k=k, ctx_noise=(1 / np.sqrt(T)), \n",
    "                            reward_noise=reward_noise, disjoint=True, \n",
    "                            bounds=[feature_bound, matrix_lower_bound, matrix_upper_bound, param_bound, reward_bound], \n",
    "                            reward_dist=\"gaussian\", alphas=ALPHAS, seed=trial)\n",
    "    results.append(regret_result)"
   ]
  },
  {
   "cell_type": "code",
   "execution_count": null,
   "id": "f172cedd",
   "metadata": {
    "scrolled": true
   },
   "outputs": [],
   "source": [
    "alpha_dict = defaultdict(list)\n",
    "for item in results:\n",
    "    for key, val in item.items():\n",
    "        alpha_dict[key].append(np.cumsum(val))\n",
    "        \n",
    "print(alpha_dict)"
   ]
  },
  {
   "cell_type": "code",
   "execution_count": null,
   "id": "94bcfda1",
   "metadata": {},
   "outputs": [],
   "source": [
    "plt.figure(figsize=(18, 18))\n",
    "for i, alpha in enumerate(alpha_dict.keys()):\n",
    "    mean = np.array(alpha_dict[alpha]).mean(axis=0)\n",
    "    std = np.array(alpha_dict[alpha]).std(axis=0, ddof=1)\n",
    "    \n",
    "    plt.subplot(int(f\"32{i+1}\"))\n",
    "    plt.plot(mean, label=f\"alpha={alpha}\")\n",
    "    plt.fill_between(np.arange(T), mean-std, mean+std, alpha=0.5)\n",
    "    plt.grid(True)\n",
    "    plt.legend()\n",
    "    plt.xlabel(\"Rounds\")\n",
    "    plt.ylabel(\"Cumulative Regrets\")\n",
    "    \n",
    "plt.tight_layout()\n",
    "plt.show()"
   ]
  },
  {
   "cell_type": "code",
   "execution_count": null,
   "id": "a8d3ce0e",
   "metadata": {
    "scrolled": true
   },
   "outputs": [],
   "source": [
    "plt.figure(figsize=(14, 5))\n",
    "plt.subplot(121)\n",
    "for alpha in alpha_dict.keys():\n",
    "    mean = np.array(alpha_dict[alpha]).mean(axis=0)\n",
    "    plt.plot(mean, label=f\"alpha={alpha}\")\n",
    "plt.grid(True)\n",
    "plt.legend()\n",
    "plt.xlabel(\"Rounds\")\n",
    "plt.ylabel(\"Cumulative Regrets\")\n",
    "\n",
    "plt.subplot(122)\n",
    "for alpha in alpha_dict.keys():\n",
    "    mean = np.array(alpha_dict[alpha]).mean(axis=0)\n",
    "    std = np.array(alpha_dict[alpha]).std(axis=0, ddof=1)\n",
    "    plt.plot(mean, label=f\"alpha={alpha}\")\n",
    "    plt.fill_between(np.arange(T), mean-std, mean+std, alpha=0.2)\n",
    "plt.grid(True)\n",
    "plt.legend()\n",
    "plt.xlabel(\"Rounds\")\n",
    "plt.ylabel(\"Cumulative Regrets\")\n",
    "    \n",
    "plt.tight_layout()\n",
    "plt.show()"
   ]
  },
  {
   "cell_type": "markdown",
   "id": "9cfcd322",
   "metadata": {},
   "source": [
    "## Decoder mapping $\\sim N(0, \\Sigma_k)$"
   ]
  },
  {
   "cell_type": "markdown",
   "id": "2396c93b",
   "metadata": {},
   "source": [
    "### $\\sigma_\\epsilon = 0.1$ (Low noise variance)"
   ]
  },
  {
   "cell_type": "code",
   "execution_count": null,
   "id": "514f0771",
   "metadata": {},
   "outputs": [],
   "source": [
    "reward_noise = 0.1"
   ]
  },
  {
   "cell_type": "code",
   "execution_count": null,
   "id": "666d44b9",
   "metadata": {
    "scrolled": true
   },
   "outputs": [],
   "source": [
    "results = []\n",
    "for trial in range(run_time):\n",
    "    print(f\"Trial {trial}\")\n",
    "    regret_result = end2end(num_samples=M, num_actions=N, d=d, k=k, ctx_noise=(1 / np.sqrt(T)), \n",
    "                            reward_noise=reward_noise, disjoint=False, \n",
    "                            bounds=[feature_bound, matrix_lower_bound, matrix_upper_bound, param_bound, reward_bound], \n",
    "                            reward_dist=\"gaussian\", alphas=ALPHAS, seed=trial)\n",
    "    results.append(regret_result)"
   ]
  },
  {
   "cell_type": "code",
   "execution_count": null,
   "id": "1df7be2f",
   "metadata": {
    "scrolled": true
   },
   "outputs": [],
   "source": [
    "alpha_dict = defaultdict(list)\n",
    "for item in results:\n",
    "    for key, val in item.items():\n",
    "        alpha_dict[key].append(np.cumsum(val))\n",
    "        \n",
    "print(alpha_dict)"
   ]
  },
  {
   "cell_type": "code",
   "execution_count": null,
   "id": "53d8d3bd",
   "metadata": {},
   "outputs": [],
   "source": [
    "plt.figure(figsize=(18, 18))\n",
    "for i, alpha in enumerate(alpha_dict.keys()):\n",
    "    mean = np.array(alpha_dict[alpha]).mean(axis=0)\n",
    "    std = np.array(alpha_dict[alpha]).std(axis=0, ddof=1)\n",
    "    \n",
    "    plt.subplot(int(f\"32{i+1}\"))\n",
    "    plt.plot(mean, label=f\"alpha={alpha}\")\n",
    "    plt.fill_between(np.arange(T), mean-std, mean+std, alpha=0.5)\n",
    "    plt.grid(True)\n",
    "    plt.legend()\n",
    "    plt.xlabel(\"Rounds\")\n",
    "    plt.ylabel(\"Cumulative Regrets\")\n",
    "    \n",
    "plt.tight_layout()\n",
    "plt.show()"
   ]
  },
  {
   "cell_type": "code",
   "execution_count": null,
   "id": "370c26d1",
   "metadata": {},
   "outputs": [],
   "source": [
    "plt.figure(figsize=(14, 5))\n",
    "plt.subplot(121)\n",
    "for alpha in alpha_dict.keys():\n",
    "    mean = np.array(alpha_dict[alpha]).mean(axis=0)\n",
    "    plt.plot(mean, label=f\"alpha={alpha}\")\n",
    "plt.grid(True)\n",
    "plt.legend()\n",
    "plt.xlabel(\"Rounds\")\n",
    "plt.ylabel(\"Cumulative Regrets\")\n",
    "\n",
    "plt.subplot(122)\n",
    "for alpha in alpha_dict.keys():\n",
    "    mean = np.array(alpha_dict[alpha]).mean(axis=0)\n",
    "    std = np.array(alpha_dict[alpha]).std(axis=0, ddof=1)\n",
    "    plt.plot(mean, label=f\"alpha={alpha}\")\n",
    "    plt.fill_between(np.arange(T), mean-std, mean+std, alpha=0.2)\n",
    "plt.grid(True)\n",
    "plt.legend()\n",
    "plt.xlabel(\"Rounds\")\n",
    "plt.ylabel(\"Cumulative Regrets\")\n",
    "    \n",
    "plt.tight_layout()\n",
    "plt.show()"
   ]
  },
  {
   "cell_type": "markdown",
   "id": "f489d5e7",
   "metadata": {},
   "source": [
    "### $\\sigma_\\epsilon = 0.5$ (High noise variance)"
   ]
  },
  {
   "cell_type": "code",
   "execution_count": null,
   "id": "f83316f5",
   "metadata": {},
   "outputs": [],
   "source": [
    "reward_noise = 0.5"
   ]
  },
  {
   "cell_type": "code",
   "execution_count": null,
   "id": "d788f0c9",
   "metadata": {
    "scrolled": true
   },
   "outputs": [],
   "source": [
    "results = []\n",
    "for trial in range(run_time):\n",
    "    print(f\"Trial {trial}\")\n",
    "    regret_result = end2end(num_samples=M, num_actions=N, d=d, k=k, ctx_noise=(1 / np.sqrt(T)), \n",
    "                            reward_noise=reward_noise, disjoint=False, \n",
    "                            bounds=[feature_bound, matrix_lower_bound, matrix_upper_bound, param_bound, reward_bound], \n",
    "                            reward_dist=\"gaussian\", alphas=ALPHAS, seed=trial)\n",
    "    results.append(regret_result)"
   ]
  },
  {
   "cell_type": "code",
   "execution_count": null,
   "id": "955e6567",
   "metadata": {
    "scrolled": true
   },
   "outputs": [],
   "source": [
    "alpha_dict = defaultdict(list)\n",
    "for item in results:\n",
    "    for key, val in item.items():\n",
    "        alpha_dict[key].append(np.cumsum(val))\n",
    "        \n",
    "print(alpha_dict)"
   ]
  },
  {
   "cell_type": "code",
   "execution_count": null,
   "id": "5956f2d1",
   "metadata": {},
   "outputs": [],
   "source": [
    "plt.figure(figsize=(18, 18))\n",
    "for i, alpha in enumerate(alpha_dict.keys()):\n",
    "    mean = np.array(alpha_dict[alpha]).mean(axis=0)\n",
    "    std = np.array(alpha_dict[alpha]).std(axis=0, ddof=1)\n",
    "    \n",
    "    plt.subplot(int(f\"32{i+1}\"))\n",
    "    plt.plot(mean, label=f\"alpha={alpha}\")\n",
    "    plt.fill_between(np.arange(T), mean-std, mean+std, alpha=0.5)\n",
    "    plt.grid(True)\n",
    "    plt.legend()\n",
    "    plt.xlabel(\"Rounds\")\n",
    "    plt.ylabel(\"Cumulative Regrets\")\n",
    "    \n",
    "plt.tight_layout()\n",
    "plt.show()"
   ]
  },
  {
   "cell_type": "code",
   "execution_count": null,
   "id": "b05b644d",
   "metadata": {},
   "outputs": [],
   "source": [
    "plt.figure(figsize=(14, 5))\n",
    "plt.subplot(121)\n",
    "for alpha in alpha_dict.keys():\n",
    "    mean = np.array(alpha_dict[alpha]).mean(axis=0)\n",
    "    plt.plot(mean, label=f\"alpha={alpha}\")\n",
    "plt.grid(True)\n",
    "plt.legend()\n",
    "plt.xlabel(\"Rounds\")\n",
    "plt.ylabel(\"Cumulative Regrets\")\n",
    "\n",
    "plt.subplot(122)\n",
    "for alpha in alpha_dict.keys():\n",
    "    mean = np.array(alpha_dict[alpha]).mean(axis=0)\n",
    "    std = np.array(alpha_dict[alpha]).std(axis=0, ddof=1)\n",
    "    plt.plot(mean, label=f\"alpha={alpha}\")\n",
    "    plt.fill_between(np.arange(T), mean-std, mean+std, alpha=0.2)\n",
    "plt.grid(True)\n",
    "plt.legend()\n",
    "plt.xlabel(\"Rounds\")\n",
    "plt.ylabel(\"Cumulative Regrets\")\n",
    "    \n",
    "plt.tight_layout()\n",
    "plt.show()"
   ]
  },
  {
   "cell_type": "markdown",
   "id": "0e7098c4",
   "metadata": {},
   "source": [
    "# $\\sigma_{\\eta} = \\frac{1}{{T}}$"
   ]
  },
  {
   "cell_type": "markdown",
   "id": "8a7caff6",
   "metadata": {},
   "source": [
    "## Decoder mapping $\\sim N(0, I_k)$"
   ]
  },
  {
   "cell_type": "markdown",
   "id": "9a2d687b",
   "metadata": {},
   "source": [
    "### $\\sigma_\\epsilon = 0.1$ (Low noise variance)"
   ]
  },
  {
   "cell_type": "code",
   "execution_count": null,
   "id": "2e494a8b",
   "metadata": {},
   "outputs": [],
   "source": [
    "reward_noise = 0.1"
   ]
  },
  {
   "cell_type": "code",
   "execution_count": null,
   "id": "98af2c0a",
   "metadata": {
    "scrolled": true
   },
   "outputs": [
    {
     "name": "stdout",
     "output_type": "stream",
     "text": [
      "Trial 0\n",
      "=====================alpha=0.0=====================\n"
     ]
    },
    {
     "name": "stderr",
     "output_type": "stream",
     "text": [
      "100%|████████████████████████| 20000/20000 [00:05<00:00, 3986.87it/s]\n"
     ]
    },
    {
     "name": "stdout",
     "output_type": "stream",
     "text": [
      "=====================alpha=0.1=====================\n"
     ]
    },
    {
     "name": "stderr",
     "output_type": "stream",
     "text": [
      "100%|████████████████████████| 20000/20000 [00:04<00:00, 4048.81it/s]\n"
     ]
    },
    {
     "name": "stdout",
     "output_type": "stream",
     "text": [
      "=====================alpha=0.3=====================\n"
     ]
    },
    {
     "name": "stderr",
     "output_type": "stream",
     "text": [
      "100%|████████████████████████| 20000/20000 [00:04<00:00, 4007.08it/s]\n"
     ]
    },
    {
     "name": "stdout",
     "output_type": "stream",
     "text": [
      "=====================alpha=0.5=====================\n"
     ]
    },
    {
     "name": "stderr",
     "output_type": "stream",
     "text": [
      "100%|████████████████████████| 20000/20000 [00:04<00:00, 4046.73it/s]\n"
     ]
    },
    {
     "name": "stdout",
     "output_type": "stream",
     "text": [
      "=====================alpha=0.7=====================\n"
     ]
    },
    {
     "name": "stderr",
     "output_type": "stream",
     "text": [
      "100%|████████████████████████| 20000/20000 [00:04<00:00, 4081.07it/s]\n"
     ]
    },
    {
     "name": "stdout",
     "output_type": "stream",
     "text": [
      "=====================alpha=1.0=====================\n"
     ]
    },
    {
     "name": "stderr",
     "output_type": "stream",
     "text": [
      "100%|████████████████████████| 20000/20000 [00:04<00:00, 4023.80it/s]\n"
     ]
    },
    {
     "name": "stdout",
     "output_type": "stream",
     "text": [
      "Trial 1\n",
      "=====================alpha=0.0=====================\n"
     ]
    },
    {
     "name": "stderr",
     "output_type": "stream",
     "text": [
      "100%|████████████████████████| 20000/20000 [00:04<00:00, 4042.92it/s]\n"
     ]
    },
    {
     "name": "stdout",
     "output_type": "stream",
     "text": [
      "=====================alpha=0.1=====================\n"
     ]
    },
    {
     "name": "stderr",
     "output_type": "stream",
     "text": [
      "100%|████████████████████████| 20000/20000 [00:04<00:00, 4060.17it/s]\n"
     ]
    },
    {
     "name": "stdout",
     "output_type": "stream",
     "text": [
      "=====================alpha=0.3=====================\n"
     ]
    },
    {
     "name": "stderr",
     "output_type": "stream",
     "text": [
      "100%|████████████████████████| 20000/20000 [00:04<00:00, 4011.76it/s]\n"
     ]
    },
    {
     "name": "stdout",
     "output_type": "stream",
     "text": [
      "=====================alpha=0.5=====================\n"
     ]
    },
    {
     "name": "stderr",
     "output_type": "stream",
     "text": [
      "100%|████████████████████████| 20000/20000 [00:04<00:00, 4039.34it/s]\n"
     ]
    },
    {
     "name": "stdout",
     "output_type": "stream",
     "text": [
      "=====================alpha=0.7=====================\n"
     ]
    },
    {
     "name": "stderr",
     "output_type": "stream",
     "text": [
      "100%|████████████████████████| 20000/20000 [00:04<00:00, 4025.79it/s]\n"
     ]
    },
    {
     "name": "stdout",
     "output_type": "stream",
     "text": [
      "=====================alpha=1.0=====================\n"
     ]
    },
    {
     "name": "stderr",
     "output_type": "stream",
     "text": [
      "100%|████████████████████████| 20000/20000 [00:04<00:00, 4018.30it/s]\n"
     ]
    },
    {
     "name": "stdout",
     "output_type": "stream",
     "text": [
      "Trial 2\n",
      "=====================alpha=0.0=====================\n"
     ]
    },
    {
     "name": "stderr",
     "output_type": "stream",
     "text": [
      "100%|████████████████████████| 20000/20000 [00:05<00:00, 3978.04it/s]\n"
     ]
    },
    {
     "name": "stdout",
     "output_type": "stream",
     "text": [
      "=====================alpha=0.1=====================\n"
     ]
    },
    {
     "name": "stderr",
     "output_type": "stream",
     "text": [
      "100%|████████████████████████| 20000/20000 [00:04<00:00, 4044.97it/s]\n"
     ]
    },
    {
     "name": "stdout",
     "output_type": "stream",
     "text": [
      "=====================alpha=0.3=====================\n"
     ]
    },
    {
     "name": "stderr",
     "output_type": "stream",
     "text": [
      "100%|████████████████████████| 20000/20000 [00:04<00:00, 4071.51it/s]\n"
     ]
    },
    {
     "name": "stdout",
     "output_type": "stream",
     "text": [
      "=====================alpha=0.5=====================\n"
     ]
    },
    {
     "name": "stderr",
     "output_type": "stream",
     "text": [
      "100%|████████████████████████| 20000/20000 [00:04<00:00, 4053.93it/s]\n"
     ]
    },
    {
     "name": "stdout",
     "output_type": "stream",
     "text": [
      "=====================alpha=0.7=====================\n"
     ]
    },
    {
     "name": "stderr",
     "output_type": "stream",
     "text": [
      "100%|████████████████████████| 20000/20000 [00:04<00:00, 4071.85it/s]\n"
     ]
    },
    {
     "name": "stdout",
     "output_type": "stream",
     "text": [
      "=====================alpha=1.0=====================\n"
     ]
    },
    {
     "name": "stderr",
     "output_type": "stream",
     "text": [
      "100%|████████████████████████| 20000/20000 [00:04<00:00, 4066.55it/s]\n"
     ]
    },
    {
     "name": "stdout",
     "output_type": "stream",
     "text": [
      "Trial 3\n",
      "=====================alpha=0.0=====================\n"
     ]
    },
    {
     "name": "stderr",
     "output_type": "stream",
     "text": [
      "100%|████████████████████████| 20000/20000 [00:04<00:00, 4026.06it/s]\n"
     ]
    },
    {
     "name": "stdout",
     "output_type": "stream",
     "text": [
      "=====================alpha=0.1=====================\n"
     ]
    },
    {
     "name": "stderr",
     "output_type": "stream",
     "text": [
      "100%|████████████████████████| 20000/20000 [00:04<00:00, 4063.51it/s]\n"
     ]
    },
    {
     "name": "stdout",
     "output_type": "stream",
     "text": [
      "=====================alpha=0.3=====================\n"
     ]
    },
    {
     "name": "stderr",
     "output_type": "stream",
     "text": [
      "100%|████████████████████████| 20000/20000 [00:04<00:00, 4102.73it/s]\n"
     ]
    },
    {
     "name": "stdout",
     "output_type": "stream",
     "text": [
      "=====================alpha=0.5=====================\n"
     ]
    },
    {
     "name": "stderr",
     "output_type": "stream",
     "text": [
      "  4%|█                         | 810/20000 [00:00<00:04, 4021.44it/s]"
     ]
    }
   ],
   "source": [
    "results = []\n",
    "for trial in range(run_time):\n",
    "    print(f\"Trial {trial}\")\n",
    "    regret_result = end2end(num_samples=M, num_actions=N, d=d, k=k, ctx_noise=(1/T), \n",
    "                            reward_noise=reward_noise, disjoint=True, \n",
    "                            bounds=[feature_bound, matrix_lower_bound, matrix_upper_bound, param_bound, reward_bound], \n",
    "                            reward_dist=\"gaussian\", alphas=ALPHAS, seed=trial)\n",
    "    results.append(regret_result)"
   ]
  },
  {
   "cell_type": "code",
   "execution_count": null,
   "id": "210bc796",
   "metadata": {
    "scrolled": true
   },
   "outputs": [],
   "source": [
    "alpha_dict = defaultdict(list)\n",
    "for item in results:\n",
    "    for key, val in item.items():\n",
    "        alpha_dict[key].append(np.cumsum(val))\n",
    "        \n",
    "print(alpha_dict)"
   ]
  },
  {
   "cell_type": "code",
   "execution_count": null,
   "id": "788a0162",
   "metadata": {},
   "outputs": [],
   "source": [
    "plt.figure(figsize=(18, 18))\n",
    "for i, alpha in enumerate(alpha_dict.keys()):\n",
    "    mean = np.array(alpha_dict[alpha]).mean(axis=0)\n",
    "    std = np.array(alpha_dict[alpha]).std(axis=0, ddof=1)\n",
    "    \n",
    "    plt.subplot(int(f\"32{i+1}\"))\n",
    "    plt.plot(mean, label=f\"alpha={alpha}\")\n",
    "    plt.fill_between(np.arange(T), mean-std, mean+std, alpha=0.5)\n",
    "    plt.grid(True)\n",
    "    plt.legend()\n",
    "    plt.xlabel(\"Rounds\")\n",
    "    plt.ylabel(\"Cumulative Regrets\")\n",
    "    \n",
    "plt.tight_layout()\n",
    "plt.show()"
   ]
  },
  {
   "cell_type": "code",
   "execution_count": null,
   "id": "ca5a913a",
   "metadata": {},
   "outputs": [],
   "source": [
    "plt.figure(figsize=(14, 5))\n",
    "plt.subplot(121)\n",
    "for alpha in alpha_dict.keys():\n",
    "    mean = np.array(alpha_dict[alpha]).mean(axis=0)\n",
    "    plt.plot(mean, label=f\"alpha={alpha}\")\n",
    "plt.grid(True)\n",
    "plt.legend()\n",
    "plt.xlabel(\"Rounds\")\n",
    "plt.ylabel(\"Cumulative Regrets\")\n",
    "\n",
    "plt.subplot(122)\n",
    "for alpha in alpha_dict.keys():\n",
    "    mean = np.array(alpha_dict[alpha]).mean(axis=0)\n",
    "    std = np.array(alpha_dict[alpha]).std(axis=0, ddof=1)\n",
    "    plt.plot(mean, label=f\"alpha={alpha}\")\n",
    "    plt.fill_between(np.arange(T), mean-std, mean+std, alpha=0.2)\n",
    "plt.grid(True)\n",
    "plt.legend()\n",
    "plt.xlabel(\"Rounds\")\n",
    "plt.ylabel(\"Cumulative Regrets\")\n",
    "    \n",
    "plt.tight_layout()\n",
    "plt.show()"
   ]
  },
  {
   "cell_type": "markdown",
   "id": "69084653",
   "metadata": {},
   "source": [
    "### $\\sigma_\\epsilon = 0.5$ (High noise variance)"
   ]
  },
  {
   "cell_type": "code",
   "execution_count": null,
   "id": "a401e3c1",
   "metadata": {},
   "outputs": [],
   "source": [
    "reward_noise = 0.5"
   ]
  },
  {
   "cell_type": "code",
   "execution_count": null,
   "id": "ade70951",
   "metadata": {
    "scrolled": true
   },
   "outputs": [
    {
     "name": "stdout",
     "output_type": "stream",
     "text": [
      "Trial 0\n",
      "=====================alpha=0.0=====================\n"
     ]
    },
    {
     "name": "stderr",
     "output_type": "stream",
     "text": [
      "100%|████████████████████████| 20000/20000 [00:05<00:00, 3986.87it/s]\n"
     ]
    },
    {
     "name": "stdout",
     "output_type": "stream",
     "text": [
      "=====================alpha=0.1=====================\n"
     ]
    },
    {
     "name": "stderr",
     "output_type": "stream",
     "text": [
      "100%|████████████████████████| 20000/20000 [00:04<00:00, 4048.81it/s]\n"
     ]
    },
    {
     "name": "stdout",
     "output_type": "stream",
     "text": [
      "=====================alpha=0.3=====================\n"
     ]
    },
    {
     "name": "stderr",
     "output_type": "stream",
     "text": [
      "100%|████████████████████████| 20000/20000 [00:04<00:00, 4007.08it/s]\n"
     ]
    },
    {
     "name": "stdout",
     "output_type": "stream",
     "text": [
      "=====================alpha=0.5=====================\n"
     ]
    },
    {
     "name": "stderr",
     "output_type": "stream",
     "text": [
      "100%|████████████████████████| 20000/20000 [00:04<00:00, 4046.73it/s]\n"
     ]
    },
    {
     "name": "stdout",
     "output_type": "stream",
     "text": [
      "=====================alpha=0.7=====================\n"
     ]
    },
    {
     "name": "stderr",
     "output_type": "stream",
     "text": [
      "100%|████████████████████████| 20000/20000 [00:04<00:00, 4081.07it/s]\n"
     ]
    },
    {
     "name": "stdout",
     "output_type": "stream",
     "text": [
      "=====================alpha=1.0=====================\n"
     ]
    },
    {
     "name": "stderr",
     "output_type": "stream",
     "text": [
      "100%|████████████████████████| 20000/20000 [00:04<00:00, 4023.80it/s]\n"
     ]
    },
    {
     "name": "stdout",
     "output_type": "stream",
     "text": [
      "Trial 1\n",
      "=====================alpha=0.0=====================\n"
     ]
    },
    {
     "name": "stderr",
     "output_type": "stream",
     "text": [
      "100%|████████████████████████| 20000/20000 [00:04<00:00, 4042.92it/s]\n"
     ]
    },
    {
     "name": "stdout",
     "output_type": "stream",
     "text": [
      "=====================alpha=0.1=====================\n"
     ]
    },
    {
     "name": "stderr",
     "output_type": "stream",
     "text": [
      "100%|████████████████████████| 20000/20000 [00:04<00:00, 4060.17it/s]\n"
     ]
    },
    {
     "name": "stdout",
     "output_type": "stream",
     "text": [
      "=====================alpha=0.3=====================\n"
     ]
    },
    {
     "name": "stderr",
     "output_type": "stream",
     "text": [
      "100%|████████████████████████| 20000/20000 [00:04<00:00, 4011.76it/s]\n"
     ]
    },
    {
     "name": "stdout",
     "output_type": "stream",
     "text": [
      "=====================alpha=0.5=====================\n"
     ]
    },
    {
     "name": "stderr",
     "output_type": "stream",
     "text": [
      "100%|████████████████████████| 20000/20000 [00:04<00:00, 4039.34it/s]\n"
     ]
    },
    {
     "name": "stdout",
     "output_type": "stream",
     "text": [
      "=====================alpha=0.7=====================\n"
     ]
    },
    {
     "name": "stderr",
     "output_type": "stream",
     "text": [
      "100%|████████████████████████| 20000/20000 [00:04<00:00, 4025.79it/s]\n"
     ]
    },
    {
     "name": "stdout",
     "output_type": "stream",
     "text": [
      "=====================alpha=1.0=====================\n"
     ]
    },
    {
     "name": "stderr",
     "output_type": "stream",
     "text": [
      "100%|████████████████████████| 20000/20000 [00:04<00:00, 4018.30it/s]\n"
     ]
    },
    {
     "name": "stdout",
     "output_type": "stream",
     "text": [
      "Trial 2\n",
      "=====================alpha=0.0=====================\n"
     ]
    },
    {
     "name": "stderr",
     "output_type": "stream",
     "text": [
      "100%|████████████████████████| 20000/20000 [00:05<00:00, 3978.04it/s]\n"
     ]
    },
    {
     "name": "stdout",
     "output_type": "stream",
     "text": [
      "=====================alpha=0.1=====================\n"
     ]
    },
    {
     "name": "stderr",
     "output_type": "stream",
     "text": [
      "100%|████████████████████████| 20000/20000 [00:04<00:00, 4044.97it/s]\n"
     ]
    },
    {
     "name": "stdout",
     "output_type": "stream",
     "text": [
      "=====================alpha=0.3=====================\n"
     ]
    },
    {
     "name": "stderr",
     "output_type": "stream",
     "text": [
      "100%|████████████████████████| 20000/20000 [00:04<00:00, 4071.51it/s]\n"
     ]
    },
    {
     "name": "stdout",
     "output_type": "stream",
     "text": [
      "=====================alpha=0.5=====================\n"
     ]
    },
    {
     "name": "stderr",
     "output_type": "stream",
     "text": [
      "100%|████████████████████████| 20000/20000 [00:04<00:00, 4053.93it/s]\n"
     ]
    },
    {
     "name": "stdout",
     "output_type": "stream",
     "text": [
      "=====================alpha=0.7=====================\n"
     ]
    },
    {
     "name": "stderr",
     "output_type": "stream",
     "text": [
      "100%|████████████████████████| 20000/20000 [00:04<00:00, 4071.85it/s]\n"
     ]
    },
    {
     "name": "stdout",
     "output_type": "stream",
     "text": [
      "=====================alpha=1.0=====================\n"
     ]
    },
    {
     "name": "stderr",
     "output_type": "stream",
     "text": [
      "100%|████████████████████████| 20000/20000 [00:04<00:00, 4066.55it/s]\n"
     ]
    },
    {
     "name": "stdout",
     "output_type": "stream",
     "text": [
      "Trial 3\n",
      "=====================alpha=0.0=====================\n"
     ]
    },
    {
     "name": "stderr",
     "output_type": "stream",
     "text": [
      "100%|████████████████████████| 20000/20000 [00:04<00:00, 4026.06it/s]\n"
     ]
    },
    {
     "name": "stdout",
     "output_type": "stream",
     "text": [
      "=====================alpha=0.1=====================\n"
     ]
    },
    {
     "name": "stderr",
     "output_type": "stream",
     "text": [
      "100%|████████████████████████| 20000/20000 [00:04<00:00, 4063.51it/s]\n"
     ]
    },
    {
     "name": "stdout",
     "output_type": "stream",
     "text": [
      "=====================alpha=0.3=====================\n"
     ]
    },
    {
     "name": "stderr",
     "output_type": "stream",
     "text": [
      "100%|████████████████████████| 20000/20000 [00:04<00:00, 4102.73it/s]\n"
     ]
    },
    {
     "name": "stdout",
     "output_type": "stream",
     "text": [
      "=====================alpha=0.5=====================\n"
     ]
    },
    {
     "name": "stderr",
     "output_type": "stream",
     "text": [
      "  4%|█                         | 810/20000 [00:00<00:04, 4021.44it/s]"
     ]
    }
   ],
   "source": [
    "results = []\n",
    "for trial in range(run_time):\n",
    "    print(f\"Trial {trial}\")\n",
    "    regret_result = end2end(num_samples=M, num_actions=N, d=d, k=k, ctx_noise=(1/T), \n",
    "                            reward_noise=reward_noise, disjoint=True, \n",
    "                            bounds=[feature_bound, matrix_lower_bound, matrix_upper_bound, param_bound, reward_bound], \n",
    "                            reward_dist=\"gaussian\", alphas=ALPHAS, seed=trial)\n",
    "    results.append(regret_result)"
   ]
  },
  {
   "cell_type": "code",
   "execution_count": null,
   "id": "adbf312b",
   "metadata": {
    "scrolled": true
   },
   "outputs": [],
   "source": [
    "alpha_dict = defaultdict(list)\n",
    "for item in results:\n",
    "    for key, val in item.items():\n",
    "        alpha_dict[key].append(np.cumsum(val))\n",
    "        \n",
    "print(alpha_dict)"
   ]
  },
  {
   "cell_type": "code",
   "execution_count": null,
   "id": "57e70764",
   "metadata": {},
   "outputs": [],
   "source": [
    "plt.figure(figsize=(18, 18))\n",
    "for i, alpha in enumerate(alpha_dict.keys()):\n",
    "    mean = np.array(alpha_dict[alpha]).mean(axis=0)\n",
    "    std = np.array(alpha_dict[alpha]).std(axis=0, ddof=1)\n",
    "    \n",
    "    plt.subplot(int(f\"32{i+1}\"))\n",
    "    plt.plot(mean, label=f\"alpha={alpha}\")\n",
    "    plt.fill_between(np.arange(T), mean-std, mean+std, alpha=0.5)\n",
    "    plt.grid(True)\n",
    "    plt.legend()\n",
    "    plt.xlabel(\"Rounds\")\n",
    "    plt.ylabel(\"Cumulative Regrets\")\n",
    "    \n",
    "plt.tight_layout()\n",
    "plt.show()"
   ]
  },
  {
   "cell_type": "code",
   "execution_count": null,
   "id": "95026213",
   "metadata": {},
   "outputs": [],
   "source": [
    "plt.figure(figsize=(14, 5))\n",
    "plt.subplot(121)\n",
    "for alpha in alpha_dict.keys():\n",
    "    mean = np.array(alpha_dict[alpha]).mean(axis=0)\n",
    "    plt.plot(mean, label=f\"alpha={alpha}\")\n",
    "plt.grid(True)\n",
    "plt.legend()\n",
    "plt.xlabel(\"Rounds\")\n",
    "plt.ylabel(\"Cumulative Regrets\")\n",
    "\n",
    "plt.subplot(122)\n",
    "for alpha in alpha_dict.keys():\n",
    "    mean = np.array(alpha_dict[alpha]).mean(axis=0)\n",
    "    std = np.array(alpha_dict[alpha]).std(axis=0, ddof=1)\n",
    "    plt.plot(mean, label=f\"alpha={alpha}\")\n",
    "    plt.fill_between(np.arange(T), mean-std, mean+std, alpha=0.2)\n",
    "plt.grid(True)\n",
    "plt.legend()\n",
    "plt.xlabel(\"Rounds\")\n",
    "plt.ylabel(\"Cumulative Regrets\")\n",
    "    \n",
    "plt.tight_layout()\n",
    "plt.show()"
   ]
  },
  {
   "cell_type": "markdown",
   "id": "a3cd82d1",
   "metadata": {},
   "source": [
    "## Decoder mapping $\\sim N(0, \\Sigma_k)$"
   ]
  },
  {
   "cell_type": "markdown",
   "id": "3a90acd3",
   "metadata": {},
   "source": [
    "### $\\sigma_\\epsilon = 0.1$ (Low noise variance)"
   ]
  },
  {
   "cell_type": "code",
   "execution_count": null,
   "id": "5c097df4",
   "metadata": {},
   "outputs": [],
   "source": [
    "reward_noise = 0.1"
   ]
  },
  {
   "cell_type": "code",
   "execution_count": null,
   "id": "233d2c59",
   "metadata": {
    "scrolled": true
   },
   "outputs": [],
   "source": [
    "results = []\n",
    "for trial in range(run_time):\n",
    "    print(f\"Trial {trial}\")\n",
    "    regret_result = end2end(num_samples=M, num_actions=N, d=d, k=k, ctx_noise=(1/T), \n",
    "                            reward_noise=reward_noise, disjoint=False, \n",
    "                            bounds=[feature_bound, matrix_lower_bound, matrix_upper_bound, param_bound, reward_bound], \n",
    "                            reward_dist=\"gaussian\", alphas=ALPHAS, seed=trial)\n",
    "    results.append(regret_result)"
   ]
  },
  {
   "cell_type": "code",
   "execution_count": null,
   "id": "046b9977",
   "metadata": {
    "scrolled": true
   },
   "outputs": [],
   "source": [
    "alpha_dict = defaultdict(list)\n",
    "for item in results:\n",
    "    for key, val in item.items():\n",
    "        alpha_dict[key].append(np.cumsum(val))\n",
    "        \n",
    "print(alpha_dict)"
   ]
  },
  {
   "cell_type": "code",
   "execution_count": null,
   "id": "b9b5e2a7",
   "metadata": {},
   "outputs": [],
   "source": [
    "plt.figure(figsize=(18, 18))\n",
    "for i, alpha in enumerate(alpha_dict.keys()):\n",
    "    mean = np.array(alpha_dict[alpha]).mean(axis=0)\n",
    "    std = np.array(alpha_dict[alpha]).std(axis=0, ddof=1)\n",
    "    \n",
    "    plt.subplot(int(f\"32{i+1}\"))\n",
    "    plt.plot(mean, label=f\"alpha={alpha}\")\n",
    "    plt.fill_between(np.arange(T), mean-std, mean+std, alpha=0.5)\n",
    "    plt.grid(True)\n",
    "    plt.legend()\n",
    "    plt.xlabel(\"Rounds\")\n",
    "    plt.ylabel(\"Cumulative Regrets\")\n",
    "    \n",
    "plt.tight_layout()\n",
    "plt.show()"
   ]
  },
  {
   "cell_type": "code",
   "execution_count": null,
   "id": "8f9b0743",
   "metadata": {},
   "outputs": [],
   "source": [
    "plt.figure(figsize=(14, 5))\n",
    "plt.subplot(121)\n",
    "for alpha in alpha_dict.keys():\n",
    "    mean = np.array(alpha_dict[alpha]).mean(axis=0)\n",
    "    plt.plot(mean, label=f\"alpha={alpha}\")\n",
    "plt.grid(True)\n",
    "plt.legend()\n",
    "plt.xlabel(\"Rounds\")\n",
    "plt.ylabel(\"Cumulative Regrets\")\n",
    "\n",
    "plt.subplot(122)\n",
    "for alpha in alpha_dict.keys():\n",
    "    mean = np.array(alpha_dict[alpha]).mean(axis=0)\n",
    "    std = np.array(alpha_dict[alpha]).std(axis=0, ddof=1)\n",
    "    plt.plot(mean, label=f\"alpha={alpha}\")\n",
    "    plt.fill_between(np.arange(T), mean-std, mean+std, alpha=0.2)\n",
    "plt.grid(True)\n",
    "plt.legend()\n",
    "plt.xlabel(\"Rounds\")\n",
    "plt.ylabel(\"Cumulative Regrets\")\n",
    "    \n",
    "plt.tight_layout()\n",
    "plt.show()"
   ]
  },
  {
   "cell_type": "markdown",
   "id": "9feb55d4",
   "metadata": {},
   "source": [
    "### $\\sigma_\\epsilon = 0.5$ (Low noise variance)"
   ]
  },
  {
   "cell_type": "code",
   "execution_count": null,
   "id": "e48a29b6",
   "metadata": {},
   "outputs": [],
   "source": [
    "reward_noise = 0.5"
   ]
  },
  {
   "cell_type": "code",
   "execution_count": null,
   "id": "18ecc765",
   "metadata": {
    "scrolled": true
   },
   "outputs": [],
   "source": [
    "results = []\n",
    "for trial in range(run_time):\n",
    "    print(f\"Trial {trial}\")\n",
    "    regret_result = end2end(num_samples=M, num_actions=N, d=d, k=k, ctx_noise=(1/T), \n",
    "                            reward_noise=reward_noise, disjoint=False, \n",
    "                            bounds=[feature_bound, matrix_lower_bound, matrix_upper_bound, param_bound, reward_bound], \n",
    "                            reward_dist=\"gaussian\", alphas=ALPHAS, seed=trial)\n",
    "    results.append(regret_result)"
   ]
  },
  {
   "cell_type": "code",
   "execution_count": null,
   "id": "b7baf99a",
   "metadata": {
    "scrolled": true
   },
   "outputs": [],
   "source": [
    "alpha_dict = defaultdict(list)\n",
    "for item in results:\n",
    "    for key, val in item.items():\n",
    "        alpha_dict[key].append(np.cumsum(val))\n",
    "        \n",
    "print(alpha_dict)"
   ]
  },
  {
   "cell_type": "code",
   "execution_count": null,
   "id": "caf8d303",
   "metadata": {},
   "outputs": [],
   "source": [
    "plt.figure(figsize=(18, 18))\n",
    "for i, alpha in enumerate(alpha_dict.keys()):\n",
    "    mean = np.array(alpha_dict[alpha]).mean(axis=0)\n",
    "    std = np.array(alpha_dict[alpha]).std(axis=0, ddof=1)\n",
    "    \n",
    "    plt.subplot(int(f\"32{i+1}\"))\n",
    "    plt.plot(mean, label=f\"alpha={alpha}\")\n",
    "    plt.fill_between(np.arange(T), mean-std, mean+std, alpha=0.5)\n",
    "    plt.grid(True)\n",
    "    plt.legend()\n",
    "    plt.xlabel(\"Rounds\")\n",
    "    plt.ylabel(\"Cumulative Regrets\")\n",
    "    \n",
    "plt.tight_layout()\n",
    "plt.show()"
   ]
  },
  {
   "cell_type": "code",
   "execution_count": null,
   "id": "b07f8ba0",
   "metadata": {},
   "outputs": [],
   "source": [
    "plt.figure(figsize=(14, 5))\n",
    "plt.subplot(121)\n",
    "for alpha in alpha_dict.keys():\n",
    "    mean = np.array(alpha_dict[alpha]).mean(axis=0)\n",
    "    plt.plot(mean, label=f\"alpha={alpha}\")\n",
    "plt.grid(True)\n",
    "plt.legend()\n",
    "plt.xlabel(\"Rounds\")\n",
    "plt.ylabel(\"Cumulative Regrets\")\n",
    "\n",
    "plt.subplot(122)\n",
    "for alpha in alpha_dict.keys():\n",
    "    mean = np.array(alpha_dict[alpha]).mean(axis=0)\n",
    "    std = np.array(alpha_dict[alpha]).std(axis=0, ddof=1)\n",
    "    plt.plot(mean, label=f\"alpha={alpha}\")\n",
    "    plt.fill_between(np.arange(T), mean-std, mean+std, alpha=0.2)\n",
    "plt.grid(True)\n",
    "plt.legend()\n",
    "plt.xlabel(\"Rounds\")\n",
    "plt.ylabel(\"Cumulative Regrets\")\n",
    "    \n",
    "plt.tight_layout()\n",
    "plt.show()"
   ]
  }
 ],
 "metadata": {
  "kernelspec": {
   "display_name": "Python 3 (ipykernel)",
   "language": "python",
   "name": "python3"
  },
  "language_info": {
   "codemirror_mode": {
    "name": "ipython",
    "version": 3
   },
   "file_extension": ".py",
   "mimetype": "text/x-python",
   "name": "python",
   "nbconvert_exporter": "python",
   "pygments_lexer": "ipython3",
   "version": "3.11.3"
  }
 },
 "nbformat": 4,
 "nbformat_minor": 5
}
