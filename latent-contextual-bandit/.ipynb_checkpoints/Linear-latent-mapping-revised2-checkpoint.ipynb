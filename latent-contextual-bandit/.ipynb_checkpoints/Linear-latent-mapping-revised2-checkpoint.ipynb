{
 "cells": [
  {
   "cell_type": "code",
   "execution_count": 1,
   "id": "91ae4ddb",
   "metadata": {},
   "outputs": [
    {
     "data": {
      "text/html": [
       "<style>.container { width:75% !important; }</style>"
      ],
      "text/plain": [
       "<IPython.core.display.HTML object>"
      ]
     },
     "metadata": {},
     "output_type": "display_data"
    }
   ],
   "source": [
    "## widen the cell width\n",
    "from IPython.display import display, HTML\n",
    "display(HTML(\"<style>.container { width:75% !important; }</style>\"))"
   ]
  },
  {
   "cell_type": "code",
   "execution_count": 2,
   "id": "315edac8",
   "metadata": {},
   "outputs": [],
   "source": [
    "import numpy as np\n",
    "from typing import Union\n",
    "import matplotlib.pyplot as plt\n",
    "from abc import ABC, abstractmethod\n",
    "from collections import defaultdict\n",
    "from tqdm import tqdm\n",
    "from tqdm.auto import tqdm as tqdm_auto\n",
    "\n",
    "%matplotlib inline"
   ]
  },
  {
   "cell_type": "code",
   "execution_count": 3,
   "id": "e8b6a0a1",
   "metadata": {},
   "outputs": [],
   "source": [
    "def shermanMorrison(V:np.ndarray, x:np.ndarray):\n",
    "    \"\"\"\n",
    "    ${V_t}^{-1} = V_{t-1}^{-1} - \\frac{V_{t-1}^{-1}xx^T V_{t-1}^{-1}}{1 + x^T V_{t-1}^{-1} x}$\n",
    "    V: inverse of old gram matrix, corresponding to $V_{t-1}$.\n",
    "    x: a new observed context\n",
    "    return: inverse of new gram matrix\n",
    "    \"\"\"\n",
    "    numerator = np.einsum(\"ij, j, k, kl -> il\", V, x, x, V)\n",
    "    denominator = (1 + np.einsum(\"i, ij, j ->\", x, V, x))\n",
    "    return V - (numerator / denominator)\n",
    "\n",
    "\n",
    "def l2norm(v:np.ndarray):\n",
    "    v = v.flatten()\n",
    "    return np.sqrt(np.sum(v ** 2))\n",
    "\n",
    "\n",
    "def covariance_generator(d:int, distribution:str=\"gaussian\", bound:float=None):\n",
    "    if distribution == \"gaussian\":\n",
    "        rnd = np.random.randn(d, d)\n",
    "    elif distribution == \"uniform\":\n",
    "        rnd = np.random.uniform(-1, 1, size=d*d).reshape(d, d)\n",
    "    \n",
    "    ## make a symmetric matrix\n",
    "    sym = (rnd + rnd.T) / 2\n",
    "    ## make positive semi-definite and bound its maximum singular value\n",
    "    mat = sym @ sym.T\n",
    "    \n",
    "    if bound is not None:\n",
    "        mat *= (bound / np.linalg.norm(mat, 2))\n",
    "    \n",
    "    return mat\n",
    "\n",
    "\n",
    "# Function for Gram-Schmidt process\n",
    "def gram_schmidt(A):\n",
    "    Q = np.zeros(A.shape)\n",
    "    for i in range(A.shape[1]):\n",
    "        # Orthogonalize the vector\n",
    "        Q[:,i] = A[:,i]\n",
    "        for j in range(i):\n",
    "            Q[:,i] -= np.dot(Q[:,j], A[:,i]) * Q[:,j]\n",
    "        \n",
    "        # Normalize the vector\n",
    "        Q[:,i] = Q[:,i] / np.linalg.norm(Q[:,i])\n",
    "    return Q\n",
    "\n",
    "\n",
    "def make_diagonal(v:np.ndarray, dim:Union[int, tuple]):\n",
    "    if type(dim) == int:\n",
    "        diag = np.zeros((dim, dim))\n",
    "        rng = dim\n",
    "    else:\n",
    "        diag = np.zeros(dim)\n",
    "        rng = min(dim)\n",
    "        \n",
    "    for i in range(rng):\n",
    "        diag[i, i] = v[i]\n",
    "    \n",
    "    return diag\n",
    "\n",
    "\n",
    "def positive_definite_generator(dimension:int, distribution:str=\"uniform\"):\n",
    "    d = dimension\n",
    "    ## create orthogonal eigenvectors\n",
    "    source = np.random.uniform(-1, 1, size=(d*d)).reshape(d, d)\n",
    "    eigvecs = gram_schmidt(source)\n",
    "    \n",
    "    ## create a matrix of eigenvalues\n",
    "    eigvals = np.random.uniform(0, 1, size=d)\n",
    "    eigmat = make_diagonal(np.absolute(eigvals))\n",
    "    \n",
    "    ## make the targeted positive definite matrix\n",
    "    Z = source @ eigmat @ source.T\n",
    "    return Z\n",
    "\n",
    "\n",
    "def minmax(v:np.ndarray, bound:float=1.):\n",
    "    min = np.min(v)\n",
    "    max = np.max(v)\n",
    "    return ((v - min) / (max - min)) * bound\n",
    "\n",
    "\n",
    "def left_pseudo_inverse(A:np.ndarray):\n",
    "    d, k = A.shape\n",
    "    u, A_sig, v_T = np.linalg.svd(A)\n",
    "    \n",
    "    B_sig = np.zeros((k, d))\n",
    "    for i in range(k):\n",
    "        B_sig[i, i] = 1 / A_sig[i]\n",
    "    \n",
    "    B = v_T.T @ B_sig @ u.T\n",
    "    \n",
    "    return B\n",
    "\n",
    "\n",
    "def rademacher(size:int):\n",
    "    \"\"\"\n",
    "    Generate Rademacher random variables.\n",
    "\n",
    "    Args:\n",
    "    size (int): Number of random variables to generate.\n",
    "\n",
    "    Returns:\n",
    "    numpy.ndarray: An array of Rademacher random variables.\n",
    "    \"\"\"\n",
    "    return 2 * np.random.randint(0, 2, size) - 1\n",
    "\n",
    "\n",
    "def subgaussian_noise(distribution:str, size:int, random_state:int, std:float=None):\n",
    "    \"\"\"\n",
    "    distribution (str): the distribution to sample a sub-Gaussian noise\n",
    "    size (int): The number of total rounds (T)\n",
    "    std (float): The variance proxy of the noise\n",
    "    \"\"\"\n",
    "    np.random.seed(random_state)\n",
    "    if not std:\n",
    "        assert distribution in [\"gaussian\", \"uniform\"]\n",
    "    \n",
    "    if distribution == \"gaussian\":\n",
    "        if not std:\n",
    "            std = 1\n",
    "        noise = np.random.normal(loc=0, scale=std, size=size) \n",
    "    elif distribution == \"uniform\":\n",
    "        if not std:\n",
    "            low = -1\n",
    "            high = 1\n",
    "            std = np.sqrt(((high - low) ** 2) / 12)\n",
    "        else:\n",
    "            low = -np.sqrt(3) * std\n",
    "            high = np.sqrt(3) * std\n",
    "        noise = np.random.uniform(low=low, high=high, size=size)\n",
    "    else:\n",
    "        std = 1\n",
    "        noise = rademacher(size=size)\n",
    "    return noise, std"
   ]
  },
  {
   "cell_type": "code",
   "execution_count": 4,
   "id": "fc02a25f",
   "metadata": {},
   "outputs": [],
   "source": [
    "def feature_sampler(dimension:int, feat_dist:str, size:int, disjoint:bool, random_state:int, cov_dist:str=None, bound:float=None):\n",
    "    np.random.seed(random_state)\n",
    "    assert feat_dist.lower() in [\"gaussian\", \"uniform\"]\n",
    "    \n",
    "    if disjoint:\n",
    "        if feat_dist.lower() == \"gaussian\":\n",
    "            ## gaussian\n",
    "            feat = np.random.multivariate_normal(mean=np.zeros(dimension), cov=np.identity(dimension), size=size)\n",
    "        else:\n",
    "            ## uniform\n",
    "            feat = np.random.uniform(low=-1., high=1., size=size*dimension).reshape(size, dimension)\n",
    "    else:\n",
    "        assert cov_dist is not None\n",
    "        if feat_dist.lower() == \"gaussian\":\n",
    "            ## gaussian\n",
    "            cov = covariance_generator(dimension, distribution=cov_dist)\n",
    "            feat = np.random.multivariate_normal(mean=np.zeros(dimension), cov=cov, size=size)\n",
    "        else:\n",
    "            ## uniform\n",
    "            # Cholesky decomposition\n",
    "            pd = positive_definite_generator(dimension, distribution=cov_dist)\n",
    "            L = np.linalg.cholesky(pd)\n",
    "            feat = np.random.uniform(low=-1., high=1., size=size*dimension).reshape(size, dimension)\n",
    "            feat = L @ feat\n",
    "            \n",
    "    if bound is not None:\n",
    "        ## bound the L2 norm of each row vector\n",
    "        norms = [l2norm(feat[i, :]) for i in range(size)]\n",
    "        max_norm = np.max(norms)\n",
    "        for i in range(size):\n",
    "            feat[i, :] *= (bound / max_norm)\n",
    "    \n",
    "    return feat\n",
    "\n",
    "\n",
    "def mapping_generator(latent_dim:int, obs_dim:int, distribution:str, random_state:int, bound:float=None):\n",
    "    np.random.seed(random_state)\n",
    "    assert distribution.lower() in [\"gaussian\", \"uniform\"]\n",
    "    \n",
    "    if distribution.lower() == \"gaussian\":\n",
    "        mat =  np.random.randn(latent_dim, obs_dim)\n",
    "    else:\n",
    "        mat = np.random.uniform(low=-np.sqrt(2/latent_dim), high=np.sqrt(2/latent_dim), size=latent_dim*obs_dim).reshape(latent_dim, obs_dim)\n",
    "        \n",
    "    if bound:\n",
    "        ## constrain the lower bound\n",
    "        u, sig, v_T = np.linalg.svd(mat)\n",
    "        sig = sig - np.min(sig) + bound\n",
    "        sig_mat = make_diagonal(sig, dim=mat.shape)\n",
    "        mat = u @ sig_mat @ v_T\n",
    "\n",
    "    return mat\n",
    "\n",
    "\n",
    "def param_generator(dimension:int, distribution:str, disjoint:bool, random_state:int, bound:float=None):\n",
    "    np.random.seed(random_state)\n",
    "    assert distribution.lower() in [\"gaussian\", \"uniform\"]\n",
    "    \n",
    "    if disjoint:\n",
    "        if distribution == \"gaussian\":\n",
    "            param = np.random.randn(dimension)\n",
    "        else:\n",
    "            param = np.random.uniform(low=-1., high=1., size=dimension)\n",
    "    else:\n",
    "        if distribution == \"gaussian\":\n",
    "            cov = covariance_generator(dimension, distribution=distribution)\n",
    "            param = np.random.multivariate_normal(mean=np.zeros(dimension), cov=cov)\n",
    "        else:\n",
    "            # uniform\n",
    "            pd = positive_definite_generator(dimension, distribution=distribution)\n",
    "            param = np.random.uniform(low=-1., high=1., size=dimension)\n",
    "            L = np.linalg.cholesky(pd)\n",
    "            param = L @ param\n",
    "        \n",
    "    if (bound is not None) and (l2norm(param) > bound): \n",
    "        param *= (bound / l2norm(param))\n",
    "    \n",
    "    return param"
   ]
  },
  {
   "cell_type": "code",
   "execution_count": 5,
   "id": "30a7be12",
   "metadata": {},
   "outputs": [],
   "source": [
    "## Agent\n",
    "class ContextualBandit(ABC):\n",
    "    @abstractmethod\n",
    "    def choose(self, x): pass\n",
    "    \n",
    "    @abstractmethod\n",
    "    def update(self, x, r): pass"
   ]
  },
  {
   "cell_type": "code",
   "execution_count": 6,
   "id": "45be01f2",
   "metadata": {},
   "outputs": [],
   "source": [
    "class LinUCB(ContextualBandit):\n",
    "    def __init__(self, d, alpha, lbda=1.):\n",
    "        self.d = d\n",
    "        self.alpha = alpha\n",
    "        self.t = 0\n",
    "        self.xty = np.zeros(d)\n",
    "        self.Vinv = (1 / lbda) * np.identity(d)\n",
    "        \n",
    "    def choose(self, x):\n",
    "        # x: action set at each round (N, d)\n",
    "        self.t += 1\n",
    "        \n",
    "        ## compute the ridge estimator\n",
    "        theta_hat = self.Vinv @ self.xty\n",
    "        \n",
    "        ## observe the context\n",
    "        N, d = x.shape\n",
    "        \n",
    "        ## compute the ucb scores for each arm\n",
    "        expected = x @ theta_hat # (N, ) theta_T @ x_t\n",
    "        width = np.sqrt(np.einsum(\"Ni, ij, Nj -> N\", x, self.Vinv, x) * np.log(self.t)) # (N, ) widths\n",
    "        ucb_scores = expected + (self.alpha * width) # (N, ) ucb score\n",
    "        \n",
    "        ## chose the argmax the ucb score\n",
    "        maximum = np.max(ucb_scores)\n",
    "        argmax, = np.where(ucb_scores == maximum)\n",
    "        \n",
    "        return np.random.choice(argmax)\n",
    "    \n",
    "    def update(self, x, r):\n",
    "        # x: context of the chosen action (d, )\n",
    "        self.Vinv = shermanMorrison(self.Vinv, x)\n",
    "        self.xty += (r * x)"
   ]
  },
  {
   "cell_type": "code",
   "execution_count": 7,
   "id": "e5ef7c0d",
   "metadata": {},
   "outputs": [],
   "source": [
    "## hyper-parameters\n",
    "M = 20000         # number of samples\n",
    "N = 10            # number of actions in the action set at each round\n",
    "d = 12            # observable dimension\n",
    "k = 8             # latent dimension\n",
    "T = 60000         # total time horizon\n",
    "SEED = 5147        # random state\n",
    "\n",
    "feature_bound = 1.\n",
    "# matrix_lower_bound = 0.5  # lower bound of the decoder (inverse is the upper bound of the encoder)\n",
    "matrix_bound = 1.\n",
    "param_bound = 1.\n",
    "reward_bound = 1.\n",
    "\n",
    "ALPHAS = [0.0, 0.1, 0.3, 0.5, 1.0]\n",
    "runtime = 5"
   ]
  },
  {
   "cell_type": "markdown",
   "id": "4f2d0cf5",
   "metadata": {},
   "source": [
    "```python\n",
    "def feature_sampler(dimension:int, feat_dist:str, size:int, disjoint:bool, cov_dist:str=None, bound:float=None, random_state=1)\n",
    "def mapping_generator(d_in:int, d_out:int, distribution:str, random_state=1)\n",
    "def param_generator(dimension:int, distribution:str, disjoint:bool, bound:float=None, random_state=1)\n",
    "def subgaussian_noise(distribution:str, size:int, std:float=None)\n",
    "```"
   ]
  },
  {
   "cell_type": "markdown",
   "id": "97490d6d",
   "metadata": {},
   "source": [
    "# Simple Check"
   ]
  },
  {
   "cell_type": "code",
   "execution_count": 8,
   "id": "ef3429cf",
   "metadata": {},
   "outputs": [
    {
     "name": "stdout",
     "output_type": "stream",
     "text": [
      "Total action space shape: (20000, 12)\n",
      "First context: [-0.01866545 -0.00313498 -0.04884266 -0.02232033  0.05133403  0.22585022\n",
      "  0.01665678 -0.06621891  0.13707794 -0.12976197  0.23936832 -0.0974226 ]\n",
      "Maximum norm: 1.0, Minimum norm: 0.15787334202104933\n"
     ]
    }
   ],
   "source": [
    "## simple check\n",
    "X = feature_sampler(dimension=d, feat_dist=\"gaussian\", size=M, disjoint=True, random_state=SEED, bound=feature_bound)\n",
    "X_norms = [l2norm(X[i, :]) for i in range(M)]\n",
    "print(f\"Total action space shape: {X.shape}\")\n",
    "print(f\"First context: {X[0, :]}\")\n",
    "print(f\"Maximum norm: {np.max(X_norms)}, Minimum norm: {np.min(X_norms)}\")"
   ]
  },
  {
   "cell_type": "code",
   "execution_count": 9,
   "id": "1ce98b5c",
   "metadata": {},
   "outputs": [
    {
     "name": "stdout",
     "output_type": "stream",
     "text": [
      "True parameter: [-0.08298241 -0.49407117 -0.2030933  -0.44442073  0.28835174  0.06554014\n",
      " -0.46559969  0.11711749 -0.24295196  0.25664957 -0.09787817  0.24048767]\tshape: (12,)\tnorm: 0.9999999999999998\n"
     ]
    }
   ],
   "source": [
    "true_param = param_generator(dimension=d, distribution=\"uniform\", disjoint=True, random_state=SEED, bound=param_bound)\n",
    "print(f\"True parameter: {true_param}\\tshape: {true_param.shape}\\tnorm: {l2norm(true_param)}\")"
   ]
  },
  {
   "cell_type": "code",
   "execution_count": 10,
   "id": "90f09bad",
   "metadata": {},
   "outputs": [
    {
     "name": "stdout",
     "output_type": "stream",
     "text": [
      "sigma_epsilon: 0.1, reward noise: [-0.01174253 -0.00197223 -0.03072716 ...  0.10221079  0.00272773\n",
      " -0.01032048], shape: (20000,)\n"
     ]
    }
   ],
   "source": [
    "reward_noise, std = subgaussian_noise(distribution=\"gaussian\", size=M, random_state=SEED, std=0.1)\n",
    "print(f\"sigma_epsilon: {std}, reward noise: {reward_noise}, shape: {reward_noise.shape}\")"
   ]
  },
  {
   "cell_type": "code",
   "execution_count": 11,
   "id": "cb3c788c",
   "metadata": {},
   "outputs": [
    {
     "name": "stdout",
     "output_type": "stream",
     "text": [
      "True reward shape: (20000,)\t First realized reward: -0.12149987026164492\n"
     ]
    },
    {
     "data": {
      "image/png": "[encoded data removed]",
      "text/plain": [
       "<Figure size 1000x400 with 2 Axes>"
      ]
     },
     "metadata": {},
     "output_type": "display_data"
    }
   ],
   "source": [
    "exp_reward = minmax(X @ true_param, bound=2*reward_bound) - reward_bound\n",
    "true_reward = exp_reward + reward_noise\n",
    "print(f\"True reward shape: {true_reward.shape}\\t First realized reward: {true_reward[0]}\")\n",
    "\n",
    "plt.figure(figsize=(10, 4))\n",
    "\n",
    "plt.subplot(121)\n",
    "plt.hist(exp_reward)\n",
    "plt.grid(True)\n",
    "plt.xlabel(\"Reward\")\n",
    "plt.title(\"Distribution of Expected Reward\")\n",
    "\n",
    "plt.subplot(122)\n",
    "plt.hist(true_reward)\n",
    "plt.grid(True)\n",
    "plt.xlabel(\"Reward\")\n",
    "plt.title(\"Distribution of Realized Reward\")\n",
    "\n",
    "plt.tight_layout()\n",
    "plt.show()"
   ]
  },
  {
   "cell_type": "code",
   "execution_count": 12,
   "id": "8bb753b2",
   "metadata": {},
   "outputs": [
    {
     "name": "stdout",
     "output_type": "stream",
     "text": [
      "alpha=0.0\n"
     ]
    },
    {
     "data": {
      "application/vnd.jupyter.widget-view+json": {
       "model_id": "1e22b3bf94db4cff8fea2e238657966c",
       "version_major": 2,
       "version_minor": 0
      },
      "text/plain": [
       "  0%|          | 0/60000 [00:00<?, ?it/s]"
      ]
     },
     "metadata": {},
     "output_type": "display_data"
    },
    {
     "data": {
      "application/vnd.jupyter.widget-view+json": {
       "model_id": "25183a46b7494ed7a6a58745b4748764",
       "version_major": 2,
       "version_minor": 0
      },
      "text/plain": [
       "  0%|          | 0/60000 [00:00<?, ?it/s]"
      ]
     },
     "metadata": {},
     "output_type": "display_data"
    },
    {
     "data": {
      "application/vnd.jupyter.widget-view+json": {
       "model_id": "1185f747927c41e5bfa6ee13fff40eb6",
       "version_major": 2,
       "version_minor": 0
      },
      "text/plain": [
       "  0%|          | 0/60000 [00:00<?, ?it/s]"
      ]
     },
     "metadata": {},
     "output_type": "display_data"
    },
    {
     "data": {
      "application/vnd.jupyter.widget-view+json": {
       "model_id": "880ae1e807c44ab5bea0bf9e6833b0e5",
       "version_major": 2,
       "version_minor": 0
      },
      "text/plain": [
       "  0%|          | 0/60000 [00:00<?, ?it/s]"
      ]
     },
     "metadata": {},
     "output_type": "display_data"
    },
    {
     "data": {
      "application/vnd.jupyter.widget-view+json": {
       "model_id": "70ddf22706424abe895ec97b84aaaa4d",
       "version_major": 2,
       "version_minor": 0
      },
      "text/plain": [
       "  0%|          | 0/60000 [00:00<?, ?it/s]"
      ]
     },
     "metadata": {},
     "output_type": "display_data"
    },
    {
     "name": "stdout",
     "output_type": "stream",
     "text": [
      "alpha=0.1\n"
     ]
    },
    {
     "data": {
      "application/vnd.jupyter.widget-view+json": {
       "model_id": "5d45f352b89d49a3b11e61ff363a5778",
       "version_major": 2,
       "version_minor": 0
      },
      "text/plain": [
       "  0%|          | 0/60000 [00:00<?, ?it/s]"
      ]
     },
     "metadata": {},
     "output_type": "display_data"
    },
    {
     "data": {
      "application/vnd.jupyter.widget-view+json": {
       "model_id": "e78b49cb0dea45ea941a10f03f4ef863",
       "version_major": 2,
       "version_minor": 0
      },
      "text/plain": [
       "  0%|          | 0/60000 [00:00<?, ?it/s]"
      ]
     },
     "metadata": {},
     "output_type": "display_data"
    },
    {
     "data": {
      "application/vnd.jupyter.widget-view+json": {
       "model_id": "32d0f3e628e7460cb4d2f63f97ec1c95",
       "version_major": 2,
       "version_minor": 0
      },
      "text/plain": [
       "  0%|          | 0/60000 [00:00<?, ?it/s]"
      ]
     },
     "metadata": {},
     "output_type": "display_data"
    },
    {
     "data": {
      "application/vnd.jupyter.widget-view+json": {
       "model_id": "0bea488307a94448ba798a7d6284b903",
       "version_major": 2,
       "version_minor": 0
      },
      "text/plain": [
       "  0%|          | 0/60000 [00:00<?, ?it/s]"
      ]
     },
     "metadata": {},
     "output_type": "display_data"
    },
    {
     "data": {
      "application/vnd.jupyter.widget-view+json": {
       "model_id": "211fe37d53b54977ac5de881e6484db5",
       "version_major": 2,
       "version_minor": 0
      },
      "text/plain": [
       "  0%|          | 0/60000 [00:00<?, ?it/s]"
      ]
     },
     "metadata": {},
     "output_type": "display_data"
    },
    {
     "name": "stdout",
     "output_type": "stream",
     "text": [
      "alpha=0.3\n"
     ]
    },
    {
     "data": {
      "application/vnd.jupyter.widget-view+json": {
       "model_id": "0249f0aeb3f24d8882df9de169189f80",
       "version_major": 2,
       "version_minor": 0
      },
      "text/plain": [
       "  0%|          | 0/60000 [00:00<?, ?it/s]"
      ]
     },
     "metadata": {},
     "output_type": "display_data"
    },
    {
     "data": {
      "application/vnd.jupyter.widget-view+json": {
       "model_id": "6ff5430f3c2047bd8a13b81c2308ed4b",
       "version_major": 2,
       "version_minor": 0
      },
      "text/plain": [
       "  0%|          | 0/60000 [00:00<?, ?it/s]"
      ]
     },
     "metadata": {},
     "output_type": "display_data"
    },
    {
     "data": {
      "application/vnd.jupyter.widget-view+json": {
       "model_id": "dd7cb621bbdf4f8fb4a8ec31ca0d5ef9",
       "version_major": 2,
       "version_minor": 0
      },
      "text/plain": [
       "  0%|          | 0/60000 [00:00<?, ?it/s]"
      ]
     },
     "metadata": {},
     "output_type": "display_data"
    },
    {
     "data": {
      "application/vnd.jupyter.widget-view+json": {
       "model_id": "c2e13bb03f17416f95e484282371a168",
       "version_major": 2,
       "version_minor": 0
      },
      "text/plain": [
       "  0%|          | 0/60000 [00:00<?, ?it/s]"
      ]
     },
     "metadata": {},
     "output_type": "display_data"
    },
    {
     "data": {
      "application/vnd.jupyter.widget-view+json": {
       "model_id": "04f4e50a142f4c8b83542af9e32d645d",
       "version_major": 2,
       "version_minor": 0
      },
      "text/plain": [
       "  0%|          | 0/60000 [00:00<?, ?it/s]"
      ]
     },
     "metadata": {},
     "output_type": "display_data"
    },
    {
     "name": "stdout",
     "output_type": "stream",
     "text": [
      "alpha=0.5\n"
     ]
    },
    {
     "data": {
      "application/vnd.jupyter.widget-view+json": {
       "model_id": "125f63ae731f476eb5f8413cdda65046",
       "version_major": 2,
       "version_minor": 0
      },
      "text/plain": [
       "  0%|          | 0/60000 [00:00<?, ?it/s]"
      ]
     },
     "metadata": {},
     "output_type": "display_data"
    },
    {
     "data": {
      "application/vnd.jupyter.widget-view+json": {
       "model_id": "178447b2a5134483a59448e10a056718",
       "version_major": 2,
       "version_minor": 0
      },
      "text/plain": [
       "  0%|          | 0/60000 [00:00<?, ?it/s]"
      ]
     },
     "metadata": {},
     "output_type": "display_data"
    },
    {
     "data": {
      "application/vnd.jupyter.widget-view+json": {
       "model_id": "3ef506d4b2cb4844929a356810d00de5",
       "version_major": 2,
       "version_minor": 0
      },
      "text/plain": [
       "  0%|          | 0/60000 [00:00<?, ?it/s]"
      ]
     },
     "metadata": {},
     "output_type": "display_data"
    },
    {
     "data": {
      "application/vnd.jupyter.widget-view+json": {
       "model_id": "d14775cb0f4b4bc7b8bd3eca5a2d80ce",
       "version_major": 2,
       "version_minor": 0
      },
      "text/plain": [
       "  0%|          | 0/60000 [00:00<?, ?it/s]"
      ]
     },
     "metadata": {},
     "output_type": "display_data"
    },
    {
     "data": {
      "application/vnd.jupyter.widget-view+json": {
       "model_id": "e92760a77f15435c94f8c88788a7d306",
       "version_major": 2,
       "version_minor": 0
      },
      "text/plain": [
       "  0%|          | 0/60000 [00:00<?, ?it/s]"
      ]
     },
     "metadata": {},
     "output_type": "display_data"
    },
    {
     "name": "stdout",
     "output_type": "stream",
     "text": [
      "alpha=1.0\n"
     ]
    },
    {
     "data": {
      "application/vnd.jupyter.widget-view+json": {
       "model_id": "1aaac590f0f6419cbe46bd4901cb5d3f",
       "version_major": 2,
       "version_minor": 0
      },
      "text/plain": [
       "  0%|          | 0/60000 [00:00<?, ?it/s]"
      ]
     },
     "metadata": {},
     "output_type": "display_data"
    },
    {
     "data": {
      "application/vnd.jupyter.widget-view+json": {
       "model_id": "6d154ad596de4f87ad7e5f2feed249c0",
       "version_major": 2,
       "version_minor": 0
      },
      "text/plain": [
       "  0%|          | 0/60000 [00:00<?, ?it/s]"
      ]
     },
     "metadata": {},
     "output_type": "display_data"
    },
    {
     "data": {
      "application/vnd.jupyter.widget-view+json": {
       "model_id": "aa04eba292b34b71a4502a7f75853095",
       "version_major": 2,
       "version_minor": 0
      },
      "text/plain": [
       "  0%|          | 0/60000 [00:00<?, ?it/s]"
      ]
     },
     "metadata": {},
     "output_type": "display_data"
    },
    {
     "data": {
      "application/vnd.jupyter.widget-view+json": {
       "model_id": "64e0c7d7ff284ee181fdf6be89d77256",
       "version_major": 2,
       "version_minor": 0
      },
      "text/plain": [
       "  0%|          | 0/60000 [00:00<?, ?it/s]"
      ]
     },
     "metadata": {},
     "output_type": "display_data"
    },
    {
     "data": {
      "application/vnd.jupyter.widget-view+json": {
       "model_id": "aad9b695c8664b649c7fd879e89125cd",
       "version_major": 2,
       "version_minor": 0
      },
      "text/plain": [
       "  0%|          | 0/60000 [00:00<?, ?it/s]"
      ]
     },
     "metadata": {},
     "output_type": "display_data"
    }
   ],
   "source": [
    "regret_result = dict()\n",
    "for alpha in ALPHAS:\n",
    "    print(f\"alpha={alpha}\")\n",
    "    regret_container = []\n",
    "    for trial in range(runtime):\n",
    "        agent = LinUCB(d=d, alpha=alpha)\n",
    "        regrets = np.zeros(T)\n",
    "        for t in tqdm_auto(range(T)):\n",
    "            indices = np.random.randint(0, M, N)\n",
    "            action_set, reward_set = X[indices], true_reward[indices]\n",
    "\n",
    "            exp_rewards = action_set @ true_param\n",
    "            optimal_action = np.argmax(exp_rewards)\n",
    "            optimal_reward = exp_rewards[optimal_action]\n",
    "\n",
    "            chosen_action = agent.choose(action_set)\n",
    "            chosen_reward = reward_set[chosen_action]\n",
    "            chosen_context = action_set[chosen_action]\n",
    "\n",
    "            agent.update(chosen_context, chosen_reward)\n",
    "            instance_regret = optimal_reward - exp_rewards[chosen_action]\n",
    "            regrets[t] = instance_regret\n",
    "        regret_container.append(np.cumsum(regrets))\n",
    "        \n",
    "    regret_result[alpha] = np.array(regret_container)"
   ]
  },
  {
   "cell_type": "code",
   "execution_count": 13,
   "id": "308ddeb9",
   "metadata": {},
   "outputs": [
    {
     "data": {
      "image/png": "[encoded data removed]",
      "text/plain": [
       "<Figure size 1300x500 with 2 Axes>"
      ]
     },
     "metadata": {},
     "output_type": "display_data"
    }
   ],
   "source": [
    "plt.figure(figsize=(13, 5))\n",
    "\n",
    "plt.subplot(121)\n",
    "for key, value in regret_result.items():\n",
    "    mean = np.mean(value, axis=0)\n",
    "    std = np.std(value, axis=0, ddof=1)\n",
    "    plt.plot(mean, label=f\"alpha={key}\")\n",
    "plt.grid(True)\n",
    "plt.xlabel(\"Round\")\n",
    "plt.ylabel(\"$R_T$\")\n",
    "plt.legend()\n",
    "\n",
    "plt.subplot(122)\n",
    "for key, value in regret_result.items():\n",
    "    mean = np.mean(value, axis=0)\n",
    "    std = np.std(value, axis=0, ddof=1)\n",
    "    plt.plot(mean, label=f\"alpha={key}\")\n",
    "    plt.fill_between(np.arange(T), mean-std, mean+std, alpha=0.2)\n",
    "plt.grid(True)\n",
    "plt.xlabel(\"Round\")\n",
    "plt.ylabel(\"$R_T$\")\n",
    "plt.legend()\n",
    "\n",
    "plt.tight_layout()\n",
    "plt.show()"
   ]
  },
  {
   "cell_type": "markdown",
   "id": "15ca9ded",
   "metadata": {},
   "source": [
    "# $A : Z \\to X, Z\\in\\mathbb{R}^{k}, X\\in\\mathbb{R}^d$ is specified"
   ]
  },
  {
   "cell_type": "code",
   "execution_count": 14,
   "id": "9ba9f07e",
   "metadata": {},
   "outputs": [],
   "source": [
    "def run(agent:LinUCB, num_actions:int, horizon:int, obs:np.ndarray, r_exp:np.ndarray, r_true:np.ndarray, use_tqdm:bool=True, verbose:bool=False):\n",
    "    action_space_size, _ = obs.shape\n",
    "    assert action_space_size >= num_actions\n",
    "    \n",
    "    if use_tqdm:\n",
    "        bar = tqdm_auto(range(horizon))\n",
    "    else:\n",
    "        bar = range(horizon)\n",
    "    \n",
    "    regrets = np.zeros(horizon)\n",
    "    for t in bar:\n",
    "        if action_space_size == num_actions:\n",
    "            indices = np.arange(num_actions)\n",
    "        else:\n",
    "            indices = np.random.randint(0, action_space_size, num_actions)\n",
    "        \n",
    "        ## observe actions\n",
    "        action_set, exp_reward_set, true_reward_set = obs[indices], r_exp[indices], r_true[indices]\n",
    "        \n",
    "        ## get the optimal reward and optimal action\n",
    "        optimal_action = np.argmax(exp_reward_set) # index of the optimal action\n",
    "        optimal_reward = exp_reward_set[optimal_action]\n",
    "        \n",
    "        ## choose action\n",
    "        chosen_action = agent.choose(action_set)\n",
    "        chosen_reward = true_reward_set[chosen_action]\n",
    "        chosen_context = action_set[chosen_action]\n",
    "        \n",
    "        ## compute the regret\n",
    "        instance_regret = optimal_reward - exp_reward_set[chosen_action]\n",
    "        regrets[t] = instance_regret\n",
    "        \n",
    "        ## update the agent\n",
    "        agent.update(chosen_context, chosen_reward)\n",
    "        \n",
    "        if verbose: \n",
    "            print(f\"round {t+1}\\toptimal action : {optimal_action}\\toptimal reward : {optimal_reward:.3f}\")\n",
    "            print(f\"\\tchosen action : {chosen_arm}\\trealized reward : {chosen_reward:.3f}, expected reward: {exp_reward_set[chosen_arm]:.3f}\")\n",
    "            print(f\"\\tinstance regret : {instance_regret:.3f}, cumulative regret : {np.sum(regrets):.3f}\")\n",
    "            \n",
    "    return regrets"
   ]
  },
  {
   "cell_type": "markdown",
   "id": "54e44f3e",
   "metadata": {},
   "source": [
    "```python\n",
    "def feature_sampler(dimension:int, feat_dist:str, size:int, disjoint:bool, cov_dist:str=None, bound:float=None)\n",
    "def mapping_generator(latent_dim:int, obs_dim:int, distribution:str, bound:float=None)\n",
    "def param_generator(dimension:int, distribution:str, disjoint:bool, bound:float=None)\n",
    "def subgaussian_noise(distribution:str, size:int, std:float=None)\n",
    "```"
   ]
  },
  {
   "cell_type": "markdown",
   "id": "6eee63eb",
   "metadata": {},
   "source": [
    "## $Z \\sim N(0, I_k), A={(a_{ij})}_{i\\in [k], j\\in[d]} \\sim U\\left(-\\sqrt{\\frac{2}{k}}, \\sqrt{\\frac{2}{k}}\\right), \\mu_i\\in \\boldsymbol{\\mu_*}\\sim U(-1, 1)$"
   ]
  },
  {
   "cell_type": "code",
   "execution_count": 15,
   "id": "2937ebbd",
   "metadata": {},
   "outputs": [
    {
     "name": "stdout",
     "output_type": "stream",
     "text": [
      "Total action space shape: (20000, 8)\n",
      "First context: [-0.11742527 -0.01972232 -0.30727165 -0.14041832  0.32294496  1.4208352\n",
      "  0.10478865 -0.4165865 ]\n",
      "Maximum norm: 5.7727563773891335, Minimum norm: 0.5365804380819923\n"
     ]
    }
   ],
   "source": [
    "## latent feature\n",
    "Z = feature_sampler(dimension=k, feat_dist=\"gaussian\", size=M, disjoint=True, random_state=SEED)\n",
    "Z_norms = [l2norm(Z[i, :]) for i in range(M)]\n",
    "\n",
    "print(f\"Total action space shape: {Z.shape}\")\n",
    "print(f\"First context: {Z[0, :]}\")\n",
    "print(f\"Maximum norm: {np.max(Z_norms)}, Minimum norm: {np.min(Z_norms)}\")"
   ]
  },
  {
   "cell_type": "code",
   "execution_count": 16,
   "id": "9d2a5557",
   "metadata": {},
   "outputs": [
    {
     "name": "stdout",
     "output_type": "stream",
     "text": [
      "Mapping shape: (8, 12)\n",
      "[[-0.16964897 -0.92071892 -0.30362107 -0.77629871  0.41309761  0.11108223\n",
      "  -0.7807013   0.19847695 -0.3618504   0.31434115 -0.05993186  0.50824158]\n",
      " [ 0.77356234  0.08634101  0.54429044 -0.34051665  0.77757024  0.57277135\n",
      "   0.03774502 -0.57720541 -0.25777035  0.55819834  0.42008419 -0.11338245]\n",
      " [ 0.54318846 -0.14777736  0.17526527 -0.06405113 -0.78980144  0.15198974\n",
      "   0.37103413 -0.54156992 -0.46722553 -0.50632115  0.46256645  0.22478898]\n",
      " [ 0.59967071  0.08214915 -0.78124608 -0.22342896 -0.12202497 -0.20950348\n",
      "  -0.21270574 -0.07879445 -0.78785785  0.53788166 -0.73146972 -0.16964736]\n",
      " [-0.75070274  0.60134531  0.41841128 -0.67014278 -0.40430066  0.62650311\n",
      "   0.13878283 -0.18191458 -0.79322771 -0.25290267  0.13029022  0.04811932]\n",
      " [-0.59061047 -0.73802235 -0.78721326  0.24898459  0.07154982  0.14857693\n",
      "   0.37996598  0.0978956   0.00390916  0.38223054 -0.46326099 -0.80440781]\n",
      " [ 0.34960269 -0.10288556  0.02133394 -0.17028406 -0.7171782   0.82160032\n",
      "   0.39862695  0.17746563  0.18523649 -0.39390452 -0.67227619  0.48423963]\n",
      " [-0.37726226  0.61830359 -0.79820188 -0.76012484 -0.17048347 -0.37529726\n",
      "   0.50766824  0.31768494  0.67644757 -0.41936539  0.33391983  0.4251584 ]]\n",
      "Singular values: [2.26134213 2.14557607 1.78945509 1.67223848 1.44454522 1.3263006\n",
      " 1.10069027 1.        ]\n"
     ]
    }
   ],
   "source": [
    "## decoder mapping\n",
    "A = mapping_generator(latent_dim=k, obs_dim=d, distribution=\"uniform\", random_state=SEED, bound=matrix_bound)\n",
    "_, sing, _ = np.linalg.svd(A)\n",
    "\n",
    "print(f\"Mapping shape: {A.shape}\")\n",
    "print(f\"{A}\")\n",
    "print(f\"Singular values: {sing}\")"
   ]
  },
  {
   "cell_type": "markdown",
   "id": "bf44fc41",
   "metadata": {},
   "source": [
    "### $\\sigma_{\\eta} = \\frac{1}{\\sqrt{T}}, \\eta_a^i\\in\\boldsymbol{\\eta_a} \\sim N\\left(0, \\sigma_\\eta^2\\right)$"
   ]
  },
  {
   "cell_type": "code",
   "execution_count": 17,
   "id": "51fed57d",
   "metadata": {},
   "outputs": [
    {
     "name": "stdout",
     "output_type": "stream",
     "text": [
      "Shape of context noise: (20000, 12)\n",
      "First context noise: [-4.79386651e-04 -8.05160486e-05 -1.25443124e-03 -5.73255396e-04\n",
      "  1.31841730e-03  5.80053541e-03  4.27797892e-04 -1.70070726e-03\n",
      "  3.52058739e-03 -3.33269054e-03  6.14772221e-03 -2.50211501e-03]\n"
     ]
    }
   ],
   "source": [
    "context_noise, std = subgaussian_noise(distribution=\"gaussian\", size=M*d, random_state=SEED, std=1/np.sqrt(T))\n",
    "context_noise = context_noise.reshape(M, d)\n",
    "print(f\"Shape of context noise: {context_noise.shape}\")\n",
    "print(f\"First context noise: {context_noise[0, :]}\")"
   ]
  },
  {
   "cell_type": "code",
   "execution_count": 18,
   "id": "bec31266",
   "metadata": {},
   "outputs": [
    {
     "name": "stdout",
     "output_type": "stream",
     "text": [
      "Shape of observable features: (20000, 12)\n",
      "Observable features of the first arm: [-0.10068248 -0.08718111 -0.05049629  0.05186316  0.01457415  0.05501558\n",
      "  0.03746022  0.0115745  -0.01843009  0.05533419 -0.0763257  -0.12057848]\n",
      "Maximum L2 norm: 0.9999999999999999\tMinimum L2 norm: 0.07795001061284525\n"
     ]
    }
   ],
   "source": [
    "## Generate X\n",
    "X = Z @ A + context_noise\n",
    "\n",
    "maxnorm = np.max([l2norm(X[i, :]) for i in range(M)])\n",
    "for i in range(X.shape[0]):\n",
    "    X[i, :] *= (feature_bound / maxnorm)\n",
    "Xnorms = [l2norm(X[i, :]) for i in range(M)]\n",
    "\n",
    "print(f\"Shape of observable features: {X.shape}\")\n",
    "print(f\"Observable features of the first arm: {X[0, :]}\")\n",
    "print(f\"Maximum L2 norm: {np.max(Xnorms)}\\tMinimum L2 norm: {np.min(Xnorms)}\")"
   ]
  },
  {
   "cell_type": "markdown",
   "id": "f1d6b64c",
   "metadata": {},
   "source": [
    "### $\\epsilon\\sim N\\left(0, \\sigma_\\epsilon^2\\right), \\sigma_\\epsilon=0.1$"
   ]
  },
  {
   "cell_type": "code",
   "execution_count": 19,
   "id": "b869bcae",
   "metadata": {},
   "outputs": [
    {
     "name": "stdout",
     "output_type": "stream",
     "text": [
      "True reward parameter: [-0.09233438 -0.54975213 -0.22598156 -0.49450617  0.32084848  0.0729264\n",
      " -0.51807196  0.13031643]\tshape: (8,)\tnorm: 1.0\n",
      "Reward noise shape: (20000,), std: 0.1, first noise: -0.011742526852944345\n"
     ]
    }
   ],
   "source": [
    "## reward parameter\n",
    "true_param = param_generator(dimension=k, distribution=\"uniform\", disjoint=True, random_state=SEED, bound=param_bound)\n",
    "print(f\"True reward parameter: {true_param}\\tshape: {true_param.shape}\\tnorm: {l2norm(true_param)}\")\n",
    "\n",
    "## reward noise\n",
    "reward_noise, std = subgaussian_noise(distribution=\"gaussian\", size=M, random_state=SEED, std=0.1)\n",
    "print(f\"Reward noise shape: {reward_noise.shape}, std: {std}, first noise: {reward_noise[0]}\")"
   ]
  },
  {
   "cell_type": "code",
   "execution_count": 20,
   "id": "a3ca78d4",
   "metadata": {},
   "outputs": [
    {
     "name": "stdout",
     "output_type": "stream",
     "text": [
      "When expected reward is bounded in [-1.0, 1.0]\t First realized reward: 0.0697489802221007\n",
      "When expected reward is bounded in [0, 1.0]\t First realized reward: 0.5290032266845782\n"
     ]
    },
    {
     "data": {
      "image/png": "[encoded data removed]",
      "text/plain": [
       "<Figure size 1300x400 with 3 Axes>"
      ]
     },
     "metadata": {},
     "output_type": "display_data"
    },
    {
     "data": {
      "image/png": "[encoded data removed]",
      "text/plain": [
       "<Figure size 1300x400 with 3 Axes>"
      ]
     },
     "metadata": {},
     "output_type": "display_data"
    }
   ],
   "source": [
    "## reward\n",
    "exp_rewards_unbounded = Z @ true_param\n",
    "\n",
    "exp_rewards1 = minmax(Z @ true_param, bound=2*reward_bound) - reward_bound # constrain in [-C, C]\n",
    "exp_rewards2 = minmax(Z @ true_param, bound=reward_bound) # constrain in [0, C]\n",
    "\n",
    "true_rewards1 = exp_rewards1 + reward_noise\n",
    "true_rewards2 = exp_rewards2 + reward_noise\n",
    "print(f\"When expected reward is bounded in [-{reward_bound}, {reward_bound}]\\t First realized reward: {true_rewards1[0]}\")\n",
    "print(f\"When expected reward is bounded in [0, {reward_bound}]\\t First realized reward: {true_rewards2[0]}\")\n",
    "\n",
    "plt.figure(figsize=(13, 4))\n",
    "\n",
    "plt.subplot(131)\n",
    "plt.hist(exp_rewards_unbounded)\n",
    "plt.grid(True)\n",
    "plt.xlabel(\"Reward\")\n",
    "plt.title(\"Distribution of Unbounded Expected Rewards\")\n",
    "\n",
    "plt.subplot(132)\n",
    "plt.hist(exp_rewards1)\n",
    "plt.grid(True)\n",
    "plt.xlabel(\"Reward\")\n",
    "plt.title(\"Distribution of Bounded Expected Rewards\")\n",
    "\n",
    "plt.subplot(133)\n",
    "plt.hist(true_rewards1)\n",
    "plt.grid(True)\n",
    "plt.xlabel(\"Reward\")\n",
    "plt.title(\"Distribution of Realized Rewards\")\n",
    "\n",
    "plt.suptitle(\"When Expected Reward is bounded in $[-C, C]$\")\n",
    "plt.tight_layout()\n",
    "plt.show()\n",
    "\n",
    "plt.figure(figsize=(13, 4))\n",
    "\n",
    "plt.subplot(131)\n",
    "plt.hist(exp_rewards_unbounded)\n",
    "plt.grid(True)\n",
    "plt.xlabel(\"Reward\")\n",
    "plt.title(\"Distribution of Unbounded Expected Rewards\")\n",
    "\n",
    "plt.subplot(132)\n",
    "plt.hist(exp_rewards2)\n",
    "plt.grid(True)\n",
    "plt.xlabel(\"Reward\")\n",
    "plt.title(\"Distribution of Bounded Expected Rewards\")\n",
    "\n",
    "plt.subplot(133)\n",
    "plt.hist(true_rewards2)\n",
    "plt.grid(True)\n",
    "plt.xlabel(\"Reward\")\n",
    "plt.title(\"Distribution of Realized Rewards\")\n",
    "\n",
    "plt.suptitle(\"When Expected Reward is bounded in $[0, C]$\")\n",
    "plt.tight_layout()\n",
    "plt.show()"
   ]
  },
  {
   "cell_type": "code",
   "execution_count": null,
   "id": "2b033a1e",
   "metadata": {},
   "outputs": [
    {
     "name": "stdout",
     "output_type": "stream",
     "text": [
      "When expected reward is bounded in [-1.0, 1.0]\n",
      "alpha=0.0\n"
     ]
    },
    {
     "data": {
      "application/vnd.jupyter.widget-view+json": {
       "model_id": "ae9478b6bcc84cea93f11155094fa89e",
       "version_major": 2,
       "version_minor": 0
      },
      "text/plain": [
       "  0%|          | 0/60000 [00:00<?, ?it/s]"
      ]
     },
     "metadata": {},
     "output_type": "display_data"
    },
    {
     "data": {
      "application/vnd.jupyter.widget-view+json": {
       "model_id": "e11957bb367a4e89b0b13d60bcaa9849",
       "version_major": 2,
       "version_minor": 0
      },
      "text/plain": [
       "  0%|          | 0/60000 [00:00<?, ?it/s]"
      ]
     },
     "metadata": {},
     "output_type": "display_data"
    },
    {
     "data": {
      "application/vnd.jupyter.widget-view+json": {
       "model_id": "a73f43583e8e431e90664ff39b33209b",
       "version_major": 2,
       "version_minor": 0
      },
      "text/plain": [
       "  0%|          | 0/60000 [00:00<?, ?it/s]"
      ]
     },
     "metadata": {},
     "output_type": "display_data"
    },
    {
     "data": {
      "application/vnd.jupyter.widget-view+json": {
       "model_id": "bb7021677d534f5b8811b6535632142b",
       "version_major": 2,
       "version_minor": 0
      },
      "text/plain": [
       "  0%|          | 0/60000 [00:00<?, ?it/s]"
      ]
     },
     "metadata": {},
     "output_type": "display_data"
    },
    {
     "data": {
      "application/vnd.jupyter.widget-view+json": {
       "model_id": "98d277486f934b11a5ff86f0385dfb43",
       "version_major": 2,
       "version_minor": 0
      },
      "text/plain": [
       "  0%|          | 0/60000 [00:00<?, ?it/s]"
      ]
     },
     "metadata": {},
     "output_type": "display_data"
    },
    {
     "name": "stdout",
     "output_type": "stream",
     "text": [
      "alpha=0.1\n"
     ]
    },
    {
     "data": {
      "application/vnd.jupyter.widget-view+json": {
       "model_id": "8df04b7577764036acb9a6721de98756",
       "version_major": 2,
       "version_minor": 0
      },
      "text/plain": [
       "  0%|          | 0/60000 [00:00<?, ?it/s]"
      ]
     },
     "metadata": {},
     "output_type": "display_data"
    },
    {
     "data": {
      "application/vnd.jupyter.widget-view+json": {
       "model_id": "0640e2374ddc48c09d0649771a0d33fc",
       "version_major": 2,
       "version_minor": 0
      },
      "text/plain": [
       "  0%|          | 0/60000 [00:00<?, ?it/s]"
      ]
     },
     "metadata": {},
     "output_type": "display_data"
    },
    {
     "data": {
      "application/vnd.jupyter.widget-view+json": {
       "model_id": "06d4dedc1fcd46d4823ed41558846c14",
       "version_major": 2,
       "version_minor": 0
      },
      "text/plain": [
       "  0%|          | 0/60000 [00:00<?, ?it/s]"
      ]
     },
     "metadata": {},
     "output_type": "display_data"
    },
    {
     "data": {
      "application/vnd.jupyter.widget-view+json": {
       "model_id": "241b406fc8e146cfaa0845fffef37b33",
       "version_major": 2,
       "version_minor": 0
      },
      "text/plain": [
       "  0%|          | 0/60000 [00:00<?, ?it/s]"
      ]
     },
     "metadata": {},
     "output_type": "display_data"
    },
    {
     "data": {
      "application/vnd.jupyter.widget-view+json": {
       "model_id": "7ee400380b0747c992ed43d2e219c334",
       "version_major": 2,
       "version_minor": 0
      },
      "text/plain": [
       "  0%|          | 0/60000 [00:00<?, ?it/s]"
      ]
     },
     "metadata": {},
     "output_type": "display_data"
    },
    {
     "name": "stdout",
     "output_type": "stream",
     "text": [
      "alpha=0.3\n"
     ]
    },
    {
     "data": {
      "application/vnd.jupyter.widget-view+json": {
       "model_id": "905189b58a8b444aaea46bc29551504d",
       "version_major": 2,
       "version_minor": 0
      },
      "text/plain": [
       "  0%|          | 0/60000 [00:00<?, ?it/s]"
      ]
     },
     "metadata": {},
     "output_type": "display_data"
    },
    {
     "data": {
      "application/vnd.jupyter.widget-view+json": {
       "model_id": "a1b60c98ce6c427d8ed1b391f48c3aaa",
       "version_major": 2,
       "version_minor": 0
      },
      "text/plain": [
       "  0%|          | 0/60000 [00:00<?, ?it/s]"
      ]
     },
     "metadata": {},
     "output_type": "display_data"
    },
    {
     "data": {
      "application/vnd.jupyter.widget-view+json": {
       "model_id": "d04cf82bf1824446840cedade5bcc7c0",
       "version_major": 2,
       "version_minor": 0
      },
      "text/plain": [
       "  0%|          | 0/60000 [00:00<?, ?it/s]"
      ]
     },
     "metadata": {},
     "output_type": "display_data"
    },
    {
     "data": {
      "application/vnd.jupyter.widget-view+json": {
       "model_id": "9afc20504643499db0e12a8203fa973c",
       "version_major": 2,
       "version_minor": 0
      },
      "text/plain": [
       "  0%|          | 0/60000 [00:00<?, ?it/s]"
      ]
     },
     "metadata": {},
     "output_type": "display_data"
    },
    {
     "data": {
      "application/vnd.jupyter.widget-view+json": {
       "model_id": "8e918f2154fc4b12b018e6301a594b42",
       "version_major": 2,
       "version_minor": 0
      },
      "text/plain": [
       "  0%|          | 0/60000 [00:00<?, ?it/s]"
      ]
     },
     "metadata": {},
     "output_type": "display_data"
    },
    {
     "name": "stdout",
     "output_type": "stream",
     "text": [
      "alpha=0.5\n"
     ]
    },
    {
     "data": {
      "application/vnd.jupyter.widget-view+json": {
       "model_id": "8038714519024f8593a38ce7364622b5",
       "version_major": 2,
       "version_minor": 0
      },
      "text/plain": [
       "  0%|          | 0/60000 [00:00<?, ?it/s]"
      ]
     },
     "metadata": {},
     "output_type": "display_data"
    },
    {
     "data": {
      "application/vnd.jupyter.widget-view+json": {
       "model_id": "7d36d6e14b8d42fb93d32e3d6583f8c4",
       "version_major": 2,
       "version_minor": 0
      },
      "text/plain": [
       "  0%|          | 0/60000 [00:00<?, ?it/s]"
      ]
     },
     "metadata": {},
     "output_type": "display_data"
    }
   ],
   "source": [
    "print(f\"When expected reward is bounded in [-{reward_bound}, {reward_bound}]\")\n",
    "result1 = dict()\n",
    "for alpha in ALPHAS:\n",
    "    print(f\"alpha={alpha}\")\n",
    "    result_container = []\n",
    "    for trial in range(runtime):\n",
    "        agent = LinUCB(d=d, alpha=alpha)\n",
    "        regret = run(agent=agent, num_actions=N, horizon=T, obs=X, r_exp=exp_rewards1, r_true=true_rewards1, use_tqdm=True)\n",
    "        result_container.append(np.cumsum(regret))\n",
    "    result1[alpha] = np.array(result_container)"
   ]
  },
  {
   "cell_type": "code",
   "execution_count": null,
   "id": "63584af8",
   "metadata": {},
   "outputs": [],
   "source": [
    "print(f\"When expected reward is bounded in [0, {reward_bound}]\")\n",
    "result2 = dict()\n",
    "for alpha in ALPHAS:\n",
    "    print(f\"alpha={alpha}\")\n",
    "    result_container = []\n",
    "    for trial in range(runtime):\n",
    "        agent = LinUCB(d=d, alpha=alpha)\n",
    "        regret = run(agent=agent, num_actions=N, horizon=T, obs=X, r_exp=exp_rewards2, r_true=true_rewards2, use_tqdm=True)\n",
    "        result_container.append(np.cumsum(regret))\n",
    "    result2[alpha] = np.array(result_container)"
   ]
  },
  {
   "cell_type": "code",
   "execution_count": null,
   "id": "95083eb5",
   "metadata": {
    "scrolled": false
   },
   "outputs": [],
   "source": [
    "plt.figure(figsize=(13, 5))\n",
    "\n",
    "plt.subplot(121)\n",
    "for key, value in result1.items():\n",
    "    mean = np.mean(value, axis=0)\n",
    "    std = np.std(value, axis=0, ddof=1)\n",
    "    plt.plot(mean, label=f\"alpha={key}\")\n",
    "plt.grid(True)\n",
    "plt.xlabel(\"Round\")\n",
    "plt.ylabel(\"$R_T$\")\n",
    "plt.legend()\n",
    "\n",
    "plt.subplot(122)\n",
    "for key, value in result1.items():\n",
    "    mean = np.mean(value, axis=0)\n",
    "    std = np.std(value, axis=0, ddof=1)\n",
    "    plt.plot(mean, label=f\"alpha={key}\")\n",
    "    plt.fill_between(np.arange(T), mean-std, mean+std, alpha=0.2)\n",
    "plt.grid(True)\n",
    "plt.xlabel(\"Round\")\n",
    "plt.ylabel(\"$R_T$\")\n",
    "plt.legend()\n",
    "\n",
    "plt.suptitle(\"$\\mathbb{E}[r_t]\\in [-C, C]$\")\n",
    "plt.tight_layout()\n",
    "plt.show()\n",
    "\n",
    "plt.figure(figsize=(13, 5))\n",
    "\n",
    "plt.subplot(121)\n",
    "for key, value in result2.items():\n",
    "    mean = np.mean(value, axis=0)\n",
    "    std = np.std(value, axis=0, ddof=1)\n",
    "    plt.plot(mean, label=f\"alpha={key}\")\n",
    "plt.grid(True)\n",
    "plt.xlabel(\"Round\")\n",
    "plt.ylabel(\"$R_T$\")\n",
    "plt.legend()\n",
    "\n",
    "plt.subplot(122)\n",
    "for key, value in result2.items():\n",
    "    mean = np.mean(value, axis=0)\n",
    "    std = np.std(value, axis=0, ddof=1)\n",
    "    plt.plot(mean, label=f\"alpha={key}\")\n",
    "    plt.fill_between(np.arange(T), mean-std, mean+std, alpha=0.2)\n",
    "plt.grid(True)\n",
    "plt.xlabel(\"Round\")\n",
    "plt.ylabel(\"$R_T$\")\n",
    "plt.legend()\n",
    "\n",
    "plt.suptitle(\"$\\mathbb{E}[r_t]\\in [0, C]$\")\n",
    "plt.tight_layout()\n",
    "plt.show()"
   ]
  },
  {
   "cell_type": "markdown",
   "id": "d1706271",
   "metadata": {},
   "source": [
    "### $\\epsilon\\sim N\\left(0, \\sigma_\\epsilon^2\\right), \\sigma_\\epsilon=0.5$"
   ]
  },
  {
   "cell_type": "code",
   "execution_count": null,
   "id": "e2ab2a30",
   "metadata": {},
   "outputs": [],
   "source": [
    "## reward parameter\n",
    "true_param = param_generator(dimension=k, distribution=\"uniform\", disjoint=True, random_state=SEED, bound=param_bound)\n",
    "print(f\"True reward parameter: {true_param}\\tshape: {true_param.shape}\\tnorm: {l2norm(true_param)}\")\n",
    "\n",
    "## reward noise\n",
    "reward_noise, std = subgaussian_noise(distribution=\"gaussian\", size=M, random_state=SEED, std=0.5)\n",
    "print(f\"Reward noise shape: {reward_noise.shape}, std: {std}, first noise: {reward_noise[0]}\")"
   ]
  },
  {
   "cell_type": "code",
   "execution_count": null,
   "id": "a1026b03",
   "metadata": {},
   "outputs": [],
   "source": [
    "## reward\n",
    "exp_rewards_unbounded = Z @ true_param\n",
    "\n",
    "exp_rewards1 = minmax(Z @ true_param, bound=2*reward_bound) - reward_bound # constrain in [-C, C]\n",
    "exp_rewards2 = minmax(Z @ true_param, bound=reward_bound) # constrain in [0, C]\n",
    "\n",
    "true_rewards1 = exp_rewards1 + reward_noise\n",
    "true_rewards2 = exp_rewards2 + reward_noise\n",
    "print(f\"When expected reward is bounded in [-{reward_bound}, {reward_bound}]\\t First realized reward: {true_rewards1[0]}\")\n",
    "print(f\"When expected reward is bounded in [0, {reward_bound}]\\t First realized reward: {true_rewards2[0]}\")\n",
    "\n",
    "plt.figure(figsize=(13, 4))\n",
    "\n",
    "plt.subplot(131)\n",
    "plt.hist(exp_rewards_unbounded)\n",
    "plt.grid(True)\n",
    "plt.xlabel(\"Reward\")\n",
    "plt.title(\"Distribution of Unbounded Expected Rewards\")\n",
    "\n",
    "plt.subplot(132)\n",
    "plt.hist(exp_rewards1)\n",
    "plt.grid(True)\n",
    "plt.xlabel(\"Reward\")\n",
    "plt.title(\"Distribution of Bounded Expected Rewards\")\n",
    "\n",
    "plt.subplot(133)\n",
    "plt.hist(true_rewards1)\n",
    "plt.grid(True)\n",
    "plt.xlabel(\"Reward\")\n",
    "plt.title(\"Distribution of Realized Rewards\")\n",
    "\n",
    "plt.suptitle(\"When Expected Reward is bounded in $[-C, C]$\")\n",
    "plt.tight_layout()\n",
    "plt.show()\n",
    "\n",
    "plt.figure(figsize=(13, 4))\n",
    "\n",
    "plt.subplot(131)\n",
    "plt.hist(exp_rewards_unbounded)\n",
    "plt.grid(True)\n",
    "plt.xlabel(\"Reward\")\n",
    "plt.title(\"Distribution of Unbounded Expected Rewards\")\n",
    "\n",
    "plt.subplot(132)\n",
    "plt.hist(exp_rewards2)\n",
    "plt.grid(True)\n",
    "plt.xlabel(\"Reward\")\n",
    "plt.title(\"Distribution of Bounded Expected Rewards\")\n",
    "\n",
    "plt.subplot(133)\n",
    "plt.hist(true_rewards2)\n",
    "plt.grid(True)\n",
    "plt.xlabel(\"Reward\")\n",
    "plt.title(\"Distribution of Realized Rewards\")\n",
    "\n",
    "plt.suptitle(\"When Expected Reward is bounded in $[0, C]$\")\n",
    "plt.tight_layout()\n",
    "plt.show()"
   ]
  },
  {
   "cell_type": "code",
   "execution_count": null,
   "id": "f0f0fdb9",
   "metadata": {},
   "outputs": [],
   "source": [
    "print(f\"When expected reward is bounded in [-{reward_bound}, {reward_bound}]\")\n",
    "result1 = dict()\n",
    "for alpha in ALPHAS:\n",
    "    print(f\"alpha={alpha}\")\n",
    "    result_container = []\n",
    "    for trial in range(runtime):\n",
    "        agent = LinUCB(d=d, alpha=alpha)\n",
    "        regret = run(agent=agent, num_actions=N, horizon=T, obs=X, r_exp=exp_rewards1, r_true=true_rewards1, use_tqdm=True)\n",
    "        result_container.append(np.cumsum(regret))\n",
    "    result1[alpha] = np.array(result_container)"
   ]
  },
  {
   "cell_type": "code",
   "execution_count": null,
   "id": "921fe315",
   "metadata": {},
   "outputs": [],
   "source": [
    "print(f\"When expected reward is bounded in [0, {reward_bound}]\")\n",
    "result2 = dict()\n",
    "for alpha in ALPHAS:\n",
    "    print(f\"alpha={alpha}\")\n",
    "    result_container = []\n",
    "    for trial in range(runtime):\n",
    "        agent = LinUCB(d=d, alpha=alpha)\n",
    "        regret = run(agent=agent, num_actions=N, horizon=T, obs=X, r_exp=exp_rewards2, r_true=true_rewards2, use_tqdm=True)\n",
    "        result_container.append(np.cumsum(regret))\n",
    "    result2[alpha] = np.array(result_container)"
   ]
  },
  {
   "cell_type": "code",
   "execution_count": null,
   "id": "34044ed3",
   "metadata": {
    "scrolled": false
   },
   "outputs": [],
   "source": [
    "plt.figure(figsize=(13, 5))\n",
    "\n",
    "plt.subplot(121)\n",
    "for key, value in result1.items():\n",
    "    mean = np.mean(value, axis=0)\n",
    "    std = np.std(value, axis=0, ddof=1)\n",
    "    plt.plot(mean, label=f\"alpha={key}\")\n",
    "plt.grid(True)\n",
    "plt.xlabel(\"Round\")\n",
    "plt.ylabel(\"$R_T$\")\n",
    "plt.legend()\n",
    "\n",
    "plt.subplot(122)\n",
    "for key, value in result1.items():\n",
    "    mean = np.mean(value, axis=0)\n",
    "    std = np.std(value, axis=0, ddof=1)\n",
    "    plt.plot(mean, label=f\"alpha={key}\")\n",
    "    plt.fill_between(np.arange(T), mean-std, mean+std, alpha=0.2)\n",
    "plt.grid(True)\n",
    "plt.xlabel(\"Round\")\n",
    "plt.ylabel(\"$R_T$\")\n",
    "plt.legend()\n",
    "\n",
    "plt.suptitle(\"$\\mathbb{E}[r_t]\\in [-C, C]$\")\n",
    "plt.tight_layout()\n",
    "plt.show()\n",
    "\n",
    "plt.figure(figsize=(13, 5))\n",
    "\n",
    "plt.subplot(121)\n",
    "for key, value in result2.items():\n",
    "    mean = np.mean(value, axis=0)\n",
    "    std = np.std(value, axis=0, ddof=1)\n",
    "    plt.plot(mean, label=f\"alpha={key}\")\n",
    "plt.grid(True)\n",
    "plt.xlabel(\"Round\")\n",
    "plt.ylabel(\"$R_T$\")\n",
    "plt.legend()\n",
    "\n",
    "plt.subplot(122)\n",
    "for key, value in result2.items():\n",
    "    mean = np.mean(value, axis=0)\n",
    "    std = np.std(value, axis=0, ddof=1)\n",
    "    plt.plot(mean, label=f\"alpha={key}\")\n",
    "    plt.fill_between(np.arange(T), mean-std, mean+std, alpha=0.2)\n",
    "plt.grid(True)\n",
    "plt.xlabel(\"Round\")\n",
    "plt.ylabel(\"$R_T$\")\n",
    "plt.legend()\n",
    "\n",
    "plt.suptitle(\"$\\mathbb{E}[r_t]\\in [0, C]$\")\n",
    "plt.tight_layout()\n",
    "plt.show()"
   ]
  }
 ],
 "metadata": {
  "kernelspec": {
   "display_name": "Python 3 (ipykernel)",
   "language": "python",
   "name": "python3"
  },
  "language_info": {
   "codemirror_mode": {
    "name": "ipython",
    "version": 3
   },
   "file_extension": ".py",
   "mimetype": "text/x-python",
   "name": "python",
   "nbconvert_exporter": "python",
   "pygments_lexer": "ipython3",
   "version": "3.10.11"
  }
 },
 "nbformat": 4,
 "nbformat_minor": 5
}
