{
 "cells": [
  {
   "cell_type": "code",
   "execution_count": 1,
   "id": "8f02f0a4-f094-4419-a3a8-d591a60f9082",
   "metadata": {},
   "outputs": [],
   "source": [
    "import numpy as np\n",
    "from util import *\n",
    "from abc import ABC, abstractmethod\n",
    "from calculate_alpha import *\n",
    "import scipy\n",
    "from sklearn.linear_model import Lasso, LinearRegression\n",
    "import statsmodels.api as sm\n",
    "from typing import Callable\n",
    "from tqdm.auto import tqdm\n",
    "import warnings\n",
    "\n",
    "warnings.filterwarnings(\"ignore\")"
   ]
  },
  {
   "cell_type": "code",
   "execution_count": 2,
   "id": "276eedfe-8c03-4e94-b15f-18bc20892f44",
   "metadata": {},
   "outputs": [],
   "source": [
    "class ContextualBandit(ABC):\n",
    "    @abstractmethod\n",
    "    def choose(self, x): pass\n",
    "    \n",
    "    @abstractmethod\n",
    "    def update(self, x, r): pass"
   ]
  },
  {
   "cell_type": "code",
   "execution_count": 3,
   "id": "d84e4ed2-d6fa-4e2c-a49e-ac342c4e3c2d",
   "metadata": {},
   "outputs": [],
   "source": [
    "def orthogonal_complement_basis(X):\n",
    "    d, K = X.shape\n",
    "    \n",
    "    # Perform Singular Value Decomposition\n",
    "    _, _, Vt = np.linalg.svd(X)\n",
    "\n",
    "    # Find the rank of X to determine the number of non-zero singular values\n",
    "    rank = np.linalg.matrix_rank(X)\n",
    "    # print(f\"rank : {rank}\")\n",
    "\n",
    "    # The basis for the null space (orthogonal complement of the row space)\n",
    "    # is given by the columns of V corresponding to zero singular values\n",
    "    if rank < K:\n",
    "        null_space_basis = Vt[rank:].T\n",
    "    else:\n",
    "        null_space_basis = Vt.T\n",
    "\n",
    "    return null_space_basis"
   ]
  },
  {
   "cell_type": "code",
   "execution_count": 4,
   "id": "2cf2c7ba-683e-4ce0-b83d-0048a1a8fc0e",
   "metadata": {},
   "outputs": [],
   "source": [
    "class RoLFLasso(ContextualBandit):\n",
    "    def __init__(self, d:int, arms:int, p:float, delta:float, sigma:float, random_state:int, explore:bool=False, init_explore:int=0):\n",
    "        self.t = 0\n",
    "        self.d = d\n",
    "        self.K = arms\n",
    "        self.mu_hat = np.zeros(self.K)\n",
    "        self.impute_prev = np.zeros(self.K)\n",
    "        self.main_prev = np.zeros(self.K)\n",
    "        self.sigma = sigma          # variance of noise\n",
    "        self.p = p                  # hyperparameter for action sampling\n",
    "        self.delta = delta          # confidence parameter\n",
    "        self.action_history = []    # history of chosen actions up to the current round\n",
    "        self.reward_history = []    # history of observed rewards up to the current round\n",
    "        self.matching = dict()      # history of rounds that the pseudo action and the chosen action matched\n",
    "        self.random_state = random_state\n",
    "        self.explore = explore\n",
    "        self.init_explore = init_explore\n",
    "\n",
    "    def choose(self, x: np.ndarray):\n",
    "        # x : (K, d) augmented feature matrix where each row denotes the augmented features\n",
    "        self.t += 1\n",
    "\n",
    "        ## compute the \\hat{a}_t\n",
    "        if self.explore:\n",
    "            if self.t > self.init_explore:\n",
    "                decision_rule = x @ self.mu_hat\n",
    "                # print(f\"Decision rule : {decision_rule}\")\n",
    "                a_hat = np.argmax(decision_rule)\n",
    "            else:\n",
    "                a_hat = np.random.choice(np.arange(self.K))\n",
    "        else:\n",
    "            decision_rule = x @ self.mu_hat\n",
    "            # print(f\"Decision rule : {decision_rule}\")\n",
    "            a_hat = np.argmax(decision_rule)\n",
    "\n",
    "        self.a_hat = a_hat\n",
    "\n",
    "        ## sampling actions\n",
    "        pseudo_action = -1\n",
    "        chosen_action = -2\n",
    "        count = 0\n",
    "        max_iter = int(np.log((self.t + 1) ** 2 / self.delta) / np.log(1 / self.p))\n",
    "        pseudo_dist = np.array([(1 - self.p) / (self.K - 1)] * self.K, dtype=float)\n",
    "        pseudo_dist[a_hat] = self.p\n",
    "        chosen_dist = np.array([(1 / np.sqrt(self.t)) / (self.K - 1)] * self.K, dtype=float)\n",
    "        chosen_dist[a_hat] = 1 - (1 / np.sqrt(self.t))\n",
    "\n",
    "        np.random.seed(self.random_state + self.t)\n",
    "        while (pseudo_action != chosen_action) and (count <= max_iter):\n",
    "            ## Sample the pseudo action\n",
    "            pseudo_action = np.random.choice([i for i in range(self.K)], size=1, replace=False, p=pseudo_dist).item()\n",
    "            ## Sample the chosen action\n",
    "            chosen_action = np.random.choice([i for i in range(self.K)], size=1, replace=False, p=chosen_dist).item()\n",
    "            count += 1\n",
    "\n",
    "        self.action_history.append(chosen_action) # add to the history\n",
    "        self.pseudo_action = pseudo_action\n",
    "        self.chosen_action = chosen_action\n",
    "        return chosen_action\n",
    "\n",
    "    def update(self, x: np.ndarray, r: float):\n",
    "        # x : (K, d) augmented feature matrix\n",
    "        # r : reward of the chosen_action\n",
    "        self.reward_history.append(r)\n",
    "\n",
    "        # lam_impute = 2 * self.p * self.sigma * np.sqrt(2 * self.t * np.log(2 * self.K * (self.t ** 2) / self.delta))\n",
    "        # lam_main = (1 + 2 / self.p) * self.sigma * np.sqrt(2 * self.t * np.log(2 * self.K * (self.t ** 2) / self.delta))\n",
    "\n",
    "        # lam_impute = self.p * np.sqrt(np.log(self.t))\n",
    "        # lam_main = self.p * np.sqrt(np.log(self.t))\n",
    "\n",
    "        lam_impute = self.p\n",
    "        lam_main = self.p\n",
    "\n",
    "        if self.pseudo_action == self.chosen_action:\n",
    "            ## compute the imputation estimator\n",
    "            data_impute = x[self.action_history, :]  # (t, d) matrix\n",
    "            target_impute = np.array(self.reward_history)\n",
    "            mu_impute = scipy.optimize.minimize(self.__imputation_loss, self.impute_prev, args=(data_impute, target_impute, lam_impute),\n",
    "                                                method=\"SLSQP\", options={'disp': False, \"ftol\":1e-6, \"maxiter\":10000}).x\n",
    "\n",
    "            ## compute and update the pseudo rewards\n",
    "            if self.matching:\n",
    "                for key in self.matching:\n",
    "                    matched, data, _, chosen, reward = self.matching[key]\n",
    "                    if matched:\n",
    "                        new_pseudo_rewards = data @ mu_impute\n",
    "                        new_pseudo_rewards[chosen] += (1 / self.p) * (reward - (data[chosen, :] @ mu_impute))\n",
    "                        # overwrite the value\n",
    "                        self.matching[key] = (matched, data, new_pseudo_rewards, chosen, reward)\n",
    "\n",
    "            ## compute the pseudo rewards for the current data\n",
    "            pseudo_rewards = x @ mu_impute\n",
    "            pseudo_rewards[self.chosen_action] += (1 / self.p) * (r - (x[self.chosen_action, :] @ mu_impute))\n",
    "            self.matching[self.t] = ((self.pseudo_action == self.chosen_action), x, pseudo_rewards, self.chosen_action, r)\n",
    "\n",
    "            ## compute the main estimator\n",
    "            mu_main = scipy.optimize.minimize(self.__main_loss, self.main_prev, args=(lam_main, self.matching),\n",
    "                                              method=\"SLSQP\", options={'disp': False, \"ftol\":1e-6, \"maxiter\":10000}).x\n",
    "\n",
    "            ## update the mu_hat\n",
    "            self.mu_hat = mu_main\n",
    "        else:\n",
    "            self.matching[self.t] = ((self.pseudo_action == self.chosen_action), None, None, None, None)\n",
    "\n",
    "    def __imputation_loss(self, beta:np.ndarray, X:np.ndarray, y:np.ndarray, lam:float):\n",
    "        # print(f\"X : {X.shape}, beta : {beta.shape}\")\n",
    "        residuals = (y - (X @ beta)) ** 2\n",
    "        loss = np.sum(residuals, axis=0)\n",
    "        l1_norm = vector_norm(beta, type=\"l1\")\n",
    "        return loss + (lam * l1_norm)\n",
    "\n",
    "    def __main_loss(self, beta:np.ndarray, lam:float, matching_history:dict):\n",
    "        ## matching_history : dict[t] = (bool, X, y) - bool denotes whether the matching event occurred or not\n",
    "        loss = 0\n",
    "        for key in matching_history:\n",
    "            matched, X, pseudo_rewards, _, _ = matching_history[key]\n",
    "            if matched:\n",
    "                residuals = (pseudo_rewards - (X @ beta)) ** 2\n",
    "                interim_loss = np.sum(residuals, axis=0)\n",
    "            else:\n",
    "                interim_loss = 0\n",
    "            loss += interim_loss\n",
    "        l1_norm = vector_norm(beta, type=\"l1\")\n",
    "        return loss + (lam * l1_norm)"
   ]
  },
  {
   "cell_type": "code",
   "execution_count": 22,
   "id": "0a23cb0a-9a76-40a4-8a05-cc5586d42d41",
   "metadata": {},
   "outputs": [
    {
     "data": {
      "application/vnd.jupyter.widget-view+json": {
       "model_id": "0a14f7fdf62c4384a87ba2696c734ae4",
       "version_major": 2,
       "version_minor": 0
      },
      "text/plain": [
       "  0%|          | 0/500 [00:00<?, ?it/s]"
      ]
     },
     "metadata": {},
     "output_type": "display_data"
    },
    {
     "data": {
      "application/vnd.jupyter.widget-view+json": {
       "model_id": "b88ad1f7a6274f6e9f04c2e4d1f17571",
       "version_major": 2,
       "version_minor": 0
      },
      "text/plain": [
       "  0%|          | 0/500 [00:00<?, ?it/s]"
      ]
     },
     "metadata": {},
     "output_type": "display_data"
    },
    {
     "data": {
      "application/vnd.jupyter.widget-view+json": {
       "model_id": "6cf4ad158d1249789bbeceb5742fea81",
       "version_major": 2,
       "version_minor": 0
      },
      "text/plain": [
       "  0%|          | 0/500 [00:00<?, ?it/s]"
      ]
     },
     "metadata": {},
     "output_type": "display_data"
    },
    {
     "data": {
      "image/png": "[encoded data removed]",
      "text/plain": [
       "<Figure size 700x600 with 1 Axes>"
      ]
     },
     "metadata": {},
     "output_type": "display_data"
    }
   ],
   "source": [
    "SEED = 617\n",
    "## Environment\n",
    "K = 20\n",
    "d = 15\n",
    "T = 500\n",
    "s0 = 5\n",
    "delta = 0.001\n",
    "p = 0.6\n",
    "explore = True\n",
    "init_explore = K\n",
    "action_space = 10000\n",
    "# rho_sq = 0.5\n",
    "\n",
    "sigma = 1\n",
    "rho_sq = 0.7\n",
    "V = (sigma - rho_sq) * np.eye(K) + rho_sq * np.ones((K, K))\n",
    "\n",
    "np.random.seed(SEED)\n",
    "beta = np.zeros(d)\n",
    "inds = np.random.choice(range(d), s0, replace=False)\n",
    "beta[inds] = np.random.uniform(0., 1., s0)\n",
    "\n",
    "X = np.random.multivariate_normal(mean=np.zeros(K), cov=V, size=d) # (d, K)\n",
    "basis = orthogonal_complement_basis(X)\n",
    "# print(f\"X.shape:{X.shape}, basis.shape:{basis.shape}\")\n",
    "x_aug = np.hstack((X.T, basis))\n",
    "bounding(type=\"feature\", v=x_aug, bound=1., method=\"clipping\", norm_type=\"lsup\")\n",
    "exp_rewards = X.T @ beta\n",
    "if d < K:\n",
    "    data = x_aug\n",
    "else:\n",
    "    data = basis\n",
    "\n",
    "# print(f\"X : {X.shape}, data : {data.shape}\")\n",
    "trials = 3\n",
    "regret_container = np.zeros(trials, dtype=object)\n",
    "for trial in range(trials):\n",
    "    regrets = np.zeros(T, dtype=float)\n",
    "    agent = RoLFLasso(d=d, arms=K, p=p, delta=delta, sigma=0.1, \n",
    "                      random_state=SEED+trial, explore=explore, init_explore=init_explore)\n",
    "    for t in tqdm(range(T)):\n",
    "        random_state_ = SEED + trial + t + 1\n",
    "        optimal_reward = np.amax(exp_rewards)\n",
    "        noise = subgaussian_noise(distribution=\"gaussian\", size=1, std=0.1, random_state=random_state_)\n",
    "        chosen_action = agent.choose(data)\n",
    "        chosen_reward = exp_rewards[chosen_action] + noise\n",
    "        regrets[t] = optimal_reward - exp_rewards[chosen_action]\n",
    "        agent.update(data, chosen_reward)\n",
    "\n",
    "    regret_container[trial] = np.cumsum(regrets)\n",
    "\n",
    "# Plotting\n",
    "fig, ax = plt.subplots(figsize=(7, 6))\n",
    "\n",
    "rounds = np.arange(T)\n",
    "mean = np.mean(regret_container, axis=0)\n",
    "std = np.std(regret_container, axis=0, ddof=1)\n",
    "period = T // 10\n",
    "\n",
    "# 마커와 에러 바가 있는 라인을 주기적으로 표시\n",
    "ax.errorbar(rounds[::period], mean[::period], yerr=std[::period], fmt='s', color=\"green\", capsize=3, elinewidth=1)\n",
    "\n",
    "# 주기적인 마커 없이 전체 라인을 표시\n",
    "ax.plot(rounds, mean, color=\"green\", linewidth=2)\n",
    "\n",
    "ax.set_title(f'Cumulative Regrets Induced From {agent.__class__.__name__}')\n",
    "ax.set_xlabel(r\"Round ($t$)\")\n",
    "ax.set_ylabel(\"Cumulative Regret\")\n",
    "ax.grid(True)\n",
    "plt.show()"
   ]
  },
  {
   "cell_type": "code",
   "execution_count": 11,
   "id": "0d6905b5-7d15-402b-bb22-fa23667beb19",
   "metadata": {},
   "outputs": [],
   "source": [
    "class DRLassoBandit(ContextualBandit):\n",
    "    def __init__(self, d:int, arms:int, lam1:float, lam2:float, zT:float, tr:bool):\n",
    "        ## learning params\n",
    "        self.d = d\n",
    "        self.arms = arms\n",
    "        self.lam1 = lam1\n",
    "        self.lam2 = lam2\n",
    "        self.tr = tr\n",
    "        self.zT = zT\n",
    "\n",
    "        ## initialization\n",
    "        self.beta_prev = np.zeros(self.d)\n",
    "        self.beta_hat = np.zeros(self.d)\n",
    "        self.pi_t = 0\n",
    "        self.x = []     # containing context history\n",
    "        self.r = []     # containing reward history\n",
    "        self.t = 0      # learning round\n",
    "\n",
    "    def choose(self, x):\n",
    "        ## x : (K, d) array - all contexts observed at t\n",
    "        self.t += 1\n",
    "        if self.t <= self.zT:\n",
    "            # forced sampling\n",
    "            self.action = np.random.choice(self.arms, replace=False)\n",
    "            self.pi_t = 1 / self.arms\n",
    "        else:\n",
    "            # UCB\n",
    "            expected_reward = x @ self.beta_hat     # (K, ) array\n",
    "            lam1 = self.lam1 * np.sqrt((np.log(self.t) + np.log(self.d)) / self.t)\n",
    "            lam1 = np.minimum(1, np.maximum(0, lam1))\n",
    "            self.mt = np.random.choice([0, 1], p=[1-lam1, lam1])\n",
    "            if self.mt == 1:\n",
    "                self.action = np.random.choice(self.arms)\n",
    "            else:\n",
    "                self.action = np.argmax(expected_reward)\n",
    "\n",
    "            self.pi_t = (lam1 / self.arms) + ((1-lam1) * (self.action == np.argmax(expected_reward)))\n",
    "\n",
    "        bar_x = np.mean(x, axis=0)\n",
    "        self.x.append(bar_x)\n",
    "        self.rhat = x @ self.beta_hat\n",
    "\n",
    "        return self.action\n",
    "\n",
    "    def update(self, x, r):\n",
    "        ## x : (d, ) array - context of the chosen action\n",
    "        ## r : float - reward\n",
    "        r_hat = np.mean(self.rhat) + ((r - self.rhat[self.action]) / (self.arms * self.pi_t))\n",
    "        if self.tr:\n",
    "            r_hat = np.minimum(3., np.maximum(-3., r_hat))\n",
    "        self.r.append(r_hat)\n",
    "\n",
    "        lam2 = self.lam2 * np.sqrt((np.log(self.t) + np.log(self.d)) / self.t)\n",
    "        data, target = np.vstack(self.x), np.array(self.r)\n",
    "        self.beta_hat = scipy.optimize.minimize(self.__lasso_loss, self.beta_prev, args=(data, target, lam2),\n",
    "                                                method=\"SLSQP\", options={'disp': False, \"ftol\":1e-6, \"maxiter\":30000}).x\n",
    "\n",
    "    def __lasso_loss(self, beta:np.ndarray, X:np.ndarray, y:np.ndarray, lam:float):\n",
    "        loss = np.sum((y - X @ beta) ** 2, axis=0)\n",
    "        l1norm = np.sum(np.abs(beta))\n",
    "        return loss + (lam * l1norm)"
   ]
  },
  {
   "cell_type": "code",
   "execution_count": 23,
   "id": "3b294345-4096-4c93-9430-b880e675f6d1",
   "metadata": {},
   "outputs": [
    {
     "data": {
      "application/vnd.jupyter.widget-view+json": {
       "model_id": "1b050bf30db8436bbc213adfd6a097fc",
       "version_major": 2,
       "version_minor": 0
      },
      "text/plain": [
       "  0%|          | 0/500 [00:00<?, ?it/s]"
      ]
     },
     "metadata": {},
     "output_type": "display_data"
    },
    {
     "data": {
      "application/vnd.jupyter.widget-view+json": {
       "model_id": "5d38eb26ab774307984fa85892b3d7b6",
       "version_major": 2,
       "version_minor": 0
      },
      "text/plain": [
       "  0%|          | 0/500 [00:00<?, ?it/s]"
      ]
     },
     "metadata": {},
     "output_type": "display_data"
    },
    {
     "data": {
      "application/vnd.jupyter.widget-view+json": {
       "model_id": "33e58e5ee0ed41019b33389b44fe06df",
       "version_major": 2,
       "version_minor": 0
      },
      "text/plain": [
       "  0%|          | 0/500 [00:00<?, ?it/s]"
      ]
     },
     "metadata": {},
     "output_type": "display_data"
    },
    {
     "data": {
      "application/vnd.jupyter.widget-view+json": {
       "model_id": "b4a393f056174d4dac98bfc36bf2945a",
       "version_major": 2,
       "version_minor": 0
      },
      "text/plain": [
       "  0%|          | 0/500 [00:00<?, ?it/s]"
      ]
     },
     "metadata": {},
     "output_type": "display_data"
    },
    {
     "data": {
      "application/vnd.jupyter.widget-view+json": {
       "model_id": "28b89e515ae748d3b0001ce0e1fa8513",
       "version_major": 2,
       "version_minor": 0
      },
      "text/plain": [
       "  0%|          | 0/500 [00:00<?, ?it/s]"
      ]
     },
     "metadata": {},
     "output_type": "display_data"
    },
    {
     "data": {
      "image/png": "[encoded data removed]",
      "text/plain": [
       "<Figure size 700x600 with 1 Axes>"
      ]
     },
     "metadata": {},
     "output_type": "display_data"
    }
   ],
   "source": [
    "SEED = 617\n",
    "## Environment\n",
    "K = 20\n",
    "d = 15\n",
    "T = 500\n",
    "phi = 1\n",
    "s0 = 5\n",
    "delta = 0.001\n",
    "zT = K\n",
    "lam1, lam2 = 1, 0.5\n",
    "\n",
    "R = 0.05\n",
    "sigma = 1\n",
    "rho_sq = 0.7\n",
    "V = (sigma - rho_sq) * np.eye(K) + rho_sq * np.ones((K, K))\n",
    "\n",
    "trials = 5\n",
    "\n",
    "np.random.seed(SEED)\n",
    "beta = np.zeros(d)\n",
    "inds = np.random.choice(range(d), s0, replace=False)\n",
    "beta[inds] = np.random.uniform(0., 1., s0)\n",
    "# beta = np.random.uniform(0, 1, d)\n",
    "\n",
    "trial_regret = np.zeros(trials, dtype=object)\n",
    "for trial in range(trials):\n",
    "    regrets = np.zeros(T, dtype=float)\n",
    "    agent = DRLassoBandit(d=d, arms=K, lam1=lam1, lam2=lam2, zT=zT, tr=True)\n",
    "    for t in tqdm(range(T)):\n",
    "        random_state_ = SEED + (103*trial) + (t+1)\n",
    "        np.random.seed(random_state_)\n",
    "        X = np.random.multivariate_normal(mean=np.zeros(K), cov=V, size=d).T    # (K, d)\n",
    "\n",
    "        ## copmute the reward and optimal reward\n",
    "        expected_reward = X @ beta\n",
    "        optimal_reward = np.amax(expected_reward)\n",
    "\n",
    "        ## action selection\n",
    "        noise = R * np.random.randn()\n",
    "        chosen_action = agent.choose(x=X)\n",
    "        chosen_reward = expected_reward[chosen_action] + noise\n",
    "\n",
    "        ## copmute regret\n",
    "        regret = optimal_reward - expected_reward[chosen_action]\n",
    "        regrets[t] = regret\n",
    "\n",
    "        ## update the agent\n",
    "        agent.update(x=X[chosen_action], r=chosen_reward)\n",
    "\n",
    "    trial_regret[trial] = np.cumsum(regrets)\n",
    "\n",
    "# Plotting\n",
    "fig, ax = plt.subplots(figsize=(7, 6))\n",
    "\n",
    "rounds = np.arange(T)\n",
    "mean = np.mean(trial_regret, axis=0)\n",
    "std = np.std(trial_regret, axis=0, ddof=1)\n",
    "period = T // 10\n",
    "\n",
    "# 마커와 에러 바가 있는 라인을 주기적으로 표시\n",
    "ax.errorbar(rounds[::period], mean[::period], yerr=std[::period], fmt='s', color=\"green\", capsize=3, elinewidth=1)\n",
    "\n",
    "# 주기적인 마커 없이 전체 라인을 표시\n",
    "ax.plot(rounds, mean, color=\"green\", linewidth=2)\n",
    "\n",
    "ax.set_title(f'Cumulative Regrets Induced From {agent.__class__.__name__}')\n",
    "ax.set_xlabel(r\"Round ($t$)\")\n",
    "ax.set_ylabel(\"Cumulative Regret\")\n",
    "ax.grid(True)\n",
    "plt.show()"
   ]
  },
  {
   "cell_type": "code",
   "execution_count": null,
   "id": "1a2c9fcb-3d30-4c6f-be35-14dcb6805b7b",
   "metadata": {},
   "outputs": [],
   "source": []
  }
 ],
 "metadata": {
  "kernelspec": {
   "display_name": "Python 3 (ipykernel)",
   "language": "python",
   "name": "python3"
  },
  "language_info": {
   "codemirror_mode": {
    "name": "ipython",
    "version": 3
   },
   "file_extension": ".py",
   "mimetype": "text/x-python",
   "name": "python",
   "nbconvert_exporter": "python",
   "pygments_lexer": "ipython3",
   "version": "3.12.1"
  }
 },
 "nbformat": 4,
 "nbformat_minor": 5
}
